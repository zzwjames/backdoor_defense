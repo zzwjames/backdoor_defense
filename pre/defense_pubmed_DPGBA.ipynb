{
 "cells": [
  {
   "cell_type": "code",
   "execution_count": 1,
   "metadata": {},
   "outputs": [
    {
     "name": "stderr",
     "output_type": "stream",
     "text": [
      "/tmp/ipykernel_1769512/1338765424.py:1: DeprecationWarning: the imp module is deprecated in favour of importlib; see the module's documentation for alternative uses\n",
      "  import imp\n",
      "/home/zbz5349/anaconda3/envs/spurious/lib/python3.8/site-packages/tqdm/auto.py:22: TqdmWarning: IProgress not found. Please update jupyter and ipywidgets. See https://ipywidgets.readthedocs.io/en/stable/user_install.html\n",
      "  from .autonotebook import tqdm as notebook_tqdm\n"
     ]
    },
    {
     "name": "stdout",
     "output_type": "stream",
     "text": [
      "Namespace(cuda=True, dataset='Pubmed', debug=True, defense_mode='none', device_id=2, dis_weight=1, dropout=0.5, epochs=1000, evaluate_mode='1by1', hidden=128, homo_boost_thrd=0.8, homo_loss_weight=100, inner=1, k=100, lr=0.01, model='GCN', no_cuda=False, outter_size=4096, prune_thr=0.8, range=1.0, rec_epochs=30, seed=12, selection_method='none', target_class=2, target_loss_weight=1, test_model='GCN', thrd=0.5, train_lr=0.01, trigger_size=3, trojan_epochs=400, use_vs_number=True, vs_number=40, vs_ratio=0, weight_decay=0.0005, weight_ood=1, weight_target=1, weight_targetclass=1)\n"
     ]
    }
   ],
   "source": [
    "import imp\n",
    "import time\n",
    "import argparse\n",
    "import numpy as np\n",
    "import torch\n",
    "torch.set_printoptions(threshold=10000)\n",
    "from torch_geometric.datasets import Planetoid,Reddit2,Flickr\n",
    "import torch.nn.functional as F\n",
    "import numpy as np\n",
    "import matplotlib.pyplot as plt\n",
    "# from torch_geometric.loader import DataLoader\n",
    "from help_funcs import prune_unrelated_edge,prune_unrelated_edge_isolated, clu_prune_unrelated_edge\n",
    "import scipy.sparse as sp\n",
    "from torch_geometric.utils import subgraph\n",
    "# Training settings\n",
    "parser = argparse.ArgumentParser()\n",
    "parser.add_argument('--debug', action='store_true',\n",
    "        default=True, help='debug mode')\n",
    "parser.add_argument('--no-cuda', action='store_true', default=False,\n",
    "                    help='Disables CUDA training.')\n",
    "parser.add_argument('--seed', type=int, default=12, help='Random seed.')\n",
    "parser.add_argument('--model', type=str, default='GCN', help='model',\n",
    "                    choices=['GCN','GAT','GraphSage','GIN'])\n",
    "parser.add_argument('--dataset', type=str, default='Pubmed', \n",
    "                    help='Dataset',\n",
    "                    choices=['Cora','Pubmed','Flickr','ogbn-arxiv','Citeseer','Reddit2'])\n",
    "parser.add_argument('--train_lr', type=float, default=0.01,\n",
    "                    help='Initial learning rate.')\n",
    "parser.add_argument('--weight_decay', type=float, default=5e-4,\n",
    "                    help='Weight decay (L2 loss on parameters).')\n",
    "parser.add_argument('--hidden', type=int, default=128,\n",
    "                    help='Number of hidden units.')\n",
    "parser.add_argument('--thrd', type=float, default=0.5)\n",
    "parser.add_argument('--target_class', type=int, default=2)\n",
    "parser.add_argument('--k', type=int, default=100)\n",
    "parser.add_argument('--dropout', type=float, default=0.5,\n",
    "                    help='Dropout rate (1 - keep probability).')\n",
    "parser.add_argument('--epochs', type=int,  default=1000, help='Number of epochs to train benign and backdoor model.')\n",
    "parser.add_argument('--rec_epochs', type=int,  default=30, help='Number of epochs to train benign and backdoor model.')\n",
    "parser.add_argument('--trojan_epochs', type=int,  default=400, help='Number of epochs to train trigger generator.')\n",
    "parser.add_argument('--inner', type=int,  default=1, help='Number of inner')\n",
    "# backdoor setting\n",
    "parser.add_argument('--lr', type=float, default=0.01,\n",
    "                    help='Initial learning rate.')\n",
    "parser.add_argument('--trigger_size', type=int, default=3,\n",
    "                    help='tirgger_size')\n",
    "parser.add_argument('--use_vs_number', action='store_true', default=True,\n",
    "                    help=\"if use detailed number to decide Vs\")\n",
    "parser.add_argument('--vs_ratio', type=float, default=0,\n",
    "                    help=\"ratio of poisoning nodes relative to the full graph\")\n",
    "parser.add_argument('--range', type=float, default=1.0,\n",
    "                    help=\"ratio of poisoning nodes relative to the full graph\")\n",
    "parser.add_argument('--vs_number', type=int, default=160,\n",
    "                    help=\"number of poisoning nodes relative to the full graph\")\n",
    "# defense setting\n",
    "parser.add_argument('--defense_mode', type=str, default=\"none\",\n",
    "                    choices=['prune', 'isolate', 'none','reconstruct'],\n",
    "                    help=\"Mode of defense\")\n",
    "parser.add_argument('--prune_thr', type=float, default=0.8,\n",
    "                    help=\"Threshold of prunning edges\")\n",
    "parser.add_argument('--target_loss_weight', type=float, default=1,\n",
    "                    help=\"Weight of optimize outter trigger generator\")\n",
    "parser.add_argument('--weight_target', type=float, default=1,\n",
    "                    help=\"Weight of optimize outter trigger generator\")\n",
    "parser.add_argument('--weight_ood', type=float, default=1,\n",
    "                    help=\"Weight of optimize outter trigger generator\")\n",
    "parser.add_argument('--weight_targetclass', type=float, default=1,\n",
    "                    help=\"Weight of optimize outter trigger generator\")\n",
    "parser.add_argument('--outter_size', type=int, default=4096,\n",
    "                    help=\"Weight of optimize outter trigger generator\")\n",
    "parser.add_argument('--homo_loss_weight', type=float, default=100,\n",
    "                    help=\"Weight of optimize similarity loss\")\n",
    "parser.add_argument('--homo_boost_thrd', type=float, default=0.8,\n",
    "                    help=\"Threshold of increase similarity\")\n",
    "# attack setting\n",
    "parser.add_argument('--dis_weight', type=float, default=1,\n",
    "                    help=\"Weight of cluster distance\")\n",
    "parser.add_argument('--selection_method', type=str, default='none',\n",
    "                    choices=['loss','conf','cluster','none','cluster_degree'],\n",
    "                    help='Method to select idx_attach for training trojan model (none means randomly select)')\n",
    "parser.add_argument('--test_model', type=str, default='GCN',\n",
    "                    choices=['GCN','GAT','GraphSage','GIN'],\n",
    "                    help='Model used to attack')\n",
    "parser.add_argument('--evaluate_mode', type=str, default='1by1',\n",
    "                    choices=['overall','1by1'],\n",
    "                    help='Model used to attack')\n",
    "# GPU setting\n",
    "parser.add_argument('--device_id', type=int, default=2,\n",
    "                    help=\"Threshold of prunning edges\")\n",
    "# args = parser.parse_args()\n",
    "args = parser.parse_known_args()[0]\n",
    "args.cuda =  not args.no_cuda and torch.cuda.is_available()\n",
    "device = torch.device(('cuda:{}' if torch.cuda.is_available() else 'cpu').format(args.device_id))\n",
    "\n",
    "np.random.seed(args.seed)\n",
    "torch.manual_seed(args.seed)\n",
    "torch.cuda.manual_seed(args.seed)\n",
    "print(args)"
   ]
  },
  {
   "cell_type": "code",
   "execution_count": 2,
   "metadata": {},
   "outputs": [],
   "source": [
    "from torch_geometric.utils import to_undirected\n",
    "import torch_geometric.transforms as T\n",
    "transform = T.Compose([T.NormalizeFeatures()])\n",
    "\n",
    "if(args.dataset == 'Cora' or args.dataset == 'Citeseer' or args.dataset == 'Pubmed'):\n",
    "    dataset = Planetoid(root='./data/', \\\n",
    "                        name=args.dataset,\\\n",
    "                        transform=transform)\n",
    "elif(args.dataset == 'Flickr'):\n",
    "    dataset = Flickr(root='./data/Flickr/', \\\n",
    "                    transform=transform)\n",
    "elif(args.dataset == 'Reddit2'):\n",
    "    dataset = Reddit2(root='./data/Reddit2/', \\\n",
    "                    transform=transform)\n",
    "elif(args.dataset == 'ogbn-arxiv'):\n",
    "    from ogb.nodeproppred import PygNodePropPredDataset\n",
    "    # Download and process data at './dataset/ogbg_molhiv/'\n",
    "    dataset = PygNodePropPredDataset(name = 'ogbn-arxiv', root='./data/')\n",
    "    split_idx = dataset.get_idx_split() \n",
    "\n",
    "data = dataset[0].to(device)\n",
    "\n",
    "if(args.dataset == 'ogbn-arxiv'):\n",
    "    nNode = data.x.shape[0]\n",
    "    setattr(data,'train_mask',torch.zeros(nNode, dtype=torch.bool).to(device))\n",
    "    # dataset[0].train_mask = torch.zeros(nEdge, dtype=torch.bool).to(device)\n",
    "    data.val_mask = torch.zeros(nNode, dtype=torch.bool).to(device)\n",
    "    data.test_mask = torch.zeros(nNode, dtype=torch.bool).to(device)\n",
    "    data.y = data.y.squeeze(1)\n",
    "    \n",
    "if(args.dataset == 'Reddit2'):\n",
    "    num_nodes_to_sample = 20000  # Adjust this based on your needs\n",
    "\n",
    "    # Randomly select a subset of nodes\n",
    "    sampled_nodes = torch.randint(data.num_nodes, (num_nodes_to_sample,), device=device)\n",
    "\n",
    "    # Perform subgraph sampling\n",
    "    edge,_ = subgraph(sampled_nodes, data.edge_index)\n",
    "    data.edge_index = edge"
   ]
  },
  {
   "cell_type": "code",
   "execution_count": 3,
   "metadata": {},
   "outputs": [],
   "source": [
    "from utils import get_split\n",
    "data, idx_train, idx_val, idx_clean_test, idx_atk = get_split(args,data,device)\n",
    "\n",
    "from torch_geometric.utils import to_undirected\n",
    "from utils import subgraph\n",
    "data.edge_index = to_undirected(data.edge_index)\n",
    "train_edge_index,_, edge_mask = subgraph(torch.bitwise_not(data.test_mask),data.edge_index,relabel_nodes=False)\n",
    "mask_edge_index = data.edge_index[:,torch.bitwise_not(edge_mask)]"
   ]
  },
  {
   "cell_type": "code",
   "execution_count": 4,
   "metadata": {},
   "outputs": [
    {
     "name": "stdout",
     "output_type": "stream",
     "text": [
      "number of benign training nodes 3943\n",
      "number of poisoned target nodes 40\n"
     ]
    }
   ],
   "source": [
    "from sklearn_extra import cluster\n",
    "from models.backdoor import Backdoor\n",
    "from models.construct import model_construct\n",
    "import heuristic_selection as hs\n",
    "from torch.distributions.bernoulli import Bernoulli\n",
    "\n",
    "# select poisoned target node #\n",
    "\n",
    "# filter out the unlabeled nodes except from training nodes and testing nodes, nonzero() is to get index, flatten is to get 1-d tensor\n",
    "unlabeled_idx = (torch.bitwise_not(data.test_mask)&torch.bitwise_not(data.train_mask)).nonzero().flatten()\n",
    "if(args.use_vs_number):\n",
    "    size = args.vs_number\n",
    "else:\n",
    "    size = int((len(data.test_mask)-data.test_mask.sum())*args.vs_ratio)\n",
    "# print(\"#Attach Nodes:{}\".format(size))\n",
    "assert size>0, 'The number of selected trigger nodes must be larger than 0!'\n",
    "# here is randomly select poison nodes from unlabeled nodes\n",
    "if(args.selection_method == 'none'):\n",
    "    idx_attach = hs.obtain_attach_nodes(args,unlabeled_idx,size)\n",
    "elif(args.selection_method == 'cluster'):\n",
    "    idx_attach = hs.cluster_distance_selection(args,data,idx_train,idx_val,idx_clean_test,unlabeled_idx,train_edge_index,size,device)\n",
    "    idx_attach = torch.LongTensor(idx_attach).to(device)\n",
    "elif(args.selection_method == 'cluster_degree'):\n",
    "    if(args.dataset == 'Pubmed'):\n",
    "        idx_attach = hs.cluster_degree_selection_seperate_fixed(args,data,idx_train,idx_val,idx_clean_test,unlabeled_idx,train_edge_index,size,device)\n",
    "    else:\n",
    "        idx_attach = hs.cluster_degree_selection(args,data,idx_train,idx_val,idx_clean_test,unlabeled_idx,train_edge_index,size,device)\n",
    "    idx_attach = torch.LongTensor(idx_attach).to(device)\n",
    "# print(\"idx_attach: {}\".format(idx_attach))\n",
    "unlabeled_idx = torch.tensor(list(set(unlabeled_idx.cpu().numpy()) - set(idx_attach.cpu().numpy()))).to(device)\n",
    "print('number of benign training nodes', len(idx_train))\n",
    "print('number of poisoned target nodes', len(idx_attach))\n",
    "\n",
    "# Cora\n",
    "# idx_attach = torch.tensor([1672, 2399, 1785, 2020, 2013, 1652,  208, 1220, 2128,  446])\n",
    "# Flicker\n",
    "idx_attach = torch.tensor([12920,  5748,   335,  7120, 18789,  5694,  5027,  9887,  4708,  5415,\n",
    "        12888,  2522, 19223,  8307, 12262,  4615,  2678,  5695,  8932,  7129,\n",
    "         4126, 19204, 12011, 13717, 18839, 12244,  6280,  7239, 18495,  7435,\n",
    "         8668,  8733,   616,  6642, 16044, 16149, 17486, 19442, 18364,  1678,\n",
    "        10506, 15396, 10231,  6171, 11414, 14912,   492,  8854, 16195,  4930,\n",
    "         5386,   287, 14186,  5531, 16608,  8935, 13825,  2897, 16203, 14594,\n",
    "        19067,  4256, 12628,  1259,  7193,  7196, 16269,  1727,  1967,  4330,\n",
    "        18725, 17459, 14340, 18922, 17790,  5394,  4935, 17536, 13882, 10423,\n",
    "         2896,  9880, 19443, 19278,  2470, 11318, 11186, 16732,  9204, 16023,\n",
    "          849,  8566,  2659, 14506,  1515,  4871, 10751, 13827, 11250, 14074,\n",
    "         8382,  6565, 11569, 19582,  3733, 15598, 15004,  8322, 10158,  8671,\n",
    "        19246, 10811,  7763, 14690,   430, 18823,   564, 17209, 13057, 14357,\n",
    "         3905,  3765, 17191, 19580, 18803,  9147,  6114, 18261, 12999, 14891,\n",
    "         5678, 11681, 13933, 14946,  4080, 12062,  4501,   397,  4290,  2655,\n",
    "         8217, 12543, 13982,  1128, 10369,  1732,  1497,  6689,  2147,  9542,\n",
    "         1975,   706, 11153, 19471,  3148, 10812,  2347,  1146, 15423,  3562])\n",
    "\n",
    "idx_attach = idx_attach.to(device)"
   ]
  },
  {
   "cell_type": "code",
   "execution_count": 5,
   "metadata": {},
   "outputs": [
    {
     "data": {
      "text/plain": [
       "0"
      ]
     },
     "execution_count": 5,
     "metadata": {},
     "output_type": "execute_result"
    }
   ],
   "source": [
    "## trigger generator ##\n",
    "model = Backdoor(args,device)\n",
    "model.fit(data.x, train_edge_index, None, data.y, idx_train,idx_attach, unlabeled_idx, True)"
   ]
  },
  {
   "cell_type": "code",
   "execution_count": 6,
   "metadata": {},
   "outputs": [],
   "source": [
    "test_model = 'GCN'\n",
    "total_overall_asr = 0\n",
    "total_overall_ca = 0\n",
    "args.test_model = test_model\n",
    "rs = np.random.RandomState(args.seed)\n",
    "seeds = rs.randint(1000,size=1)\n",
    "overall_asr = 0\n",
    "overall_ca = 0"
   ]
  },
  {
   "cell_type": "code",
   "execution_count": 7,
   "metadata": {},
   "outputs": [],
   "source": [
    "# load poisoned graph #\n",
    "# poison_x = torch.load('poison_x.pt')\n",
    "# poison_edge_index = torch.load('poison_edge_index.pt')\n",
    "# poison_edge_weights = torch.load('poison_edge_weights.pt')\n",
    "# poison_labels = torch.load('poison_labels.pt')\n",
    "poison_x = torch.load('/home/zbz5349/defense_backdoor/DPGBA/kdd-backdooor/run/poison_x_pubmed.pt')\n",
    "poison_edge_index = torch.load('/home/zbz5349/defense_backdoor/DPGBA/kdd-backdooor/run/poison_edge_index_pubmed.pt')\n",
    "poison_edge_weights = torch.load('/home/zbz5349/defense_backdoor/DPGBA/kdd-backdooor/run/poison_edge_weights_pubmed.pt')\n",
    "poison_labels = torch.load('/home/zbz5349/defense_backdoor/DPGBA/kdd-backdooor/run/poison_labels_pubmed.pt')\n",
    "# poison_x = torch.load('/home/zbz5349/defense_backdoor/DPGBA/kdd-backdooor/run_arxiv/poison_x.pt')\n",
    "# poison_edge_index = torch.load('/home/zbz5349/defense_backdoor/DPGBA/kdd-backdooor/run_arxiv/poison_edge_index.pt')\n",
    "# poison_edge_weights = torch.load('/home/zbz5349/defense_backdoor/DPGBA/kdd-backdooor/run_arxiv/poison_edge_weights.pt')\n",
    "# poison_labels = torch.load('/home/zbz5349/defense_backdoor/DPGBA/kdd-backdooor/run_arxiv/poison_labels.pt')"
   ]
  },
  {
   "cell_type": "code",
   "execution_count": 8,
   "metadata": {},
   "outputs": [
    {
     "name": "stdout",
     "output_type": "stream",
     "text": [
      "Namespace(cuda=True, dataset='Pubmed', debug=True, defense_mode='none', device_id=2, dis_weight=1, dropout=0.5, epochs=1000, evaluate_mode='1by1', hidden=128, homo_boost_thrd=0.8, homo_loss_weight=100, inner=1, k=100, lr=0.01, model='GCN', no_cuda=False, outter_size=4096, prune_thr=0.8, range=1.0, rec_epochs=30, seed=12, selection_method='none', target_class=2, target_loss_weight=1, test_model='GCN', thrd=0.5, train_lr=0.01, trigger_size=3, trojan_epochs=400, use_vs_number=True, vs_number=40, vs_ratio=0, weight_decay=0.0005, weight_ood=1, weight_target=1, weight_targetclass=1)\n"
     ]
    }
   ],
   "source": [
    "print(args)\n",
    "\n",
    "mask = data.y[idx_attach] != args.target_class\n",
    "mask = mask.to(device)\n",
    "\n",
    "## only attack those has groud truth labels != target_class ##\n",
    "idx_attach = idx_attach[(data.y[idx_attach] != args.target_class).nonzero().flatten()]\n",
    "\n",
    "bkd_tn_nodes = torch.cat([idx_train,idx_attach]).to(device)\n",
    "# test_model = model_construct(args,args.test_model,data,device).to(device) \n",
    "known_nodes = torch.cat([idx_train,idx_attach]).to(device)\n",
    "predictions = []\n",
    "# edge weight for clean edge_index, may use later #\n",
    "edge_weight = torch.ones([data.edge_index.shape[1]],device=device,dtype=torch.float)\n"
   ]
  },
  {
   "cell_type": "code",
   "execution_count": 9,
   "metadata": {},
   "outputs": [
    {
     "data": {
      "text/plain": [
       "tensor(24, device='cuda:2')"
      ]
     },
     "execution_count": 9,
     "metadata": {},
     "output_type": "execute_result"
    }
   ],
   "source": [
    "mask.sum()"
   ]
  },
  {
   "cell_type": "code",
   "execution_count": 10,
   "metadata": {},
   "outputs": [
    {
     "name": "stdout",
     "output_type": "stream",
     "text": [
      "tensor([0, 1, 1, 1, 1, 0, 1, 1, 1, 1, 1, 1, 1, 0, 0, 1, 0, 1, 1, 1, 1, 0, 1, 1],\n",
      "       device='cuda:2')\n",
      "tensor([2, 2, 2, 2, 2, 2, 2, 2, 2, 2, 2, 2, 2, 2, 2, 2, 2, 2, 2, 2, 2, 2, 2, 2],\n",
      "       device='cuda:2')\n"
     ]
    }
   ],
   "source": [
    "print(data.y[idx_attach])\n",
    "# idx_attach is selected target node #\n",
    "print(poison_labels[idx_attach])"
   ]
  },
  {
   "cell_type": "code",
   "execution_count": 11,
   "metadata": {},
   "outputs": [
    {
     "name": "stdout",
     "output_type": "stream",
     "text": [
      "accuracy on poisoned target nodes: 0.8750\n"
     ]
    }
   ],
   "source": [
    "test_model = model_construct(args,args.test_model,data,device).to(device) \n",
    "test_model.fit(poison_x,poison_edge_index, poison_edge_weights, poison_labels, bkd_tn_nodes, idx_val,train_iters=args.epochs,verbose=False)\n",
    "test_model.eval()\n",
    "clean_acc = test_model.test(poison_x,poison_edge_index, poison_edge_weights,poison_labels,idx_attach)\n",
    "output_clean, x = test_model(poison_x,poison_edge_index,poison_edge_weights)\n",
    "ori_predict = torch.exp(output_clean[known_nodes])\n",
    "print(\"accuracy on poisoned target nodes: {:.4f}\".format(clean_acc))"
   ]
  },
  {
   "cell_type": "code",
   "execution_count": 12,
   "metadata": {},
   "outputs": [
    {
     "data": {
      "text/plain": [
       "tensor([2, 2, 2, 2, 2, 2, 2, 2, 2, 2, 2, 2, 2, 2, 0, 2, 2, 1, 2, 2, 1, 2, 2, 2],\n",
       "       device='cuda:2')"
      ]
     },
     "execution_count": 12,
     "metadata": {},
     "output_type": "execute_result"
    }
   ],
   "source": [
    "output_clean[idx_attach].argmax(dim=1)"
   ]
  },
  {
   "cell_type": "code",
   "execution_count": 13,
   "metadata": {},
   "outputs": [
    {
     "name": "stdout",
     "output_type": "stream",
     "text": [
      "ASR: 0.9204\n",
      "Flip ASR: 0.8765/1198 nodes\n",
      "CA: 0.8447\n"
     ]
    }
   ],
   "source": [
    "# test backdoored model for comparison #\n",
    "induct_edge_index = torch.cat([poison_edge_index,mask_edge_index],dim=1)\n",
    "induct_edge_weights = torch.cat([poison_edge_weights,torch.ones([mask_edge_index.shape[1]],dtype=torch.float,device=device)])\n",
    "induct_x, induct_edge_index,induct_edge_weights = model.inject_trigger(idx_atk,poison_x,induct_edge_index,induct_edge_weights,device)\n",
    "induct_x, induct_edge_index,induct_edge_weights = induct_x.clone().detach(), induct_edge_index.clone().detach(),induct_edge_weights.clone().detach()\n",
    "\n",
    "output, x = test_model(induct_x,induct_edge_index,induct_edge_weights)\n",
    "train_attach_rate = (output.argmax(dim=1)[idx_atk]==args.target_class).float().mean()\n",
    "print(\"ASR: {:.4f}\".format(train_attach_rate))\n",
    "asr = train_attach_rate\n",
    "flip_idx_atk = idx_atk[(data.y[idx_atk] != args.target_class).nonzero().flatten()]\n",
    "flip_asr = (output.argmax(dim=1)[flip_idx_atk]==args.target_class).float().mean()\n",
    "print(\"Flip ASR: {:.4f}/{} nodes\".format(flip_asr,flip_idx_atk.shape[0]))\n",
    "ca = test_model.test(induct_x,induct_edge_index,induct_edge_weights,data.y,idx_clean_test)\n",
    "print(\"CA: {:.4f}\".format(ca))"
   ]
  },
  {
   "cell_type": "code",
   "execution_count": 14,
   "metadata": {},
   "outputs": [],
   "source": [
    "# edge drop #\n",
    "def sample_noise_all(edge_index, edge_weight,device):\n",
    "    noisy_edge_index = edge_index.clone().detach()\n",
    "    if(edge_weight == None):\n",
    "        noisy_edge_weight = torch.ones([noisy_edge_index.shape[1],]).to(device)\n",
    "    else:\n",
    "        noisy_edge_weight = edge_weight.clone().detach()\n",
    "    # # rand_noise_data = copy.deepcopy(data)\n",
    "    # rand_noise_data.edge_weight = torch.ones([rand_noise_data.edge_index.shape[1],]).to(device)\n",
    "    m = Bernoulli(torch.tensor([0.5]).to(device))\n",
    "    mask = m.sample(noisy_edge_weight.shape).squeeze(-1).int()\n",
    "    # print('mask',mask)\n",
    "    rand_inputs = torch.randint_like(noisy_edge_weight, low=0, high=2).squeeze().int().to(device)\n",
    "    # print(rand_noise_data.edge_weight.shape,mask.shape)\n",
    "    noisy_edge_weight = noisy_edge_weight * mask #+ rand_inputs * (1-mask)\n",
    "        \n",
    "    if(noisy_edge_weight!=None):\n",
    "        noisy_edge_index = noisy_edge_index[:,noisy_edge_weight.nonzero().flatten().long()]\n",
    "        noisy_edge_weight = torch.ones([noisy_edge_index.shape[1],]).to(device)\n",
    "    return noisy_edge_index, noisy_edge_weight"
   ]
  },
  {
   "cell_type": "code",
   "execution_count": 15,
   "metadata": {},
   "outputs": [],
   "source": [
    "# test robustness #\n",
    "for i in range(20):\n",
    "            test_model.eval()\n",
    "            noisy_poison_edge_index, noisy_poison_edge_weights = sample_noise_all(poison_edge_index, poison_edge_weights, device)\n",
    "            output, x = test_model(poison_x,noisy_poison_edge_index,noisy_poison_edge_weights)\n",
    "            train_attach_rate = (output.argmax(dim=1)[idx_attach]==args.target_class).float().mean()\n",
    "            train_clean_rate = (output.argmax(dim=1)[idx_train]==data.y[idx_train]).float().mean()\n",
    "            predictions.append(torch.exp(output[known_nodes]))"
   ]
  },
  {
   "cell_type": "code",
   "execution_count": 16,
   "metadata": {},
   "outputs": [],
   "source": [
    "# torch.argmax(predictions[8][23868])"
   ]
  },
  {
   "cell_type": "code",
   "execution_count": 17,
   "metadata": {},
   "outputs": [
    {
     "name": "stdout",
     "output_type": "stream",
     "text": [
      "index_of_less_robust tensor([3954, 3966, 3958, 3945, 3943, 3955, 3961,  307, 3950, 2348, 3944, 3964,\n",
      "        3953, 3946, 3952, 3132, 3962,  511, 3959,  473, 3949, 3960, 2067, 3858],\n",
      "       device='cuda:2')\n",
      "count 17\n"
     ]
    },
    {
     "name": "stderr",
     "output_type": "stream",
     "text": [
      "/home/zbz5349/anaconda3/envs/spurious/lib/python3.8/site-packages/torch/nn/_reduction.py:42: UserWarning: size_average and reduce args will be deprecated, please use reduction='none' instead.\n",
      "  warnings.warn(warning.format(ret))\n"
     ]
    }
   ],
   "source": [
    "epsilon = 1e-8\n",
    "deviations = []\n",
    "for sub_pred in predictions:\n",
    "    sub_pred += epsilon\n",
    "    deviation = F.kl_div(sub_pred.log(), ori_predict, reduce=False)\n",
    "    deviations.append(deviation)\n",
    "\n",
    "summed_deviations = torch.zeros_like(deviations[0]).to(deviations[0].device)\n",
    "for deviation in deviations:\n",
    "    ##### summed deviations for each node #####\n",
    "    summed_deviations += deviation\n",
    "\n",
    "\n",
    "##### get the index for nodes with less robustness #####\n",
    "    \n",
    "##### args.vs_number is unknown #####\n",
    "index_of_less_robust = torch.sort(torch.mean(summed_deviations,dim=-1),descending=True)[1][:mask.sum()]\n",
    "print('index_of_less_robust',index_of_less_robust)\n",
    "\n",
    "##### count how many poisoned target nodes are selected in less robustness nodes #####\n",
    "count = 0\n",
    "dd = []\n",
    "for idx in index_of_less_robust:\n",
    "    if idx >= len(known_nodes)-args.vs_number:\n",
    "        count += 1\n",
    "        dd.append(idx)\n",
    "print('count',count)"
   ]
  },
  {
   "cell_type": "code",
   "execution_count": 18,
   "metadata": {},
   "outputs": [
    {
     "data": {
      "text/plain": [
       "tensor([20.1211, 17.3176, 13.4710, 13.2979, 11.1514, 10.5073,  9.8286,  9.6228,\n",
       "         9.5437,  9.5262,  9.1089,  9.0160,  8.8755,  8.8265,  8.3635,  8.2422,\n",
       "         7.8644,  7.8208,  7.7789,  7.7620,  7.6605,  6.6720,  6.5867,  6.5070],\n",
       "       device='cuda:2', grad_fn=<SliceBackward0>)"
      ]
     },
     "execution_count": 18,
     "metadata": {},
     "output_type": "execute_result"
    }
   ],
   "source": [
    "torch.sort(torch.mean(summed_deviations,dim=-1),descending=True)[0][:mask.sum()]"
   ]
  },
  {
   "cell_type": "code",
   "execution_count": 19,
   "metadata": {},
   "outputs": [
    {
     "name": "stdout",
     "output_type": "stream",
     "text": [
      "3967\n"
     ]
    },
    {
     "data": {
      "text/plain": [
       "tensor(24, device='cuda:2')"
      ]
     },
     "execution_count": 19,
     "metadata": {},
     "output_type": "execute_result"
    }
   ],
   "source": [
    "print(len(ori_predict))\n",
    "mask.sum()"
   ]
  },
  {
   "cell_type": "code",
   "execution_count": 20,
   "metadata": {},
   "outputs": [
    {
     "data": {
      "image/png": "[encoded data removed]",
      "text/plain": [
       "<Figure size 1000x600 with 1 Axes>"
      ]
     },
     "metadata": {},
     "output_type": "display_data"
    }
   ],
   "source": [
    "\n",
    "\n",
    "# visualize robustness distribution #\n",
    "a=torch.mean(summed_deviations,dim=-1)\n",
    "a_excluding_last_40 = a[:-args.vs_number].detach().cpu()\n",
    "a_last=a[-mask.sum():].detach().cpu()\n",
    "\n",
    "\n",
    "a_last_40 = a[-args.vs_number:].detach().cpu()\n",
    "\n",
    "\n",
    "\n",
    "\n",
    "indices_to_remove = [i for i, node in enumerate(known_nodes[-args.vs_number:]) if data.y[node] == args.target_class]\n",
    "\n",
    "indices_to_remove = []\n",
    "\n",
    "a_last_list = list(a_last)\n",
    "\n",
    "indices_to_check = range(len(known_nodes[-args.vs_number:]))\n",
    "\n",
    "# indices_to_remove = []\n",
    "\n",
    "# ##### find those nodes that are already have target class or poisoned failed #####\n",
    "# for i in indices_to_check:\n",
    "#     condition1 = data.y[known_nodes[-args.vs_number:][i]] == args.target_class\n",
    "#     condition2 = output.argmax(dim=1)[idx_attach[i]] != args.target_class\n",
    "    \n",
    "#     if condition1 or condition2:\n",
    "#         indices_to_remove.append(i)\n",
    "\n",
    "# for index in sorted(indices_to_remove, reverse=True):\n",
    "#     del a_last_list[index]\n",
    "\n",
    "\n",
    "a_last_40 = a_last_list\n",
    "plt.figure(figsize=(10, 6))\n",
    "# plt.figure(figsize=(40, 24))\n",
    "##### benign nodes #####\n",
    "plt.hist(a_excluding_last_40, bins=20, alpha=0.5, label='benign nodes', density=True)\n",
    "##### poisoned success nodes #####\n",
    "plt.hist(a_last_40, bins=20, alpha=0.5, label='poisoned target nodes',density=True)\n",
    "plt.legend(loc='upper right')\n",
    "plt.xlabel('Value')\n",
    "plt.ylabel('Frequency')\n",
    "plt.title('Distribution of robustness for each node')\n",
    "plt.savefig('a.jpg')\n",
    "plt.show()"
   ]
  },
  {
   "cell_type": "code",
   "execution_count": 21,
   "metadata": {},
   "outputs": [],
   "source": [
    "output_clean[idx_attach].argmax(dim=1)\n",
    "output_clean = torch.exp(output_clean)"
   ]
  },
  {
   "cell_type": "code",
   "execution_count": 22,
   "metadata": {},
   "outputs": [
    {
     "name": "stdout",
     "output_type": "stream",
     "text": [
      "tensor([2, 2, 2, 2, 2, 2, 2, 2, 2, 2, 2, 2, 2, 2, 0, 2, 2, 1, 2, 2, 1, 2, 2, 2],\n",
      "       device='cuda:2')\n",
      "[0.0003840153513010591, 2.77856997854542e-05, 0.0001921132206916809, 0.006083197891712189, 0.0006437736446969211, 0.0016895979642868042, 0.002538193017244339, 0.0015582777559757233, 0.0021918579004704952, 0.0016334082465618849, 0.004585096146911383, 0.01081586442887783, 0.006779960356652737, 0.0020329728722572327, 0.0021397448144853115, 0.00307646906003356, 0.0005128085613250732, 0.0030900153797119856, 0.0025042674969881773, 0.0036825290881097317, 0.004130852874368429, 0.0043451255187392235, 0.002333572832867503, 0.0031433547846972942, 0.003330643754452467, 0.043144188821315765, 0.0133495032787323, 1.2369206160656177e-05, 0.008624851703643799, 0.01809440180659294, 0.00026568275643512607, 0.0001507041451986879, 0.01099238358438015, 0.00392691045999527, 0.0015320803504437208, 0.0012995688011869788, 0.0035156558733433485, 0.01071795355528593, 0.003713419195264578, 0.00810655951499939, 0.00034315139055252075, 0.006332924123853445, 0.020911142230033875, 0.0004101991653442383, 0.0005361897638067603, 5.114451050758362e-05, 0.05731388181447983, 0.010230397805571556, 0.0005789002170786262, 0.05283196270465851, 0.00032317391014657915, 9.61969344643876e-05, 0.0003149335680063814, 0.0035974509082734585, 0.002760703442618251, 0.006708502769470215, 0.005621529184281826, 0.0010690938215702772, 0.0023364578373730183, 0.002267187926918268, 0.0021067135967314243, 0.0016893213614821434, 0.002169287297874689, 0.0017963657155632973, 0.0008965690503828228, 0.0018391699995845556, 0.0010359426960349083, 0.0018334088381379843, 0.0023410795256495476, 0.0025288579054176807, 0.000661446712911129, 0.0014139193808659911, 0.002256619744002819, 0.0012190090492367744, 0.016207680106163025, 0.03571867197751999, 0.01101999543607235, 0.00014496836229227483, 9.664792742114514e-05, 0.00029715406708419323, -2.716357627718935e-08, 7.552405349997571e-06, 5.265302024781704e-05, 0.00012305830023251474, 0.002414946909993887, 0.10439148545265198, 0.04511301964521408, 0.0006060401792638004, 0.0008778895135037601, 0.0016613416373729706, 0.017976708710193634, 0.0015564648201689124, 0.0025168261490762234, 0.0011698815505951643, 0.0017137726536020637, 0.0021321377716958523, 0.0013679862022399902, 0.014864402823150158, 0.0023942324332892895, 0.0021690931171178818, 0.002573582110926509, 0.0022135134786367416, 0.036794744431972504, 0.014660815708339214, 0.029065527021884918, 0.0015505291521549225, 9.075304114958271e-05, 0.029499318450689316, 0.00015769456513226032, 0.00021221127826720476, 0.0003664380346890539, 0.00028448342345654964, 0.0002877983497455716, 4.470193289307645e-06, 0.00013255421072244644, 0.00010335988918086514, 0.0002517888497095555, 0.0004170684260316193, 0.00025594548787921667, 0.00015625117521267384, 0.00028283236315473914, 0.00023433993919752538, 0.00018084837938658893, 0.0002865591086447239, 0.0003780344850383699, 0.00021115066192578524, 0.00022484971850644797, 0.00022648453887086362, 0.00013032121933065355, 0.00021929395734332502, 0.0002892849443014711, 0.35369277000427246, 0.006584381218999624, 0.09282952547073364, 0.0008956740493886173, 0.0018684864044189453, 0.010694727301597595, 0.00026248893118463457, 0.00019898018217645586, 0.0008045310969464481, 0.004361910279840231, 0.004553747829049826, 4.333506149123423e-05, 0.00011946509766858071, 1.366188189422246e-05, 0.0025028190575540066, 0.00650158291682601, 0.025412410497665405, 0.019074833020567894, 0.007105959113687277, 0.012749871239066124, 0.010873700492084026, 0.00809999369084835, 0.00203245272859931, 0.008852606639266014, 0.012936289422214031, 0.002589608309790492, 0.0015759877860546112, 0.0051578558050096035, 0.0001977086067199707, 0.0023692622780799866, 0.0038025728426873684, 0.0014804776292294264, 0.005341328680515289, 0.010257057845592499, 0.012725725769996643, 0.0008715937728993595, 0.004552481230348349, 0.023517360910773277, 0.002003096044063568, 0.012016398832201958, 0.0021719783544540405, 0.003283990081399679, 0.02719193324446678, 0.033285971730947495, 0.001040033996105194, 0.0007923754747025669, 0.00023291571415029466, 0.0005090627819299698, 0.004322854336351156, 0.0013583141844719648, 0.004697656258940697, 0.002078646793961525, 0.0009586320957168937, 0.0005929935723543167, 0.001283989055082202, 0.0004079782811459154, 0.0014292399864643812, 0.0024589113891124725, 0.001031346619129181, 0.04715323448181152, 0.00021642881620209664, 0.0006978915771469474, 0.00037919607711955905, 0.002100287703797221, 0.00890048872679472, 0.08459632843732834, 0.017553308978676796, 0.12018226087093353, 0.00015757232904434204, 0.004987408872693777, 0.0005766066606156528, 0.00018335692584514618, 0.003913448192179203, 0.0013851741096004844, 1.0417774319648743e-05, 0.0021534464322030544, 0.013326002284884453, 0.07236503064632416, 0.009818385355174541, 0.006567572709172964, 0.008482253178954124, 0.012564128264784813, 0.030634205788373947, 0.015169380232691765, 0.0025598022621124983, 0.004587337374687195, 0.002848209347575903, 0.003809643443673849, 0.007308391388505697, 0.0008068680763244629, 0.014045345596969128, 0.003336337860673666, 0.0009905572514981031, 0.38672110438346863, 0.02815508469939232, 0.002309118863195181, 0.018936045467853546, 0.0003684423863887787, 0.0020731384865939617, 8.107474059215747e-06, 0.006773616187274456, 0.025543060153722763, 0.00012135505676269531, 0.010831485502421856, 0.004605303518474102, 0.0031470831017941236, 0.0022813405375927687, 0.0039849779568612576, 0.0024028222542256117, 0.0028170174919068813, 0.0038575183134526014, 0.01344937365502119, 8.059728133957833e-05, 0.00017769201076589525, 0.00047232460929080844, 0.0036368519067764282, 0.10140594094991684, 0.0756591260433197, 2.211204900959274e-06, 6.74238775921765e-10, 2.771654905586729e-08, 6.934715202078223e-08, 9.750026208621421e-08, 1.80528932105517e-05, 1.0172759346005478e-07, 4.037821781821549e-06, 6.389867621692247e-07, 1.1431742308332105e-07, 2.2523212805936055e-07, 1.4537849324369745e-07, 1.3768319604423596e-06, 4.0700542740523815e-06, 1.0363995670559234e-06, 3.4221254718858063e-09, 7.855633157305419e-07, 0.006303906440734863, 0.0061776041984558105, 0.0007596610812470317, 0.0005433424958027899, 0.000779947149567306, 0.0007764673209749162, 0.000536111241672188, 0.0006147726671770215, 0.0002907525049522519, 0.0004905113019049168, 0.00044511357555165887, 0.0005018478841520846, 0.0006773603963665664, 0.0004773697583004832, 0.0005500254919752479, 0.0007208702154457569, 0.0006559520843438804, 0.0006650799768976867, 0.000539661617949605, 0.0005998392589390278, 0.0004395056457724422, 0.0007741606095805764, 0.0007038476760499179, 0.005938555113971233, 0.004011685959994793, 0.002690459368750453, 0.0005614670808427036, 0.0017625379841774702, 0.0025263167917728424, 0.0005161833832971752, 0.002595677971839905, 0.0015817980747669935, 0.0007241684943437576, 0.0012541767209768295, 0.0012666210532188416, 0.0006179343909025192, 0.15444666147232056, 0.0011420994997024536, 0.0010736187687143683, 0.017061181366443634, 0.001437366008758545, 0.0012088518124073744, 0.1219063550233841, 1.4739669495611452e-05, 8.552490726287942e-06, 1.528979919385165e-05, 2.2154883481562138e-05, 4.1262635932071134e-05, 1.8523249309509993e-05, 2.104333179886453e-05, 1.6348651115549728e-05, 1.999910455197096e-05, 1.6361489542759955e-05, 9.592399692337494e-06, 1.5122035620152019e-05, 8.443405022262596e-06, 1.826220250222832e-05, 1.796754622773733e-05, 7.1505928644910455e-06, 2.1774647393613122e-05, 2.0313387722126208e-05, 1.5337263903347775e-05, 1.1994939995929599e-05, 1.2734546544379555e-05, 5.555533334700158e-06, 1.6347394193871878e-05, 1.7972764908336103e-05, 1.6883646821952425e-05, 1.908605008793529e-05, 2.0511395632638596e-05, 1.122169487643987e-05, 1.4719946193508804e-05, 2.0157425751676783e-05, 2.0605610188795254e-05, 1.825010076572653e-05, 1.953414175659418e-05, 1.4068321434024256e-05, 1.7118112737080082e-05, 1.5787421943969093e-05, 1.8462567823007703e-05, 1.5073868780746125e-05, 1.4265626305132173e-05, 1.8609422113513574e-05, 1.971379060705658e-05, 1.9401657482376322e-05, 1.9925089873140678e-05, 1.0263174772262573e-05, 1.671499921940267e-05, 1.779459671524819e-05, 8.913407327781897e-06, 1.3551229130825959e-05, 1.3845866305928212e-05, 1.3897491953684948e-05, 1.78972513822373e-05, 1.958261964318808e-05, 7.891212590038776e-06, 0.14289411902427673, 0.017339184880256653, 0.005313990171998739, 0.0018613934516906738, 0.0028967387042939663, 0.004773944616317749, 0.0020504072308540344, 0.003233341034501791, 0.030895953997969627, 0.010460659861564636, 0.01605839654803276, 0.000977798132225871, 0.00034449747181497514, 0.000243406742811203, 0.001236471114680171, 0.31924933195114136, 0.032281529158353806, 0.001917914836667478, 0.0030216034501791, 0.0005551527137868106, 0.0016057261964306235, 0.0006286582793109119, 0.0011219208827242255, 0.014026101678609848, 0.0004408136010169983, 0.0018324566772207618, 0.006389472633600235, 0.0029674931429326534, 0.011042600497603416, 0.013262826018035412, 0.006545792333781719, 0.005706603638827801, 0.0005696664447896183, 0.0009276028722524643, 0.0013723650481551886, 0.00048750764108262956, 0.00047566433204337955, 6.722907710354775e-05, 0.0008669992676004767, 0.0006744048441760242, 0.0006485457415692508, 0.00163261778652668, 0.0007261758437380195, 0.0005771312862634659, 0.0005505016888491809, 4.0862555579224136e-06, 1.9390543457120657e-05, 7.955473847687244e-06, 1.8851231288863346e-05, 6.922234024386853e-05, 0.0013326903572306037, 0.0025712712667882442, 0.004952130373567343, 0.0023718427401036024, 0.0034093211870640516, 0.02915792167186737, 0.002449929714202881, 0.0020374557934701443, 0.004207395017147064, 0.43351539969444275, 0.007784421555697918, 0.040188103914260864, 0.00287086283788085, 0.00970437191426754, 0.00592358922585845, 0.009608740918338299, 3.4976132155861706e-05, 0.001026798039674759, 0.00022745257592760026, 0.03932584822177887, 0.00124458409845829, 4.711312794825062e-05, 0.005654945038259029, 0.00026246285415254533, 0.00037588179111480713, 0.0035839553456753492, 0.0010864933719858527, 0.00020227830100338906, 0.020690619945526123, 0.0013863047352060676, 0.002962584374472499, 0.022306468337774277, 0.010297740809619427, 0.005478579550981522, 0.25451183319091797, 0.005424445029348135, 0.008780519478023052, 0.0005361040821298957, 0.01858513057231903, 0.006291504018008709, 0.006518175359815359, 8.151929068844765e-05, 0.00174037367105484, 0.0015127758961170912, 0.0012368796160444617, 0.011868802830576897, 0.003674047766253352, 0.0006255271728150547, 0.055198606103658676, 0.002344070700928569, 0.07014977931976318, 0.10440032184123993, 0.003395108040422201, 0.005624763667583466, 0.003458666382357478, 0.002272325335070491, 0.0017375946044921875, 0.0022366917692124844, 0.007728966884315014, 0.11364229768514633, 0.00908107589930296, 0.020419692620635033, 0.0038496702909469604, 0.00035350522375665605, 0.01175446342676878, 0.006730298511683941, 0.010470340959727764, 0.0028403899632394314, 0.017759155482053757, 0.001732816337607801, 0.0032541356049478054, 0.001154869794845581, 0.011033564805984497, 0.013330131769180298, 0.00885230302810669, 0.17008888721466064, 0.005894899368286133, 0.03399554640054703, 0.029404476284980774, 0.0002911302144639194, 0.000342709943652153, 0.00014228995132725686, 0.0005776038160547614, 0.0004342279280535877, 0.0007657743990421295, 0.0007955090841278434, 0.000317894562613219, 0.00044730803347192705, 0.001071720733307302, 0.0007192747434601188, 0.0020481660030782223, 0.00019444464123807847, 0.000572866469155997, 0.0005254186689853668, 0.00017596533871255815, 0.0002516905660741031, 2.1098803699715063e-05, 0.0004066911933477968, 0.00025598955107852817, 0.017449738457798958, 0.026506725698709488, 0.13670095801353455, 0.002706880448386073, 0.00023653730750083923, 0.019000347703695297, 0.0011923834681510925, 0.05717944726347923, 0.16527414321899414, 0.11756908893585205, 0.08509163558483124, 0.0025272369384765625, 0.015172312967479229, 0.0013724174350500107, 0.0009323153644800186, 0.0014668311923742294, 0.0009638717165216804, 0.0018270593136548996, 0.0018664002418518066, 0.000786270946264267, 0.0002640746533870697, 0.0012171771377325058, 0.0009823038708418608, 0.0011991839855909348, 0.0014059401582926512, 0.0002039242535829544, 0.0018621832132339478, 0.00022289156913757324, 0.021455034613609314, 0.005212692078202963, 0.07783780992031097, 0.00032791573903523386, 0.0005270695546641946, 0.00060516397934407, 0.000897144665941596, 0.0004747905768454075, 0.00038148672319948673, 0.0004633761418517679, 0.00047983633703552186, 0.0005393284372985363, 0.0005450649186968803, 0.0008131915237754583, 0.0006260814843699336, 0.00044034732854925096, 0.0013798922300338745, 0.0012939595617353916, 0.0014944782014936209, 0.0020629349164664745, 0.00184117432218045, 0.0019244434079155326, 0.0016401668544858694, 0.002167485421523452, 0.0022110678255558014, 0.0015799603424966335, 0.0018293596804141998, 0.0018953060498461127, 0.001205751090310514, 0.001708190655335784, 0.0019665160216391087, 0.0015073884278535843, 0.0014489389723166823, 0.0019613360054790974, 0.0013438466703519225, 0.002544698305428028, 0.0002970031346194446, 0.00016943676746450365, 0.003990712575614452, 0.0028195183258503675, 0.00300564500503242, 0.0032714195549488068, 0.003926830366253853, 0.007308259606361389, 0.005740189924836159, 0.001741963205859065, 0.007753252983093262, 0.010696443729102612, 0.004472821019589901, 0.04961342737078667, 1.4074360478844028e-05, 1.4285091310739517e-05, 2.6119223548448645e-05, 1.8892209482146427e-05, 1.3437626876111608e-05, 1.6013724234653637e-05, 2.374313771724701e-05, 1.271069049835205e-05, 2.772017614915967e-05, 2.3467873688787222e-05, 2.2960302885621786e-05, 2.554070670157671e-05, 1.9580029402277432e-05, 0.00014510289474856108, 2.6213199816993438e-05, 6.450844921346288e-06, 0.0001530499866930768, 3.978769382229075e-05, 4.2247120290994644e-07, 7.891756467870437e-06, 8.080096449702978e-05, 3.4825374314095825e-05, 5.567667540162802e-05, 6.2962062656879425e-06, 4.769923975800339e-07, 0.0012819841504096985, 0.009991096332669258, 0.0002750704879872501, 0.10076572000980377, 0.005567061714828014, 0.037465766072273254, 0.001503450213931501, 0.0037560625933110714, 0.0011126201134175062, 0.0021606232039630413, 0.0009513087570667267, 0.0012135468423366547, 0.0006842719158157706, 0.006114745046943426, 0.00407475046813488, 0.0013443257194012403, 0.00212589162401855, 0.0004542553797364235, 0.0018599722534418106, 0.0016049544792622328, 0.0018866769969463348, 0.00033231390989385545, 0.00044774264097213745, 0.005451458506286144, 0.003346893936395645, 0.0035797767341136932, 0.0067577301524579525, 0.002167385071516037, 0.0005745775997638702, 0.0005068978061899543, 0.0037396661937236786, 0.04953891038894653, 0.0015169568359851837, 5.14922066940926e-05, 0.03005354106426239, 0.0005219479789957404, 0.0004962782259099185, 0.00483750831335783, 0.0004291286168154329, 0.0009669612045399845, 0.003124341368675232, 0.02087934873998165, 0.002574354410171509, 8.74549150466919e-05, 0.008629280142486095, 0.0012070536613464355, 0.06225505471229553, 0.15132379531860352, 0.03230587765574455, 0.0026203717570751905, 0.002267062198370695, 0.001171500189229846, 0.0016506500542163849, 0.0018466617912054062, 0.0008001573150977492, 0.001423301175236702, 0.00036792521132156253, 0.00024253534502349794, 0.0011326621752232313, 0.0011742773931473494, 0.0013728117337450385, 0.002190468367189169, 0.04713847488164902, 0.000659660785458982, 0.0015059126308187842, 0.006437622010707855, 0.0018186084926128387, 0.0009903914760798216, 0.0014526760205626488, 0.001121828332543373, 0.0005795353790745139, 0.0022628228180110455, 0.0006791949272155762, 0.000114200018288102, 0.0007616076618432999, 0.0008039760286919773, 0.0008399629732593894, 0.0004549473524093628, 0.020116856321692467, 0.020703956484794617, 0.029369961470365524, 0.03325486183166504, 0.016446104273200035, 0.014287590980529785, 0.000987337320111692, 0.0012098029255867004, 0.002463068813085556, 0.00028206658316776156, 0.0011033788323402405, 0.0008599559660069644, 0.00048230713582597673, 0.020768165588378906, 0.0012858584523200989, 0.0016218188684433699, 7.571901369374245e-05, 0.0021966672502458096, 0.0066809458658099174, 0.0005336552858352661, 0.005273106507956982, 0.0009202460641972721, 0.00032555064535699785, 0.004159463103860617, 0.004596163984388113, 0.005100354552268982, 0.008031360805034637, 0.002572809811681509, 0.08082267642021179, 0.019299490377306938, 0.009243858978152275, 0.0015582814812660217, 0.0016788120847195387, 0.00044089308357797563, 5.78761100769043e-05, 0.00010545551776885986, 0.0065042367205023766, 0.00045945620513521135, 0.00034626200795173645, 0.0010584022384136915, 0.0005307607352733612, 0.0020084045827388763, 0.002151351422071457, 0.004172608256340027, 2.5289755285484716e-05, 0.03575069084763527, 2.868063802452525e-06, 2.296825840630845e-07, 7.749622454866767e-08, 3.4108234103769064e-07, 8.640660666969779e-07, 6.942597678971651e-07, 8.302437777274463e-07, 1.5342557162512094e-06, 7.189786401795573e-07, 8.38047242268658e-07, 2.0628747279261006e-06, 1.354951905341295e-06, 6.2220597101259045e-06, 4.4163621168991085e-06, 5.334150046110153e-07, 7.902845936769154e-06, 2.5823101168498397e-07, 4.1214661905542016e-07, 6.261167868615303e-07, 0.0015208274126052856, 0.00107337418012321, 0.001221252023242414, 0.002120377030223608, 0.008558249101042747, 0.003189368871971965, 0.0007560414960607886, 0.008996628224849701, 0.001626408426091075, 0.003528119530528784, 0.019105466082692146, 0.0029938097577542067, 0.0015289213042706251, 0.0011464457493275404, 0.0014884223928675056, 0.15866053104400635, 0.0915757417678833, 0.12740932404994965, 0.00047554326010867953, 2.1354606360546313e-05, 0.00016603122639935464, 0.0005310364067554474, 0.003691847203299403, 0.03494807332754135, 0.02377386949956417, 0.0005608648061752319, 0.00025003653718158603, 0.0037938605528324842, 0.003013620851561427, 0.0002859880623873323, 0.010091429576277733, 6.367266178131104e-05, 1.0465815648785792e-05, 0.00010024500079452991, 7.925834506750107e-05, 4.444884689291939e-05, 4.204743163427338e-05, 0.00013588803994935006, 6.4234873207169585e-06, 4.0191614971263334e-05, 0.00013625754218082875, 0.00011975543748121709, 6.985633808653802e-05, 6.243532698135823e-05, 0.00010748192289611325, 9.566119115334004e-05, 0.20993082225322723, 1.9051291019422933e-05, 0.0011136066168546677, 3.1810253858566284e-05, 0.0057235038839280605, 0.002893976867198944, 0.052465878427028656, 0.03873620554804802, 0.006846919655799866, 0.009073908440768719, 0.02207847498357296, 0.011210623197257519, 0.012052789330482483, 0.005378842353820801, 0.010641838423907757, 0.0008311470737680793, 0.014089073054492474, 0.009993262588977814, 0.009048844687640667, 0.004633203148841858, 0.049200620502233505, 0.006305399350821972, 0.002697788178920746, 0.0033673695288598537, 0.0011124934535473585, 0.00017823404050432146, 0.002622892614454031, 0.005884937942028046, 0.009678959846496582, 3.4967437386512756e-05, 0.00137367844581604, 0.004397024866193533, 0.0031499764882028103, 0.005134612321853638, 0.006230518221855164, 0.015576576814055443, 0.010095417499542236, 0.00577775901183486, 0.006450064480304718, 0.003596937982365489, 0.009124811738729477, 0.005640504416078329, 0.01185162179172039, 0.011900437995791435, 0.00551232323050499, 0.007152659352868795, 0.004207689315080643, 0.00728340819478035, 0.009901357814669609, 0.00303630530834198, 0.2548631727695465, 0.024778470396995544, 0.0075307488441467285, 0.00880073755979538, 0.0050304061733186245, 0.010269416496157646, 0.008535554632544518, 0.007950703613460064, 0.004032634198665619, 0.0144544942304492, 0.003034549532458186, 0.009204654023051262, 0.00014941705740056932, 0.0003890668449457735, 0.00011895038187503815, 7.303990423679352e-05, 6.111463153501973e-05, 0.007352834101766348, 0.022654151543974876, 0.0049062869511544704, 0.0035050518345087767, 0.014588932506740093, 0.04249601811170578, 0.0010664016008377075, 0.004124999046325684, 3.940612077713013e-05, 0.02634257636964321, 0.006572370883077383, 0.02330145053565502, 0.02905122935771942, 0.022523220628499985, 0.018369361758232117, 0.006351919379085302, 0.00582992285490036, 0.0061493609100580215, 0.00598036078736186, 0.004621217027306557, 0.005265561398118734, 0.0032462149392813444, 0.00992096122354269, 0.006352150347083807, 0.030356019735336304, 0.0015088071813806891, 0.0010977586498484015, 0.005849514156579971, 0.006251623388379812, 0.004357169382274151, 0.004584605805575848, 0.0040119243785738945, 0.005624038632959127, 0.004968361463397741, 0.032769445329904556, 0.004381909966468811, 0.0014646202325820923, 0.0008467361330986023, 0.0005083344876766205, 0.0011301388731226325, 0.014045934192836285, 0.011391530744731426, 0.005790576338768005, 0.0015398114919662476, 0.0031010310631245375, 0.0004216929373797029, 0.00162244844250381, 0.004464199300855398, 0.0018801441183313727, 0.0002061377017525956, 0.00342511641792953, 0.00234067440032959, 0.003582631703466177, 0.004034330602735281, 0.0005633881082758307, 0.0008794069290161133, 0.009361444041132927, 0.01199783943593502, 0.009989237412810326, 0.009102076292037964, 0.0076340376399457455, 0.007757095154374838, 0.008715664967894554, 0.009517505764961243, 0.01047387532889843, 0.007666004355996847, 0.011998179368674755, 0.008100423030555248, 0.007368862628936768, 0.0049938722513616085, 0.0015262998640537262, 0.0030109479557722807, 3.823762381216511e-05, 0.0015174489235505462, 4.443495345185511e-05, 0.0005531547358259559, 0.0018098056316375732, 0.0006345293368212879, 0.0004839153843931854, 0.0003195951576344669, 0.0003538569435477257, 0.0003059264272451401, 0.0004746783524751663, 0.0006513057160191238, 0.00031195301562547684, 0.00025290390476584435, 0.0072602517902851105, 0.006921108812093735, 0.005608057137578726, 0.0038134499918669462, 0.0073185935616493225, 0.007457847706973553, 0.009538198821246624, 0.005850350018590689, 0.004975651390850544, 0.004968659020960331, 0.008329164236783981, 0.0006059507722966373, 0.0002690677938517183, 0.0008486248552799225, 0.0006130288238637149, 0.0028318713884800673, 0.000679254881106317, 0.00022100223577581346, 6.081908941268921e-05, 0.0005613788962364197, 0.00012006144970655441, 0.10660290718078613, 1.1094691217294894e-05, 0.0001568109728395939, 0.00045981258153915405, 0.00011940037074964494, 5.610287189483643e-06, 0.0001475401222705841, 0.00020618240523617715, 0.0004805745556950569, 0.0001597289665369317, 0.0003467078204266727, 0.00025075487792491913, 0.00011070290202042088, 0.0003074873238801956, 0.0003738204832188785, 0.0002629732189234346, 0.000177208028617315, 0.002220881637185812, 0.009274862706661224, 0.004786571022123098, 0.010593950748443604, 0.00517465453594923, 0.013324799947440624, 0.019557911902666092, 0.00541840260848403, 0.0030389330349862576, 0.003796061035245657, 0.012606464326381683, 0.0016652420163154602, 0.011573320254683495, 0.027872389182448387, 0.000668548047542572, 0.0036239377222955227, 0.0003694171900860965, 0.0052459887228906155, 0.0005967406323179603, 0.0010399905731901526, 0.0008681205799803138, 0.07744592428207397, 0.0007967650890350342, 0.00012449920177459717, 0.00041519603109918535, 0.0004268971679266542, 0.00044067081762477756, 3.792593997786753e-05, 0.007677542977035046, 0.017687972635030746, 0.007292733993381262, 0.005143523216247559, 0.00866736751049757, 0.0005365225370042026, 0.004603736102581024, 0.003022710559889674, 0.011609053239226341, 0.002059299498796463, 0.04293753206729889, 0.012520119547843933, 1.5025338143459521e-05, 0.00041661536670289934, 0.0010158445220440626, 0.00196114182472229, 0.005197977181524038, 0.004042759537696838, 0.008478634059429169, 2.8905149065394653e-06, 0.003037726040929556, 0.004874629434198141, 0.016334354877471924, 0.0009072994580492377, 0.0003625328536145389, 0.01376969926059246, 0.00041617205715738237, 0.0037089362740516663, 0.021014854311943054, 0.15754947066307068, 0.47750577330589294, 0.017694255337119102, 0.05040399730205536, 0.0021980376914143562, 0.0026296775322407484, 0.0012034218525514007, 0.0015685521066188812, 0.0016916636377573013, 0.001210876158438623, 0.001524692284874618, 0.0014483637642115355, 0.0016856552101671696, 0.0017452314496040344, 0.0013191200559958816, 0.0009670414729043841, 0.06146064028143883, 0.0010337482672184706, 0.0038897644262760878, 0.06162095069885254, 0.0021242774091660976, 0.002541518537327647, 0.007711763493716717, 0.00035317864967510104, 0.006115288939327002, 4.600733518600464e-05, 0.0005433782935142517, 0.005171078257262707, 0.005076412111520767, 0.049870677292346954, 0.009219322353601456, 0.016488706693053246, 0.0004237654502503574, 0.00011240660387557, 0.0004518457571975887, 9.329617023468018e-05, 0.00022564797836821526, 0.0006635402096435428, 0.002605704590678215, 0.024711575359106064, 0.0018700684886425734, 0.0014283297350630164, 0.018078133463859558, 0.005480205174535513, 0.0019330817740410566, 0.0005129514029249549, 0.004084527492523193, 0.006645776331424713, 0.0012954201083630323, 0.0459911935031414, 0.0005739963380619884, 4.5866938307881355e-05, 2.7855083317263052e-05, 0.0011958777904510498, 0.0011578149860724807]\n"
     ]
    }
   ],
   "source": [
    "import torch\n",
    "from torch_geometric.utils import k_hop_subgraph\n",
    "epsilon = 1e-8\n",
    "\n",
    "print(output_clean[idx_attach].argmax(dim=1))\n",
    "\n",
    "\n",
    "from torch_geometric.utils import k_hop_subgraph\n",
    "result_clean=[]\n",
    "for node_id in idx_train[:300]:\n",
    "    node_id = node_id.item()\n",
    "    subset, edge_index, mapping, edge_mask = k_hop_subgraph(node_id, 2, poison_edge_index, relabel_nodes=False)\n",
    "    loop_edges = edge_index[:, edge_index[0] == node_id]\n",
    "    non_loop_edges = edge_index[:, edge_index[0] != node_id]\n",
    "\n",
    "    selected_x = poison_x[subset]\n",
    "    \n",
    "    for i in range(loop_edges.size(1)):\n",
    "        # Current loop edge to remove\n",
    "        current_loop_edge = loop_edges[:, i]\n",
    "\n",
    "        # Find indices of the current loop edge and its reverse\n",
    "        forward_edge_mask = (edge_index[0] == current_loop_edge[0]) & (edge_index[1] == current_loop_edge[1])\n",
    "        reverse_edge_mask = (edge_index[0] == current_loop_edge[1]) & (edge_index[1] == current_loop_edge[0])\n",
    "\n",
    "        # Combine masks for forward and reverse edges\n",
    "        combined_mask = forward_edge_mask | reverse_edge_mask\n",
    "\n",
    "        # Remove both forward and reverse edges from the graph\n",
    "        modified_edge_index = edge_index[:, ~combined_mask]\n",
    "\n",
    "        edge_weights = torch.ones(modified_edge_index.size(1), dtype=torch.float, device=device)\n",
    "\n",
    "        output, x = test_model(poison_x, modified_edge_index, edge_weights)\n",
    "        output = output[node_id]\n",
    "        output = torch.exp(output)\n",
    "        output += epsilon\n",
    "        # print(output)\n",
    "        # print(output_clean[node_id])\n",
    "        deviation = F.kl_div(output.log(), output_clean[node_id], reduce=False)\n",
    "        result_clean.append(deviation.mean().item())\n",
    "        # print(deviation.mean().item())\n",
    "print(result_clean)"
   ]
  },
  {
   "cell_type": "code",
   "execution_count": 23,
   "metadata": {},
   "outputs": [
    {
     "name": "stdout",
     "output_type": "stream",
     "text": [
      "[0.7743394374847412, 0.9410644769668579, 0.8466309905052185, 0.20735733211040497, 0.08626192808151245, 0.6287716627120972, 0.7203760147094727, 0.6604903340339661, 0.6130763292312622, 0.6034482717514038, 1.6757550239562988, 0.8261656761169434, 0.325477659702301, 0.014413321390748024, 1.0357259511947632, 0.18851207196712494, 0.3064497113227844, 0.5452321767807007, 0.1957579106092453, 0.0016557553317397833, 0.7034531831741333, 0.562968373298645, 1.5729012489318848]\n"
     ]
    }
   ],
   "source": [
    "result_trigger = []\n",
    "for node_id in idx_attach:\n",
    "    node_id = node_id.item()\n",
    "    subset, edge_index, mapping, edge_mask = k_hop_subgraph(node_id, 2, poison_edge_index, relabel_nodes=False)\n",
    "    loop_edges = edge_index[:, edge_index[0] == node_id]\n",
    "    non_loop_edges = edge_index[:, edge_index[0] != node_id]\n",
    "\n",
    "    selected_x = poison_x[subset]\n",
    "    \n",
    "    for i in range(loop_edges.size(1)):\n",
    "        # Current loop edge to remove\n",
    "        current_loop_edge = loop_edges[:, i]\n",
    "\n",
    "        # Find indices of the current loop edge and its reverse\n",
    "        forward_edge_mask = (edge_index[0] == current_loop_edge[0]) & (edge_index[1] == current_loop_edge[1])\n",
    "        reverse_edge_mask = (edge_index[0] == current_loop_edge[1]) & (edge_index[1] == current_loop_edge[0])\n",
    "\n",
    "        # Combine masks for forward and reverse edges\n",
    "        combined_mask = forward_edge_mask | reverse_edge_mask\n",
    "\n",
    "        # Remove both forward and reverse edges from the graph\n",
    "        modified_edge_index = edge_index[:, ~combined_mask]\n",
    "\n",
    "        edge_weights = torch.ones(modified_edge_index.size(1), dtype=torch.float, device=device)\n",
    "\n",
    "        output, x = test_model(poison_x, modified_edge_index, edge_weights)\n",
    "        output = output[node_id]\n",
    "        output = torch.exp(output)\n",
    "        output += epsilon\n",
    "        # print(output)\n",
    "        # print(output_clean[node_id])\n",
    "        deviation = F.kl_div(output.log(), output_clean[node_id], reduce=False)\n",
    "        \n",
    "        if loop_edges[:,i][1]>len(data.x):\n",
    "            # print(loop_edges[:,i][1])\n",
    "            result_trigger.append(deviation.mean().item())\n",
    "            \n",
    "        # else:\n",
    "        # print(deviation.mean().item())\n",
    "            # result_clean.append(deviation.mean().item())\n",
    "\n",
    "        # result_trigger.append(deviation.mean().item())\n",
    "        # print(deviation.mean().item())\n",
    "print(result_trigger)"
   ]
  },
  {
   "cell_type": "code",
   "execution_count": 24,
   "metadata": {},
   "outputs": [
    {
     "name": "stdout",
     "output_type": "stream",
     "text": [
      "23\n",
      "0.0016557553317397833\n",
      "1.6757550239562988\n",
      "[1.6757550239562988, 1.5729012489318848, 1.0357259511947632, 0.9410644769668579, 0.8466309905052185, 0.8261656761169434, 0.7743394374847412, 0.7203760147094727, 0.7034531831741333, 0.6604903340339661, 0.6287716627120972, 0.6130763292312622, 0.6034482717514038, 0.562968373298645, 0.5452321767807007, 0.325477659702301, 0.3064497113227844, 0.20735733211040497, 0.1957579106092453, 0.18851207196712494, 0.08626192808151245, 0.014413321390748024, 0.0016557553317397833]\n",
      "0.47750577330589294\n",
      "[0.47750577330589294, 0.43351539969444275, 0.38672110438346863, 0.35369277000427246, 0.31924933195114136, 0.2548631727695465, 0.25451183319091797, 0.20993082225322723, 0.17008888721466064, 0.16527414321899414, 0.15866053104400635, 0.15754947066307068, 0.15444666147232056, 0.15132379531860352, 0.14289411902427673, 0.13670095801353455, 0.12740932404994965, 0.1219063550233841, 0.12018226087093353, 0.11756908893585205, 0.11364229768514633, 0.10660290718078613, 0.10440032184123993, 0.10439148545265198, 0.10140594094991684, 0.10076572000980377, 0.09282952547073364, 0.0915757417678833, 0.08509163558483124, 0.08459632843732834, 0.08082267642021179, 0.07783780992031097, 0.07744592428207397, 0.0756591260433197, 0.07236503064632416, 0.07014977931976318, 0.06225505471229553, 0.06162095069885254, 0.06146064028143883, 0.05731388181447983, 0.05717944726347923, 0.055198606103658676, 0.05283196270465851, 0.052465878427028656, 0.05040399730205536, 0.049870677292346954, 0.04961342737078667, 0.04953891038894653, 0.049200620502233505, 0.04715323448181152, 0.04713847488164902, 0.0459911935031414, 0.04511301964521408, 0.043144188821315765, 0.04293753206729889, 0.04249601811170578, 0.040188103914260864, 0.03932584822177887, 0.03873620554804802, 0.037465766072273254, 0.036794744431972504, 0.03575069084763527, 0.03571867197751999, 0.03494807332754135, 0.03399554640054703, 0.033285971730947495, 0.03325486183166504, 0.032769445329904556, 0.03230587765574455, 0.032281529158353806, 0.030895953997969627, 0.030634205788373947, 0.030356019735336304, 0.03005354106426239, 0.029499318450689316, 0.029404476284980774, 0.029369961470365524, 0.02915792167186737, 0.029065527021884918, 0.02905122935771942, 0.02815508469939232, 0.027872389182448387, 0.02719193324446678, 0.026506725698709488, 0.02634257636964321, 0.025543060153722763, 0.025412410497665405, 0.024778470396995544, 0.024711575359106064, 0.02377386949956417, 0.023517360910773277, 0.02330145053565502, 0.022654151543974876, 0.022523220628499985, 0.022306468337774277, 0.02207847498357296, 0.021455034613609314, 0.021014854311943054, 0.020911142230033875, 0.02087934873998165, 0.020768165588378906, 0.020703956484794617, 0.020690619945526123, 0.020419692620635033, 0.020116856321692467, 0.019557911902666092, 0.019299490377306938, 0.019105466082692146, 0.019074833020567894, 0.019000347703695297, 0.018936045467853546, 0.01858513057231903, 0.018369361758232117, 0.01809440180659294, 0.018078133463859558, 0.017976708710193634, 0.017759155482053757, 0.017694255337119102, 0.017687972635030746, 0.017553308978676796, 0.017449738457798958, 0.017339184880256653, 0.017061181366443634, 0.016488706693053246, 0.016446104273200035, 0.016334354877471924, 0.016207680106163025, 0.01605839654803276, 0.015576576814055443, 0.015172312967479229, 0.015169380232691765, 0.014864402823150158, 0.014660815708339214, 0.014588932506740093, 0.0144544942304492, 0.014287590980529785, 0.014089073054492474, 0.014045934192836285, 0.014045345596969128, 0.014026101678609848, 0.01376969926059246, 0.01344937365502119, 0.0133495032787323, 0.013330131769180298, 0.013326002284884453, 0.013324799947440624, 0.013262826018035412, 0.012936289422214031, 0.012749871239066124, 0.012725725769996643, 0.012606464326381683, 0.012564128264784813, 0.012520119547843933, 0.012052789330482483, 0.012016398832201958, 0.011998179368674755, 0.01199783943593502, 0.011900437995791435, 0.011868802830576897, 0.01185162179172039, 0.01175446342676878, 0.011609053239226341, 0.011573320254683495, 0.011391530744731426, 0.011210623197257519, 0.011042600497603416, 0.011033564805984497, 0.01101999543607235, 0.01099238358438015, 0.010873700492084026, 0.010831485502421856, 0.01081586442887783, 0.01071795355528593, 0.010696443729102612, 0.010694727301597595, 0.010641838423907757, 0.010593950748443604, 0.01047387532889843, 0.010470340959727764, 0.010460659861564636, 0.010297740809619427, 0.010269416496157646, 0.010257057845592499, 0.010230397805571556, 0.010095417499542236, 0.010091429576277733, 0.009993262588977814, 0.009991096332669258, 0.009989237412810326, 0.00992096122354269, 0.009901357814669609, 0.009818385355174541, 0.00970437191426754, 0.009678959846496582, 0.009608740918338299, 0.009538198821246624, 0.009517505764961243, 0.009361444041132927, 0.009274862706661224, 0.009243858978152275, 0.009219322353601456, 0.009204654023051262, 0.009124811738729477, 0.009102076292037964, 0.00908107589930296, 0.009073908440768719, 0.009048844687640667, 0.008996628224849701, 0.00890048872679472, 0.008852606639266014, 0.00885230302810669, 0.00880073755979538, 0.008780519478023052, 0.008715664967894554, 0.00866736751049757, 0.008629280142486095, 0.008624851703643799, 0.008558249101042747, 0.008535554632544518, 0.008482253178954124, 0.008478634059429169, 0.008329164236783981, 0.00810655951499939, 0.008100423030555248, 0.00809999369084835, 0.008031360805034637, 0.007950703613460064, 0.007784421555697918, 0.007757095154374838, 0.007753252983093262, 0.007728966884315014, 0.007711763493716717, 0.007677542977035046, 0.007666004355996847, 0.0076340376399457455, 0.0075307488441467285, 0.007457847706973553, 0.007368862628936768, 0.007352834101766348, 0.0073185935616493225, 0.007308391388505697, 0.007308259606361389, 0.007292733993381262, 0.00728340819478035, 0.0072602517902851105, 0.007152659352868795, 0.007105959113687277, 0.006921108812093735, 0.006846919655799866, 0.006779960356652737, 0.006773616187274456, 0.0067577301524579525, 0.006730298511683941, 0.006708502769470215, 0.0066809458658099174, 0.006645776331424713, 0.006584381218999624, 0.006572370883077383, 0.006567572709172964, 0.006545792333781719, 0.006518175359815359, 0.0065042367205023766, 0.00650158291682601, 0.006450064480304718, 0.006437622010707855, 0.006389472633600235, 0.006352150347083807, 0.006351919379085302, 0.006332924123853445, 0.006305399350821972, 0.006303906440734863, 0.006291504018008709, 0.006251623388379812, 0.006230518221855164, 0.0061776041984558105, 0.0061493609100580215, 0.006115288939327002, 0.006114745046943426, 0.006083197891712189, 0.00598036078736186, 0.005938555113971233, 0.00592358922585845, 0.005894899368286133, 0.005884937942028046, 0.005850350018590689, 0.005849514156579971, 0.00582992285490036, 0.005790576338768005, 0.00577775901183486, 0.005740189924836159, 0.0057235038839280605, 0.005706603638827801, 0.005654945038259029, 0.005640504416078329, 0.005624763667583466, 0.005624038632959127, 0.005621529184281826, 0.005608057137578726, 0.005567061714828014, 0.00551232323050499, 0.005480205174535513, 0.005478579550981522, 0.005451458506286144, 0.005424445029348135, 0.00541840260848403, 0.005378842353820801, 0.005341328680515289, 0.005313990171998739, 0.005273106507956982, 0.005265561398118734, 0.0052459887228906155, 0.005212692078202963, 0.005197977181524038, 0.00517465453594923, 0.005171078257262707, 0.0051578558050096035, 0.005143523216247559, 0.005134612321853638, 0.005100354552268982, 0.005076412111520767, 0.0050304061733186245, 0.0049938722513616085, 0.004987408872693777, 0.004975651390850544, 0.004968659020960331, 0.004968361463397741, 0.004952130373567343, 0.0049062869511544704, 0.004874629434198141, 0.00483750831335783, 0.004786571022123098, 0.004773944616317749, 0.004697656258940697, 0.004633203148841858, 0.004621217027306557, 0.004605303518474102, 0.004603736102581024, 0.004596163984388113, 0.004587337374687195, 0.004585096146911383, 0.004584605805575848, 0.004553747829049826, 0.004552481230348349, 0.004472821019589901, 0.004464199300855398, 0.004397024866193533, 0.004381909966468811, 0.004361910279840231, 0.004357169382274151, 0.0043451255187392235, 0.004322854336351156, 0.004207689315080643, 0.004207395017147064, 0.004172608256340027, 0.004159463103860617, 0.004130852874368429, 0.004124999046325684, 0.004084527492523193, 0.00407475046813488, 0.004042759537696838, 0.004034330602735281, 0.004032634198665619, 0.0040119243785738945, 0.004011685959994793, 0.003990712575614452, 0.0039849779568612576, 0.00392691045999527, 0.003926830366253853, 0.003913448192179203, 0.0038897644262760878, 0.0038575183134526014, 0.0038496702909469604, 0.0038134499918669462, 0.003809643443673849, 0.0038025728426873684, 0.003796061035245657, 0.0037938605528324842, 0.0037560625933110714, 0.0037396661937236786, 0.003713419195264578, 0.0037089362740516663, 0.003691847203299403, 0.0036825290881097317, 0.003674047766253352, 0.0036368519067764282, 0.0036239377222955227, 0.0035974509082734585, 0.003596937982365489, 0.0035839553456753492, 0.003582631703466177, 0.0035797767341136932, 0.003528119530528784, 0.0035156558733433485, 0.0035050518345087767, 0.003458666382357478, 0.00342511641792953, 0.0034093211870640516, 0.003395108040422201, 0.0033673695288598537, 0.003346893936395645, 0.003336337860673666, 0.003330643754452467, 0.003283990081399679, 0.0032714195549488068, 0.0032541356049478054, 0.0032462149392813444, 0.003233341034501791, 0.003189368871971965, 0.0031499764882028103, 0.0031470831017941236, 0.0031433547846972942, 0.003124341368675232, 0.0031010310631245375, 0.0030900153797119856, 0.00307646906003356, 0.0030389330349862576, 0.003037726040929556, 0.00303630530834198, 0.003034549532458186, 0.003022710559889674, 0.0030216034501791, 0.003013620851561427, 0.0030109479557722807, 0.00300564500503242, 0.0029938097577542067, 0.0029674931429326534, 0.002962584374472499, 0.0028967387042939663, 0.002893976867198944, 0.00287086283788085, 0.002848209347575903, 0.0028403899632394314, 0.0028318713884800673, 0.0028195183258503675, 0.0028170174919068813, 0.002760703442618251, 0.002706880448386073, 0.002697788178920746, 0.002690459368750453, 0.0026296775322407484, 0.002622892614454031, 0.0026203717570751905, 0.002605704590678215, 0.002595677971839905, 0.002589608309790492, 0.002574354410171509, 0.002573582110926509, 0.002572809811681509, 0.0025712712667882442, 0.0025598022621124983, 0.002544698305428028, 0.002541518537327647, 0.002538193017244339, 0.0025288579054176807, 0.0025272369384765625, 0.0025263167917728424, 0.0025168261490762234, 0.0025042674969881773, 0.0025028190575540066, 0.002463068813085556, 0.0024589113891124725, 0.002449929714202881, 0.002414946909993887, 0.0024028222542256117, 0.0023942324332892895, 0.0023718427401036024, 0.0023692622780799866, 0.002344070700928569, 0.0023410795256495476, 0.00234067440032959, 0.0023364578373730183, 0.002333572832867503, 0.002309118863195181, 0.0022813405375927687, 0.002272325335070491, 0.002267187926918268, 0.002267062198370695, 0.0022628228180110455, 0.002256619744002819, 0.0022366917692124844, 0.002220881637185812, 0.0022135134786367416, 0.0022110678255558014, 0.0021980376914143562, 0.0021966672502458096, 0.0021918579004704952, 0.002190468367189169, 0.0021719783544540405, 0.002169287297874689, 0.0021690931171178818, 0.002167485421523452, 0.002167385071516037, 0.0021606232039630413, 0.0021534464322030544, 0.002151351422071457, 0.0021397448144853115, 0.0021321377716958523, 0.00212589162401855, 0.0021242774091660976, 0.002120377030223608, 0.0021067135967314243, 0.002100287703797221, 0.002078646793961525, 0.0020731384865939617, 0.0020629349164664745, 0.002059299498796463, 0.0020504072308540344, 0.0020481660030782223, 0.0020374557934701443, 0.0020329728722572327, 0.00203245272859931, 0.0020084045827388763, 0.002003096044063568, 0.0019665160216391087, 0.0019613360054790974, 0.00196114182472229, 0.0019330817740410566, 0.0019244434079155326, 0.001917914836667478, 0.0018953060498461127, 0.0018866769969463348, 0.0018801441183313727, 0.0018700684886425734, 0.0018684864044189453, 0.0018664002418518066, 0.0018621832132339478, 0.0018613934516906738, 0.0018599722534418106, 0.0018466617912054062, 0.00184117432218045, 0.0018391699995845556, 0.0018334088381379843, 0.0018324566772207618, 0.0018293596804141998, 0.0018270593136548996, 0.0018186084926128387, 0.0018098056316375732, 0.0017963657155632973, 0.0017625379841774702, 0.0017452314496040344, 0.001741963205859065, 0.00174037367105484, 0.0017375946044921875, 0.001732816337607801, 0.0017137726536020637, 0.001708190655335784, 0.0016916636377573013, 0.0016895979642868042, 0.0016893213614821434, 0.0016856552101671696, 0.0016788120847195387, 0.0016652420163154602, 0.0016613416373729706, 0.0016506500542163849, 0.0016401668544858694, 0.0016334082465618849, 0.00163261778652668, 0.001626408426091075, 0.00162244844250381, 0.0016218188684433699, 0.0016057261964306235, 0.0016049544792622328, 0.0015817980747669935, 0.0015799603424966335, 0.0015759877860546112, 0.0015685521066188812, 0.0015582814812660217, 0.0015582777559757233, 0.0015564648201689124, 0.0015505291521549225, 0.0015398114919662476, 0.0015320803504437208, 0.0015289213042706251, 0.0015262998640537262, 0.001524692284874618, 0.0015208274126052856, 0.0015174489235505462, 0.0015169568359851837, 0.0015127758961170912, 0.0015088071813806891, 0.0015073884278535843, 0.0015059126308187842, 0.001503450213931501, 0.0014944782014936209, 0.0014884223928675056, 0.0014804776292294264, 0.0014668311923742294, 0.0014646202325820923, 0.0014526760205626488, 0.0014489389723166823, 0.0014483637642115355, 0.001437366008758545, 0.0014292399864643812, 0.0014283297350630164, 0.001423301175236702, 0.0014139193808659911, 0.0014059401582926512, 0.0013863047352060676, 0.0013851741096004844, 0.0013798922300338745, 0.00137367844581604, 0.0013728117337450385, 0.0013724174350500107, 0.0013723650481551886, 0.0013679862022399902, 0.0013583141844719648, 0.0013443257194012403, 0.0013438466703519225, 0.0013326903572306037, 0.0013191200559958816, 0.0012995688011869788, 0.0012954201083630323, 0.0012939595617353916, 0.0012858584523200989, 0.001283989055082202, 0.0012819841504096985, 0.0012666210532188416, 0.0012541767209768295, 0.00124458409845829, 0.0012368796160444617, 0.001236471114680171, 0.001221252023242414, 0.0012190090492367744, 0.0012171771377325058, 0.0012135468423366547, 0.001210876158438623, 0.0012098029255867004, 0.0012088518124073744, 0.0012070536613464355, 0.001205751090310514, 0.0012034218525514007, 0.0011991839855909348, 0.0011958777904510498, 0.0011923834681510925, 0.0011742773931473494, 0.001171500189229846, 0.0011698815505951643, 0.0011578149860724807, 0.001154869794845581, 0.0011464457493275404, 0.0011420994997024536, 0.0011326621752232313, 0.0011301388731226325, 0.0011219208827242255, 0.001121828332543373, 0.0011136066168546677, 0.0011126201134175062, 0.0011124934535473585, 0.0011033788323402405, 0.0010977586498484015, 0.0010864933719858527, 0.0010736187687143683, 0.00107337418012321, 0.001071720733307302, 0.0010690938215702772, 0.0010664016008377075, 0.0010584022384136915, 0.001040033996105194, 0.0010399905731901526, 0.0010359426960349083, 0.0010337482672184706, 0.001031346619129181, 0.001026798039674759, 0.0010158445220440626, 0.0009905572514981031, 0.0009903914760798216, 0.000987337320111692, 0.0009823038708418608, 0.000977798132225871, 0.0009670414729043841, 0.0009669612045399845, 0.0009638717165216804, 0.0009586320957168937, 0.0009513087570667267, 0.0009323153644800186, 0.0009276028722524643, 0.0009202460641972721, 0.0009072994580492377, 0.000897144665941596, 0.0008965690503828228, 0.0008956740493886173, 0.0008794069290161133, 0.0008778895135037601, 0.0008715937728993595, 0.0008681205799803138, 0.0008669992676004767, 0.0008599559660069644, 0.0008486248552799225, 0.0008467361330986023, 0.0008399629732593894, 0.0008311470737680793, 0.0008131915237754583, 0.0008068680763244629, 0.0008045310969464481, 0.0008039760286919773, 0.0008001573150977492, 0.0007967650890350342, 0.0007955090841278434, 0.0007923754747025669, 0.000786270946264267, 0.000779947149567306, 0.0007764673209749162, 0.0007741606095805764, 0.0007657743990421295, 0.0007616076618432999, 0.0007596610812470317, 0.0007560414960607886, 0.0007261758437380195, 0.0007241684943437576, 0.0007208702154457569, 0.0007192747434601188, 0.0007038476760499179, 0.0006978915771469474, 0.0006842719158157706, 0.000679254881106317, 0.0006791949272155762, 0.0006773603963665664, 0.0006744048441760242, 0.000668548047542572, 0.0006650799768976867, 0.0006635402096435428, 0.000661446712911129, 0.000659660785458982, 0.0006559520843438804, 0.0006513057160191238, 0.0006485457415692508, 0.0006437736446969211, 0.0006345293368212879, 0.0006286582793109119, 0.0006260814843699336, 0.0006255271728150547, 0.0006179343909025192, 0.0006147726671770215, 0.0006130288238637149, 0.0006060401792638004, 0.0006059507722966373, 0.00060516397934407, 0.0005998392589390278, 0.0005967406323179603, 0.0005929935723543167, 0.0005795353790745139, 0.0005789002170786262, 0.0005776038160547614, 0.0005771312862634659, 0.0005766066606156528, 0.0005745775997638702, 0.0005739963380619884, 0.000572866469155997, 0.0005696664447896183, 0.0005633881082758307, 0.0005614670808427036, 0.0005613788962364197, 0.0005608648061752319, 0.0005551527137868106, 0.0005531547358259559, 0.0005505016888491809, 0.0005500254919752479, 0.0005450649186968803, 0.0005433782935142517, 0.0005433424958027899, 0.000539661617949605, 0.0005393284372985363, 0.0005365225370042026, 0.0005361897638067603, 0.000536111241672188, 0.0005361040821298957, 0.0005336552858352661, 0.0005310364067554474, 0.0005307607352733612, 0.0005270695546641946, 0.0005254186689853668, 0.0005219479789957404, 0.0005161833832971752, 0.0005129514029249549, 0.0005128085613250732, 0.0005090627819299698, 0.0005083344876766205, 0.0005068978061899543, 0.0005018478841520846, 0.0004962782259099185, 0.0004905113019049168, 0.00048750764108262956, 0.0004839153843931854, 0.00048230713582597673, 0.0004805745556950569, 0.00047983633703552186, 0.0004773697583004832, 0.00047566433204337955, 0.00047554326010867953, 0.0004747905768454075, 0.0004746783524751663, 0.00047232460929080844, 0.0004633761418517679, 0.00045981258153915405, 0.00045945620513521135, 0.0004549473524093628, 0.0004542553797364235, 0.0004518457571975887, 0.00044774264097213745, 0.00044730803347192705, 0.00044511357555165887, 0.00044089308357797563, 0.0004408136010169983, 0.00044067081762477756, 0.00044034732854925096, 0.0004395056457724422, 0.0004342279280535877, 0.0004291286168154329, 0.0004268971679266542, 0.0004237654502503574, 0.0004216929373797029, 0.0004170684260316193, 0.00041661536670289934, 0.00041617205715738237, 0.00041519603109918535, 0.0004101991653442383, 0.0004079782811459154, 0.0004066911933477968, 0.0003890668449457735, 0.0003840153513010591, 0.00038148672319948673, 0.00037919607711955905, 0.0003780344850383699, 0.00037588179111480713, 0.0003738204832188785, 0.0003694171900860965, 0.0003684423863887787, 0.00036792521132156253, 0.0003664380346890539, 0.0003625328536145389, 0.0003538569435477257, 0.00035350522375665605, 0.00035317864967510104, 0.0003467078204266727, 0.00034626200795173645, 0.00034449747181497514, 0.00034315139055252075, 0.000342709943652153, 0.00033231390989385545, 0.00032791573903523386, 0.00032555064535699785, 0.00032317391014657915, 0.0003195951576344669, 0.000317894562613219, 0.0003149335680063814, 0.00031195301562547684, 0.0003074873238801956, 0.0003059264272451401, 0.00029715406708419323, 0.0002970031346194446, 0.0002911302144639194, 0.0002907525049522519, 0.0002892849443014711, 0.0002877983497455716, 0.0002865591086447239, 0.0002859880623873323, 0.00028448342345654964, 0.00028283236315473914, 0.00028206658316776156, 0.0002750704879872501, 0.0002690677938517183, 0.00026568275643512607, 0.0002640746533870697, 0.0002629732189234346, 0.00026248893118463457, 0.00026246285415254533, 0.00025598955107852817, 0.00025594548787921667, 0.00025290390476584435, 0.0002517888497095555, 0.0002516905660741031, 0.00025075487792491913, 0.00025003653718158603, 0.000243406742811203, 0.00024253534502349794, 0.00023653730750083923, 0.00023433993919752538, 0.00023291571415029466, 0.00022745257592760026, 0.00022648453887086362, 0.00022564797836821526, 0.00022484971850644797, 0.00022289156913757324, 0.00022100223577581346, 0.00021929395734332502, 0.00021642881620209664, 0.00021221127826720476, 0.00021115066192578524, 0.00020618240523617715, 0.0002061377017525956, 0.0002039242535829544, 0.00020227830100338906, 0.00019898018217645586, 0.0001977086067199707, 0.00019444464123807847, 0.0001921132206916809, 0.00018335692584514618, 0.00018084837938658893, 0.00017823404050432146, 0.00017769201076589525, 0.000177208028617315, 0.00017596533871255815, 0.00016943676746450365, 0.00016603122639935464, 0.0001597289665369317, 0.00015769456513226032, 0.00015757232904434204, 0.0001568109728395939, 0.00015625117521267384, 0.0001530499866930768, 0.0001507041451986879, 0.00014941705740056932, 0.0001475401222705841, 0.00014510289474856108, 0.00014496836229227483, 0.00014228995132725686, 0.00013625754218082875, 0.00013588803994935006, 0.00013255421072244644, 0.00013032121933065355, 0.00012449920177459717, 0.00012305830023251474, 0.00012135505676269531, 0.00012006144970655441, 0.00011975543748121709, 0.00011946509766858071, 0.00011940037074964494, 0.00011895038187503815, 0.000114200018288102, 0.00011240660387557, 0.00011070290202042088, 0.00010748192289611325, 0.00010545551776885986, 0.00010335988918086514, 0.00010024500079452991, 9.664792742114514e-05, 9.61969344643876e-05, 9.566119115334004e-05, 9.329617023468018e-05, 9.075304114958271e-05, 8.74549150466919e-05, 8.151929068844765e-05, 8.080096449702978e-05, 8.059728133957833e-05, 7.925834506750107e-05, 7.571901369374245e-05, 7.303990423679352e-05, 6.985633808653802e-05, 6.922234024386853e-05, 6.722907710354775e-05, 6.367266178131104e-05, 6.243532698135823e-05, 6.111463153501973e-05, 6.081908941268921e-05, 5.78761100769043e-05, 5.567667540162802e-05, 5.265302024781704e-05, 5.14922066940926e-05, 5.114451050758362e-05, 4.711312794825062e-05, 4.600733518600464e-05, 4.5866938307881355e-05, 4.444884689291939e-05, 4.443495345185511e-05, 4.333506149123423e-05, 4.204743163427338e-05, 4.1262635932071134e-05, 4.0191614971263334e-05, 3.978769382229075e-05, 3.940612077713013e-05, 3.823762381216511e-05, 3.792593997786753e-05, 3.4976132155861706e-05, 3.4967437386512756e-05, 3.4825374314095825e-05, 3.1810253858566284e-05, 2.7855083317263052e-05, 2.77856997854542e-05, 2.772017614915967e-05, 2.6213199816993438e-05, 2.6119223548448645e-05, 2.554070670157671e-05, 2.5289755285484716e-05, 2.374313771724701e-05, 2.3467873688787222e-05, 2.2960302885621786e-05, 2.2154883481562138e-05, 2.1774647393613122e-05, 2.1354606360546313e-05, 2.1098803699715063e-05, 2.104333179886453e-05, 2.0605610188795254e-05, 2.0511395632638596e-05, 2.0313387722126208e-05, 2.0157425751676783e-05, 1.999910455197096e-05, 1.9925089873140678e-05, 1.971379060705658e-05, 1.958261964318808e-05, 1.9580029402277432e-05, 1.953414175659418e-05, 1.9401657482376322e-05, 1.9390543457120657e-05, 1.908605008793529e-05, 1.9051291019422933e-05, 1.8892209482146427e-05, 1.8851231288863346e-05, 1.8609422113513574e-05, 1.8523249309509993e-05, 1.8462567823007703e-05, 1.826220250222832e-05, 1.825010076572653e-05, 1.80528932105517e-05, 1.7972764908336103e-05, 1.796754622773733e-05, 1.78972513822373e-05, 1.779459671524819e-05, 1.7118112737080082e-05, 1.6883646821952425e-05, 1.671499921940267e-05, 1.6361489542759955e-05, 1.6348651115549728e-05, 1.6347394193871878e-05, 1.6013724234653637e-05, 1.5787421943969093e-05, 1.5337263903347775e-05, 1.528979919385165e-05, 1.5122035620152019e-05, 1.5073868780746125e-05, 1.5025338143459521e-05, 1.4739669495611452e-05, 1.4719946193508804e-05, 1.4285091310739517e-05, 1.4265626305132173e-05, 1.4074360478844028e-05, 1.4068321434024256e-05, 1.3897491953684948e-05, 1.3845866305928212e-05, 1.366188189422246e-05, 1.3551229130825959e-05, 1.3437626876111608e-05, 1.2734546544379555e-05, 1.271069049835205e-05, 1.2369206160656177e-05, 1.1994939995929599e-05, 1.122169487643987e-05, 1.1094691217294894e-05, 1.0465815648785792e-05, 1.0417774319648743e-05, 1.0263174772262573e-05, 9.592399692337494e-06, 8.913407327781897e-06, 8.552490726287942e-06, 8.443405022262596e-06, 8.107474059215747e-06, 7.955473847687244e-06, 7.902845936769154e-06, 7.891756467870437e-06, 7.891212590038776e-06, 7.552405349997571e-06, 7.1505928644910455e-06, 6.450844921346288e-06, 6.4234873207169585e-06, 6.2962062656879425e-06, 6.2220597101259045e-06, 5.610287189483643e-06, 5.555533334700158e-06, 4.470193289307645e-06, 4.4163621168991085e-06, 4.0862555579224136e-06, 4.0700542740523815e-06, 4.037821781821549e-06, 2.8905149065394653e-06, 2.868063802452525e-06, 2.211204900959274e-06, 2.0628747279261006e-06, 1.5342557162512094e-06, 1.3768319604423596e-06, 1.354951905341295e-06, 1.0363995670559234e-06, 8.640660666969779e-07, 8.38047242268658e-07, 8.302437777274463e-07, 7.855633157305419e-07, 7.189786401795573e-07, 6.942597678971651e-07, 6.389867621692247e-07, 6.261167868615303e-07, 5.334150046110153e-07, 4.769923975800339e-07, 4.2247120290994644e-07, 4.1214661905542016e-07, 3.4108234103769064e-07, 2.5823101168498397e-07, 2.296825840630845e-07, 2.2523212805936055e-07, 1.4537849324369745e-07, 1.1431742308332105e-07, 1.0172759346005478e-07, 9.750026208621421e-08, 7.749622454866767e-08, 6.934715202078223e-08, 2.771654905586729e-08, 3.4221254718858063e-09, 6.74238775921765e-10, -2.716357627718935e-08]\n"
     ]
    }
   ],
   "source": [
    "print(len(result_trigger))\n",
    "print(min(result_trigger))\n",
    "print(max(result_trigger))\n",
    "print(sorted(result_trigger,reverse=True))\n",
    "print(max(result_clean))\n",
    "print(sorted(result_clean,reverse=True))"
   ]
  },
  {
   "cell_type": "code",
   "execution_count": 25,
   "metadata": {},
   "outputs": [
    {
     "data": {
      "image/png": "[encoded data removed]",
      "text/plain": [
       "<Figure size 1000x500 with 1 Axes>"
      ]
     },
     "metadata": {},
     "output_type": "display_data"
    }
   ],
   "source": [
    "import matplotlib.pyplot as plt\n",
    "\n",
    "# Ensure you have your data loaded in result_clean and result_trigger\n",
    "# Example: result_clean = [1, 2, 3], result_trigger = [3, 2, 1]\n",
    "# result_trigger = [x for x in result_trigger if x < 0.8 and x>0.2]\n",
    "# result_clean = [x for x in result_clean if x < 2 and x>0.2]\n",
    "\n",
    "# plt.figure(figsize=(10, 5))\n",
    "\n",
    "# plt.hist(result_trigger, alpha=0.7, bins=10, label='Trigger Edge',density=True)\n",
    "# # plt.hist(result_trigger, alpha=0.7, bins=10, label='Trigger Data')\n",
    "\n",
    "# plt.hist(result_clean, alpha=0.7, bins=10, label='Clean Edge',density=True)\n",
    "# # plt.hist(result_clean, alpha=0.7, bins=10, label='Clean Data')\n",
    "\n",
    "\n",
    "# # plt.title('Histogram of Clean and Trigger Data')\n",
    "# plt.xlabel('Prediction Variance')\n",
    "# plt.ylabel('Frequency')\n",
    "# plt.legend()\n",
    "# plt.grid(True)\n",
    "\n",
    "# # Save the plot before displaying it\n",
    "# plt.savefig('cora.pdf')\n",
    "\n",
    "# # Display the plot\n",
    "# plt.show()\n",
    "plt.figure(figsize=(10, 5))\n",
    "\n",
    "plt.hist(result_trigger, alpha=0.7, bins=10, label='Trigger Edges', density=True)\n",
    "plt.hist(result_clean, alpha=0.7, bins=10, label='Clean Edges', density=True)\n",
    "\n",
    "plt.xlabel('Prediction Variance',fontsize=16)\n",
    "plt.ylabel('Frequency',fontsize=16)\n",
    "\n",
    "# Adjust x and y ticks\n",
    "plt.xticks(fontsize=16)\n",
    "plt.yticks(fontsize=16)\n",
    "\n",
    "plt.legend(fontsize=16)\n",
    "plt.grid(True)\n",
    "\n",
    "# Add a caption below the figure\n",
    "# plt.figtext(0.5, -0.05, 'Comparison of prediction variance due to trigger edges drop and clean edges drop.', wrap=True, horizontalalignment='center', fontsize=14)\n",
    "\n",
    "# Save the plot before displaying it\n",
    "plt.savefig('cora.pdf')\n",
    "\n",
    "# Display the plot\n",
    "plt.show()"
   ]
  },
  {
   "cell_type": "code",
   "execution_count": null,
   "metadata": {},
   "outputs": [],
   "source": []
  },
  {
   "cell_type": "code",
   "execution_count": 26,
   "metadata": {},
   "outputs": [],
   "source": [
    "# result_clean=[]\n",
    "# for node_id in idx_train[:10000]:\n",
    "#     node_id = node_id.item()\n",
    "#     subset, edge_index, mapping, edge_mask = k_hop_subgraph(node_id, 2, poison_edge_index, relabel_nodes=False)\n",
    "#     loop_edges = edge_index[:, edge_index[0] == node_id]\n",
    "#     non_loop_edges = edge_index[:, edge_index[0] != node_id]\n",
    "\n",
    "#     selected_x = poison_x[subset]\n",
    "    \n",
    "#     for i in range(loop_edges.size(1)):\n",
    "#         # Current loop edge to remove\n",
    "#         current_loop_edge = loop_edges[:, i]\n",
    "\n",
    "#         # Find indices of the current loop edge and its reverse\n",
    "#         forward_edge_mask = (edge_index[0] == current_loop_edge[0]) & (edge_index[1] == current_loop_edge[1])\n",
    "#         reverse_edge_mask = (edge_index[0] == current_loop_edge[1]) & (edge_index[1] == current_loop_edge[0])\n",
    "\n",
    "#         # Combine masks for forward and reverse edges\n",
    "#         combined_mask = forward_edge_mask | reverse_edge_mask\n",
    "\n",
    "#         # Remove both forward and reverse edges from the graph\n",
    "#         modified_edge_index = edge_index[:, ~combined_mask]\n",
    "\n",
    "#         edge_weights = torch.ones(modified_edge_index.size(1), dtype=torch.float, device=device)\n",
    "\n",
    "#         output, x = test_model(poison_x, modified_edge_index, edge_weights)\n",
    "#         output = output[node_id]\n",
    "#         output = torch.exp(output)\n",
    "#         output += epsilon\n",
    "#         deviation = F.kl_div(output.log(), output_clean[node_id], reduce=False)\n",
    "#         result_clean.append(deviation.mean().item())\n",
    "#         print(deviation.mean().item())\n",
    "# print(result_clean)\n"
   ]
  },
  {
   "cell_type": "code",
   "execution_count": 27,
   "metadata": {},
   "outputs": [],
   "source": [
    "# result_trigger = []\n",
    "# for node_id in idx_attach:\n",
    "#     node_id = node_id.item()\n",
    "#     subset, edge_index, mapping, edge_mask = k_hop_subgraph(node_id, 2, poison_edge_index, relabel_nodes=False)\n",
    "#     loop_edges = edge_index[:, edge_index[0] == node_id]\n",
    "#     non_loop_edges = edge_index[:, edge_index[0] != node_id]\n",
    "\n",
    "#     selected_x = poison_x[subset]\n",
    "    \n",
    "#     for i in range(loop_edges.size(1)):\n",
    "#         # Current loop edge to remove\n",
    "#         current_loop_edge = loop_edges[:, i]\n",
    "\n",
    "#         # Find indices of the current loop edge and its reverse\n",
    "#         forward_edge_mask = (edge_index[0] == current_loop_edge[0]) & (edge_index[1] == current_loop_edge[1])\n",
    "#         reverse_edge_mask = (edge_index[0] == current_loop_edge[1]) & (edge_index[1] == current_loop_edge[0])\n",
    "\n",
    "#         # Combine masks for forward and reverse edges\n",
    "#         combined_mask = forward_edge_mask | reverse_edge_mask\n",
    "\n",
    "#         # Remove both forward and reverse edges from the graph\n",
    "#         modified_edge_index = edge_index[:, ~combined_mask]\n",
    "\n",
    "#         edge_weights = torch.ones(modified_edge_index.size(1), dtype=torch.float, device=device)\n",
    "\n",
    "#         output, x = test_model(poison_x, modified_edge_index, edge_weights)\n",
    "#         output = output[node_id]\n",
    "#         output = torch.exp(output)\n",
    "#         output += epsilon\n",
    "#         deviation = F.kl_div(output.log(), output_clean[node_id], reduce=False)\n",
    "        \n",
    "#         if loop_edges[:,i][1]>len(data.x):\n",
    "#             result_trigger.append(deviation.mean().item())\n",
    "#         else:\n",
    "#             print(deviation.mean().item())\n",
    "#             # result_clean.append(deviation.mean().item())\n",
    "\n",
    "#         result_trigger.append(deviation.mean().item())\n",
    "#         print(deviation.mean().item())\n",
    "# print(result_trigger)\n"
   ]
  },
  {
   "cell_type": "code",
   "execution_count": 28,
   "metadata": {},
   "outputs": [],
   "source": [
    "# import matplotlib.pyplot as plt\n",
    "\n",
    "# # Ensure you have your data loaded in result_clean and result_trigger\n",
    "# # Example: result_clean = [1, 2, 3], result_trigger = [3, 2, 1]\n",
    "\n",
    "# plt.figure(figsize=(10, 5))\n",
    "\n",
    "# plt.hist(result_trigger, alpha=0.7, bins=10, label='Trigger Data',density=True)\n",
    "# # plt.hist(result_trigger, alpha=0.7, bins=10, label='Trigger Data')\n",
    "\n",
    "# plt.hist(result_clean, alpha=0.7, bins=10, label='Clean Data',density=True)\n",
    "# # plt.hist(result_clean, alpha=0.7, bins=10, label='Clean Data')\n",
    "\n",
    "\n",
    "# plt.title('Histogram of Clean and Trigger Data')\n",
    "# plt.xlabel('Value')\n",
    "# plt.ylabel('Frequency')\n",
    "# plt.legend()\n",
    "# plt.grid(True)\n",
    "# plt.show()"
   ]
  },
  {
   "cell_type": "code",
   "execution_count": 29,
   "metadata": {},
   "outputs": [],
   "source": [
    "poison_labels[idx_attach] = args.target_class"
   ]
  },
  {
   "cell_type": "code",
   "execution_count": 30,
   "metadata": {},
   "outputs": [
    {
     "data": {
      "text/plain": [
       "24"
      ]
     },
     "execution_count": 30,
     "metadata": {},
     "output_type": "execute_result"
    }
   ],
   "source": [
    "len(idx_attach)"
   ]
  },
  {
   "cell_type": "code",
   "execution_count": 31,
   "metadata": {},
   "outputs": [
    {
     "name": "stdout",
     "output_type": "stream",
     "text": [
      "tensor([2, 2, 2, 2, 2, 2, 2, 2, 2, 2, 2, 2, 2, 2, 2, 2, 2, 2, 2, 2, 2, 2, 2, 2],\n",
      "       device='cuda:2')\n",
      "accuracy on clean test nodes: 0.0000\n"
     ]
    }
   ],
   "source": [
    "## retrain a model on purified graph ##\n",
    "\n",
    "# labels for target poisoned node before purified #\n",
    "print(poison_labels[idx_attach])\n",
    "\n",
    "# purifying #\n",
    "# for idx in index_of_less_robust:\n",
    "#     poison_labels[bkd_tn_nodes[idx]]=data.y[bkd_tn_nodes[idx]]\n",
    "# # poison_labels[idx_attach] = data.y[idx_attach]\n",
    "\n",
    "# # labels for target poisoned node after purified #\n",
    "# print(poison_labels[idx_attach])\n",
    "\n",
    "# retrain a model #s\n",
    "test_model = model_construct(args,args.test_model,data,device).to(device) \n",
    "test_model.fit(poison_x,poison_edge_index, poison_edge_weights, poison_labels, bkd_tn_nodes, idx_val,train_iters=args.epochs,verbose=False, finetune=True, attach=index_of_less_robust)\n",
    "\n",
    "## test model on purified graph (poisoned target node) ##\n",
    "clean_acc = test_model.test(poison_x,poison_edge_index, poison_edge_weights,poison_labels,idx_attach)\n",
    "\n",
    "print(\"accuracy on clean test nodes: {:.4f}\".format(clean_acc))"
   ]
  },
  {
   "cell_type": "code",
   "execution_count": 32,
   "metadata": {},
   "outputs": [
    {
     "name": "stdout",
     "output_type": "stream",
     "text": [
      "ASR: 0.2475\n",
      "Flip ASR: 0.0292/1198 nodes\n",
      "CA: 0.8417\n"
     ]
    }
   ],
   "source": [
    "# add a trigger detector #\n",
    "# assumption: backdoor attack's success is based on trigger pattern #\n",
    "# 1. outlier, trigger different to each other #\n",
    "# 2. in distribution, trigger similar to each other #\n",
    "# # in case, model trained on clean graph learn attack pattern #\n",
    "induct_edge_index = torch.cat([poison_edge_index,mask_edge_index],dim=1)\n",
    "induct_edge_weights = torch.cat([poison_edge_weights,torch.ones([mask_edge_index.shape[1]],dtype=torch.float,device=device)])\n",
    "induct_x, induct_edge_index,induct_edge_weights = model.inject_trigger(idx_atk,poison_x,induct_edge_index,induct_edge_weights,device)\n",
    "# induct_x, induct_edge_index,induct_edge_weights = model.inject_trigger(idx_attach,poison_x,induct_edge_index,induct_edge_weights,device)\n",
    "induct_x, induct_edge_index,induct_edge_weights = induct_x.clone().detach(), induct_edge_index.clone().detach(),induct_edge_weights.clone().detach()\n",
    "\n",
    "output, x = test_model(induct_x,induct_edge_index,induct_edge_weights)\n",
    "train_attach_rate = (output.argmax(dim=1)[idx_atk]==args.target_class).float().mean()\n",
    "# train_attach_rate = (output.argmax(dim=1)[idx_attach]==args.target_class).float().mean()\n",
    "print(\"ASR: {:.4f}\".format(train_attach_rate))\n",
    "asr = train_attach_rate\n",
    "flip_idx_atk = idx_atk[(data.y[idx_atk] != args.target_class).nonzero().flatten()]\n",
    "flip_asr = (output.argmax(dim=1)[flip_idx_atk]==args.target_class).float().mean()\n",
    "print(\"Flip ASR: {:.4f}/{} nodes\".format(flip_asr,flip_idx_atk.shape[0]))\n",
    "ca = test_model.test(induct_x,induct_edge_index,induct_edge_weights,data.y,idx_clean_test)\n",
    "print(\"CA: {:.4f}\".format(ca))"
   ]
  },
  {
   "cell_type": "code",
   "execution_count": 33,
   "metadata": {},
   "outputs": [
    {
     "data": {
      "text/plain": [
       "tensor([1, 0, 1, 2, 2, 0, 1, 1, 1, 0, 1, 2, 1, 0, 1, 1, 1, 2, 1, 1, 1, 0, 1, 1,\n",
       "        2, 0, 1, 1, 1, 1, 2, 1, 1, 1, 2, 1, 2, 1, 1, 1, 1, 2, 0, 1, 2, 1, 1, 1,\n",
       "        2, 0, 1, 1, 0, 1, 1, 2, 1, 0, 0, 2, 1, 1, 1, 0, 1, 1, 1, 0, 1, 0, 2, 1,\n",
       "        0, 1, 2, 2, 1, 1, 2, 1, 1, 2, 1, 1, 1, 2, 2, 0, 2, 2, 1, 1, 1, 2, 2, 1,\n",
       "        1, 2, 1, 2, 2, 1, 1, 2, 0, 1, 1, 1, 1, 1, 2, 2, 1, 1, 0, 1, 2, 2, 2, 1,\n",
       "        2, 2, 0, 1, 0, 2, 2, 1, 1, 2, 2, 1, 0, 2, 0, 1, 0, 1, 0, 2, 1, 2, 1, 1,\n",
       "        0, 0, 1, 1, 1, 1, 1, 2, 0, 1, 1, 0, 2, 1, 2, 1, 1, 1, 1, 1, 0, 0, 1, 2,\n",
       "        1, 1, 2, 0, 1, 1, 1, 1, 2, 1, 1, 1, 2, 1, 1, 1, 0, 2, 1, 1, 1, 1, 0, 2,\n",
       "        1, 1, 1, 1, 1, 1, 2, 1, 2, 1, 1, 1, 1, 2, 0, 1, 1, 1, 1, 2, 2, 2, 0, 0,\n",
       "        0, 1, 0, 0, 2, 1, 0, 2, 1, 0, 1, 1, 0, 1, 1, 1, 2, 0, 1, 2, 0, 1, 2, 1,\n",
       "        1, 1, 2, 1, 1, 2, 2, 2, 1, 1, 0, 1, 0, 2, 2, 1, 2, 1, 1, 1, 0, 2, 2, 1,\n",
       "        2, 0, 0, 1, 2, 1, 0, 1, 1, 2, 1, 0, 1, 1, 2, 2, 2, 1, 2, 2, 2, 1, 1, 1,\n",
       "        1, 1, 2, 1, 2, 1, 0, 1, 1, 0, 1, 0, 1, 1, 1, 1, 1, 1, 2, 2, 1, 1, 0, 1,\n",
       "        2, 0, 1, 2, 1, 1, 1, 0, 2, 1, 1, 1, 1, 1, 0, 0, 1, 1, 0, 1, 1, 2, 0, 0,\n",
       "        1, 1, 2, 2, 2, 1, 1, 1, 2, 1, 1, 1, 1, 0, 1, 1, 1, 2, 1, 1, 1, 1, 1, 2,\n",
       "        1, 2, 0, 1, 1, 2, 1, 0, 1, 2, 0, 1, 1, 1, 1, 1, 1, 1, 0, 1, 1, 2, 1, 1,\n",
       "        1, 1, 1, 1, 0, 2, 1, 2, 1, 0, 2, 2, 0, 1, 1, 1, 1, 0, 1, 1, 0, 2, 0, 0,\n",
       "        1, 2, 2, 1, 1, 0, 2, 0, 1, 1, 2, 1, 1, 1, 1, 2, 1, 1, 2, 1, 2, 0, 0, 2,\n",
       "        1, 1, 2, 1, 2, 2, 0, 0, 1, 0, 1, 1, 1, 1, 2, 0, 1, 1, 1, 2, 1, 0, 2, 2,\n",
       "        1, 1, 1, 1, 1, 1, 1, 2, 0, 0, 1, 2, 1, 1, 1, 1, 1, 1, 1, 0, 1, 2, 1, 1,\n",
       "        1, 1, 1, 1, 1, 2, 1, 1, 1, 1, 2, 0, 0, 2, 2, 1, 1, 0, 0, 1, 1, 0, 1, 2,\n",
       "        2, 1, 1, 2, 1, 1, 0, 1, 2, 1, 1, 1, 1, 0, 1, 1, 2, 1, 1, 2, 2, 1, 1, 1,\n",
       "        1, 1, 0, 0, 2, 1, 1, 2, 1, 1, 1, 1, 2, 1, 1, 0, 0, 1, 1, 1, 0, 0, 1, 1,\n",
       "        1, 1, 1, 1, 1, 0, 1, 1, 2, 2, 1, 2, 0, 1, 1, 2, 0, 0, 2, 1, 1, 1, 1, 1,\n",
       "        0, 1, 1, 2, 1, 1, 2, 2, 0, 0, 0, 1, 1, 1, 1, 2, 1, 1, 2, 1, 1, 1, 2, 2,\n",
       "        1, 2, 1, 0, 1, 1, 1, 1, 0, 1, 1, 0, 1, 1, 1, 2, 0, 1, 2, 1, 1, 2, 2, 1,\n",
       "        1, 1, 2, 1, 2, 0, 0, 0, 2, 1, 1, 1, 1, 1, 0, 2, 0, 0, 0, 1, 1, 2, 2, 1,\n",
       "        2, 1, 0, 1, 1, 0, 0, 2, 1, 2, 2, 0, 1, 1, 2, 2, 1, 1, 2, 1, 0, 1, 0, 2,\n",
       "        2, 1, 0, 2, 1, 1, 1, 2, 2, 1, 0, 1, 1, 0, 1, 1, 1, 1, 1, 0, 1, 1, 1, 0,\n",
       "        1, 1, 1, 0, 1, 0, 2, 2, 0, 1, 2, 1, 1, 1, 1, 1, 2, 1, 2, 1, 2, 1, 1, 2,\n",
       "        1, 1, 2, 2, 1, 2, 1, 2, 1, 1, 0, 1, 1, 1, 1, 1, 2, 1, 0, 1, 2, 0, 2, 1,\n",
       "        2, 1, 1, 2, 1, 2, 0, 0, 0, 2, 1, 2, 1, 1, 0, 0, 1, 1, 1, 1, 2, 1, 0, 1,\n",
       "        1, 1, 1, 1, 1, 2, 2, 1, 2, 2, 1, 1, 1, 1, 1, 2, 1, 1, 1, 1, 1, 2, 1, 2,\n",
       "        1, 1, 0, 2, 0, 1, 2, 2, 1, 1, 1, 1, 2, 1, 2, 1, 1, 1, 1, 2, 1, 2, 0, 0,\n",
       "        1, 0, 1, 0, 2, 2, 1, 2, 2, 2, 0, 0, 0, 1, 1, 2, 0, 1, 1, 0, 2, 1, 2, 1,\n",
       "        1, 1, 1, 2, 2, 0, 2, 2, 1, 0, 1, 1, 2, 2, 2, 1, 1, 1, 0, 1, 1, 2, 2, 1,\n",
       "        1, 1, 1, 2, 0, 2, 2, 1, 0, 1, 1, 2, 1, 1, 0, 2, 2, 1, 2, 2, 2, 1, 1, 0,\n",
       "        1, 2, 2, 1, 1, 1, 1, 2, 1, 1, 1, 1, 2, 1, 2, 2, 1, 1, 1, 2, 2, 1, 1, 1,\n",
       "        2, 1, 1, 1, 1, 0, 0, 2, 2, 0, 2, 1, 1, 1, 1, 1, 2, 1, 1, 2, 2, 1, 1, 1,\n",
       "        2, 0, 2, 1, 1, 0, 0, 1, 0, 1, 1, 1, 1, 1, 1, 0, 0, 1, 1, 1, 1, 1, 2, 1,\n",
       "        1, 0, 2, 1, 1, 2, 2, 1, 1, 2, 1, 1, 2, 1, 1, 1, 1, 2, 1, 2, 2, 2, 1, 2,\n",
       "        1, 2, 2, 1, 1, 1, 1, 2, 0, 1, 2, 1, 0, 1, 0, 2, 1, 2, 2, 2, 2, 0, 0, 0,\n",
       "        2, 1, 1, 1, 1, 1, 1, 0, 0, 1, 2, 1, 0, 1, 2, 0, 1, 1, 2, 1, 0, 1, 2, 1,\n",
       "        1, 0, 0, 1, 1, 1, 0, 1, 1, 1, 2, 2, 1, 1, 1, 1, 1, 1, 0, 1, 1, 1, 1, 1,\n",
       "        1, 1, 2, 1, 0, 1, 2, 1, 1, 1, 1, 2, 0, 2, 2, 1, 1, 0, 1, 2, 2, 1, 1, 1,\n",
       "        1, 1, 1, 1, 1, 1, 0, 1, 2, 2, 1, 2, 1, 1, 0, 1, 2, 0, 0, 1, 1, 0, 2, 2,\n",
       "        2, 2, 0, 1, 1, 1, 1, 0, 1, 1, 0, 2, 0, 2, 1, 1, 0, 1, 2, 2, 1, 1, 1, 1,\n",
       "        0, 2, 1, 1, 1, 1, 0, 1, 1, 1, 1, 1, 1, 2, 2, 2, 2, 0, 2, 1, 1, 2, 2, 1,\n",
       "        1, 2, 2, 1, 0, 1, 1, 2, 1, 1, 1, 0, 1, 1, 0, 0, 0, 1, 2, 1, 1, 2, 0, 1,\n",
       "        1, 0, 1, 1, 0, 0, 1, 0, 2, 2, 2, 1, 0, 2, 1, 0, 2, 1, 1, 1, 1, 2, 1, 1,\n",
       "        1, 0, 0, 1, 1, 2, 2, 0, 1, 0, 0, 0, 1, 0, 0, 1, 1, 0, 1, 2, 1, 2, 2, 2,\n",
       "        1, 1, 2, 1, 2, 1, 1, 0, 2, 1, 2, 0, 1, 1, 2, 1, 2, 0, 1, 0, 2, 1, 1, 1,\n",
       "        1, 1, 0, 0, 2, 2, 1, 1, 2, 0, 1, 2, 0, 2, 1, 0, 1, 2, 1, 1, 1, 1, 1, 1,\n",
       "        1, 1, 0, 0, 1, 1, 1, 0, 2, 1, 2, 0, 0, 1, 1, 2, 2, 1, 1, 1, 2, 1, 1, 1,\n",
       "        1, 1, 1, 1, 1, 1, 1, 1, 1, 1, 1, 1, 1, 1, 1, 1, 1, 1, 1, 0, 2, 2, 1, 2,\n",
       "        1, 1, 1, 1, 1, 1, 1, 0, 1, 1, 0, 2, 0, 1, 1, 2, 1, 1, 1, 1, 1, 1, 1, 0,\n",
       "        2, 2, 1, 1, 1, 1, 1, 1, 1, 2, 2, 0, 1, 2, 1, 1, 1, 1, 0, 2, 2, 1, 0, 1,\n",
       "        1, 0, 0, 1, 1, 1, 1, 1, 0, 1, 1, 1, 0, 1, 1, 1, 2, 2, 1, 2, 1, 1, 2, 1,\n",
       "        1, 1, 1, 1, 0, 1, 1, 1, 1, 1, 1, 1, 2, 1, 1, 0, 0, 1, 0, 2, 1, 1, 1, 1,\n",
       "        1, 1, 1, 1, 1, 1, 2, 2, 1, 1, 1, 2, 2, 1, 2, 1, 0, 0, 1, 0, 0, 1, 2, 2,\n",
       "        1, 1, 1, 1, 2, 1, 1, 0, 2, 1, 1, 2, 1, 1, 2, 1, 0, 2, 1, 1, 2, 1, 1, 1,\n",
       "        1, 0, 2, 2, 1, 0, 0, 0, 0, 2, 1, 1, 1, 0, 1, 1, 0, 1, 0, 1, 1, 1, 1, 1,\n",
       "        0, 1, 1, 1, 1, 1, 1, 0, 1, 1, 2, 2, 1, 0, 0, 1, 2, 1, 1, 1, 0, 1, 1, 0,\n",
       "        1, 1, 0, 1, 1, 1, 1, 2, 2, 2, 1, 1, 1, 0, 0, 1, 1, 1, 1, 1, 1, 2, 1, 1,\n",
       "        1, 1, 2, 2, 2, 0, 2, 1, 1, 0, 2, 1, 1, 2, 2, 0, 0, 1, 2, 1, 1, 0, 1, 1,\n",
       "        0, 1, 0, 2, 1, 0, 1, 2, 1, 1, 2, 2, 1, 2, 1, 2, 1, 1, 1, 1, 2, 1, 1, 1,\n",
       "        1, 0, 0, 0, 1, 1, 2, 0, 1, 0, 0, 2, 0, 1, 2, 0, 1, 1, 0, 1, 1, 2, 1, 1,\n",
       "        0, 0, 0, 1, 0, 1, 0, 1, 1, 1, 2, 1, 1, 1, 2, 1, 0, 0, 1, 2, 1, 0, 0, 2,\n",
       "        2, 2, 1, 0, 1, 1, 1, 0, 1, 2, 0, 1, 1, 1, 1, 2, 1, 0, 2, 1, 1, 2, 1, 0,\n",
       "        1, 2, 2, 2, 1, 1, 1, 0, 2, 2, 2, 0, 1, 2, 2, 2, 2, 2, 2, 1, 1, 1, 2, 1,\n",
       "        1, 1, 1, 0, 1, 0, 0, 0, 2, 0, 0, 1, 1, 1, 1, 2, 1, 1, 2, 0, 0, 1, 1, 1,\n",
       "        0, 1, 0, 2, 0, 0, 1, 2, 1, 2, 1, 2, 1, 1, 1, 0, 1, 1, 1, 1, 1, 1, 2, 0,\n",
       "        1, 1, 0, 2, 1, 0, 1, 1, 1, 1, 0, 2, 1, 1, 2, 1, 1, 1, 2, 1, 1, 2, 1, 1,\n",
       "        1, 1, 1, 1, 2, 1, 0, 2, 2, 2, 2, 1, 1, 2, 2, 1, 1, 2, 1, 2, 0, 2, 1, 1,\n",
       "        0, 1, 1, 2, 2, 1, 2, 1, 1, 0, 2, 2, 2, 1, 1, 2, 0, 1, 1, 0, 2, 1, 1, 1,\n",
       "        2, 2, 2, 1, 1, 0, 2, 2, 0, 2, 1, 0, 2, 1, 1, 1, 2, 0, 2, 1, 1, 0, 1, 1,\n",
       "        2, 2, 1, 1, 1, 1, 2, 1, 1, 1, 1, 2, 1, 0, 1, 1, 1, 1, 1, 2, 0, 1, 1, 2,\n",
       "        1, 1, 2, 1, 0, 0, 1, 1, 1, 1, 0, 1, 1, 1, 1, 1, 0, 1, 1, 1, 2, 1, 1, 1,\n",
       "        1, 1, 1, 2, 2, 0, 0, 1, 0, 1, 1, 1, 1, 1, 1, 1, 1, 1, 2, 1, 1, 1, 2, 1,\n",
       "        1, 2, 2, 1, 1, 0, 2, 2, 1, 1, 1, 1, 1, 1, 1, 2, 2, 0, 2, 1, 1, 0, 1, 1,\n",
       "        2, 1, 1, 1, 1, 1, 1, 2, 2, 1, 1, 1, 1, 0, 0, 0, 1, 1, 1, 1, 1, 2, 1, 2,\n",
       "        0, 1, 1, 1, 1, 1, 2, 0, 2, 0, 1, 1, 1, 1, 1, 1, 2, 1, 2, 1, 1, 1, 1, 0,\n",
       "        1, 2, 1, 1], device='cuda:2')"
      ]
     },
     "execution_count": 33,
     "metadata": {},
     "output_type": "execute_result"
    }
   ],
   "source": [
    "output.argmax(dim=1)[idx_atk]"
   ]
  },
  {
   "cell_type": "code",
   "execution_count": 34,
   "metadata": {},
   "outputs": [
    {
     "data": {
      "text/plain": [
       "tensor([[4.1992e-02, 8.4388e-01, 1.1413e-01],\n",
       "        [1.6817e-02, 7.8863e-02, 9.0432e-01],\n",
       "        [4.0871e-02, 8.8127e-01, 7.7855e-02],\n",
       "        [2.9108e-01, 6.7536e-01, 3.3568e-02],\n",
       "        [6.2516e-01, 2.9115e-01, 8.3690e-02],\n",
       "        [9.1219e-01, 2.5170e-02, 6.2643e-02],\n",
       "        [5.2304e-03, 1.0460e-01, 8.9017e-01],\n",
       "        [3.7861e-01, 6.2069e-01, 7.0607e-04],\n",
       "        [3.3264e-02, 8.4224e-01, 1.2449e-01],\n",
       "        [2.2674e-02, 7.8714e-01, 1.9018e-01],\n",
       "        [2.7897e-02, 8.6807e-01, 1.0404e-01],\n",
       "        [2.5140e-02, 8.4459e-01, 1.3027e-01],\n",
       "        [5.3467e-01, 3.1623e-01, 1.4910e-01],\n",
       "        [1.0083e-01, 6.5302e-02, 8.3387e-01],\n",
       "        [1.9930e-02, 7.9555e-01, 1.8452e-01],\n",
       "        [7.4998e-02, 7.8491e-01, 1.4009e-01],\n",
       "        [2.7666e-02, 8.4611e-01, 1.2623e-01],\n",
       "        [1.2703e-02, 7.0633e-01, 2.8096e-01],\n",
       "        [1.3679e-02, 2.2021e-02, 9.6430e-01],\n",
       "        [7.3490e-01, 1.3095e-01, 1.3415e-01],\n",
       "        [2.4855e-02, 7.6343e-01, 2.1172e-01],\n",
       "        [1.6283e-02, 7.0443e-01, 2.7929e-01],\n",
       "        [6.7810e-01, 1.8334e-01, 1.3855e-01],\n",
       "        [1.3414e-01, 8.2754e-01, 3.8316e-02]], device='cuda:2',\n",
       "       grad_fn=<SoftmaxBackward0>)"
      ]
     },
     "execution_count": 34,
     "metadata": {},
     "output_type": "execute_result"
    }
   ],
   "source": [
    "probs=F.softmax(output[index_of_less_robust], dim=1)\n",
    "probs"
   ]
  },
  {
   "cell_type": "code",
   "execution_count": 35,
   "metadata": {},
   "outputs": [
    {
     "data": {
      "text/plain": [
       "tensor([0.8439, 0.9043, 0.8813, 0.6754, 0.6252, 0.9122, 0.8902, 0.6207, 0.8422,\n",
       "        0.7871, 0.8681, 0.8446, 0.3162, 0.8339, 0.7956, 0.7849, 0.8461, 0.7063,\n",
       "        0.9643, 0.1341, 0.7634, 0.7044, 0.6781, 0.8275], device='cuda:2',\n",
       "       grad_fn=<IndexBackward0>)"
      ]
     },
     "execution_count": 35,
     "metadata": {},
     "output_type": "execute_result"
    }
   ],
   "source": [
    "probs[range(len(poison_labels[index_of_less_robust])), poison_labels[index_of_less_robust]]"
   ]
  },
  {
   "cell_type": "code",
   "execution_count": 36,
   "metadata": {},
   "outputs": [
    {
     "data": {
      "text/plain": [
       "tensor([1, 2, 1, 1, 0, 0, 2, 1, 1, 1, 1, 1, 1, 2, 1, 1, 1, 1, 2, 2, 1, 1, 0, 1],\n",
       "       device='cuda:2')"
      ]
     },
     "execution_count": 36,
     "metadata": {},
     "output_type": "execute_result"
    }
   ],
   "source": [
    "poison_labels[index_of_less_robust]"
   ]
  }
 ],
 "metadata": {
  "kernelspec": {
   "display_name": "spurious",
   "language": "python",
   "name": "python3"
  },
  "language_info": {
   "codemirror_mode": {
    "name": "ipython",
    "version": 3
   },
   "file_extension": ".py",
   "mimetype": "text/x-python",
   "name": "python",
   "nbconvert_exporter": "python",
   "pygments_lexer": "ipython3",
   "version": "3.8.17"
  }
 },
 "nbformat": 4,
 "nbformat_minor": 2
}
