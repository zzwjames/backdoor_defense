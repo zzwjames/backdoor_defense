{
 "cells": [
  {
   "cell_type": "code",
   "execution_count": 1,
   "metadata": {},
   "outputs": [
    {
     "name": "stderr",
     "output_type": "stream",
     "text": [
      "/tmp/ipykernel_1770751/2778829873.py:1: DeprecationWarning: the imp module is deprecated in favour of importlib; see the module's documentation for alternative uses\n",
      "  import imp\n",
      "/home/zbz5349/anaconda3/envs/spurious/lib/python3.8/site-packages/tqdm/auto.py:22: TqdmWarning: IProgress not found. Please update jupyter and ipywidgets. See https://ipywidgets.readthedocs.io/en/stable/user_install.html\n",
      "  from .autonotebook import tqdm as notebook_tqdm\n"
     ]
    },
    {
     "name": "stdout",
     "output_type": "stream",
     "text": [
      "Namespace(cuda=True, dataset='ogbn-arxiv', debug=True, defense_mode='none', device_id=2, dis_weight=1, dropout=0.5, epochs=1000, evaluate_mode='1by1', hidden=128, homo_boost_thrd=0.8, homo_loss_weight=100, inner=1, k=100, lr=0.01, model='GCN', no_cuda=False, outter_size=4096, prune_thr=0.8, range=1.0, rec_epochs=30, seed=12, selection_method='none', target_class=2, target_loss_weight=1, test_model='GCN', thrd=0.5, train_lr=0.01, trigger_size=3, trojan_epochs=400, use_vs_number=True, vs_number=565, vs_ratio=0, weight_decay=0.0005, weight_ood=1, weight_target=1, weight_targetclass=1)\n"
     ]
    }
   ],
   "source": [
    "import imp\n",
    "import time\n",
    "import argparse\n",
    "import numpy as np\n",
    "import torch\n",
    "torch.set_printoptions(threshold=10000)\n",
    "from torch_geometric.datasets import Planetoid,Reddit2,Flickr\n",
    "import torch.nn.functional as F\n",
    "import numpy as np\n",
    "import matplotlib.pyplot as plt\n",
    "# from torch_geometric.loader import DataLoader\n",
    "from help_funcs import prune_unrelated_edge,prune_unrelated_edge_isolated, clu_prune_unrelated_edge\n",
    "import scipy.sparse as sp\n",
    "from torch_geometric.utils import subgraph\n",
    "# Training settings\n",
    "parser = argparse.ArgumentParser()\n",
    "parser.add_argument('--debug', action='store_true',\n",
    "        default=True, help='debug mode')\n",
    "parser.add_argument('--no-cuda', action='store_true', default=False,\n",
    "                    help='Disables CUDA training.')\n",
    "parser.add_argument('--seed', type=int, default=12, help='Random seed.')\n",
    "parser.add_argument('--model', type=str, default='GCN', help='model',\n",
    "                    choices=['GCN','GAT','GraphSage','GIN'])\n",
    "parser.add_argument('--dataset', type=str, default='ogbn-arxiv', \n",
    "                    help='Dataset',\n",
    "                    choices=['Cora','Pubmed','Flickr','ogbn-arxiv','Citeseer','Reddit2'])\n",
    "parser.add_argument('--train_lr', type=float, default=0.01,\n",
    "                    help='Initial learning rate.')\n",
    "parser.add_argument('--weight_decay', type=float, default=5e-4,\n",
    "                    help='Weight decay (L2 loss on parameters).')\n",
    "parser.add_argument('--hidden', type=int, default=128,\n",
    "                    help='Number of hidden units.')\n",
    "parser.add_argument('--thrd', type=float, default=0.5)\n",
    "parser.add_argument('--target_class', type=int, default=2)\n",
    "parser.add_argument('--k', type=int, default=100)\n",
    "parser.add_argument('--dropout', type=float, default=0.5,\n",
    "                    help='Dropout rate (1 - keep probability).')\n",
    "parser.add_argument('--epochs', type=int,  default=1000, help='Number of epochs to train benign and backdoor model.')\n",
    "parser.add_argument('--rec_epochs', type=int,  default=30, help='Number of epochs to train benign and backdoor model.')\n",
    "parser.add_argument('--trojan_epochs', type=int,  default=400, help='Number of epochs to train trigger generator.')\n",
    "parser.add_argument('--inner', type=int,  default=1, help='Number of inner')\n",
    "# backdoor setting\n",
    "parser.add_argument('--lr', type=float, default=0.01,\n",
    "                    help='Initial learning rate.')\n",
    "parser.add_argument('--trigger_size', type=int, default=3,\n",
    "                    help='tirgger_size')\n",
    "parser.add_argument('--use_vs_number', action='store_true', default=True,\n",
    "                    help=\"if use detailed number to decide Vs\")\n",
    "parser.add_argument('--vs_ratio', type=float, default=0,\n",
    "                    help=\"ratio of poisoning nodes relative to the full graph\")\n",
    "parser.add_argument('--range', type=float, default=1.0,\n",
    "                    help=\"ratio of poisoning nodes relative to the full graph\")\n",
    "parser.add_argument('--vs_number', type=int, default=565,\n",
    "                    help=\"number of poisoning nodes relative to the full graph\")\n",
    "# defense setting\n",
    "parser.add_argument('--defense_mode', type=str, default=\"none\",\n",
    "                    choices=['prune', 'isolate', 'none','reconstruct'],\n",
    "                    help=\"Mode of defense\")\n",
    "parser.add_argument('--prune_thr', type=float, default=0.8,\n",
    "                    help=\"Threshold of prunning edges\")\n",
    "parser.add_argument('--target_loss_weight', type=float, default=1,\n",
    "                    help=\"Weight of optimize outter trigger generator\")\n",
    "parser.add_argument('--weight_target', type=float, default=1,\n",
    "                    help=\"Weight of optimize outter trigger generator\")\n",
    "parser.add_argument('--weight_ood', type=float, default=1,\n",
    "                    help=\"Weight of optimize outter trigger generator\")\n",
    "parser.add_argument('--weight_targetclass', type=float, default=1,\n",
    "                    help=\"Weight of optimize outter trigger generator\")\n",
    "parser.add_argument('--outter_size', type=int, default=4096,\n",
    "                    help=\"Weight of optimize outter trigger generator\")\n",
    "parser.add_argument('--homo_loss_weight', type=float, default=100,\n",
    "                    help=\"Weight of optimize similarity loss\")\n",
    "parser.add_argument('--homo_boost_thrd', type=float, default=0.8,\n",
    "                    help=\"Threshold of increase similarity\")\n",
    "# attack setting\n",
    "parser.add_argument('--dis_weight', type=float, default=1,\n",
    "                    help=\"Weight of cluster distance\")\n",
    "parser.add_argument('--selection_method', type=str, default='none',\n",
    "                    choices=['loss','conf','cluster','none','cluster_degree'],\n",
    "                    help='Method to select idx_attach for training trojan model (none means randomly select)')\n",
    "parser.add_argument('--test_model', type=str, default='GCN',\n",
    "                    choices=['GCN','GAT','GraphSage','GIN'],\n",
    "                    help='Model used to attack')\n",
    "parser.add_argument('--evaluate_mode', type=str, default='1by1',\n",
    "                    choices=['overall','1by1'],\n",
    "                    help='Model used to attack')\n",
    "# GPU setting\n",
    "parser.add_argument('--device_id', type=int, default=2,\n",
    "                    help=\"Threshold of prunning edges\")\n",
    "# args = parser.parse_args()\n",
    "args = parser.parse_known_args()[0]\n",
    "args.cuda =  not args.no_cuda and torch.cuda.is_available()\n",
    "device = torch.device(('cuda:{}' if torch.cuda.is_available() else 'cpu').format(args.device_id))\n",
    "\n",
    "np.random.seed(args.seed)\n",
    "torch.manual_seed(args.seed)\n",
    "torch.cuda.manual_seed(args.seed)\n",
    "print(args)"
   ]
  },
  {
   "cell_type": "code",
   "execution_count": 2,
   "metadata": {},
   "outputs": [],
   "source": [
    "from torch_geometric.utils import to_undirected\n",
    "import torch_geometric.transforms as T\n",
    "transform = T.Compose([T.NormalizeFeatures()])\n",
    "\n",
    "if(args.dataset == 'Cora' or args.dataset == 'Citeseer' or args.dataset == 'Pubmed'):\n",
    "    dataset = Planetoid(root='./data/', \\\n",
    "                        name=args.dataset,\\\n",
    "                        transform=transform)\n",
    "elif(args.dataset == 'Flickr'):\n",
    "    dataset = Flickr(root='./data/Flickr/', \\\n",
    "                    transform=transform)\n",
    "elif(args.dataset == 'Reddit2'):\n",
    "    dataset = Reddit2(root='./data/Reddit2/', \\\n",
    "                    transform=transform)\n",
    "elif(args.dataset == 'ogbn-arxiv'):\n",
    "    from ogb.nodeproppred import PygNodePropPredDataset\n",
    "    # Download and process data at './dataset/ogbg_molhiv/'\n",
    "    dataset = PygNodePropPredDataset(name = 'ogbn-arxiv', root='./data/')\n",
    "    split_idx = dataset.get_idx_split() \n",
    "\n",
    "data = dataset[0].to(device)\n",
    "\n",
    "if(args.dataset == 'ogbn-arxiv'):\n",
    "    nNode = data.x.shape[0]\n",
    "    setattr(data,'train_mask',torch.zeros(nNode, dtype=torch.bool).to(device))\n",
    "    # dataset[0].train_mask = torch.zeros(nEdge, dtype=torch.bool).to(device)\n",
    "    data.val_mask = torch.zeros(nNode, dtype=torch.bool).to(device)\n",
    "    data.test_mask = torch.zeros(nNode, dtype=torch.bool).to(device)\n",
    "    data.y = data.y.squeeze(1)\n",
    "    \n",
    "if(args.dataset == 'Reddit2'):\n",
    "    num_nodes_to_sample = 20000  # Adjust this based on your needs\n",
    "\n",
    "    # Randomly select a subset of nodes\n",
    "    sampled_nodes = torch.randint(data.num_nodes, (num_nodes_to_sample,), device=device)\n",
    "\n",
    "    # Perform subgraph sampling\n",
    "    edge,_ = subgraph(sampled_nodes, data.edge_index)\n",
    "    data.edge_index = edge"
   ]
  },
  {
   "cell_type": "code",
   "execution_count": 3,
   "metadata": {},
   "outputs": [],
   "source": [
    "from utils import get_split\n",
    "data, idx_train, idx_val, idx_clean_test, idx_atk = get_split(args,data,device)\n",
    "\n",
    "from torch_geometric.utils import to_undirected\n",
    "from utils import subgraph\n",
    "data.edge_index = to_undirected(data.edge_index)\n",
    "train_edge_index,_, edge_mask = subgraph(torch.bitwise_not(data.test_mask),data.edge_index,relabel_nodes=False)\n",
    "mask_edge_index = data.edge_index[:,torch.bitwise_not(edge_mask)]"
   ]
  },
  {
   "cell_type": "code",
   "execution_count": 4,
   "metadata": {},
   "outputs": [
    {
     "name": "stdout",
     "output_type": "stream",
     "text": [
      "number of benign training nodes 33868\n",
      "number of poisoned target nodes 565\n"
     ]
    }
   ],
   "source": [
    "from sklearn_extra import cluster\n",
    "from models.backdoor import Backdoor\n",
    "from models.construct import model_construct\n",
    "import heuristic_selection as hs\n",
    "from torch.distributions.bernoulli import Bernoulli\n",
    "\n",
    "# select poisoned target node #\n",
    "\n",
    "# filter out the unlabeled nodes except from training nodes and testing nodes, nonzero() is to get index, flatten is to get 1-d tensor\n",
    "unlabeled_idx = (torch.bitwise_not(data.test_mask)&torch.bitwise_not(data.train_mask)).nonzero().flatten()\n",
    "if(args.use_vs_number):\n",
    "    size = args.vs_number\n",
    "else:\n",
    "    size = int((len(data.test_mask)-data.test_mask.sum())*args.vs_ratio)\n",
    "# print(\"#Attach Nodes:{}\".format(size))\n",
    "assert size>0, 'The number of selected trigger nodes must be larger than 0!'\n",
    "# here is randomly select poison nodes from unlabeled nodes\n",
    "if(args.selection_method == 'none'):\n",
    "    idx_attach = hs.obtain_attach_nodes(args,unlabeled_idx,size)\n",
    "elif(args.selection_method == 'cluster'):\n",
    "    idx_attach = hs.cluster_distance_selection(args,data,idx_train,idx_val,idx_clean_test,unlabeled_idx,train_edge_index,size,device)\n",
    "    idx_attach = torch.LongTensor(idx_attach).to(device)\n",
    "elif(args.selection_method == 'cluster_degree'):\n",
    "    if(args.dataset == 'Pubmed'):\n",
    "        idx_attach = hs.cluster_degree_selection_seperate_fixed(args,data,idx_train,idx_val,idx_clean_test,unlabeled_idx,train_edge_index,size,device)\n",
    "    else:\n",
    "        idx_attach = hs.cluster_degree_selection(args,data,idx_train,idx_val,idx_clean_test,unlabeled_idx,train_edge_index,size,device)\n",
    "    idx_attach = torch.LongTensor(idx_attach).to(device)\n",
    "# print(\"idx_attach: {}\".format(idx_attach))\n",
    "unlabeled_idx = torch.tensor(list(set(unlabeled_idx.cpu().numpy()) - set(idx_attach.cpu().numpy()))).to(device)\n",
    "print('number of benign training nodes', len(idx_train))\n",
    "print('number of poisoned target nodes', len(idx_attach))\n",
    "\n",
    "# Cora\n",
    "# idx_attach = torch.tensor([1672, 2399, 1785, 2020, 2013, 1652,  208, 1220, 2128,  446])\n",
    "# Flicker\n",
    "idx_attach = torch.tensor([151986, 162467,  44926,  23940,  72501,  13300,  22065, 147153,  79242,\n",
    "        128143,  93465,  63507,  73972,  73044,  56937,  88754, 163842, 119362,\n",
    "         54554,  33519,   8154,  16049, 113091, 156331,  35927, 152431,  38080,\n",
    "        168947, 121840, 101165,  34467, 130677, 127703, 162722,   4875,  95491,\n",
    "        148529,  78072, 126281,  59601,  54103, 107477,  51951,  10138,  10104,\n",
    "         26393,  18876, 151911,  73699, 122090, 149541,   7918,  23625,  54054,\n",
    "        165054,  90478, 130766, 106047,  62056, 152543, 100119,  62343, 119437,\n",
    "        129228, 130514,  12459,  58483,  35161,  27651,  77539,  49360,  43087,\n",
    "         51852,  84642, 162577, 108656,  81292,  49283,  70860,  49404, 141270,\n",
    "         36926, 101724,  14727,  12525,  19995, 162207,  69782, 127237,   8541,\n",
    "         83147, 131520,  97803, 109806, 145193, 118680,  20924, 131955, 106455,\n",
    "        129401,  58891, 116300,  34079,    224,   3172,  88160, 109185, 110668,\n",
    "        103248,  95078, 154019, 168817,   3771,  18207, 154860,  26834,  11175,\n",
    "         63122,  47747,  80305, 102581,  82265, 117214, 132492, 137535, 122891,\n",
    "        164548, 100623,  17308, 153845,  91474, 142746,  85505,  97061, 152602,\n",
    "        116420,  15941, 152529,  19807,  15146, 148629, 162255, 138185,  96655,\n",
    "         71909,  25179,  34595, 147363,  64609,  67502,   8161, 136765, 110630,\n",
    "         11895, 158529,   5181,  90008,  16843,  62749,  33553,  15212,  24861,\n",
    "        160062,  72270,  25230,  76515,  27120, 152018,  95828, 124173,  80523,\n",
    "         28845,  84596,  56397,     63, 164765, 140751,  37912,  47903,  69429,\n",
    "        132506,  66631, 153695,  61748,  18334,  94547,  97448,  58066,   1646,\n",
    "        158386, 153884,  39628, 129569,  86483, 159823, 109138,  52390,  20765,\n",
    "         70732,  56531,  14090, 144949,  45603, 136798, 162265,  66578,  42077,\n",
    "        144225,  23731,  37597,  73034, 115402,  40876, 104645, 123502, 154395,\n",
    "         47564, 112664, 137399,  62430,   6464, 124696,  50606,  34820, 116196,\n",
    "        136597, 145708, 105880, 129765,  57303, 155369, 114620,  95339, 103305,\n",
    "         83091,  68857,  73046,   3183, 149185,  80135, 155473, 164332,  20333,\n",
    "        139918,  45024, 141475,  91437,   2599,  74708, 160785, 168601,   2915,\n",
    "         75096,   5486,  69934,   3244, 108649,  69213,  96039,  74594, 144675,\n",
    "         65112, 157016, 150964,  91340,  17814, 134345,  74006,  51257, 159074,\n",
    "        165012,  78616,  87458,  26847, 138007, 123722,  44990,  70164, 162681,\n",
    "        155937,  70939, 115374, 166985, 112764, 144479,  26546,  53170,  25088,\n",
    "         22346, 157904,  75119,  34364,  98424,  93012, 118674,  89130,  72419,\n",
    "         29984, 117334,  16483,  19802, 113586,  92262, 140284, 157255, 148016,\n",
    "         96550,  35893,  73545,  38199,  60664,   1496, 158258, 135970, 121417,\n",
    "        141379, 164731, 118159,  29576,  75840, 144213,  73692, 104518, 103593,\n",
    "        126236, 108326,  89873, 140364,  97116, 124288, 121316,   5171, 152926,\n",
    "          3575,  68393, 168823, 134560,  97522, 147712, 152664,  14128,   3127,\n",
    "         20516,  85926,  13117, 122575,  59647, 147988,  15855,  38123,  72738,\n",
    "        123088,  28674, 137800, 151853,  40493, 119849, 125141,  28030,  91051,\n",
    "        137817,  32725, 151387,  23191, 123924,  94511, 140409,  84661,  57390,\n",
    "        108036, 146481,  50713,  25635,   8406,  53176,  63767,  10085,  11511,\n",
    "         10917, 125420, 106500, 122872, 131682, 136815,  70797,   9775, 107485,\n",
    "         34616,  38800, 157312, 121295, 144843,  53058,  86092,  78410, 129884,\n",
    "        122432,  34859,  20803,  68352,  62509,  56748,  50567,   7305,  80285,\n",
    "         47840,  27191, 140932,  97673,  36251, 158464,  28447,  90035,  35878,\n",
    "         38402, 150487, 147232,   4757,  65803, 136331,  36847, 129631, 125084,\n",
    "          3774,  93301,  70138, 168983,  39973, 167434,  48993, 134157, 142998,\n",
    "        142631, 136629,  70597,   5918, 164119, 146838, 129454,  56518, 104736,\n",
    "         54268, 127712,  51617,  87842, 131931,  75147,  78176, 124529, 144908,\n",
    "        152599, 109500, 152809, 123358, 113359,  63172,   8716,  47711, 153647,\n",
    "         78756,  85109, 120331,  54454, 157612,  15584,  48592, 128980, 118870,\n",
    "        145262,  94992,  28068,  58458,  41115, 103738,   2955,   6977, 108384,\n",
    "        168777,  70271,  89741, 131143, 109832, 126654,  92179, 100438,  58805,\n",
    "        103885, 147804, 113577,  21148,  75731, 100325,  68288,  79565,  28340,\n",
    "          8655,   4924, 156493, 148494,  32973,  44218, 151410,  65225,  69072,\n",
    "         49753,  72095,  15442, 113605,  69861, 108791, 123205, 121298, 162781,\n",
    "         82963, 159931,  34136,  10300,  39329, 157392, 107938,    494,  22166,\n",
    "        109920,  17234,  79404,  53596, 134072,  92397,   2688, 121386, 152968,\n",
    "         10262,  85337, 112591,   8951,  59919,  34034, 125602,  44639,  97368,\n",
    "          4367,  40594,  68981, 168198,  69316,  87326,  68237,  35037, 126689,\n",
    "        154968, 163394, 152383, 103946, 126176,  68477, 112778, 160670, 142487,\n",
    "        147511, 138188,  27413, 112906,  49367,  76346,  61945])\n",
    "\n",
    "idx_attach = idx_attach.to(device)"
   ]
  },
  {
   "cell_type": "code",
   "execution_count": 5,
   "metadata": {},
   "outputs": [
    {
     "data": {
      "text/plain": [
       "0"
      ]
     },
     "execution_count": 5,
     "metadata": {},
     "output_type": "execute_result"
    }
   ],
   "source": [
    "## trigger generator ##\n",
    "model = Backdoor(args,device)\n",
    "model.fit(data.x, train_edge_index, None, data.y, idx_train,idx_attach, unlabeled_idx, True)"
   ]
  },
  {
   "cell_type": "code",
   "execution_count": 6,
   "metadata": {},
   "outputs": [],
   "source": [
    "test_model = 'GCN'\n",
    "total_overall_asr = 0\n",
    "total_overall_ca = 0\n",
    "args.test_model = test_model\n",
    "rs = np.random.RandomState(args.seed)\n",
    "seeds = rs.randint(1000,size=1)\n",
    "overall_asr = 0\n",
    "overall_ca = 0"
   ]
  },
  {
   "cell_type": "code",
   "execution_count": 7,
   "metadata": {},
   "outputs": [],
   "source": [
    "# load poisoned graph #\n",
    "# poison_x = torch.load('poison_x.pt')\n",
    "# poison_edge_index = torch.load('poison_edge_index.pt')\n",
    "# poison_edge_weights = torch.load('poison_edge_weights.pt')\n",
    "# poison_labels = torch.load('poison_labels.pt')\n",
    "poison_x = torch.load('/home/zbz5349/defense_backdoor/DPGBA/kdd-backdooor/run/poison_x_arxiv.pt')\n",
    "poison_edge_index = torch.load('/home/zbz5349/defense_backdoor/DPGBA/kdd-backdooor/run/poison_edge_index_arxiv.pt')\n",
    "poison_edge_weights = torch.load('/home/zbz5349/defense_backdoor/DPGBA/kdd-backdooor/run/poison_edge_weights_arxiv.pt')\n",
    "poison_labels = torch.load('/home/zbz5349/defense_backdoor/DPGBA/kdd-backdooor/run/poison_labels_arxiv.pt')\n",
    "# poison_x = torch.load('/home/zbz5349/defense_backdoor/DPGBA/kdd-backdooor/run_arxiv/poison_x.pt')\n",
    "# poison_edge_index = torch.load('/home/zbz5349/defense_backdoor/DPGBA/kdd-backdooor/run_arxiv/poison_edge_index.pt')\n",
    "# poison_edge_weights = torch.load('/home/zbz5349/defense_backdoor/DPGBA/kdd-backdooor/run_arxiv/poison_edge_weights.pt')\n",
    "# poison_labels = torch.load('/home/zbz5349/defense_backdoor/DPGBA/kdd-backdooor/run_arxiv/poison_labels.pt')"
   ]
  },
  {
   "cell_type": "code",
   "execution_count": 8,
   "metadata": {},
   "outputs": [
    {
     "name": "stdout",
     "output_type": "stream",
     "text": [
      "Namespace(cuda=True, dataset='ogbn-arxiv', debug=True, defense_mode='none', device_id=2, dis_weight=1, dropout=0.5, epochs=1000, evaluate_mode='1by1', hidden=128, homo_boost_thrd=0.8, homo_loss_weight=100, inner=1, k=100, lr=0.01, model='GCN', no_cuda=False, outter_size=4096, prune_thr=0.8, range=1.0, rec_epochs=30, seed=12, selection_method='none', target_class=2, target_loss_weight=1, test_model='GCN', thrd=0.5, train_lr=0.01, trigger_size=3, trojan_epochs=400, use_vs_number=True, vs_number=565, vs_ratio=0, weight_decay=0.0005, weight_ood=1, weight_target=1, weight_targetclass=1)\n"
     ]
    }
   ],
   "source": [
    "print(args)\n",
    "\n",
    "mask = data.y[idx_attach] != args.target_class\n",
    "mask = mask.to(device)\n",
    "\n",
    "## only attack those has groud truth labels != target_class ##\n",
    "idx_attach = idx_attach[(data.y[idx_attach] != args.target_class).nonzero().flatten()]\n",
    "\n",
    "bkd_tn_nodes = torch.cat([idx_train,idx_attach]).to(device)\n",
    "# test_model = model_construct(args,args.test_model,data,device).to(device) \n",
    "known_nodes = torch.cat([idx_train,idx_attach]).to(device)\n",
    "predictions = []\n",
    "# edge weight for clean edge_index, may use later #\n",
    "edge_weight = torch.ones([data.edge_index.shape[1]],device=device,dtype=torch.float)\n"
   ]
  },
  {
   "cell_type": "code",
   "execution_count": 9,
   "metadata": {},
   "outputs": [
    {
     "data": {
      "text/plain": [
       "tensor(544, device='cuda:2')"
      ]
     },
     "execution_count": 9,
     "metadata": {},
     "output_type": "execute_result"
    }
   ],
   "source": [
    "mask.sum()"
   ]
  },
  {
   "cell_type": "code",
   "execution_count": 10,
   "metadata": {},
   "outputs": [
    {
     "name": "stdout",
     "output_type": "stream",
     "text": [
      "tensor([24, 24,  8, 30, 10, 28, 28, 37,  4, 24, 30, 24,  5, 24, 24,  5, 22,  8,\n",
      "         4, 24, 28, 36, 28, 16, 34, 10, 16, 24, 37, 24, 24,  7, 10, 38, 28,  6,\n",
      "        16, 10,  8, 24, 28, 23, 10, 16, 28, 28, 30, 22,  4,  4, 24, 13, 28, 28,\n",
      "         1, 28, 30, 16, 16, 16, 34, 14, 27, 16,  6, 16, 28, 28, 28,  4,  3, 24,\n",
      "        23, 24, 34, 34, 16,  1, 39, 30, 16, 38, 30, 34, 24, 30, 34, 16, 36, 23,\n",
      "        27, 37,  9,  4, 24, 19, 28, 34, 16, 28, 10, 15, 24, 24,  9, 28, 16, 19,\n",
      "         4, 16,  9, 24, 23, 23, 31, 22,  8, 33, 28, 24, 24, 24,  8,  9, 17, 16,\n",
      "        13, 28, 13, 28, 16, 28, 16, 10, 30, 30, 16, 24, 28,  6, 10, 28, 30, 28,\n",
      "        16, 16, 39, 28,  9, 34, 24, 24, 23,  0, 25, 16, 16, 30, 36, 28,  4, 16,\n",
      "         3, 24,  9,  9,  8, 24,  5, 13, 19, 24, 30, 31, 24, 20,  5, 19, 17, 16,\n",
      "        34, 19, 21, 19, 28, 10,  8, 16, 34,  8, 37, 24,  4, 37, 28, 16, 28,  4,\n",
      "        16, 26, 16, 30, 24, 19,  8, 24, 36,  4, 24,  5, 31, 19, 28, 16, 23, 30,\n",
      "         9, 24, 33, 23, 30, 34, 34, 10, 26, 16, 10, 31, 28, 24,  5, 38, 34, 19,\n",
      "        16, 10, 37, 18, 16, 30, 27, 26, 34, 28, 36, 31, 28, 31, 13, 16,  4, 10,\n",
      "         0, 16, 33, 22, 27, 23,  4, 16,  8,  5, 28, 16, 28,  4, 28, 27, 28, 30,\n",
      "        19, 28, 28, 28, 10, 31, 36, 13, 34, 30, 28, 24,  5, 24, 28, 30,  5, 30,\n",
      "         9, 19,  5, 16, 34, 24,  3, 16, 16, 26, 24, 30, 34, 16, 16, 28,  4, 28,\n",
      "         6, 28, 16, 31, 16, 24, 22, 28, 24,  6, 16, 30, 34,  3, 16, 28, 26, 13,\n",
      "        30, 28, 28,  0, 27,  5, 28, 28, 31, 24, 27, 39, 23, 13, 10, 27, 34, 24,\n",
      "        36, 10, 25, 28, 30, 34, 20, 28, 28, 26,  3, 16, 19, 34, 28,  4, 16, 36,\n",
      "        28, 37, 16, 28, 30, 16, 30, 23, 10,  4, 30, 34, 24,  7, 16, 30, 33, 10,\n",
      "        34, 31, 16,  8,  3, 22, 10, 28,  5, 16, 39, 16, 24, 20, 27, 19, 25, 28,\n",
      "         4, 24, 30, 34, 24, 28, 28,  8, 30, 24, 16, 16, 38, 39, 16, 25, 28, 30,\n",
      "        16, 30, 19, 23, 10, 16, 24, 16, 36, 16,  8,  5, 10, 34,  5, 28, 24, 16,\n",
      "        27, 27, 39, 16, 24, 28, 28, 16, 28, 24, 26, 24, 10, 16, 28, 34, 31, 16,\n",
      "        16, 22, 24, 31, 16,  3, 28, 16, 16, 20, 24, 36, 26,  5,  8,  8,  4, 19,\n",
      "        16, 24,  8, 24, 20, 27,  4, 28,  8, 16, 31, 22, 39,  3, 28,  3, 16, 34,\n",
      "        28,  4, 30, 31, 19, 28,  3, 13, 16, 28, 24, 24, 16,  4,  4, 22, 24,  5,\n",
      "        27, 16, 36, 36, 34, 34, 39, 16, 34, 24, 26,  8, 25, 24, 31, 16, 34, 27,\n",
      "        28, 15, 31, 39, 16, 19,  8, 37, 30,  8, 19, 10, 34, 34, 30, 16,  0, 37,\n",
      "         6, 24, 28, 10], device='cuda:2')\n",
      "tensor([2, 2, 2, 2, 2, 2, 2, 2, 2, 2, 2, 2, 2, 2, 2, 2, 2, 2, 2, 2, 2, 2, 2, 2,\n",
      "        2, 2, 2, 2, 2, 2, 2, 2, 2, 2, 2, 2, 2, 2, 2, 2, 2, 2, 2, 2, 2, 2, 2, 2,\n",
      "        2, 2, 2, 2, 2, 2, 2, 2, 2, 2, 2, 2, 2, 2, 2, 2, 2, 2, 2, 2, 2, 2, 2, 2,\n",
      "        2, 2, 2, 2, 2, 2, 2, 2, 2, 2, 2, 2, 2, 2, 2, 2, 2, 2, 2, 2, 2, 2, 2, 2,\n",
      "        2, 2, 2, 2, 2, 2, 2, 2, 2, 2, 2, 2, 2, 2, 2, 2, 2, 2, 2, 2, 2, 2, 2, 2,\n",
      "        2, 2, 2, 2, 2, 2, 2, 2, 2, 2, 2, 2, 2, 2, 2, 2, 2, 2, 2, 2, 2, 2, 2, 2,\n",
      "        2, 2, 2, 2, 2, 2, 2, 2, 2, 2, 2, 2, 2, 2, 2, 2, 2, 2, 2, 2, 2, 2, 2, 2,\n",
      "        2, 2, 2, 2, 2, 2, 2, 2, 2, 2, 2, 2, 2, 2, 2, 2, 2, 2, 2, 2, 2, 2, 2, 2,\n",
      "        2, 2, 2, 2, 2, 2, 2, 2, 2, 2, 2, 2, 2, 2, 2, 2, 2, 2, 2, 2, 2, 2, 2, 2,\n",
      "        2, 2, 2, 2, 2, 2, 2, 2, 2, 2, 2, 2, 2, 2, 2, 2, 2, 2, 2, 2, 2, 2, 2, 2,\n",
      "        2, 2, 2, 2, 2, 2, 2, 2, 2, 2, 2, 2, 2, 2, 2, 2, 2, 2, 2, 2, 2, 2, 2, 2,\n",
      "        2, 2, 2, 2, 2, 2, 2, 2, 2, 2, 2, 2, 2, 2, 2, 2, 2, 2, 2, 2, 2, 2, 2, 2,\n",
      "        2, 2, 2, 2, 2, 2, 2, 2, 2, 2, 2, 2, 2, 2, 2, 2, 2, 2, 2, 2, 2, 2, 2, 2,\n",
      "        2, 2, 2, 2, 2, 2, 2, 2, 2, 2, 2, 2, 2, 2, 2, 2, 2, 2, 2, 2, 2, 2, 2, 2,\n",
      "        2, 2, 2, 2, 2, 2, 2, 2, 2, 2, 2, 2, 2, 2, 2, 2, 2, 2, 2, 2, 2, 2, 2, 2,\n",
      "        2, 2, 2, 2, 2, 2, 2, 2, 2, 2, 2, 2, 2, 2, 2, 2, 2, 2, 2, 2, 2, 2, 2, 2,\n",
      "        2, 2, 2, 2, 2, 2, 2, 2, 2, 2, 2, 2, 2, 2, 2, 2, 2, 2, 2, 2, 2, 2, 2, 2,\n",
      "        2, 2, 2, 2, 2, 2, 2, 2, 2, 2, 2, 2, 2, 2, 2, 2, 2, 2, 2, 2, 2, 2, 2, 2,\n",
      "        2, 2, 2, 2, 2, 2, 2, 2, 2, 2, 2, 2, 2, 2, 2, 2, 2, 2, 2, 2, 2, 2, 2, 2,\n",
      "        2, 2, 2, 2, 2, 2, 2, 2, 2, 2, 2, 2, 2, 2, 2, 2, 2, 2, 2, 2, 2, 2, 2, 2,\n",
      "        2, 2, 2, 2, 2, 2, 2, 2, 2, 2, 2, 2, 2, 2, 2, 2, 2, 2, 2, 2, 2, 2, 2, 2,\n",
      "        2, 2, 2, 2, 2, 2, 2, 2, 2, 2, 2, 2, 2, 2, 2, 2, 2, 2, 2, 2, 2, 2, 2, 2,\n",
      "        2, 2, 2, 2, 2, 2, 2, 2, 2, 2, 2, 2, 2, 2, 2, 2], device='cuda:2')\n"
     ]
    }
   ],
   "source": [
    "print(data.y[idx_attach])\n",
    "# idx_attach is selected target node #\n",
    "print(poison_labels[idx_attach])"
   ]
  },
  {
   "cell_type": "code",
   "execution_count": 11,
   "metadata": {},
   "outputs": [
    {
     "name": "stdout",
     "output_type": "stream",
     "text": [
      "accuracy on poisoned target nodes: 0.9963\n"
     ]
    }
   ],
   "source": [
    "test_model = model_construct(args,args.test_model,data,device).to(device) \n",
    "test_model.fit(poison_x,poison_edge_index, poison_edge_weights, poison_labels, bkd_tn_nodes, idx_val,train_iters=args.epochs,verbose=False)\n",
    "test_model.eval()\n",
    "clean_acc = test_model.test(poison_x,poison_edge_index, poison_edge_weights,poison_labels,idx_attach)\n",
    "output_clean, x = test_model(poison_x,poison_edge_index,poison_edge_weights)\n",
    "ori_predict = torch.exp(output_clean[known_nodes])\n",
    "print(\"accuracy on poisoned target nodes: {:.4f}\".format(clean_acc))"
   ]
  },
  {
   "cell_type": "code",
   "execution_count": 12,
   "metadata": {},
   "outputs": [
    {
     "data": {
      "text/plain": [
       "tensor([ 2,  2,  2,  2,  2,  2,  2,  2,  2,  2,  2,  2,  2,  2,  2,  2,  2,  2,\n",
       "         2,  2,  2,  2,  2,  2,  2,  2,  2,  2,  2,  2,  2,  2,  2,  2,  2,  2,\n",
       "         2,  2,  2,  2,  2,  2,  2,  2,  2,  2,  2,  2,  2,  2,  2,  2,  2,  2,\n",
       "         2,  2,  2,  2,  2,  2,  2,  2,  2,  2,  2,  2,  2,  2,  2,  2,  2,  2,\n",
       "         2,  2,  2,  2,  2,  2,  2,  2,  2,  2,  2,  2,  2,  2,  2,  2,  2,  2,\n",
       "         2,  2,  2,  2,  2,  2,  2,  2,  2,  2,  2,  2,  2,  2,  2,  2,  2,  2,\n",
       "         2,  2,  2,  2,  2,  2,  2,  2,  2,  2,  2,  2,  2,  2,  2,  2,  2,  2,\n",
       "         2,  2,  2,  2,  2,  2,  2,  2,  2,  2,  2,  2,  2,  2,  2,  2,  2,  2,\n",
       "         2,  2,  2,  2,  2,  2,  2,  2,  2,  2,  2,  2,  2,  2,  2,  2,  2,  2,\n",
       "         2,  2,  2,  2,  2,  2,  2,  2,  2,  2,  2,  2,  2,  2,  2,  2,  2,  2,\n",
       "         2,  2,  2,  2,  2,  2,  2,  2,  2,  2,  2,  2,  2,  2,  2,  2,  2,  2,\n",
       "        16,  2,  2,  2,  2,  2,  2,  2,  2,  2,  2,  2,  2,  2,  2,  2,  2,  2,\n",
       "         2,  2,  2,  2,  2,  2,  2,  2,  2,  2,  2,  2,  2,  2,  2,  2,  2,  2,\n",
       "         2,  2,  2,  2,  2,  2,  2,  2,  2,  2,  2,  2,  2,  2,  2,  2,  2,  2,\n",
       "         2,  2,  2,  2,  2,  2,  2,  2,  2,  2,  2,  2,  2,  2,  2,  2,  2,  2,\n",
       "         2,  2,  2,  2,  2,  2,  2,  2,  2,  2,  2,  2,  2,  2,  2,  2,  2,  2,\n",
       "         2,  2,  2,  2,  2,  2,  2,  2,  2,  2,  2,  2,  2,  2,  2,  2,  2,  2,\n",
       "         2,  2,  2,  2,  2,  2,  2,  2,  2,  2,  2,  2,  2,  2,  2,  2,  2,  2,\n",
       "         2,  2,  2,  2,  2,  2,  2,  2,  2,  2,  2,  2,  2,  2,  2,  2,  2,  2,\n",
       "         2,  2,  2,  2,  2,  2,  2,  2,  2,  2,  2,  2,  2,  2,  2,  2,  2,  2,\n",
       "         2,  2,  2,  2,  2,  2,  2,  2,  2,  2,  2,  2,  2,  2,  2,  2,  2,  2,\n",
       "         2,  2,  2,  2,  2,  2,  2,  2,  2,  2,  2,  2,  2,  2,  2,  2,  2,  2,\n",
       "         2,  2,  2,  2,  2,  2,  2,  2,  2,  2,  2,  2,  2,  2,  2,  2,  2,  2,\n",
       "         2,  2,  2,  2,  2,  2,  2,  2,  2,  2,  2,  2, 10,  2,  2,  2,  2,  2,\n",
       "         2,  2,  2,  2,  2,  2,  2,  2,  2,  2,  2,  2,  2,  2,  2,  2,  2,  2,\n",
       "         2,  2,  2,  2,  2,  2,  2,  2,  2,  2,  2,  2,  2,  2,  2,  2,  2,  2,\n",
       "         2,  2,  2,  2,  2,  2,  2,  2,  2,  2,  2,  2,  2,  2,  2,  2,  2,  2,\n",
       "         2,  2,  2,  2,  2,  2,  2,  2,  2,  2,  2,  2,  2,  2,  2,  2,  2,  2,\n",
       "         2,  2,  2,  2,  2,  2,  2,  2,  2,  2,  2,  2,  2,  2,  2,  2,  2,  2,\n",
       "         2,  2,  2,  2,  2,  2,  2,  2,  2,  2,  2,  2,  2,  2,  2,  2,  2,  2,\n",
       "         2,  2,  2,  2], device='cuda:2')"
      ]
     },
     "execution_count": 12,
     "metadata": {},
     "output_type": "execute_result"
    }
   ],
   "source": [
    "output_clean[idx_attach].argmax(dim=1)"
   ]
  },
  {
   "cell_type": "code",
   "execution_count": 13,
   "metadata": {},
   "outputs": [
    {
     "name": "stdout",
     "output_type": "stream",
     "text": [
      "ASR: 0.9926\n",
      "Flip ASR: 0.9924/16482 nodes\n",
      "CA: 0.6720\n"
     ]
    }
   ],
   "source": [
    "# test backdoored model for comparison #\n",
    "induct_edge_index = torch.cat([poison_edge_index,mask_edge_index],dim=1)\n",
    "induct_edge_weights = torch.cat([poison_edge_weights,torch.ones([mask_edge_index.shape[1]],dtype=torch.float,device=device)])\n",
    "induct_x, induct_edge_index,induct_edge_weights = model.inject_trigger(idx_atk,poison_x,induct_edge_index,induct_edge_weights,device)\n",
    "induct_x, induct_edge_index,induct_edge_weights = induct_x.clone().detach(), induct_edge_index.clone().detach(),induct_edge_weights.clone().detach()\n",
    "\n",
    "output, x = test_model(induct_x,induct_edge_index,induct_edge_weights)\n",
    "train_attach_rate = (output.argmax(dim=1)[idx_atk]==args.target_class).float().mean()\n",
    "print(\"ASR: {:.4f}\".format(train_attach_rate))\n",
    "asr = train_attach_rate\n",
    "flip_idx_atk = idx_atk[(data.y[idx_atk] != args.target_class).nonzero().flatten()]\n",
    "flip_asr = (output.argmax(dim=1)[flip_idx_atk]==args.target_class).float().mean()\n",
    "print(\"Flip ASR: {:.4f}/{} nodes\".format(flip_asr,flip_idx_atk.shape[0]))\n",
    "ca = test_model.test(induct_x,induct_edge_index,induct_edge_weights,data.y,idx_clean_test)\n",
    "print(\"CA: {:.4f}\".format(ca))"
   ]
  },
  {
   "cell_type": "code",
   "execution_count": 14,
   "metadata": {},
   "outputs": [],
   "source": [
    "# edge drop #\n",
    "def sample_noise_all(edge_index, edge_weight,device):\n",
    "    noisy_edge_index = edge_index.clone().detach()\n",
    "    if(edge_weight == None):\n",
    "        noisy_edge_weight = torch.ones([noisy_edge_index.shape[1],]).to(device)\n",
    "    else:\n",
    "        noisy_edge_weight = edge_weight.clone().detach()\n",
    "    # # rand_noise_data = copy.deepcopy(data)\n",
    "    # rand_noise_data.edge_weight = torch.ones([rand_noise_data.edge_index.shape[1],]).to(device)\n",
    "    m = Bernoulli(torch.tensor([0.1]).to(device))\n",
    "    mask = m.sample(noisy_edge_weight.shape).squeeze(-1).int()\n",
    "    # print('mask',mask)\n",
    "    rand_inputs = torch.randint_like(noisy_edge_weight, low=0, high=2).squeeze().int().to(device)\n",
    "    # print(rand_noise_data.edge_weight.shape,mask.shape)\n",
    "    noisy_edge_weight = noisy_edge_weight * mask #+ rand_inputs * (1-mask)\n",
    "        \n",
    "    if(noisy_edge_weight!=None):\n",
    "        noisy_edge_index = noisy_edge_index[:,noisy_edge_weight.nonzero().flatten().long()]\n",
    "        noisy_edge_weight = torch.ones([noisy_edge_index.shape[1],]).to(device)\n",
    "    return noisy_edge_index, noisy_edge_weight"
   ]
  },
  {
   "cell_type": "code",
   "execution_count": 15,
   "metadata": {},
   "outputs": [],
   "source": [
    "# test robustness #\n",
    "for i in range(200):\n",
    "            test_model.eval()\n",
    "            noisy_poison_edge_index, noisy_poison_edge_weights = sample_noise_all(poison_edge_index, poison_edge_weights, device)\n",
    "            output, x = test_model(poison_x,noisy_poison_edge_index,noisy_poison_edge_weights)\n",
    "            train_attach_rate = (output.argmax(dim=1)[idx_attach]==args.target_class).float().mean()\n",
    "            train_clean_rate = (output.argmax(dim=1)[idx_train]==data.y[idx_train]).float().mean()\n",
    "            predictions.append(torch.exp(output[known_nodes]))"
   ]
  },
  {
   "cell_type": "code",
   "execution_count": 16,
   "metadata": {},
   "outputs": [],
   "source": [
    "# torch.argmax(predictions[8][23868])"
   ]
  },
  {
   "cell_type": "code",
   "execution_count": 17,
   "metadata": {},
   "outputs": [
    {
     "name": "stdout",
     "output_type": "stream",
     "text": [
      "index_of_less_robust tensor([34350, 34324, 34390, 34307, 34224, 34308, 34373, 33990, 34226, 33925,\n",
      "        34106, 34176, 33888, 33927, 34240, 33986, 34366, 34052, 34381, 34023,\n",
      "        34306, 34270, 34279, 34011, 34188, 34163, 33973, 34282, 34213, 34055,\n",
      "        34318, 34274, 34169, 34175, 34081, 34262, 34271, 33922, 34140, 34128,\n",
      "        33912, 34124, 34248, 34057, 33951, 34358, 34062, 34396, 34064, 34288,\n",
      "        33908, 34159, 34344, 34354, 34114, 33964, 34289, 34184, 33931, 34068,\n",
      "        33904, 34189, 33902, 34071, 34389, 34405, 34178, 33920, 33997, 34217,\n",
      "        34410, 33984, 34132, 34219, 34072, 34266, 33993, 34080, 34272, 33988,\n",
      "        33901, 34117, 34148, 34069, 34111, 34152, 33868, 34196, 34233, 34218,\n",
      "        34171, 34253, 34287, 34118, 34246, 34004, 34398, 33871, 34263, 34394,\n",
      "        34151, 34131, 34141, 34249, 33944, 33885, 34173, 34326, 34134, 33897,\n",
      "        34259, 34034, 34204, 34223, 34101, 34383, 34309, 34193, 34303, 34102,\n",
      "        33895, 33938, 34332, 33870, 34040, 34370, 34275, 33933, 34382, 33873,\n",
      "        33926, 33998, 34261, 33892, 34059, 34119, 34022, 34298, 33945, 34325,\n",
      "        34092, 34341, 33886, 34365, 34216, 34317, 34237, 34000, 34348, 34238,\n",
      "        34359, 34278, 34116, 34047, 34088, 34019, 34179, 33913, 34388, 34024,\n",
      "        34027, 34063, 34145, 34384, 33977, 34231, 34291, 34408, 34257, 33923,\n",
      "        34377, 34200, 34386, 34039, 33916, 33943, 34127, 33996, 23272, 34121,\n",
      "        34407, 33869, 34013, 34337, 34387, 33971, 34065, 33896, 34006, 34031,\n",
      "        33952, 34154, 33875, 34221, 33976, 33936, 34302, 34097, 34292, 34094,\n",
      "        34160, 34199, 33995, 34093, 33979, 34183, 34323, 33907, 33966, 34166,\n",
      "        34099, 33891, 34379, 34286, 34220, 34392, 34095, 34105, 33881, 33955,\n",
      "        34177, 34164, 34135, 33994, 34020, 14587, 34070, 34048, 33930, 34361,\n",
      "        34301, 34258, 34334, 34357, 34113, 34186, 33911, 34284, 33919, 34247,\n",
      "        33949, 34342, 33974, 34316, 34012, 33937, 33882, 34058, 33963, 33948,\n",
      "        33989, 34299, 34192, 34029, 34073, 34112, 34146, 34401, 34313, 33872,\n",
      "        34137, 34260, 34138, 34276, 34005, 34314, 34239, 34090, 34165, 33898,\n",
      "        33999, 34201, 34155, 33962, 34115, 34404, 34273, 34376, 34310, 34010,\n",
      "        34375, 34098, 34254, 34144, 34162, 33918, 20621, 34079, 34041, 34085,\n",
      "        34333, 34343, 34083, 33991, 34096, 34190, 33987, 34182, 34170, 33906,\n",
      "        33970, 34235, 34037, 34076, 34067, 33910, 34109, 34077, 34355, 34328,\n",
      "        34129, 33950, 34402, 34153, 33929, 34017, 33874, 34110, 34222, 34016,\n",
      "        33903, 34168, 34078, 34194, 33947, 34277, 33958,  9061, 34028, 34363,\n",
      "        33894, 34311, 34136, 34340, 34315, 34300, 34185, 34236, 34126, 34225,\n",
      "        34283, 34395, 33928, 34030, 34250, 34362, 33924, 34243, 34015, 34061,\n",
      "        34042, 34008, 34320, 33879, 34014, 34045, 34232, 34054, 34103, 34089,\n",
      "        34161, 33887, 33975, 33981, 34234, 34352, 34406, 34149, 34295, 33877,\n",
      "        33876, 23980, 34209, 34267, 34036, 34150, 34051, 34285, 34345, 33899,\n",
      "        34330, 34385, 34255, 33967, 34296, 33880, 34060, 34367, 33917, 34399,\n",
      "        34353, 34157, 34393, 34187, 34264, 34212, 33909, 34331, 34269, 34336,\n",
      "        34125, 34139, 34049, 33905, 33972, 34403, 34205, 34091, 33878, 34003,\n",
      "        34372, 33939, 34356, 34346, 34021, 34368, 34293, 33956, 33980, 33941,\n",
      "        34167, 33959, 34242, 34411, 33982, 34174, 33932, 34018, 34360,  2514,\n",
      "        33883, 34339, 34007, 34338, 34391, 33968, 34108, 34208, 34245, 34009,\n",
      "        34050, 21072, 34256, 34268, 34056, 34378, 33961, 34327, 34312, 34364,\n",
      "        34241, 10334, 16813, 17948, 33890, 34172, 12042, 34215, 34228,  8983,\n",
      "        34321, 34120, 34397, 34038, 34230, 34026, 29776, 12279,  2695, 33942,\n",
      "        34280, 34044, 33953, 33957, 34158, 34142, 34374, 33921, 12818, 13127,\n",
      "        34202,  7685, 34210, 20289, 34123, 33914, 30110, 34147, 34133, 15667,\n",
      "        34305, 34143, 18238, 25161, 13174, 23997,  9625, 34265,  6041, 21187,\n",
      "        34198, 34206, 24181, 33954, 34104,   323, 26400, 34156, 33934, 13646,\n",
      "        33946, 33940, 34227, 34322, 28935, 34046, 30919, 19021,  2648, 32749,\n",
      "        16914, 28492, 34035, 23228,  4932, 34252, 14881, 11406, 34207, 34053,\n",
      "        28964,  5971, 26309, 33628, 22838, 29322, 17761, 33181, 29139, 26429,\n",
      "        33960, 21788, 10610, 15521], device='cuda:2')\n",
      "count 488\n"
     ]
    },
    {
     "name": "stderr",
     "output_type": "stream",
     "text": [
      "/home/zbz5349/anaconda3/envs/spurious/lib/python3.8/site-packages/torch/nn/_reduction.py:42: UserWarning: size_average and reduce args will be deprecated, please use reduction='none' instead.\n",
      "  warnings.warn(warning.format(ret))\n"
     ]
    }
   ],
   "source": [
    "epsilon = 1e-8\n",
    "deviations = []\n",
    "for sub_pred in predictions:\n",
    "    sub_pred += epsilon\n",
    "    deviation = F.kl_div(sub_pred.log(), ori_predict, reduce=False)\n",
    "    deviations.append(deviation)\n",
    "\n",
    "summed_deviations = torch.zeros_like(deviations[0]).to(deviations[0].device)\n",
    "for deviation in deviations:\n",
    "    ##### summed deviations for each node #####\n",
    "    summed_deviations += deviation\n",
    "\n",
    "\n",
    "##### get the index for nodes with less robustness #####\n",
    "    \n",
    "##### args.vs_number is unknown #####\n",
    "index_of_less_robust = torch.sort(torch.mean(summed_deviations,dim=-1),descending=True)[1][:mask.sum()]\n",
    "print('index_of_less_robust',index_of_less_robust)\n",
    "\n",
    "##### count how many poisoned target nodes are selected in less robustness nodes #####\n",
    "count = 0\n",
    "dd = []\n",
    "for idx in index_of_less_robust:\n",
    "    if idx >= len(known_nodes)-args.vs_number:\n",
    "        count += 1\n",
    "        dd.append(idx)\n",
    "print('count',count)"
   ]
  },
  {
   "cell_type": "code",
   "execution_count": 18,
   "metadata": {},
   "outputs": [
    {
     "data": {
      "text/plain": [
       "tensor([84.6760, 83.6187, 83.3425, 80.2381, 80.2362, 79.5940, 78.8586, 78.7171,\n",
       "        78.4552, 77.7562, 77.7548, 77.6518, 76.7567, 76.1506, 75.7020, 74.8627,\n",
       "        74.5611, 73.5618, 73.4017, 73.0981, 73.0784, 72.7927, 72.6012, 72.5411,\n",
       "        72.4175, 71.9884, 71.7857, 71.0345, 70.9769, 70.8887, 70.5353, 70.5339,\n",
       "        70.3954, 70.1649, 70.0182, 69.8740, 69.8256, 69.7561, 69.3836, 68.9722,\n",
       "        68.8353, 68.7368, 68.6310, 68.5413, 67.9345, 67.8642, 67.1525, 66.9611,\n",
       "        66.3435, 66.1687, 66.0306, 66.0264, 66.0057, 65.7101, 65.6074, 65.3121,\n",
       "        65.2361, 65.2106, 65.1114, 64.3413, 64.2833, 63.8644, 63.5896, 63.5464,\n",
       "        63.5123, 63.5071, 63.4520, 63.1823, 63.1316, 63.0732, 63.0413, 62.8442,\n",
       "        62.6533, 62.5929, 62.4272, 62.3901, 62.2289, 60.7358, 60.3375, 59.8137,\n",
       "        59.5424, 59.3395, 59.2885, 59.2530, 58.9390, 58.9295, 58.6685, 58.2811,\n",
       "        58.2663, 57.9700, 57.8905, 57.7375, 57.6511, 57.2194, 57.1573, 57.1179,\n",
       "        56.9402, 56.8697, 56.7841, 56.6586, 56.6394, 56.5333, 56.4716, 56.4108,\n",
       "        56.3653, 56.2567, 56.1264, 56.0592, 56.0303, 56.0209, 55.8222, 55.7868,\n",
       "        55.7111, 55.6863, 55.6709, 55.5624, 55.5374, 55.4356, 55.3535, 54.9609,\n",
       "        54.9269, 54.8984, 54.8218, 54.7578, 54.7077, 54.6837, 54.4640, 54.4444,\n",
       "        54.3622, 54.2671, 54.2464, 54.1999, 54.1010, 53.8576, 53.7935, 53.6918,\n",
       "        53.6142, 53.5621, 53.5270, 53.4079, 53.3169, 53.3082, 53.3072, 53.2739,\n",
       "        53.1882, 53.1120, 52.9895, 52.8724, 52.8337, 52.6934, 52.6595, 52.5565,\n",
       "        52.4794, 52.4054, 52.2872, 52.2319, 52.1689, 52.1638, 52.0746, 52.0476,\n",
       "        52.0332, 51.8536, 51.6916, 51.6250, 51.5985, 51.3576, 51.1890, 50.9664,\n",
       "        50.9085, 50.7896, 50.6273, 50.4897, 50.1381, 49.9198, 49.8326, 49.7993,\n",
       "        49.7320, 49.7298, 49.6969, 49.4021, 49.3412, 49.1885, 49.1751, 49.1398,\n",
       "        49.1278, 49.0358, 49.0304, 49.0278, 48.6653, 48.6370, 48.6086, 48.5603,\n",
       "        48.4201, 48.3815, 48.3599, 48.2514, 48.2170, 48.1317, 47.9934, 47.9843,\n",
       "        47.7269, 47.6189, 47.5526, 47.3745, 47.2434, 47.2050, 47.1950, 47.1537,\n",
       "        47.1158, 47.0957, 47.0608, 47.0383, 46.6976, 46.6823, 46.5960, 46.5383,\n",
       "        46.5166, 46.4349, 46.4015, 46.3678, 46.2176, 46.2001, 46.1602, 45.9826,\n",
       "        45.8896, 45.8661, 45.8339, 45.6762, 45.6384, 45.6073, 45.6004, 45.5513,\n",
       "        45.5285, 45.3952, 45.3601, 45.2784, 45.2139, 45.0539, 44.8483, 44.8453,\n",
       "        44.8443, 44.8342, 44.7920, 44.5708, 44.5449, 44.4639, 44.2903, 44.2901,\n",
       "        44.1056, 44.0788, 44.0526, 43.9174, 43.8866, 43.8498, 43.8219, 43.8034,\n",
       "        43.6856, 43.4957, 43.4427, 43.3563, 43.2437, 43.2120, 43.0373, 43.0319,\n",
       "        43.0119, 42.9717, 42.8598, 42.8413, 42.7984, 42.7940, 42.6516, 42.4174,\n",
       "        42.3837, 42.3525, 42.3483, 42.1841, 41.9609, 41.9103, 41.8904, 41.7811,\n",
       "        41.6535, 41.5970, 41.5278, 41.4625, 41.4154, 41.2345, 41.1983, 41.0941,\n",
       "        40.8245, 40.7954, 40.7685, 40.6832, 40.5379, 40.4953, 40.4231, 40.3275,\n",
       "        40.2583, 40.2462, 40.2211, 40.1395, 40.0852, 40.0695, 40.0398, 40.0327,\n",
       "        39.9312, 39.6857, 39.5241, 39.4856, 39.4787, 39.4066, 39.3901, 39.3796,\n",
       "        39.2978, 39.2119, 39.1539, 39.1346, 38.9931, 38.9835, 38.9069, 38.8114,\n",
       "        38.7976, 38.7836, 38.7830, 38.7798, 38.6686, 38.6278, 38.6224, 38.4627,\n",
       "        38.4130, 38.3140, 38.1261, 37.9861, 37.7334, 37.7255, 37.6979, 37.6911,\n",
       "        37.6037, 37.4937, 37.4603, 37.4243, 37.3912, 37.3074, 37.2310, 37.1907,\n",
       "        37.1394, 37.1354, 36.9069, 36.8837, 36.7852, 36.7795, 36.6340, 36.6272,\n",
       "        36.5611, 36.4960, 36.4761, 36.3483, 36.3111, 36.2478, 36.2271, 36.2130,\n",
       "        36.1728, 36.0526, 36.0034, 35.7867, 35.6845, 35.6124, 35.5690, 35.5505,\n",
       "        35.5134, 35.4612, 35.4106, 35.2733, 35.1511, 35.1133, 35.0519, 35.0329,\n",
       "        34.9840, 34.9157, 34.7692, 34.5933, 34.5701, 34.5677, 34.5284, 34.4977,\n",
       "        34.4944, 34.4469, 34.1076, 34.0200, 33.8534, 33.7783, 33.7117, 33.5700,\n",
       "        33.5535, 33.5280, 33.5169, 33.5031, 33.4557, 33.4249, 33.4244, 33.4158,\n",
       "        33.4087, 33.3994, 33.3324, 33.2598, 33.2374, 33.2260, 33.2256, 33.1910,\n",
       "        32.9990, 32.9448, 32.8997, 32.8160, 32.6112, 32.5712, 32.5641, 32.3143,\n",
       "        32.1574, 32.1120, 32.1018, 32.0731, 31.7519, 31.6452, 31.6322, 31.5767,\n",
       "        31.4630, 31.4093, 31.3681, 31.2916, 31.2882, 31.2715, 31.1162, 31.1017,\n",
       "        30.7152, 30.6507, 30.6392, 30.5233, 30.3997, 30.3148, 30.0849, 30.0787,\n",
       "        29.9814, 29.9475, 29.9443, 29.8104, 29.7260, 29.7003, 29.6741, 29.6074,\n",
       "        29.6052, 29.5423, 29.5013, 29.4211, 29.3387, 29.3380, 29.3347, 29.2759,\n",
       "        29.1488, 29.0707, 29.0478, 28.9007, 28.8994, 28.8321, 28.5964, 28.5052,\n",
       "        28.4838, 28.4774, 28.4733, 28.0719, 28.0333, 28.0107, 27.9998, 27.8333,\n",
       "        27.7507, 27.7283, 27.7115, 27.6534, 27.5954, 27.5082, 27.4777, 27.4015,\n",
       "        27.3741, 27.3379, 27.2964, 27.2583, 27.2120, 26.8663, 26.8208, 26.7577,\n",
       "        26.7520, 26.6525, 26.5859, 26.5236, 26.4911, 26.4399, 26.4308, 26.3972,\n",
       "        26.2551, 26.1556, 26.0050, 25.8883, 25.8413, 25.6593, 25.5939, 25.5913,\n",
       "        25.4712, 25.4178, 25.3929, 25.1323, 25.0680, 25.0185, 24.9431, 24.7879,\n",
       "        24.7805, 24.7076, 24.6998, 24.5957, 24.5255, 24.5174, 24.5129, 24.4651,\n",
       "        24.4138, 24.4057, 24.2624, 24.2093, 24.1545, 24.1057, 23.8155, 23.6204,\n",
       "        23.5670, 23.3751, 23.3263, 23.3110, 23.2936, 23.2904, 23.2397, 23.1818,\n",
       "        23.1192, 22.9516, 22.8470, 22.7508, 22.6758, 22.5091, 22.4171, 22.4056],\n",
       "       device='cuda:2', grad_fn=<SliceBackward0>)"
      ]
     },
     "execution_count": 18,
     "metadata": {},
     "output_type": "execute_result"
    }
   ],
   "source": [
    "torch.sort(torch.mean(summed_deviations,dim=-1),descending=True)[0][:mask.sum()]"
   ]
  },
  {
   "cell_type": "code",
   "execution_count": 19,
   "metadata": {},
   "outputs": [
    {
     "name": "stdout",
     "output_type": "stream",
     "text": [
      "34412\n"
     ]
    },
    {
     "data": {
      "text/plain": [
       "tensor(544, device='cuda:2')"
      ]
     },
     "execution_count": 19,
     "metadata": {},
     "output_type": "execute_result"
    }
   ],
   "source": [
    "print(len(ori_predict))\n",
    "mask.sum()"
   ]
  },
  {
   "cell_type": "code",
   "execution_count": 20,
   "metadata": {},
   "outputs": [
    {
     "data": {
      "image/png": "[encoded data removed]",
      "text/plain": [
       "<Figure size 1000x600 with 1 Axes>"
      ]
     },
     "metadata": {},
     "output_type": "display_data"
    }
   ],
   "source": [
    "\n",
    "\n",
    "# visualize robustness distribution #\n",
    "a=torch.mean(summed_deviations,dim=-1)\n",
    "a_excluding_last_40 = a[:-args.vs_number].detach().cpu()\n",
    "a_last=a[-mask.sum():].detach().cpu()\n",
    "\n",
    "\n",
    "a_last_40 = a[-args.vs_number:].detach().cpu()\n",
    "\n",
    "\n",
    "\n",
    "\n",
    "indices_to_remove = [i for i, node in enumerate(known_nodes[-args.vs_number:]) if data.y[node] == args.target_class]\n",
    "\n",
    "indices_to_remove = []\n",
    "\n",
    "a_last_list = list(a_last)\n",
    "\n",
    "indices_to_check = range(len(known_nodes[-args.vs_number:]))\n",
    "\n",
    "# indices_to_remove = []\n",
    "\n",
    "# ##### find those nodes that are already have target class or poisoned failed #####\n",
    "# for i in indices_to_check:\n",
    "#     condition1 = data.y[known_nodes[-args.vs_number:][i]] == args.target_class\n",
    "#     condition2 = output.argmax(dim=1)[idx_attach[i]] != args.target_class\n",
    "    \n",
    "#     if condition1 or condition2:\n",
    "#         indices_to_remove.append(i)\n",
    "\n",
    "# for index in sorted(indices_to_remove, reverse=True):\n",
    "#     del a_last_list[index]\n",
    "\n",
    "\n",
    "a_last_40 = a_last_list\n",
    "plt.figure(figsize=(10, 6))\n",
    "# plt.figure(figsize=(40, 24))\n",
    "##### benign nodes #####\n",
    "plt.hist(a_excluding_last_40, bins=20, alpha=0.5, label='benign nodes', density=True)\n",
    "##### poisoned success nodes #####\n",
    "plt.hist(a_last_40, bins=20, alpha=0.5, label='poisoned target nodes',density=True)\n",
    "plt.legend(loc='upper right')\n",
    "plt.xlabel('Value')\n",
    "plt.ylabel('Frequency')\n",
    "plt.title('Distribution of robustness for each node')\n",
    "plt.savefig('a.jpg')\n",
    "plt.show()"
   ]
  },
  {
   "cell_type": "code",
   "execution_count": 21,
   "metadata": {},
   "outputs": [],
   "source": [
    "output_clean[idx_attach].argmax(dim=1)\n",
    "output_clean = torch.exp(output_clean)"
   ]
  },
  {
   "cell_type": "code",
   "execution_count": 22,
   "metadata": {},
   "outputs": [
    {
     "name": "stdout",
     "output_type": "stream",
     "text": [
      "tensor([ 2,  2,  2,  2,  2,  2,  2,  2,  2,  2,  2,  2,  2,  2,  2,  2,  2,  2,\n",
      "         2,  2,  2,  2,  2,  2,  2,  2,  2,  2,  2,  2,  2,  2,  2,  2,  2,  2,\n",
      "         2,  2,  2,  2,  2,  2,  2,  2,  2,  2,  2,  2,  2,  2,  2,  2,  2,  2,\n",
      "         2,  2,  2,  2,  2,  2,  2,  2,  2,  2,  2,  2,  2,  2,  2,  2,  2,  2,\n",
      "         2,  2,  2,  2,  2,  2,  2,  2,  2,  2,  2,  2,  2,  2,  2,  2,  2,  2,\n",
      "         2,  2,  2,  2,  2,  2,  2,  2,  2,  2,  2,  2,  2,  2,  2,  2,  2,  2,\n",
      "         2,  2,  2,  2,  2,  2,  2,  2,  2,  2,  2,  2,  2,  2,  2,  2,  2,  2,\n",
      "         2,  2,  2,  2,  2,  2,  2,  2,  2,  2,  2,  2,  2,  2,  2,  2,  2,  2,\n",
      "         2,  2,  2,  2,  2,  2,  2,  2,  2,  2,  2,  2,  2,  2,  2,  2,  2,  2,\n",
      "         2,  2,  2,  2,  2,  2,  2,  2,  2,  2,  2,  2,  2,  2,  2,  2,  2,  2,\n",
      "         2,  2,  2,  2,  2,  2,  2,  2,  2,  2,  2,  2,  2,  2,  2,  2,  2,  2,\n",
      "        16,  2,  2,  2,  2,  2,  2,  2,  2,  2,  2,  2,  2,  2,  2,  2,  2,  2,\n",
      "         2,  2,  2,  2,  2,  2,  2,  2,  2,  2,  2,  2,  2,  2,  2,  2,  2,  2,\n",
      "         2,  2,  2,  2,  2,  2,  2,  2,  2,  2,  2,  2,  2,  2,  2,  2,  2,  2,\n",
      "         2,  2,  2,  2,  2,  2,  2,  2,  2,  2,  2,  2,  2,  2,  2,  2,  2,  2,\n",
      "         2,  2,  2,  2,  2,  2,  2,  2,  2,  2,  2,  2,  2,  2,  2,  2,  2,  2,\n",
      "         2,  2,  2,  2,  2,  2,  2,  2,  2,  2,  2,  2,  2,  2,  2,  2,  2,  2,\n",
      "         2,  2,  2,  2,  2,  2,  2,  2,  2,  2,  2,  2,  2,  2,  2,  2,  2,  2,\n",
      "         2,  2,  2,  2,  2,  2,  2,  2,  2,  2,  2,  2,  2,  2,  2,  2,  2,  2,\n",
      "         2,  2,  2,  2,  2,  2,  2,  2,  2,  2,  2,  2,  2,  2,  2,  2,  2,  2,\n",
      "         2,  2,  2,  2,  2,  2,  2,  2,  2,  2,  2,  2,  2,  2,  2,  2,  2,  2,\n",
      "         2,  2,  2,  2,  2,  2,  2,  2,  2,  2,  2,  2,  2,  2,  2,  2,  2,  2,\n",
      "         2,  2,  2,  2,  2,  2,  2,  2,  2,  2,  2,  2,  2,  2,  2,  2,  2,  2,\n",
      "         2,  2,  2,  2,  2,  2,  2,  2,  2,  2,  2,  2, 10,  2,  2,  2,  2,  2,\n",
      "         2,  2,  2,  2,  2,  2,  2,  2,  2,  2,  2,  2,  2,  2,  2,  2,  2,  2,\n",
      "         2,  2,  2,  2,  2,  2,  2,  2,  2,  2,  2,  2,  2,  2,  2,  2,  2,  2,\n",
      "         2,  2,  2,  2,  2,  2,  2,  2,  2,  2,  2,  2,  2,  2,  2,  2,  2,  2,\n",
      "         2,  2,  2,  2,  2,  2,  2,  2,  2,  2,  2,  2,  2,  2,  2,  2,  2,  2,\n",
      "         2,  2,  2,  2,  2,  2,  2,  2,  2,  2,  2,  2,  2,  2,  2,  2,  2,  2,\n",
      "         2,  2,  2,  2,  2,  2,  2,  2,  2,  2,  2,  2,  2,  2,  2,  2,  2,  2,\n",
      "         2,  2,  2,  2], device='cuda:2')\n",
      "[0.0028546059038490057, 0.0019347005290910602, 0.002211951883509755, 0.002137968549504876, 0.001906379358842969, 0.0021654481533914804, 0.001962614944204688, 0.0020900778472423553, 0.0020320857875049114, 0.0018672446021810174, 0.001949712517671287, 0.0025082752108573914, 0.001454886863939464, 0.0020517546217888594, 0.0020497089717537165, 0.002268986776471138, 0.001935326843522489, 0.002070443704724312, 0.002005193615332246, 0.00249703461304307, 0.0021302925888448954, 0.0030521126464009285, 0.0014435917837545276, 0.0021350455936044455, 0.0018755391938611865, 0.0021870953496545553, 0.0017994791269302368, 0.0018875012174248695, 0.0015830291667953134, 0.001915126689709723, 0.001979523105546832, 0.0020257753785699606, 0.002218599896878004, 0.002117797965183854, 0.001881866599433124, 0.0020964022260159254, 0.001979351742193103, 0.0023791303392499685, 0.0020593551453202963, 0.001918692491017282, 0.00200927397236228, 0.0020649381913244724, 0.0017609772039577365, 0.0018771762261167169, 0.0019143959507346153, 0.0020101885311305523, 0.0018713095923885703, 0.0021317810751497746, 0.0019850051030516624, 0.002280417364090681, 0.0018036913825199008, 0.0024008890613913536, 0.001983815338462591, 0.0020563448779284954, 0.0018461227882653475, 0.0020994923543184996, 0.001937723602168262, 0.001962499227374792, 0.00198348774574697, 0.0020545879378914833, 0.002043472370132804, 0.0020335428416728973, 0.0021383878774940968, 0.0023230048827826977, 0.00231726816855371, 0.0020094409119337797, 0.002884726505726576, 0.001879012561403215, 0.0024640511255711317, 0.002045152708888054, 0.0017574416706338525, 0.0019552060402929783, 0.0022482939530164003, 0.00197990657761693, 0.0020020303782075644, 0.002021921332925558, 0.001947165816091001, 0.002116416348144412, 0.0017026931745931506, 0.0020293511915951967, 0.0020682401955127716, 0.0019297481048852205, 0.0020211043301969767, 0.0022322579752653837, 0.0016964977839961648, 0.0019788353238254786, 0.002251200145110488, 0.0021971554961055517, 0.0020196952391415834, 0.002105800434947014, 0.002009457442909479, 0.0020863579120486975, 0.0018787647131830454, 0.0019487738609313965, 0.0017781582428142428, 0.0020288280211389065, 0.001887193531729281, 0.0024630078114569187, 0.0022410438396036625, 0.002021613297984004, 0.001999619649723172, 0.0020695964340120554, 0.002046303590759635, 0.0022536662872880697, 0.0021280848886817694, 0.0018212114227935672, 0.0018248570850118995, 0.0020562252029776573, 0.0024230105336755514, 0.002127299318090081, 0.002074712421745062, 0.0017336219316348433, 0.001930634374730289, 0.002179619623348117, 0.00182380061596632, 0.0020233087707310915, 0.002073221607133746, 0.0022783742751926184, 0.0018657920882105827, 0.0024069526698440313, 0.0021524932235479355, 0.0020991156343370676, 0.0019421216566115618, 0.002183617791160941, 0.0017662132158875465, 0.0020543159916996956, 0.0021546296775341034, 0.0020914238411933184, 0.0022024258505553007, 0.0022524443920701742, 0.003185891779139638, 0.0023293073754757643, 0.0019795021507889032, 0.00207032123580575, 0.0024976476561278105, 0.0023759331088513136, 0.0019617732614278793, 0.0021474482491612434, 0.001915670931339264, 0.0016938484041020274, 0.0019285442540422082, 0.0018886238103732467, 0.0019411974353715777, 0.002303539542481303, 0.001956374617293477, 0.0018059421563521028, 0.0020420465152710676, 0.0020283604972064495, 0.0018968734657391906, 0.001975592225790024, 0.0019242380512878299, 0.001930026919580996, 0.0016307730693370104, 0.002058580983430147, 0.0029611424542963505, 0.0019254410872235894, 0.002085030311718583, 0.0021314420737326145, 0.0019672324415296316, 0.0020318739116191864, 0.0022454485297203064, 0.0018977242289111018, 0.0017846638802438974, 0.0018079091096296906, 0.002000922802835703, 0.0019038502359762788, 0.0021572120022028685, 0.002043557818979025, 0.001859312760643661, 0.0020561558194458485, 0.0021790338214486837, 0.0022614297922700644, 0.0020703922491520643, 0.002085142768919468, 0.002095249481499195, 0.0019878880120813847, 0.002065434353426099, 0.002210125094279647, 0.0019634540658444166, 0.0020901476964354515, 0.0019724725279957056, 0.001994469901546836, 0.0020137475803494453, 0.002028191229328513, 0.002078251913189888, 0.0019840893801301718, 0.0022344952449202538, 0.001942487433552742, 0.0016660329420119524, 0.0021366046275943518, 0.0025287640746682882, 0.0020567511674016714, 0.002368280431255698, 0.002584129571914673, 0.0016653696075081825, 0.0018459107959643006, 0.0019565552938729525, 0.002214350737631321, 0.0020400513894855976, 0.001985023496672511, 0.002431863686069846, 0.002035984303802252, 0.002170233055949211, 0.001904308213852346, 0.002078108489513397, 0.0020221651066094637, 0.002051137387752533, 0.0019498072797432542, 0.0019852938130497932, 0.002140461467206478, 0.0019408541265875101, 0.0019512352300807834, 0.0018404562724754214, 0.0022739272098988295, 0.0022670321632176638, 0.002074161311611533, 0.0019539317581802607, 0.0023949735332280397, 0.0022035513538867235, 0.002010911935940385, 0.0018805857980623841, 0.0020678238943219185, 0.0016932351281866431, 0.001986622577533126, 0.0020766831003129482, 0.002026870148256421, 0.0019205821445211768, 0.0018956772983074188, 0.0020664604380726814, 0.0020653835963457823, 0.001984528498724103, 0.0019306313479319215, 0.004011333454400301, 0.014288187026977539, 0.0047608716413378716, 0.003566500497981906, 0.004025757312774658, 0.004600691143423319, 0.004960085730999708, 0.00459596561267972, 0.004497981164604425, 0.0052057900466024876, 0.002673357492312789, 0.002809162950143218, 0.0053215837106108665, 0.003104973118752241, 0.0019081613281741738, 0.00369804329238832, 0.004891301039606333, 0.004016711842268705, 0.004260210786014795, 0.003496399614959955, 0.0005892807967029512, 0.0005841942620463669, 0.0009363592835143209, 0.006101870909333229, 0.0004475463356357068, 0.0019269753247499466, 0.01567092351615429, 0.008238515816628933, 0.0484641008079052, 0.03498275950551033, 0.0002134779206244275, 0.00026917600189335644, 0.00023150046763475984, 0.00260863802395761, 0.0025569829158484936, 0.0009142846101894975, 0.0013899358455091715, 0.0034945111256092787, 0.00030179982422851026, 0.0012337749358266592, 0.007848736830055714, 0.008355154655873775, 0.000909018621314317, 0.0033328800927847624, 0.0009871767833828926, 0.0011286012595519423, 0.000457380258012563, 0.0005385644035413861, 0.00024033496447373182, 0.000924652093090117, 0.0007137756911106408, 0.0003241187077946961, 0.0005697291344404221, 0.0021587645169347525, 0.0018077932763844728, 0.007075859699398279, 0.01111494842916727, 0.009256372228264809, 0.010783805511891842, 0.008440809324383736, 0.011170952580869198, 0.01190329622477293, 0.009601157158613205, 0.009539823047816753, 0.009675742127001286, 0.0075254845432937145, 0.009271304123103619, 0.012120652012526989, 0.0030763589311391115, 0.0007295937975868583, 0.00023873164900578558, 0.0002127323386957869, 0.00011861073289765045, 0.00015715035260654986, 0.0005257627344690263, 0.00021167262457311153, 0.0007318900898098946, 0.00022911574342288077, 0.0004071803705301136, 0.00047494974569417536, 0.0012385258451104164, 0.002297996310517192, 0.001362785929813981, 0.000707452476490289, 0.00023159701959230006, 0.0013898492325097322, 0.0017752861604094505, 0.0012933331308886409, 0.001725637586787343, 0.0013682047137990594, 0.002674906747415662, 0.0037074852734804153, 0.000931078742723912, 0.0008668621885590255, 0.00016069617413450032, 0.0005406515556387603, 9.557756129652262e-06, 4.671781880460912e-06, 3.272192770964466e-05, 2.5657956939539872e-05, 1.9301498468848877e-05, 1.6740203136578202e-05, 2.7062162189395167e-05, 4.861034904024564e-05, 1.675310886639636e-05, 5.2033716201549396e-05, 2.056748780887574e-05, 2.023985689447727e-05, 1.84011096280301e-05, 1.5990808606147766e-05, 9.72225607256405e-05, 9.616974421078339e-05, 5.298676114762202e-05, 8.883051123120822e-06, 0.008974422700703144, 0.011241483502089977, 0.000500237219966948, 6.0976995882811025e-05, 0.001078563160263002, 0.0003725635469891131, 2.114039489242714e-05, 5.662031617248431e-05, 6.33117524557747e-05, 5.6149019656004384e-05, 0.00026505833375267684, 9.677116759121418e-05, 0.0005606216727755964, 0.000608440488576889, 0.0007866910891607404, 0.0006505438359454274, 0.0007640862022526562, 0.0006675591575913131, 0.0005923901917412877, 0.001322366762906313, 0.0005619257572107017, 0.0010400054743513465, 0.00045345010585151613, 0.0008148947963491082, 0.0006681793602183461, 0.000942038488574326, 0.0007801723550073802, 0.0009216532343998551, 0.0006579268956556916, 0.000667839718516916, 0.0007047661929391325, 0.0006936438730917871, 0.0007851136033423245, 0.0010055708698928356, 0.0005036367219872773, 0.0005873615154996514, 0.00039721900247968733, 0.0005624578916467726, 0.00048630553646944463, 0.0009206946124322712, 0.0010122990934178233, 0.0006312249461188912, 0.0007663587457500398, 0.001173575990833342, 0.004358062986284494, 0.0022695825900882483, 0.004356570076197386, 0.003078009933233261, 0.005517230834811926, 0.0035153075587004423, 0.0013479954795911908, 0.005320805124938488, 0.0028927274979650974, 0.0030364643316715956, 0.0036105297040194273, 0.0023593015503138304, 0.002908170921728015, 0.005404553841799498, 0.005044892430305481, 0.0038681153673678637, 0.002994285663589835, 0.002753006061539054, 0.0007425948861055076, 0.0032358013559132814, 0.002275822451338172, 0.0019810700323432684, 0.003244801191613078, 0.0017361771315336227, 0.0031138230115175247, 0.001514768460765481, 0.0032761867623776197, 0.003894503926858306, 0.002803013427183032, 0.0027628776151686907, 0.0022251219488680363, 0.0046080611646175385, 0.002699143486097455, 0.0032130812760442495, 0.004078302066773176, 0.0027040643617510796, 0.0032382060308009386, 0.0002822656824719161, 0.00011287842789897695, 0.00010155438212677836, 0.0004492872394621372, 0.0005463212728500366, 0.00434808898717165, 0.0009364882716909051, 0.0007988934521563351, 0.01550893671810627, 0.0022240516263991594, 0.0013977730413898826, 9.535064600640908e-05, 9.740448149386793e-05, 0.00011379960778867826, 8.943620923673734e-05, 9.418439731234685e-05, 8.7699358118698e-05, 8.779903873801231e-05, 0.00010356603161199018, 0.00010299876885255799, 0.00010149986337637529, 9.210607095155865e-05, 0.00010109851427841932, 8.252338011516258e-05, 9.630747808841988e-05, 9.826488530961797e-05, 9.836035314947367e-05, 9.169224358629435e-05, 0.00010412358824396506, 0.00011098806135123596, 9.255169425159693e-05, 0.00010425120126456022, 9.167961979983374e-05, 0.00010358683357480913, 9.783688437892124e-05, 9.221771324519068e-05, 0.00010509078856557608, 0.00010405519424239174, 0.00011045241262763739, 0.00010405280772829428, 0.00010639126412570477, 9.619910269975662e-05, 9.189348202198744e-05, 9.41614416660741e-05, 9.54786446527578e-05, 8.88541471795179e-05, 8.866306598065421e-05, 0.0001129424199461937, 9.390190098201856e-05, 9.859834244707599e-05, 9.649304411141202e-05, 0.007856651209294796, 0.009785709902644157, 0.0010846199002116919, 0.0008657797588966787, 0.0008284975192509592, 0.0008065587026067078, 0.0007699315319769084, 0.0008203007164411247, 0.001040272181853652, 0.0009518120787106454, 0.0010983813554048538, 0.0004769659717567265, 0.001077094697393477, 0.0011887106811627746, 0.0022546821273863316, 0.0015123173361644149, 0.0006443900056183338, 0.0010891137644648552, 0.002679412951692939, 0.0012554113054648042, 0.0015579559840261936, 0.002431863220408559, 0.003138719592243433, 0.00038795790169388056, 0.004867968149483204, 0.00444363197311759, 0.0007585800485685468, 0.00110766536090523, 0.002052601194009185, 0.0007514797034673393, 0.0006702992832288146, 0.0008247906225733459, 0.000700737873557955, 0.0004972321330569685, 0.0002901466505136341, 0.0007158198277465999, 0.0002943227009382099, 0.0004984846455045044, 0.0002529186604078859, 0.011397621594369411, 0.002661045640707016, 0.0019276113016530871, 0.0014338596956804395, 0.0033095048274844885, 0.0015818391693755984, 0.0027446486055850983, 0.001516871154308319, 0.002241582376882434, 0.0017954878276214004, 0.0018905865726992488, 0.0012746055144816637, 0.0020571399945765734, 0.0009657171904109418, 0.001886008307337761, 0.0020085149444639683, 0.002307231305167079, 0.0010099950013682246, 0.0017129641491919756, 0.0005347675760276616, 0.0007975706830620766, 0.0006168375839479268, 0.0005357802729122341, 0.0004997524665668607, 0.0008660538005642593, 7.436692249029875e-05, 5.5137814342742786e-05, 7.127306889742613e-05, 6.765942089259624e-05, 8.48530835355632e-05, 5.227102155913599e-05, 8.591188816353679e-05, 5.1919236284447834e-05, 4.453579822438769e-05, 0.00010843214113265276, 4.295319740776904e-05, 0.00010464990191394463, 3.974967330577783e-05, 3.9115187973948196e-05, 4.5523327571572736e-05, 8.112208888633177e-05, 5.786872861790471e-05, 8.486626029480249e-05, 6.053795732441358e-05, 8.567432087147608e-05, 0.0006193678709678352, 0.0014968597097322345, 0.002087218454107642, 0.0009406363824382424, 0.0010502813383936882, 0.001618176931515336, 0.001766558038070798, 0.002188396407291293, 0.0009648833656683564, 0.002459567040205002, 0.0014418381033465266, 0.0018219240009784698, 0.0015067292843014002, 0.0019176456844434142, 0.006043199449777603, 4.457822069525719e-05, 6.455022958107293e-05, 0.0002869681629817933, 4.5322063670028e-05, 5.0422444473952055e-05, 0.00013582412793766707, 5.861864337930456e-05, 8.410659938817844e-05, 0.003494730917736888, 0.0011136888060718775, 0.0005210455856285989, 0.0003790895571000874, 0.0004232492356095463, 0.00032309695961885154, 0.0005715577863156796, 0.0004186724254395813, 0.0006092293187975883, 0.0002594619581941515, 0.0003532749542500824, 0.00035971004399470985, 0.0004429154214449227, 0.00022545087267644703, 0.0003445577749516815, 0.0004163396661169827, 0.00039446476148441434, 0.00033296941546723247, 0.0002728463150560856, 0.0004579080268740654, 0.0003934543638024479, 0.006740449462085962, 0.000714557827450335, 0.0004154679481871426, 0.000500028021633625, 0.0005336661706678569, 0.0008330321288667619, 0.00045659879106096923, 0.0004364655469544232, 0.0003049369843211025, 0.0005666667711921036, 0.00037571406573988497, 0.0005547940963879228, 0.0006789315375499427, 0.00028910068795084953, 0.00046033572289161384, 0.0005885455757379532, 0.0002343898668186739, 0.00012144602806074545, 0.0004007865791209042, 0.0006289595621638, 0.0002559012791607529, 0.00024344872508663684, 0.00012193047587061301, 0.0007873911526985466, 2.593380122561939e-05, 0.0001120851156883873, 0.00021853701036889106, 0.0003887087223120034, 0.00017228983051609248, 0.00027126455097459257, 0.00017583202861715108, 0.00013637013034895062, 0.0006241240771487355, 0.0002906005538534373, 0.000588216062169522, 0.00038182034040801227, 0.0022904877550899982, 0.0004165313148405403, 0.0034806597977876663, 0.003955228719860315, 0.004436104092746973, 0.002598976483568549, 0.0011928105959668756, 0.00024498856510035694, 0.0001423017674824223, 0.00021237402688711882, 0.0003200012433808297, 0.00026441208319738507, 0.0002835575432982296, 0.027210935950279236, 0.0036957368720322847, 0.003274549962952733, 0.0021002597641199827, 0.005742550827562809, 0.002155126305297017, 0.015571673400700092, 0.009364762343466282, 0.0029535554349422455, 0.001794802607037127, 0.0016006395453587174, 0.002028579590842128, 0.001557840034365654, 0.0017206177581101656, 0.04397602751851082, 0.0009932232787832618, 0.0008526597521267831, 0.0029729497618973255, 0.002754735993221402, 0.002216432010754943, 0.0035223595332354307, 0.0021615212317556143, 0.0028092588763684034, 0.0015293152537196875, 0.0032223828602582216, 0.002310705604031682, 0.0027980764862149954, 0.0029230150394141674, 0.0016665976727381349, 0.012235475704073906, 0.015733692795038223, 0.013164539821445942, 0.002244609175249934, 0.001929998048581183, 0.0013352253008633852, 0.0016896453453227878, 0.0017132333014160395, 0.001410052995197475, 0.0014174445532262325, 0.0015118442242965102, 0.001396356150507927, 0.0019450646359473467, 0.0018503640312701464, 0.001930378028191626, 0.0016210641479119658, 0.0013790989760309458, 0.0013968040002509952, 0.0012961009051650763, 0.0017742306226864457, 0.0016944262897595763, 0.0015278876526281238, 0.003002909943461418, 0.0016263257712125778, 0.0018070023506879807, 0.0014038215158507228, 0.0015258454950526357, 0.011641337536275387, 0.0016840972239151597, 0.0019145276164636016, 0.002467445330694318, 0.0029565661679953337, 0.006217211484909058, 0.00223909062333405, 0.0011308033717796206, 0.003257259028032422, 0.00323370099067688, 0.0029239002615213394, 0.002825498580932617, 0.0023976778611540794, 0.0023047912400215864, 0.005981197115033865, 0.005615196190774441, 0.006266850978136063, 0.008250023238360882, 0.0031715233344584703, 0.006300497334450483, 0.002704545622691512, 0.0060963099822402, 0.011938883922994137, 0.0003452635428402573, 0.0005630922387354076, 0.00051844835979864, 0.0004297031555324793, 0.0006539616151712835, 0.0004637773090507835, 0.0008584093302488327, 0.0005132422666065395, 0.0006971618859097362, 0.0005577554693445563, 0.00030348586733452976, 0.002156883245334029, 0.00037648333818651736, 0.00040244736010208726, 0.001334663131274283, 0.00023712916299700737, 0.0010215044021606445, 0.0002297757164342329, 0.0001178231104859151, 0.00013397699513006955, 0.00018539131269790232, 0.00020463415421545506, 0.0006020659930072725, 0.00016979790234472603, 0.00030119632720015943, 0.00024134921841323376, 0.0003396070678718388, 0.00013760126603301615, 0.000287182250758633, 0.00014417861530091614, 0.0001434286095900461, 0.0029667734634131193, 0.0027286692056804895, 0.002089311368763447, 0.0028363505844026804, 0.003437235252931714, 0.0024844876024872065, 0.0035898953210562468, 0.0031480335164815187, 0.006113816052675247, 0.0024212293792515993, 0.002321843756362796, 0.004031331278383732, 0.002942568389698863, 0.007997652515769005, 0.0032339170575141907, 0.0019666270818561316, 0.001611284795217216, 0.009201282635331154, 0.0035402574576437473, 0.0050924732349812984, 0.0047738696448504925, 0.0021183311473578215, 0.0006159075419418514, 0.0035356797743588686, 0.0003062684554606676, 6.407726323232055e-05, 4.5946420868858695e-05, 4.80117741972208e-05, 5.8643265219870955e-05, 0.00013145404227543622, 7.606350118294358e-05, 0.0002745135861914605, 0.000139648123877123, 3.190099960193038e-05, 0.0003520177851896733, 6.167894753161818e-05, 0.00038907938869670033, 0.00026955726207233965, 0.0003099616733379662, 0.00013056641910225153, 0.0003302797849755734, 0.0001643514260649681, 0.0002417104842606932, 0.0009097481379285455, 0.0005946769379079342, 0.0008290333789773285, 0.00021160091273486614, 0.00021281992667354643, 0.00927768275141716, 0.0008603727328591049, 0.0008592998492531478, 0.0008337924373336136, 0.0006607315153814852, 0.0007657640380784869, 0.0007868126849643886, 0.0010831531835719943, 0.0006079917075112462, 0.0007305723265744746, 0.002222904236987233, 0.0007410760154016316, 0.0012050253571942449, 0.0006260699592530727, 0.002338140970095992, 0.00014177394041325897, 6.611416029045358e-05, 0.00012063656322425231, 0.00020939715614076704, 0.00011726363300113007, 0.0001872244174592197, 0.0002543253358453512, 0.00019328008056618273, 0.00017664529150351882, 0.00014812021981924772, 0.00017834283062256873, 0.00014844165707472712, 8.281473128590733e-05, 0.00022780238941777498, 0.00017340538033749908, 0.004136493895202875, 0.00683381874114275, 0.0052643283270299435, 0.0030465535819530487, 0.00962946005165577, 0.004745373036712408, 0.0048455893993377686, 0.003359287278726697, 0.003654397325590253, 0.006247105076909065, 0.009986772201955318, 0.003872732864692807, 8.008582881302573e-06, 7.753325917292386e-06, 9.957072506949771e-06, 1.0345771443098783e-05, 6.121129445091356e-06, 1.2158748177171219e-05, 9.023551683640108e-06, 6.40249663774739e-06, 7.395475677185459e-06, 7.635879228473641e-06, 1.1690680366882589e-05, 9.241441148333251e-06, 7.601648576383013e-06, 1.0979300895996857e-05, 1.3598334589914884e-05, 1.1296629054413643e-05, 1.646606506255921e-05, 7.534228188887937e-06, 6.388436304405332e-06, 8.384784450754523e-06, 1.0551678315096069e-05, 1.1060398719564546e-05, 7.177294264693046e-06, 1.2660428183153272e-05, 9.95280879578786e-06, 8.398283171118237e-06, 1.3677929928235244e-05, 1.6642408809275366e-05, 8.983936822914984e-06, 1.1236191312491428e-05, 8.784738383837976e-06, 1.098333450499922e-05, 1.823220736696385e-05, 1.3341285921342205e-05, 1.6044665244407952e-05, 2.252432568639051e-05, 9.820631021284498e-06, 1.2673466699197888e-05, 2.1069419744890183e-05, 9.965509889298119e-06, 4.194466964690946e-05, 1.9061402781517245e-05, 1.1428785910538863e-05, 1.0724167623266112e-05, 1.795504431356676e-05, 1.1904446182597894e-05, 8.529597835149616e-06, 2.494006730557885e-05, 1.3291821232996881e-05, 1.9499957488733344e-05, 1.7369766283081844e-05, 1.6430707546533085e-05, 1.1054679816879798e-05, 8.73195403983118e-06, 7.78114190325141e-06, 8.34095317259198e-06, 8.327576324518304e-06, 7.337209808611078e-06, 1.0650490366970189e-05, 0.0009654181194491684, 0.0007841686019673944, 0.0007507601985707879, 0.0006878187996335328, 0.0006990135880187154, 0.0009894141694530845, 0.0007469074917025864, 0.000848199357278645, 0.0008872227626852691, 0.0009453408420085907, 0.001756194862537086, 0.0008680325117893517, 0.0009338942472822964, 0.000947244290728122, 0.0010586053831502795, 0.0011566637549549341, 0.000876315520144999, 0.0007383747142739594, 0.0008090385235846043, 0.0009350188192911446, 0.0007265630993060768, 0.0009595751762390137, 0.0009426885517314076, 0.0008054431527853012, 0.0012304851552471519, 0.0006782911368645728, 0.0009857406839728355, 0.0007584152044728398, 0.0009451983496546745, 0.0009243115782737732, 0.0002778567431960255, 0.00017249700613319874, 0.00020428681455086917, 0.00024753116304054856, 0.00018868186452891678, 0.000104461309092585, 0.00029517392977140844, 0.0002549731289036572, 0.0001151755204773508, 0.0002562981972005218, 0.0002443217672407627, 0.0002927391033153981, 0.00017269780801143497, 0.001278315088711679, 0.0013913437724113464, 0.001047062105499208, 0.0009695463231764734, 0.0005838476354256272, 0.00046287328586913645, 0.0009426319156773388, 0.0020324017386883497, 9.549805690767244e-05, 0.00010030165140051395, 0.00012582451745402068, 0.00012041713489452377, 0.00010896690946538001, 0.0001199812613776885, 9.675084584159777e-05, 0.00012378848623484373, 0.00011347959662089124, 9.920273441821337e-05, 8.691130642546341e-05, 0.00011446949793025851, 9.676840272732079e-05, 0.00011916840594494715, 0.00011985169112449512, 0.00010747495252871886, 0.00012077808059984818, 0.00012035588588332757, 0.00012105835048714653, 0.00011910356261068955, 0.00012971383694093674, 0.00010202648263657466, 0.00011836268095066771, 0.00012595542648341507, 0.0001151850083260797, 0.0001247097970917821, 0.00011172306403750554, 0.00012756157957483083, 0.00011606729094637558, 0.00012010207865387201, 0.00012708328722510487, 0.00011164993338752538, 0.00437043234705925, 0.0014197340933606029, 0.00424569146707654, 0.00605412432923913, 0.0029047622811049223, 0.003028526669368148, 0.0002639539015945047, 0.0003030791413038969, 0.00031957137980498374, 0.0010521921794861555, 0.0006318788509815931, 0.0006265343981795013, 0.0016192951006814837, 0.0007685483433306217, 0.0008438173681497574, 0.0006722757243551314, 0.0006238669739104807, 0.0069849188439548016, 0.0007821237086318433, 0.001511923037469387, 0.0004790983221028, 0.003692398313432932, 0.00074671272886917, 0.0016852006083354354, 0.0006670953589491546, 0.0017795305466279387, 0.0009146161610260606, 0.0010974342003464699, 0.00039657019078731537, 0.001072422252036631, 0.0011434154585003853, 0.000380497716832906, 0.0011071033077314496, 0.0004964534309692681, 0.001223936676979065, 0.0014052785700187087, 0.00830542016774416, 0.006860582623630762, 0.010215294547379017, 0.0116179333999753, 0.005823908373713493, 0.011575564742088318, 0.006356288678944111, 2.4830083930282854e-05, 1.8551550965639763e-05, 2.03582453650597e-06, 2.3081875042407773e-05, 1.0238890354230534e-05, 2.4148601369233802e-05, 1.640347250031482e-06, 2.270924233016558e-05, 2.736721762630623e-05, 2.553694685047958e-05, 2.4829618268995546e-05, 2.269502692797687e-05, 2.7302628950565122e-05, 2.069310357910581e-05, 2.0724977730424143e-05, 2.7918455089093186e-05, 2.5763700250536203e-05, 2.4603947167634033e-05, 2.1899386410950683e-05, 2.477673115208745e-05, 2.64698301180033e-05, 2.1007004761486314e-05, 2.683635102584958e-05, 2.0966970623703673e-05, 1.6807933207019232e-05, 2.2544631065102294e-05, 2.085822598019149e-05, 2.286982453370001e-05, 2.263967144244816e-05, 2.8956099413335323e-05, 0.00011600829748203978, 0.00010327369818696752, 7.871280104154721e-05, 0.00010511321306694299, 7.554879266535863e-05, 0.00010494096204638481, 8.790362335275859e-05, 0.0002485412987880409, 6.138104799902067e-05, 8.950602932600304e-05, 0.00011077761155320331, 6.600797496503219e-05, 8.02866998128593e-05, 0.00011416097549954429, 0.00011380346404621378, 0.0001417444145772606, 0.00011366277612978593, 3.602595461416058e-05, 8.817435445962474e-05, 6.415303505491465e-05, 9.510224481346086e-05, 5.246428827376803e-06, 0.00011830915900645778, 0.00012138943566242233, 9.182858048006892e-05, 0.00013236167433205992, 9.935007255990058e-05, 9.173039870802313e-05, 6.505491910502315e-05, 0.00017252087127417326, 0.00010018827015301213, 5.846660860697739e-05, 0.00010782747995108366, 3.788472531596199e-05, 6.418766133720055e-05, 0.00011834158794954419, 8.881868416210636e-05, 0.00010550000297371298, 8.300485205836594e-05, 7.085684046614915e-05, 0.00010072607983602211, 9.525875066174194e-05, 0.00011130679922644049, 0.00012572672858368605, 0.00011973561777267605, 8.846041600918397e-05, 8.084178989520296e-05, 8.128101762849838e-05, 9.819808474276215e-05, 0.00016974314348772168, 0.0001384360803058371, 8.744354272494093e-05, 0.00013339784345589578, 0.00010230093175778165, 0.00010124001710209996, 6.826641038060188e-05, 8.315528248203918e-05, 0.00013369803491514176, 7.292295777006075e-05, 0.00017670127272140235, 0.00010474575537955388, 0.0003337335947435349, 4.596769576892257e-05, 4.368838926893659e-05, 5.094504376756959e-05, 0.00013396430585999042, 5.0722435844363645e-05, 6.778619717806578e-05, 0.000291355507215485, 3.2357384043280035e-05, 5.449475793284364e-05, 4.063772576046176e-05, 3.997154999524355e-05, 3.9157483115559444e-05, 0.0002756984322331846, 6.794224464101717e-05, 0.0001310098305111751, 0.000488868507090956, 0.00014004227705299854, 4.756174894282594e-05, 0.00016082345973700285, 7.448720134561881e-05, 4.931828152621165e-05, 3.976140942540951e-05, 4.533183528110385e-05, 0.000512094353325665, 0.00048285440425388515, 0.00015549911768175662, 0.00018807596643455327, 0.0001764623011695221, 0.00011095218360424042, 0.00012791586050298065, 6.231579754967242e-05, 0.00015663821250200272, 0.00017225519695784897, 4.738236384582706e-05, 0.00019744329620152712, 0.00016078456246759742, 0.00016060091729741544, 0.00017192985978908837, 0.00015767458535265177, 7.285492029041052e-05, 0.00017420783115085214, 0.00013813693658448756, 5.1753853767877445e-05, 0.00010722578008426353, 0.00013615598436444998, 5.472151315188967e-05, 0.0011481607798486948, 6.549071258632466e-05, 2.27770706260344e-05, 0.00016843201592564583, 0.00047572102630510926, 0.0002093182847602293, 0.0003982129564974457, 0.0006606230745092034, 5.788332782685757e-05, 0.0019444829085841775, 0.0017003411194309592, 0.002155587775632739, 0.0015014003729447722, 0.0022732382640242577, 0.0011442567920312285, 0.0012729403097182512, 0.003042754717171192, 0.0016090864082798362, 0.003718830645084381, 0.0016626184806227684, 0.0010958804050460458, 0.0008206190541386604, 0.0018625628435984254, 0.0013310021022334695, 0.0020398234482854605, 0.000931011512875557, 0.002156525384634733, 0.002409212291240692, 0.0020219366997480392, 0.0018606673693284392, 0.0005710244295187294, 0.00038087842403911054, 0.00026719007291831076, 0.00022713276848662645, 0.00025596717023290694, 0.0005341623327694833, 0.00020339932234492153, 0.0009928735671564937, 0.0003524137136992067, 0.0006505823694169521, 0.00036760259536094964, 0.0003108206146862358, 0.0004008738324046135, 0.0002814234176184982, 0.0003072950930800289, 0.00046182601363398135, 0.000203504620003514, 0.009623614139854908, 0.01038995198905468, 0.0008586847106926143, 2.5731296773301437e-06, 2.3574100396217545e-06, 2.520288717278163e-06, 2.561658902777708e-06, 2.166975946238381e-06, 2.5151045974780573e-06, 2.0130798930040328e-06, 2.6207269456790527e-06, 2.453764636811684e-06, 2.5956735498766648e-06, 2.2461317712441087e-06, 2.355083779548295e-06, 2.693426040423219e-06, 2.58573709288612e-06, 2.8009355901303934e-06, 2.3334564502874855e-06, 2.3708817025180906e-06, 2.6868444820138393e-06, 2.381973672527238e-06, 2.5991873826569645e-06, 2.5789777282625437e-06, 2.087558414132218e-06, 2.591086513348273e-06, 2.1806613403896336e-06, 2.7242501801083563e-06, 2.2159576928970637e-06, 2.450474994475371e-06, 2.358037136218627e-06, 2.2969304609432584e-06, 2.460044242980075e-06, 2.5346773782075616e-06, 2.6340967451687902e-06, 2.1004511836508755e-06, 2.495183480277774e-06, 2.285751179442741e-06, 2.2821830043540103e-06, 2.418420763206086e-06, 2.731989980020444e-06, 2.3698983113717986e-06, 2.351293460378656e-06, 3.094130761382985e-06, 2.4685236894583795e-06, 2.2088315745349973e-06, 2.3619793410034617e-06, 2.125817218256998e-06, 2.231790858786553e-06, 2.130107986886287e-06, 3.3631538371992065e-06, 2.382410229984089e-06, 2.5615918275434524e-06, 2.5125191314145923e-06, 2.1236342035990674e-06, 2.460664518366684e-06, 2.5287517928518355e-06, 2.699033984754351e-06, 2.145707867384772e-06, 1.9372034785192227e-06, 2.0831064375670394e-06, 2.4149237560777692e-06, 2.208422074545524e-06, 2.2972615170147037e-06, 2.211953415098833e-06, 2.4505782221240224e-06, 2.767988689811318e-06, 2.428286052236217e-06, 1.9923024865420302e-06, 2.5452952741034096e-06, 2.5608151190681383e-06, 2.870683601940982e-06, 2.4096304969134508e-06, 2.5021695364557672e-06, 2.2729805095877964e-06, 2.749279246927472e-06, 2.3764384877722478e-06, 2.5379933958902257e-06, 2.324676870557596e-06, 2.582560000519152e-06, 2.30627279051987e-06, 2.5682099931145785e-06, 2.5036295028257882e-06, 2.3840439098421484e-06, 2.4573398604843533e-06, 2.3609377421962563e-06, 2.2427991552831372e-06, 2.4358789687539684e-06, 2.11007727557444e-06, 2.326723233636585e-06, 2.5851561531453626e-06, 2.777147528831847e-06, 2.6004011033364804e-06, 2.644532969497959e-06, 2.742383685472305e-06, 2.2109991277829977e-06, 2.5904148515110137e-06, 2.4265470983664272e-06, 2.4669611775607336e-06, 2.4399043923040153e-06, 2.5927292881533504e-06, 2.7594105631578714e-06, 2.0991203655285062e-06, 2.3048930870572804e-06, 2.682353169802809e-06, 2.4210232822952094e-06, 2.389939027125365e-06, 2.41600650952023e-06, 1.949496891029412e-06, 2.320206249351031e-06, 2.4575590487074805e-06, 2.1754294721176848e-06, 1.997267190745333e-06, 2.33395121540525e-06, 2.4619337182230083e-06, 2.3718173451925395e-06, 2.1019866380811436e-06, 0.0002331603318452835, 0.00020165430032648146, 0.00017827832198236138, 0.00015154819993767887, 0.0001457667676731944, 0.00013783320900984108, 0.00019672480993904173, 0.0001659836998442188, 0.0001977248612092808, 0.0001883314544102177, 0.00020007257990073413, 0.00016666964802425355, 0.0001599477109266445, 0.00016446434892714024, 0.00018589256796985865, 0.00021118558652233332, 0.00019295336096547544, 0.00016077129112090915, 0.0001923293893923983, 0.00017155414388980716, 0.00014491972979158163, 0.0001893635926535353, 0.00017305591609328985, 0.0001833543210523203, 0.0001744016190059483, 0.00014810007996857166, 0.00016280949057545513, 0.02708938531577587, 0.00033058298868127167, 7.40240138838999e-05, 0.00012736748612951487, 9.159876208286732e-05, 8.702440391061828e-05, 7.422718772431836e-05, 0.00010640300024533644, 7.794014527462423e-05, 9.446163312532008e-05, 9.250811126548797e-05, 6.222284719115123e-05, 0.00010561617091298103, 8.69008872541599e-05, 8.391429582843557e-05, 8.56630431371741e-05, 8.929050818551332e-05, 7.903681398602203e-05, 9.211578435497358e-05, 7.160042878240347e-05, 6.456245318986475e-05, 9.716377826407552e-05, 9.212818986270577e-05, 9.850755304796621e-05, 8.845858974382281e-05, 7.28820959920995e-05, 7.522344822064042e-05, 0.00011812673619715497, 7.414341234834865e-05, 0.00010303846647730097, 0.00010480077617103234, 9.112642146646976e-05, 0.00010009437392000109, 8.801087824394926e-05, 0.032581884413957596, 0.009782649576663971, 0.007956749759614468, 0.00764479348435998, 0.000261157430941239, 0.00024383922573179007, 0.00028222354012541473, 0.00026601308491081, 0.0002473399508744478, 0.00022475207515526563, 0.0002465698344167322, 0.00025654121418483555, 0.00024243784719146788, 0.00023253024846781045, 0.0002866952563636005, 0.00020035360648762435, 0.00026653902023099363, 0.0002600577718112618, 0.0002602864697109908, 0.00026971762417815626, 0.0002550340723246336, 0.0002596549456939101, 0.0002592639939393848, 0.00023537206288892776, 0.0002450899628456682, 0.00028264897991903126, 0.0002741386997513473, 0.00026005724794231355, 0.0007882049540057778, 0.0014514403883367777, 0.001999531639739871, 0.0007487708935514092, 0.0014914899365976453, 0.0005967420875094831, 0.0013098304625600576, 0.0014352593570947647, 0.003386201336979866, 0.002165383892133832, 0.010378601960837841, 0.010407200083136559, 0.004093156661838293, 7.532339805038646e-05, 6.90945380483754e-05, 8.077738311840221e-05, 7.406809163512662e-05, 7.917247421573848e-05, 7.601980905747041e-05, 6.770015897927806e-05, 7.794219709467143e-05, 7.290552457561716e-05, 5.455175050883554e-05, 6.82112222420983e-05, 7.781910244375467e-05, 6.151478009996936e-05, 7.463830115739256e-05, 7.451041165040806e-05, 7.638226816197857e-05, 7.035760791040957e-05, 7.345263293245807e-05, 7.030553388176486e-05, 7.288537017302588e-05, 8.174659160431474e-05, 7.092520536389202e-05, 6.87601204845123e-05, 6.054848927306011e-05, 6.027254858054221e-05, 6.850129284430295e-05, 7.988896686583757e-05, 6.763829151168466e-05, 6.53905954095535e-05, 7.21902833902277e-05, 7.207779708551243e-05, 7.639563409611583e-05, 7.760764856357127e-05, 7.339095463976264e-05, 9.318904631072655e-05, 7.447904499713331e-05, 7.403474592138082e-05, 7.931069558253512e-05, 7.82754723331891e-05, 7.026469393167645e-05, 8.221757161663845e-05, 6.411025970010087e-05, 0.0010882796486839652, 0.0017331388080492616, 0.002232887549325824, 0.001038264250382781, 0.0011018250370398164, 0.0016575081972405314, 0.0014240788295865059, 0.0014088377356529236, 0.0014654708793386817, 0.00094583973987028, 0.001103239948861301, 0.0013702840078622103, 0.0012281234376132488, 0.0013047943357378244, 0.0007004096987657249, 0.000789618119597435, 0.00035354308784008026, 0.0010101974476128817, 0.0017963728168979287, 0.029306402429938316, 0.0019832358229905367, 0.0019034277647733688, 0.0018779721576720476, 0.0018875133246183395, 0.0017311781411990523, 0.0019404400372877717, 0.0015344992280006409, 0.002317563397809863, 0.0024356681387871504, 0.0022226297296583652, 0.0010344012407585979, 0.002079480094835162, 0.0017677799332886934, 0.001604115474037826, 0.0016670728800818324, 0.0017323142383247614, 0.027164656668901443, 0.0006829746998846531, 0.0004817918816115707, 0.0005032367189414799, 0.001694230712018907, 0.00032723986078053713, 0.0004555823397822678, 0.00029200862627476454, 0.00042124176979996264, 0.0006046613561920822, 0.0005764078232459724, 0.0004732473462354392, 0.0012654801830649376, 0.0014134859666228294, 0.000994400237686932, 0.0006839588168077171, 0.001305137760937214, 0.0006658904603682458, 0.0016300514107570052, 0.0012199695920571685, 0.0013020122423768044, 0.003612445667386055, 0.0018655427265912294, 0.0001253233349416405, 0.00016106954717542976, 0.00019577630155254155, 0.00025934382574632764, 0.00024390009639319032, 0.00016936838801484555, 0.0001764432672644034, 0.0002446161233820021, 0.00013047084212303162, 0.00017864718392957002, 0.00015195993182715029, 0.0001830189721658826, 0.0001276770926779136, 0.00011409087164793164, 0.00020720619068015367, 0.00018707277195062488, 0.00019866797083523124, 0.0002072572970064357, 9.361681441077963e-05, 0.035575706511735916, 0.0006905946065671742, 0.0005225001950748265, 0.00043237069621682167, 0.0010720775462687016, 0.00056543352548033, 0.0011878599179908633, 0.00032578929676674306, 0.0008591548539698124, 0.002210828009992838, 0.0028457334265112877, 0.0008637307328172028, 0.00033778962097130716, 0.0010284865275025368, 0.0009762411355040967, 0.001321449177339673, 0.0006328342715278268, 0.0009451922960579395, 0.001023014890961349, 0.0017885655397549272, 0.00032694434048607945, 0.0005254827556200325, 0.00027385493740439415, 0.0004257776017766446, 0.0006636306061409414, 0.0004175598733127117, 0.0003886986232828349, 0.0003009317151736468, 0.0002876825165003538, 0.000502905051689595, 0.0007607807638123631, 0.00034324461012147367, 0.0004788530059158802, 0.0006918165599927306, 0.00044528787839226425, 0.0008004490518942475, 0.0011134903179481626, 0.001193209202028811, 0.0012445254251360893, 0.0007744114263914526, 0.0012142822379246354, 0.0014855008339509368, 0.0011957682436332107, 0.001440310152247548, 0.0013288456248119473, 0.0012879453133791685, 0.0013783962931483984, 0.0013985132100060582, 0.0003929179219994694, 0.0003127235686406493, 0.0005547318723984063, 0.0005967011093162, 0.0005163827445358038, 0.027530241757631302, 0.0008612739038653672, 0.0007228729082271457, 0.000618692662101239, 0.0009573792922310531, 0.0009177149622701108, 0.001968754455447197, 0.0009939464507624507, 0.0008628065115772188, 0.0009753053891472518, 0.0006411942886188626, 0.0009536649449728429, 0.00015953027468640357, 0.00030861582490615547, 0.00019708697800524533, 0.00013877757010050118, 0.00018528486543800682, 0.00030687564867548645, 8.861464448273182e-05, 0.003061298979446292, 0.0007256050012074411, 0.000786835968028754, 0.0005283867358230054, 0.0005070972838439047, 0.00036005303263664246, 0.0007179587264545262, 0.0009933336405083537, 0.0001820902107283473, 0.00013126300473231822, 0.0006571408011950552, 0.0001280288997804746, 0.0005762752261944115, 0.001033853623084724, 0.0003381562128197402, 0.0008261615294031799, 0.0009352620108984411, 0.0008223857148550451, 0.0011321286438032985, 0.0010059369960799813, 0.001035306486301124, 0.0010690224589779973, 0.0010236414382234216, 0.001170908915810287, 0.0007560477824881673, 0.0010084201348945498, 0.0009489130461588502, 0.0008380553917959332, 0.0011042748810723424, 0.001020682044327259, 0.001003709388896823, 0.0010648779571056366, 0.0009978340240195394, 0.043870389461517334, 0.0011594437528401613, 0.0005774287856183946, 0.0003600355703383684, 0.0012146522058174014, 0.0005117029650136828, 0.0006712045869790018, 6.388556357705966e-05, 5.0252023356733844e-05, 4.425130464369431e-05, 0.0004558670334517956, 0.0002130483480868861, 0.0002099598350469023, 0.00025670655304566026, 0.0002564812602940947, 0.00026284350315108895, 0.00042162949102930725, 0.0002875454956665635, 0.0002690250694286078, 0.00035399929038248956, 0.0002492765779606998, 0.0003653916937764734, 0.0003304940473753959, 0.00013761836453340948, 0.00038347873487509787, 0.0003280233941040933, 0.0003381070273462683, 0.0001339939481113106, 0.0003417889238335192, 0.0004055958706885576, 0.00026328672538511455, 0.005396898370236158, 0.03288646787405014, 0.0004064371751155704, 0.00020273351401556283, 0.0004064385429956019, 0.00021432223729789257, 0.0005971991340629756, 0.0005329427076503634, 0.0004906016401946545, 0.0018990427488461137, 0.0007285316823981702, 0.0007440221379511058, 0.000655193580314517, 0.0012131696566939354, 0.0005109602934680879, 0.0020931840408593416, 0.000598904793150723, 0.000670743000227958, 0.0006856031832285225, 0.0005549215129576623, 0.0005183594184927642, 0.0005721553461626172, 0.0005488886381499469, 0.0005040070973336697, 0.0005258918972685933, 0.0005337320035323501, 0.0005521581042557955, 0.0005147989140823483, 0.0005495718796737492, 0.00042226348887197673, 0.0005619109724648297, 0.0004928009584546089, 0.0005320782074704766, 0.0005083321593701839, 0.0005510035553015769, 0.0005244147032499313, 0.0004393165872897953, 0.0005153641104698181, 0.0005338830524124205, 0.0005342675722204149, 0.0005552300135605037, 0.0005225745844654739, 0.0005037086084485054, 0.0005524639855138958, 0.000544980401173234, 0.0004935755277983844, 0.0005058630486018956, 0.0005137838306836784, 0.0005416282801888883, 0.0005289115360938013, 0.000509188394062221, 0.0004586452560033649, 0.0005096096429042518, 0.0005461549735628068, 0.0004780282324645668, 0.0005159891443327069, 0.0007323373574763536, 0.0005129158380441368, 0.0005802156520076096, 0.0006861367146484554, 0.0004959987127222121, 0.0004793052503373474, 0.017750941216945648, 1.3475921605277108e-06, 2.058539166682749e-06, 1.557838231747155e-06, 1.6882401041584671e-06, 2.0561376459227176e-06, 1.4039135294297012e-06, 1.5350993862739415e-06, 5.549909474211745e-07, 1.0189113481828826e-06, 2.5447036477999063e-06, 1.1944827065235586e-06, 1.8724404071690515e-06, 1.8863953528125421e-06, 9.625127859180793e-07, 1.4211866528057726e-06, 1.3489043340086937e-06, 1.377420630888082e-06, 0.0036013745702803135, 0.001308991457335651, 0.002476436784490943, 0.003689934266731143, 0.004108802881091833, 0.002892779652029276, 0.0036448955070227385, 0.0008458955562673509, 0.000757128291297704, 0.00042974817915819585, 0.0007142803515307605, 0.0008282027556560934, 0.000646998465526849, 0.000456271693110466, 0.0005631999229080975, 0.0005837252829223871, 0.0011503471760079265, 0.0022961038630455732, 0.0006832516519352794, 0.00025810112128965557, 0.0007780782179906964, 0.009723118506371975, 0.0038272857200354338, 0.0011338678887113929, 0.0017188159981742501, 0.0041608805768191814, 0.005152896046638489, 0.0017376674804836512, 0.0018199417972937226, 0.003799548139795661, 0.004124080296605825, 0.0015696216141805053, 0.00021387077867984772, 0.0006199440103955567, 0.0008728105458430946, 0.0013708536280319095, 0.0013010287657380104, 0.0004557242791634053, 0.00033443502616137266, 0.00076313316822052, 0.0011081643169745803, 0.0009176433086395264, 0.0015747853321954608, 0.0008177621639333665, 0.00021985548664815724, 0.0032056986819952726, 0.009283755905926228, 1.764393164194189e-05, 1.1571886716410518e-05, 1.0800443305925e-05, 1.6853893612278625e-05, 8.750437700655311e-06, 9.053791472979356e-06, 1.0931783435808029e-05, 2.638300065882504e-05, 1.0868473509617615e-05, 1.856735434557777e-05, 9.011494512378704e-06, 1.715915095701348e-05, 2.1845231458428316e-05, 7.768820796627551e-05, 1.976435123651754e-05, 9.071164640772622e-06, 9.182471330859698e-06, 9.925264748744667e-06, 4.840627298108302e-05, 1.1687104233715218e-05, 9.402336218045093e-06, 1.3256736565381289e-05, 1.14704080260708e-05, 1.6610152670182288e-05, 8.736517884244677e-06, 1.5509593140450306e-05, 1.8072491002385505e-05, 9.571745067660231e-06, 2.247275369882118e-05, 9.63367256190395e-06, 8.92036496225046e-06, 2.2779238861403428e-05, 1.9652767150546424e-05, 1.0579166882962454e-05, 1.7193122403114103e-05, 8.796002475719433e-06, 1.3882963685318828e-05, 1.6711252101231366e-05, 1.2243632227182388e-05, 2.5696319426060654e-05, 9.01578641787637e-06, 8.97136669664178e-06, 2.1648616893799044e-05, 1.0273925909132231e-05, 8.822995368973352e-06, 8.306889867526479e-06, 1.5159605027292855e-05, 1.5212685866572428e-05, 2.8923259378643706e-05, 1.01121640909696e-05, 1.6218498785747215e-05, 1.0216978807875421e-05, 8.78538685356034e-06, 8.659900231577922e-06, 2.2041276679374278e-05, 2.1324607587303035e-05, 1.4367392395797651e-05, 1.867724677140359e-05, 2.5735685994732194e-05, 1.901966425066348e-05, 1.0843097697943449e-05, 1.194806827697903e-05, 1.4013180589245167e-05, 4.449069456313737e-05, 9.083894110517576e-05, 2.181093441322446e-05, 9.212202712660655e-06, 2.863847475964576e-05, 9.877708180283662e-06, 1.0558255780779291e-05, 1.1637871466518845e-05, 9.30051646719221e-06, 1.3476012099999934e-05, 8.84568908077199e-06, 2.6407360564917326e-05, 2.5475677830399945e-05, 8.896596227714326e-06, 9.43262693908764e-06, 1.6767438864917494e-05, 8.93514425115427e-06, 1.302732289332198e-05, 1.6564137695240788e-05, 8.907222763809841e-06, 1.1428244761191308e-05, 9.282047358283307e-06, 2.4676550310687162e-05, 1.638007233850658e-05, 2.790982944134157e-05, 9.95222399069462e-06, 9.69337997958064e-06, 9.877461707219481e-06, 1.0472159374330658e-05, 1.6647760276100598e-05, 1.957883796421811e-05, 2.027976734098047e-05, 1.943076858879067e-05, 8.879605047695804e-06, 8.77289585332619e-06, 1.6459409380331635e-05, 1.1048221495002508e-05, 1.587207952979952e-05, 1.0465749255672563e-05, 2.137503179255873e-05, 1.4283180462371092e-05, 9.195275197271258e-06, 1.0613928679958917e-05, 1.4694271158077754e-05, 1.2546192920126487e-05, 2.5254374122596346e-05, 1.4995091078162659e-05, 9.243130989489146e-06, 9.745267561811488e-06, 9.703260730020702e-06, 2.00795620912686e-05, 1.734742363623809e-05, 9.630903150537051e-06, 8.684469321451616e-06, 0.013303184881806374, 0.0001485738466726616, 0.0006720529054291546, 0.0005177940474823117, 0.0001395944127580151, 0.0004249502089805901, 0.00028798868879675865, 0.00024838821263983846, 0.00029233843088150024, 0.0018180691404268146, 0.003983417060226202, 0.0015765514690428972, 0.0003078649751842022, 6.861152360215783e-05, 7.753182580927387e-05, 8.166668703779578e-05, 7.429377728840336e-05, 8.769864507485181e-05, 8.911891927709803e-05, 8.414599869865924e-05, 6.947021756786853e-05, 6.795571971451864e-05, 6.947598012629896e-05, 5.17967164341826e-05, 6.917534483363852e-05, 4.5296514144865796e-05, 6.60174191580154e-05, 6.529939128085971e-05, 4.693351365858689e-05, 7.64813885325566e-05, 3.9355010812869295e-05, 7.03903497196734e-05, 7.965892291394994e-05, 8.741451893001795e-05, 7.994614134076983e-05, 7.104349788278341e-05, 6.674369069514796e-05, 7.449532859027386e-05, 6.434712850023061e-05, 8.917946979636326e-05, 7.905543316155672e-05, 8.059595711529255e-05, 6.665125692961738e-05, 6.470483640441671e-05, 6.828582991147414e-05, 6.202398799359798e-05, 5.7801360526354983e-05, 7.731736695859581e-05, 7.705823372816667e-05, 6.457408017013222e-05, 7.873170397942886e-05, 7.273161463672295e-05, 7.52298510633409e-05, 7.282379374373704e-05, 7.353239925578237e-05, 5.803373642265797e-05, 7.812596595613286e-05, 8.383439853787422e-05, 7.467394607374445e-05, 5.589432475971989e-05, 8.353019802598283e-05, 8.187097409972921e-05, 6.5310210629832e-05, 6.779391696909443e-05, 4.6168755943654105e-05, 6.819813279435039e-05, 6.066499190637842e-05, 6.74617404001765e-05, 7.344732148339972e-05, 8.373742457479239e-05, 7.19253221177496e-05, 7.051432476146147e-05, 6.718529766658321e-05, 6.833330553490669e-05, 7.496093166992068e-05, 6.945884524611756e-05, 7.709301280556247e-05, 8.267338125733659e-05, 7.375019049504772e-05, 7.038172770990059e-05, 5.457619045046158e-05, 6.159239273983985e-05, 8.027022704482079e-05, 0.00010418317833682522, 7.163146801758558e-05, 6.248823046917096e-05, 3.1587504054186866e-05, 7.695122621953487e-05, 6.119409954408184e-05, 6.956175639061257e-05, 7.509436545660719e-05, 5.568424239754677e-05, 7.66521116020158e-05, 7.2101793193724e-05, 7.905223174020648e-05, 5.553171649808064e-05, 7.504255336243659e-05, 7.172937330324203e-05, 6.9115158112254e-05, 7.14808120392263e-05, 7.049342821119353e-05, 5.239239180809818e-05, 6.415630923584104e-05, 7.791310781612992e-05, 7.85888551035896e-05, 7.120725058484823e-05, 0.00010569357982603833, 6.174542068038136e-05, 7.085893594194204e-05, 7.208690658444539e-05, 7.719176210230216e-05, 5.454485290101729e-05, 8.567683835281059e-05, 6.278380897128955e-05, 7.960248331073672e-05, 0.0008413560572080314, 0.0009142318740487099, 0.00021180848125368357, 0.0005866141873411834, 0.00039147911593317986, 0.0004751891829073429, 0.0005470793112181127, 0.001028303406201303, 0.000534508959390223, 0.0005873637273907661, 0.0004619065730366856, 0.0004901585634797812, 0.0004897344624623656, 0.00038288073847070336, 0.00033712919685058296, 0.00097201595781371, 0.0004861723573412746, 0.0009626466198824346, 0.00047120280214585364, 0.0005417094216682017, 0.00037330170744098723, 0.00040008212090469897, 0.0005896060029044747, 0.0002525193558540195, 0.00019754683307837695, 0.0005797010380774736, 0.0006632725126110017, 0.000580114487092942, 9.507860522717237e-05, 8.91888776095584e-05, 9.792363562155515e-05, 9.792437049327418e-05, 8.142345905071124e-05, 9.256509656552225e-05, 9.454328392166644e-05, 9.148444951279089e-05, 9.578339813742787e-05, 8.760575292399153e-05, 9.459876309847459e-05, 9.709281584946439e-05, 0.0001061531002051197, 5.132172009325586e-05, 9.510856034466997e-05, 0.00010233706416329369, 0.0012891112128272653, 0.00093038723571226, 0.0009837279794737697, 0.0009996446315199137, 0.0019226178992539644, 0.0012242798693478107, 0.0011570402421057224, 0.0015494482358917594, 0.0010054506128653884, 0.0006568934768438339, 0.001349343452602625, 0.004134252667427063, 0.0027521655429154634, 0.00485756853595376, 8.06865282356739e-05, 2.1349964299588464e-05, 4.417438685777597e-05, 0.00027492514345794916, 8.716676529729739e-05, 0.00032327717053703964, 0.00011571498907869682, 0.00015016856195870787, 0.000134896399686113, 0.00016337328997906297, 0.00014240269956644624, 0.00015754268679302186, 0.00042851321632042527, 9.85702863545157e-05, 0.00018968262884300202, 0.00017210483201779425, 0.0001655681262491271, 0.00016664277063682675, 0.00013007772213313729, 0.00013168742589186877, 0.00015619223995599896, 0.00012783454440068454, 0.00015508729848079383, 0.00020272536494303495, 0.0005954288062639534, 0.0004689054621849209, 0.0004409202956594527, 0.00024808550369925797, 0.0005446219001896679, 0.0005084564909338951, 0.0006141531048342586, 0.0006644029053859413, 0.0005769749986939132, 0.0003494383709039539, 0.000263621419435367, 0.0005894391797482967, 0.0005965351010672748, 0.0005818065837956965, 0.0008384780958294868, 0.0005516912788152695, 0.0006065101479180157, 0.00025722369900904596, 0.0005001662648282945, 0.0005752217257395387, 0.0006163992220535874, 0.0006729147280566394, 0.0002931549388449639, 0.032048407942056656, 0.007042406592518091, 0.006199480500072241, 0.007987011224031448, 0.0072870030999183655, 0.0067408159375190735, 0.007812365423887968, 0.0030218525789678097, 0.0012588434619829059, 0.0013572241878136992, 0.0012502429308369756, 0.001413121703080833, 0.0014906490687280893, 0.00039767968701198697, 0.0011539841070771217, 0.0016230784822255373, 0.0014465891290456057, 0.0011204720940440893, 0.0011225341586396098, 0.0013652682537212968, 0.0012149708345532417, 0.0014604701427742839, 0.0010968043934553862, 0.0012963165063410997, 0.0006501738680526614, 0.0011649198131635785, 0.0011303559876978397, 0.001352159772068262, 0.0011328533291816711, 0.0009762576082721353, 0.0007744221366010606, 0.0005162854795344174, 0.0005907600279897451, 0.0006338420207612216, 0.0004328208160586655, 0.00047527631977573037, 0.0005630493978969753, 0.0007644633878953755, 0.0004524039104580879, 0.001039573922753334, 0.0006247006240300834, 0.0002150093496311456, 0.0005843184771947563, 0.0008440749952569604, 5.272868656902574e-05, 0.0012755756033584476, 0.0008309906697832048, 0.0005428889999166131, 0.0014860983937978745, 0.00967330951243639, 0.002040666062384844, 0.0026802108623087406, 0.0010966149857267737, 0.0002513138751965016, 0.00039424459100700915, 0.0004307744966354221, 0.00046387637848965824, 0.0007489398121833801, 0.0008830605074763298, 0.000433667708421126, 0.00042458236566744745, 0.00034041012986563146, 0.0004140782111790031, 2.5225283025065437e-05, 2.6962583433487453e-05, 6.598106119781733e-05, 9.652243898017332e-05, 0.00019379494187887758, 0.0010556819615885615, 0.00011788050323957577, 4.273824379197322e-05, 0.00022791344963479787, 0.0001761306048138067, 0.0004657519166357815, 0.00034001481253653765, 0.0006003407179377973, 0.0002989454078488052, 0.00031271358602680266, 0.000290518015390262, 0.00045215952559374273, 0.001556775881908834, 5.4861804528627545e-05, 0.00042418381781317294, 0.00011246137000853196, 0.00012903833703603595, 0.00013606209540739655, 0.00013604846026282758, 0.00013377319555729628, 0.00013366954226512462, 0.00016587681602686644, 8.201601303881034e-05, 0.00013056663738097996, 0.00015757190703880042, 0.00012132037954870611, 0.00011760921188397333, 0.00015268083370756358, 0.000122116383863613, 0.0001455836318200454, 0.0001335464185103774, 0.0001397768355673179, 8.534159860573709e-05, 0.0001576908543938771, 0.00010497474431758747, 0.00012922992755193263, 0.00013192482583690435, 0.00011801836080849171, 0.00013710223720408976, 0.00011968144826823846, 0.0001001969794742763, 0.00014391976583283395, 0.00013209719327278435, 0.00014032167382538319, 0.0001373508566757664, 0.00015647444524802268, 0.0001389080280205235, 0.00014268247468862683, 0.0001491358270868659, 0.00013926402607467026, 0.00013131015293765813, 0.00015296624042093754, 0.0006284647970460355, 0.00046315378858707845, 0.0019270541379228234, 0.0047510904259979725, 0.003613136475905776, 0.0005566384643316269, 0.0007911364664323628, 0.00679229199886322, 0.0004768267390318215, 0.00030385982245206833, 8.947710011852905e-05, 0.0001663604489294812, 0.0004073675663676113, 0.0006408149492926896, 0.0017174318199977279, 0.0021497837733477354, 0.001863593584857881, 0.0006077157449908555, 0.0020224133040755987, 0.0026966414880007505, 0.002329129260033369, 0.0013713724911212921, 0.0018713998142629862, 0.0017004862893372774, 0.007482455112040043, 0.001826426014304161, 0.00051674316637218, 0.0007192917983047664, 0.0006816123495809734, 0.0006116993608884513, 0.0015302676474675536, 0.0004459134361241013, 0.0006847392069175839, 0.00041155036888085306, 0.00027792525361292064, 0.000442935386672616, 0.0005126269534230232, 0.00022531738795805722, 0.0008024616399779916, 0.0006306617869995534, 0.0004612069751601666, 0.00031957970350049436, 0.00024434836814180017, 0.0002602721506264061, 0.000233120983466506, 0.00022129154240246862, 0.00028721135458908975, 0.00026434523169882596, 0.00028383321478031576, 0.0002318598999409005, 0.00019899992912542075, 0.00018932063539978117, 0.0003192266449332237, 0.0002948802139144391, 0.00023924573906697333, 0.00023028864234220237, 0.00021672375441994518, 0.0002740415802691132, 0.0002476205991115421, 0.018123332411050797, 6.138544267741963e-05, 3.592513894545846e-05, 0.0004685698659159243, 0.0009473182144574821, 0.0006478899158537388, 0.0008378764614462852, 0.0006569725810550153, 0.00043648347491398454, 0.0007172425976023078, 0.00015665804676245898, 0.0020506547298282385, 0.0016026102239266038, 0.0006388969486579299, 0.001690277480520308, 0.000399421202018857, 0.0008125956519506872, 0.001339780748821795, 0.0010612907353788614, 0.0017893448239192367, 0.0008673295378684998, 0.0010259072296321392, 0.0011989518534392118, 0.0015056523261591792, 0.0012724580010399222, 0.0012452700175344944, 0.0011522377608343959, 0.00011186749179614708, 0.00018694333266466856, 7.510609430028126e-05, 0.0001407224772265181, 0.00012597876775544137, 0.00017215039406437427, 0.00016976414190139621, 0.00019119962234981358, 0.00017653789836913347, 0.00025124417152255774, 0.00019630440510809422, 0.00021294811449479312, 0.00021177006419748068, 0.00010420705802971497, 0.0002360846847295761, 0.00015731486200820655, 0.0001405990478815511, 0.00014263064076658338, 0.00016588950529694557, 0.00015984140918590128, 0.00012585600779857486, 0.003043562639504671, 0.0024007547181099653, 0.002929809270426631, 0.002904668916016817, 0.0025354232639074326, 0.0022311126813292503, 0.0025243747513741255, 0.0027728769928216934, 0.0023506779689341784, 0.0025504138320684433, 0.0002962216385640204, 0.0003381630522198975, 0.0010957189369946718, 0.00031377552659250796, 0.0005512998322956264, 0.0005013855407014489, 0.0004323907196521759, 0.0005517196259461343, 0.0004202491254545748, 0.0002787407429423183, 0.00031240275711752474, 0.00013249197218101472, 0.00034340182901360095, 0.0002663880295585841, 0.00027142680482938886, 0.0006475712289102376, 0.00040529901161789894, 0.00030839862301945686, 0.0004679999256040901, 0.0003952552506234497, 0.0005068957107141614, 0.0001935547188622877, 0.000297298189252615, 0.0003724916314240545, 0.00036462777643464506, 0.0003397889086045325, 0.00022764397726859897, 0.0003747603914234787, 0.0003940381284337491, 0.0005223938496783376, 0.0004408339154906571, 0.00033304220414720476, 0.0005209652008488774, 0.0005056373192928731, 0.0003835177922155708, 0.0004288750351406634, 0.0004664419393520802, 0.00022135126346256584, 0.00027112424140796065, 0.00044537612120620906, 0.0003566793748177588, 0.0004989173612557352, 0.00045903678983449936, 0.0004651730414479971, 0.0005035552894696593, 0.0060092853382229805, 0.0020226798951625824, 0.001718629733659327, 0.002618370810523629, 0.0016042039496824145, 0.005195693578571081, 0.0019323675660416484, 0.0023618999402970076, 0.0025993322487920523, 0.0001040851857396774, 0.00012813629291485995, 2.9989087124704383e-05, 0.0001288402418140322, 0.00025808336795307696, 9.604946535546333e-05, 0.00011810795695055276, 6.569539982592687e-05, 0.0001851469132816419, 9.625363600207493e-05, 0.0007636211812496185, 0.0007334225228987634, 0.0005628010258078575, 0.0007106430130079389, 0.0007206682348623872, 0.0006592454737983644, 0.0006042702007107437, 0.0004524348769336939, 0.00024174433201551437, 0.0005585504695773125, 0.000693039211910218, 0.00013614780618809164, 9.98055111267604e-05, 0.00013954871974419802, 0.000130948013975285, 0.00015752259059809148, 0.00015156094741541892, 0.00013280747225508094, 0.00016345249605365098, 0.000169087084941566, 0.00014649312652181834, 0.00011688173981383443, 0.0001448817056370899, 9.444926399737597e-05, 0.00013407468213699758, 0.0001297365961363539, 0.00016368234355468303, 0.00016568515275139362, 0.00016711183707229793, 7.610030297655612e-05, 0.00014960035332478583, 0.0001998790103243664, 0.00019987676932942122, 0.0001718042476568371, 0.032239917665719986, 0.00011857701611006632, 0.00011512307537486777, 0.00013903364015277475, 0.0003079134039580822, 0.00014167302288115025, 0.00022500492923427373, 7.914087473182008e-05, 0.00018913605890702456, 7.815766002750024e-05, 0.00020971419871784747, 0.00010791276872623712, 0.0001320544397458434, 0.00020973295613657683, 0.0002430954045848921, 0.0003589530533645302, 0.00014851607556920499, 0.00021290770382620394, 9.228948329109699e-05, 0.00014434847980737686, 0.00015593040734529495, 0.00011509093747008592, 0.0002469619794283062, 8.971132774604484e-05, 0.0002479087561368942, 0.0001389901153743267, 0.00016717366816010326, 0.00016601523384451866, 0.00014344470400828868, 0.00013765117910224944, 0.00013944618694949895, 0.00012090590462321416, 0.00016117464110720903, 0.00018554106645751745, 0.00014397366612683982, 0.00028827786445617676, 5.0624967116164044e-05, 0.0009087398648262024, 0.00013934800517745316, 0.00147733383346349, 0.00043627162813208997, 0.0003670374571811408, 0.00011598642595345154, 0.00024274022143799812, 8.06643656687811e-05, 0.0003561421763151884, 9.56456788117066e-05, 0.0003225984110031277, 0.00011713176354533061, 9.582500206306577e-05, 0.0001003902216325514, 0.00010764454782474786, 0.00011982855357928202, 0.0001379617751808837, 0.00014697667211294174, 9.452611266169697e-05, 0.00011303562496323138, 6.765513535356149e-05, 8.07602918939665e-05, 7.765658665448427e-05, 0.00010737506818259135, 0.00011486135190352798, 0.00011711367551470175, 0.0001404475187882781, 9.603743819752708e-05, 0.00012034555402351543, 9.663577657192945e-05, 0.0034285758156329393, 0.0013465910451486707, 0.0005155593389645219, 0.0011175875551998615, 0.0011841857340186834, 0.0012914711842313409, 0.00031843295437283814, 0.0002860196982510388, 0.0012483472237363458, 0.0009877284755930305, 0.0012618688633665442, 0.003543360624462366, 0.0016018446767702699, 0.0018459343118593097, 0.0032973557244986296, 0.001606104546226561, 0.0028292604256421328, 0.002741518896073103, 0.0029269419610500336, 0.0019301085267215967, 0.0019303414737805724, 0.001972557045519352, 0.0011058698873966932, 0.0012161339400336146, 0.0013554779579862952, 0.0013578747166320682, 0.0009644489618949592, 0.0012280080700293183, 0.0010701947612687945, 0.0011156537802889943, 0.0011669861851260066, 0.000952097587287426, 0.0011762045323848724, 0.0010623115813359618, 0.0011515713995322585, 0.0013917448231950402, 0.001303756725974381, 0.001079089124687016, 0.0011339080519974232, 0.0012236934853717685, 0.024257903918623924, 0.001077367807738483, 0.0008636325947009027, 0.0008407642017118633, 0.001294536399655044, 0.0009297304204665124, 0.0005906175938434899, 0.05041194707155228, 0.0008518495014868677, 0.0008640016312710941, 0.0005630306550301611, 0.0005855268100276589, 0.0015834777150303125, 0.004441374447196722, 0.004355243872851133, 0.003227697452530265, 0.003355215070769191, 0.0043020593002438545, 0.0022249191533774137, 0.004289844073355198, 0.0029694826807826757, 0.004757676273584366, 0.0006489459192380309, 0.0006489467341452837, 0.0004338549915701151, 0.0005964565207250416, 0.0007134850020520389, 0.0004730357031803578, 0.0006693507893942297, 0.0005145228351466358, 0.0006743436097167432, 0.0006394018419086933, 0.0009389297338202596, 0.0007010017870925367, 0.0025225479621440172, 0.0018344533164054155, 0.0032522797118872404, 0.001765799941495061, 0.001670514582656324, 0.0025198848452419043, 0.002582233166322112, 0.0033375427592545748, 0.0014505715807899833, 0.0008116347016766667, 0.003432461293414235, 0.0021809516474604607, 0.0022849433589726686, 0.001241461024619639, 0.0018204899970442057, 0.0023958187084645033, 0.0013990566367283463, 0.0018179763574153185, 0.0017658070428296924, 0.0026530991308391094, 0.0023613080848008394, 0.0020757955498993397, 0.0017586477333679795, 0.002873455872759223, 0.0026951327454298735, 0.0011264228960499167, 0.0007031762506812811, 0.001107770367525518, 0.002179740695282817, 0.0005844053230248392, 0.0008263353374786675, 0.0008079802501015365, 0.0006956551223993301, 0.0018531270325183868, 0.0006879866123199463, 0.00012918187712784857, 0.00014142694999463856, 0.0001306109334109351, 0.00018201333296019584, 0.000911138893570751, 0.0038151347544044256, 0.0011859710793942213, 0.0009047127678059042, 0.0002869251184165478, 0.00011661891039693728, 0.00015045786858536303, 0.0007612068438902497, 0.0001292260567424819, 0.00019874927238561213, 0.0002223715273430571, 0.00014337050379253924, 0.0001390696706948802, 0.00011529086623340845, 0.00013684933946933597, 0.00011993034422630444, 9.483718167757615e-05, 0.00013127470447216183, 0.0001703532034298405, 0.00017978325195144862, 0.002341280458495021, 0.00045303089427761734, 0.00042427750304341316, 0.0010594397317618132, 0.00039659300819039345, 0.0010199033422395587, 0.0018303474644199014, 0.0015475786058232188, 0.0016572031890973449, 0.001332805142737925, 0.0012964060297235847, 0.0023806211538612843, 0.0014179310528561473, 0.0011956163216382265, 0.001507596462033689, 0.0017539078835397959, 0.0012500156881287694, 0.0008963252766989172, 0.0017802022630348802, 0.0027190435212105513, 9.389855404151604e-05, 5.381070150178857e-05, 0.0001237042306456715, 6.802727148169652e-05, 0.0003112103440798819, 0.00153676001355052, 0.0014243334298953414, 0.0014328983379527926, 0.000983594567514956, 0.001546156476251781, 0.001163200126029551, 0.001118210144340992, 0.0011305332882329822, 0.0009338051313534379, 0.0015747972065582871, 0.001197677687741816, 0.0013599678641185164, 0.0011014746269211173, 0.0013291233917698264, 0.0015457861591130495, 0.01593187265098095, 0.0023503557313233614, 0.003104395465925336, 0.0023757286835461855, 0.0016700843116268516, 0.013172844424843788, 0.0025652218610048294, 0.011011304333806038, 0.0032763152848929167, 0.002234951127320528, 0.0013103116070851684, 0.001428673043847084, 0.0036772170569747686, 0.0019748450722545385, 0.0008314758888445795, 0.0037753295619040728, 0.0018233696464449167, 0.0009133678977377713, 0.00014284240023698658, 0.0005405154079198837, 0.00043584738159552217, 0.0008324862574227154, 0.0003314406785648316, 0.00018752245523501188, 0.0005781033542007208, 0.0002578266430646181, 0.0006659597274847329, 0.010707534849643707, 0.0008831573068164289, 0.0015631035203114152, 0.0014269489329308271, 0.0030384112615138292, 0.006646790541708469, 0.0002885139547288418, 0.0004574860504362732, 0.0007779799634590745, 0.000593217380810529, 0.0004606219881679863, 0.0007100550574250519, 0.00034072782727889717, 0.0004163079138379544, 0.0005728651885874569, 0.00035244421451352537, 0.0011923458660021424, 6.549123645527288e-05, 0.00020161647989880294, 0.00028552557341754436, 0.00023049756418913603, 0.0003185042296536267, 0.0004207654856145382, 0.0006505211931653321, 0.0008995493990369141, 7.079244096530601e-05, 0.003240000456571579, 0.0013039630139246583, 0.0017426004633307457, 0.016052886843681335, 0.00274226488545537, 0.004697158467024565, 0.0007888915133662522, 0.0016844765050336719, 0.00036613477277569473, 0.008271480910480022, 0.02996320091187954, 0.0036812194157391787, 0.0007401734474115074, 0.0003389468474779278, 0.00022289271873887628, 0.00014014139014761895, 0.00029057636857032776, 0.00010586399730527773, 0.0006713994080200791, 0.000201255883439444, 0.0004309176583774388, 0.0001715507241897285, 0.00021745187405031174, 0.00013071483408566564, 0.00024490716168656945, 0.00020733036217279732, 0.00016218965174630284, 0.00022551578877028078, 0.00012429527123458683, 0.0002741347998380661, 0.0001622682757442817, 0.00016887592209968716, 0.00015954268747009337, 0.00010103307431563735, 0.003085585543885827, 0.0013735488755628467, 0.010558533482253551, 0.0004921894869767129, 0.000521668407600373, 0.00034972766297869384, 0.0010242939461022615, 0.0009209769777953625, 0.0017503375420346856, 0.0005909280735068023, 0.003052227199077606, 0.001859645708464086, 0.0002108962507918477, 0.0008390717557631433, 0.0007494250894524157, 0.0002541050489526242, 0.00014449023001361638, 0.0018084343755617738, 0.0011745849624276161, 0.0001738483551889658, 0.0011505403090268373, 7.748799544060603e-05, 1.318914564762963e-05, 3.21130282827653e-05, 1.8241187717649154e-05, 9.468370262766257e-05, 6.434098031604663e-05, 1.7359561752527952e-06, 1.8682751033338718e-05, 7.801027823006734e-05, 0.000137601702590473, 5.755003257945646e-06, 8.477142728224862e-06, 6.748654755028838e-07, 0.00014174716488923877, 0.0030710131395608187, 0.0008542174473404884, 0.0005378011846914887, 0.009101791307330132, 0.0025001754984259605, 0.0020894769113510847, 0.002595500322058797, 0.000525325711350888, 0.00022132997401058674, 0.0031700727995485067, 0.0021016327664256096, 0.016865959390997887, 0.0005143522284924984, 0.0011452959151938558, 0.0014714825665578246, 0.0014424024848267436]\n"
     ]
    }
   ],
   "source": [
    "import torch\n",
    "from torch_geometric.utils import k_hop_subgraph\n",
    "epsilon = 1e-8\n",
    "\n",
    "print(output_clean[idx_attach].argmax(dim=1))\n",
    "\n",
    "\n",
    "from torch_geometric.utils import k_hop_subgraph\n",
    "result_clean=[]\n",
    "for node_id in idx_train[:300]:\n",
    "    node_id = node_id.item()\n",
    "    subset, edge_index, mapping, edge_mask = k_hop_subgraph(node_id, 2, poison_edge_index, relabel_nodes=False)\n",
    "    loop_edges = edge_index[:, edge_index[0] == node_id]\n",
    "    non_loop_edges = edge_index[:, edge_index[0] != node_id]\n",
    "\n",
    "    selected_x = poison_x[subset]\n",
    "    \n",
    "    for i in range(loop_edges.size(1)):\n",
    "        # Current loop edge to remove\n",
    "        current_loop_edge = loop_edges[:, i]\n",
    "\n",
    "        # Find indices of the current loop edge and its reverse\n",
    "        forward_edge_mask = (edge_index[0] == current_loop_edge[0]) & (edge_index[1] == current_loop_edge[1])\n",
    "        reverse_edge_mask = (edge_index[0] == current_loop_edge[1]) & (edge_index[1] == current_loop_edge[0])\n",
    "\n",
    "        # Combine masks for forward and reverse edges\n",
    "        combined_mask = forward_edge_mask | reverse_edge_mask\n",
    "\n",
    "        # Remove both forward and reverse edges from the graph\n",
    "        modified_edge_index = edge_index[:, ~combined_mask]\n",
    "\n",
    "        edge_weights = torch.ones(modified_edge_index.size(1), dtype=torch.float, device=device)\n",
    "\n",
    "        output, x = test_model(poison_x, modified_edge_index, edge_weights)\n",
    "        output = output[node_id]\n",
    "        output = torch.exp(output)\n",
    "        output += epsilon\n",
    "        # print(output)\n",
    "        # print(output_clean[node_id])\n",
    "        deviation = F.kl_div(output.log(), output_clean[node_id], reduce=False)\n",
    "        result_clean.append(deviation.mean().item())\n",
    "        # print(deviation.mean().item())\n",
    "print(result_clean)"
   ]
  },
  {
   "cell_type": "code",
   "execution_count": 23,
   "metadata": {},
   "outputs": [
    {
     "name": "stdout",
     "output_type": "stream",
     "text": [
      "[0.21461306512355804, 0.2615654170513153, 0.19127996265888214, 0.2422286719083786, 0.2934282422065735, 0.22389435768127441, 0.20501795411109924, 0.170529305934906, 0.22319863736629486, 0.19729745388031006, 0.2042435258626938, 0.15002340078353882, 0.22577093541622162, 0.17851947247982025, 0.18025076389312744, 0.041773874312639236, 0.27401408553123474, 0.2926959693431854, 0.2091800421476364, 0.24862530827522278, 0.0856967493891716, 0.1705678403377533, 0.20429883897304535, 0.1543503850698471, 0.07645785063505173, 0.18162739276885986, 0.20269861817359924, 0.1858331561088562, 0.2632058262825012, 0.2117614597082138, 0.13852249085903168, 0.11357345432043076, 0.2173186093568802, 0.3331073224544525, 0.1438348889350891, 0.37414130568504333, 0.1960221379995346, 0.14107851684093475, 0.13447903096675873, 0.3172384798526764, 0.1632266491651535, 0.1326812356710434, 0.2585127353668213, 0.21760086715221405, 0.27312764525413513, 0.15945002436637878, 0.01552989799529314, 0.1524263620376587, 0.1518918126821518, 0.21183310449123383, 0.17706966400146484, 0.271496444940567, 0.12645617127418518, 0.2313433438539505, 0.267110139131546, 0.22199706733226776, 0.28595298528671265, 0.29006507992744446, 0.33342134952545166, 0.1691514551639557, 0.09532543271780014, 0.17267785966396332, 0.3083474636077881, 0.09703244268894196, 0.34377822279930115, 0.15493537485599518, 0.11474838107824326, 0.21083210408687592, 0.1980680227279663, 0.24618153274059296, 0.23250296711921692, 0.12279555946588516, 0.14366638660430908, 0.1649542897939682, 0.27984723448753357, 0.27192366123199463, 0.3151145577430725, 0.07886279374361038, 0.2495630979537964, 0.23615539073944092, 0.2974086403846741, 0.2036542147397995, 0.33321309089660645, 0.25354811549186707, 0.17317341268062592, 0.1398334801197052, 0.20706026256084442, 0.17203423380851746, 0.16446299850940704, 0.12362656742334366, 0.17288248240947723, 0.07474284619092941, 0.1296236515045166, 0.16462711989879608, 0.16441208124160767, 0.2707827687263489, 0.0920007973909378, 0.22931741178035736, 0.17243461310863495, 0.11919275671243668, 0.06247947737574577, 0.20149564743041992, 0.18214111030101776, 0.1322058141231537, 0.3986470401287079, 0.2887113392353058, 0.15458910167217255, 0.19539888203144073, 0.25835317373275757, 0.0736706405878067, 0.14584623277187347, 0.15092256665229797, 0.1353086680173874, 0.23264896869659424, 0.06035744771361351, 0.304281085729599, 0.01007970329374075, 0.39674028754234314, 0.13819758594036102, 0.22742605209350586, 0.2289920151233673, 0.17050687968730927, 0.2010163813829422, 0.04295645281672478, 0.19060549139976501, 0.14218148589134216, 0.2614659070968628, 0.21351078152656555, 0.2741246521472931, 0.2626606523990631, 0.2030629962682724, 0.17237690091133118, 0.03871478885412216, 0.13417412340641022, 0.20262272655963898, 0.21966147422790527, 0.1978701800107956, 0.33699682354927063, 0.14010919630527496, 0.15934155881404877, 0.18874652683734894, 0.23950283229351044, 0.29774317145347595, 0.22823789715766907, 0.2330280989408493, 0.17376048862934113, 0.18613557517528534, 0.09078480303287506, 0.16063548624515533, 0.16605766117572784, 0.18224754929542542, 0.19553032517433167, 0.11520805209875107, 0.21975544095039368, 0.3335929214954376, 0.2720281183719635, 0.04071613773703575, 0.11060338467359543, 0.20861409604549408, 0.24419167637825012, 0.17789267003536224, 0.1605832278728485, 0.16778331995010376, 0.08747632056474686, 0.07480286806821823, 0.1940186470746994, 0.1507251113653183, 0.1735498011112213, 0.16502144932746887, 0.1585802286863327, 0.20101073384284973, 0.3038477599620819, 0.14961019158363342, 0.17077331244945526, 0.09381483495235443, 0.12558187544345856, 0.178055077791214, 0.07816384732723236, 0.23104484379291534, 0.16692326962947845, 0.17524783313274384, 0.12035548686981201, 0.15862281620502472, 0.31554368138313293, 0.13421738147735596, 0.18527798354625702, 0.2983739972114563, 0.139726921916008, 0.24322763085365295, 0.2638145983219147, 0.23537032306194305, 0.16165123879909515, 0.2189284861087799, 0.33634743094444275, 0.3122548758983612, 0.25989672541618347, 0.1469666212797165, 0.0002048439346253872, 0.16879497468471527, 0.224552184343338, 0.2529465854167938, 0.15206196904182434, 0.1915089339017868, 0.22033393383026123, 0.23967550694942474, 0.08317413926124573, 0.11761164665222168, 0.24635601043701172, 0.1688997447490692, 0.1635013073682785, 0.24664513766765594, 0.30171850323677063, 0.27895697951316833, 0.02348644845187664, 0.21604572236537933, 0.046342503279447556, 0.26285144686698914, 0.005990948528051376, 0.07494339346885681, 0.17419877648353577, 0.19066999852657318, 0.13934384286403656, 0.1639031171798706, 0.18108974397182465, 0.29831117391586304, 0.23564796149730682, 0.19921906292438507, 0.23069491982460022, 0.17313580214977264, 0.2027161866426468, 0.1651104986667633, 0.09686490148305893, 0.2834716737270355, 0.2595656216144562, 0.19967791438102722, 0.10286471992731094, 0.20953385531902313, 0.4285106360912323, 0.1042906641960144, 0.14182238280773163, 0.2004874050617218, 0.16488581895828247, 0.33757483959198, 0.1974613070487976, 0.19602984189987183, 0.41059398651123047, 0.2619277536869049, 0.18327027559280396, 0.37538114190101624, 0.21304097771644592, 0.13832594454288483, 0.13177697360515594, 0.19617752730846405, 0.024575650691986084, 0.13564838469028473, 0.3428548276424408, 0.07935570925474167, 0.15973952412605286, 0.2844013571739197, 0.2465493232011795, 0.23415902256965637, 0.07816825807094574, 0.2538464367389679, 0.19601157307624817, 0.1255451887845993, 0.2402142733335495, 0.27252644300460815, 0.11348503082990646, 0.20276375114917755, 0.1605210155248642, 0.1850527971982956, 0.3584005534648895, 0.3353646695613861, 0.11647820472717285, 0.16540150344371796, 0.151655912399292, 0.20326443016529083, 0.2484138309955597, 0.17113733291625977, 0.3203081488609314, 0.11631902307271957, 0.1318720430135727, 0.1972474306821823, 0.3650378882884979, 0.22070840001106262, 0.22304725646972656, 0.2794666886329651, 0.1777968406677246, 0.15864227712154388, 0.14763961732387543, 0.3451785445213318, 0.180672749876976, 0.13270385563373566, 0.16544277966022491, 0.40190163254737854, 0.22917981445789337, 0.20995555818080902, 0.18954139947891235, 0.13907329738140106, 0.16239610314369202, 0.38231754302978516, 0.20990672707557678, 0.2846384644508362, 0.122130386531353, 0.17238709330558777, 0.15664874017238617, 0.32598578929901123, 0.43211570382118225, 0.24772508442401886, 0.23193085193634033, 0.19400495290756226, 0.02881440334022045, 0.11740829050540924, 0.20434482395648956, 0.13937444984912872, 0.34308061003685, 0.15581975877285004, 0.2758214473724365, 0.1758202165365219, 0.3913044035434723, 0.44019055366516113, 0.16238462924957275, 0.22370155155658722, 0.18192003667354584, 0.1716921478509903, 0.1939423531293869, 0.04646579548716545, 0.35849103331565857, 0.08309356123209, 0.1292675882577896, 0.23440153896808624, 0.18733087182044983, 0.22515611350536346, 0.12388036400079727, 0.08201645314693451, 0.15488873422145844, 0.11656489223241806, 0.17766253650188446, 0.10475791990756989, 0.10318763554096222, 0.14344333112239838, 0.17186306416988373, 0.07992910593748093, 0.14804844558238983, 0.4172205626964569, 0.15629999339580536, 0.12308745831251144, 0.17686307430267334, 0.3420873284339905, 0.32469087839126587, 0.25132691860198975, 0.12661738693714142, 0.17567990720272064, 0.22481469810009003, 0.10030736774206161, 0.19652047753334045, 0.20055697858333588, 0.368127703666687, 0.12094952911138535, 0.17798888683319092, 0.06432922929525375, 0.1646106094121933, 0.35128650069236755, 0.1675550788640976, 0.2778250277042389, 0.1568300575017929, 0.2021019458770752, 0.20581352710723877, 0.20042715966701508, 0.17720340192317963, 0.2208954393863678, 0.2566017210483551, 0.13657885789871216, 0.14154104888439178, 0.1913832426071167, 0.032688919454813004, 0.12240206450223923, 0.19751636683940887, 0.17722220718860626, 0.2941246032714844, 0.1985296756029129, 0.18395690619945526, 0.045462992042303085, 0.07668685913085938, 0.3122638761997223, 0.1707196980714798, 0.23635534942150116, 0.10196870565414429, 0.2505403757095337, 0.19073571264743805, 0.26445725560188293, 0.19485488533973694, 0.2668841779232025, 0.31194958090782166, 0.269588828086853, 0.15911440551280975, 0.1346517652273178, 0.29495224356651306, 0.13974417746067047, 0.1970328837633133, 0.21864385902881622, 0.4440935254096985, 0.20420384407043457, 0.23263724148273468, 0.11193295568227768, 0.3867969512939453, 0.2679194509983063, 0.2690585255622864, 0.14646963775157928, 0.26243484020233154, 0.34614571928977966, 0.17758575081825256, 0.08858983963727951, 0.35240212082862854, 0.24006123840808868, 0.21122018992900848, 0.18824978172779083, 0.13842126727104187, 0.2758108675479889, 0.2585037648677826, 0.26705870032310486, 0.07088389992713928, 0.291215717792511, 0.18130764365196228, 0.07368432730436325, 0.03179888054728508, 0.1073116883635521, 0.14141035079956055, 0.06458008289337158, 0.2164483517408371, 0.25218772888183594, 0.17534397542476654, 0.23260138928890228, 0.1975717693567276, 0.2817802131175995, 0.12182461470365524, 0.24204109609127045, 0.3990641236305237, 0.4344047009944916, 0.3068808913230896, 0.2624574899673462, 0.20412078499794006, 0.16293518245220184, 0.18998809158802032, 0.24349145591259003, 0.2609061598777771, 0.21751666069030762, 0.25004589557647705, 0.2691856324672699, 0.3750844895839691, 0.0019490758422762156, 0.21426761150360107, 0.13042078912258148, 0.08200923353433609, 0.20421841740608215, 0.27662819623947144, 0.26522839069366455, 0.27209505438804626, 0.11590351909399033, 0.15836502611637115, 0.07350554317235947, 0.11954724043607712, 0.1746019423007965, 0.2674768269062042, 0.161117285490036, 0.2590537965297699, 0.12397418171167374, 0.20854131877422333, 0.213616281747818, 0.1573859304189682, 0.18705226480960846, 0.1585479974746704, 0.20446257293224335, 0.2865602672100067, 0.23324064910411835, 0.40861088037490845, 0.1580967903137207, 0.12991595268249512, 0.01073643658310175, 0.17904990911483765, 0.12822739779949188, 0.3811855912208557, 0.056211818009614944, 0.25442957878112793, 0.17375604808330536, 0.28945666551589966, 0.1586953103542328, 0.2210249900817871, 0.25443777441978455, 0.22750532627105713, 0.2781042754650116, 0.12277114391326904, 0.20012317597866058, 0.23792603611946106, 0.13634054362773895, 0.16234444081783295, 0.2709968090057373, 0.35839441418647766, 0.18241819739341736, 0.0822334885597229, 0.015195709653198719, 0.17050646245479584, 0.06998731940984726, 0.18891169130802155, 0.3414064645767212, 0.11643479019403458, 0.198791965842247, 0.233280211687088, 0.1790962815284729, 0.08261965960264206, 0.262536883354187, 0.1349877417087555, 0.3888581097126007, 0.14606444537639618, 0.2440159171819687, 0.2424299567937851, 0.1832672357559204, 0.172336146235466, 0.2674383521080017, 0.23031353950500488, 0.19639155268669128, 0.4233660399913788, 0.19292333722114563, 0.1667320728302002, 0.11733176559209824, 0.2196972817182541, 0.16814827919006348, 0.37937337160110474, 0.15594027936458588, 0.2948727011680603, 0.19082824885845184, 0.051239997148513794, 0.2030634880065918, 0.16674713790416718, 0.10787785053253174, 0.24740687012672424, 0.35414811968803406, 0.11415693908929825, 0.33274397253990173, 0.21971933543682098, 0.06336752325296402, 0.20207419991493225, 0.1267453134059906]\n"
     ]
    }
   ],
   "source": [
    "result_trigger = []\n",
    "for node_id in idx_attach:\n",
    "    node_id = node_id.item()\n",
    "    subset, edge_index, mapping, edge_mask = k_hop_subgraph(node_id, 2, poison_edge_index, relabel_nodes=False)\n",
    "    loop_edges = edge_index[:, edge_index[0] == node_id]\n",
    "    non_loop_edges = edge_index[:, edge_index[0] != node_id]\n",
    "\n",
    "    selected_x = poison_x[subset]\n",
    "    \n",
    "    for i in range(loop_edges.size(1)):\n",
    "        # Current loop edge to remove\n",
    "        current_loop_edge = loop_edges[:, i]\n",
    "\n",
    "        # Find indices of the current loop edge and its reverse\n",
    "        forward_edge_mask = (edge_index[0] == current_loop_edge[0]) & (edge_index[1] == current_loop_edge[1])\n",
    "        reverse_edge_mask = (edge_index[0] == current_loop_edge[1]) & (edge_index[1] == current_loop_edge[0])\n",
    "\n",
    "        # Combine masks for forward and reverse edges\n",
    "        combined_mask = forward_edge_mask | reverse_edge_mask\n",
    "\n",
    "        # Remove both forward and reverse edges from the graph\n",
    "        modified_edge_index = edge_index[:, ~combined_mask]\n",
    "\n",
    "        edge_weights = torch.ones(modified_edge_index.size(1), dtype=torch.float, device=device)\n",
    "\n",
    "        output, x = test_model(poison_x, modified_edge_index, edge_weights)\n",
    "        output = output[node_id]\n",
    "        output = torch.exp(output)\n",
    "        output += epsilon\n",
    "        # print(output)\n",
    "        # print(output_clean[node_id])\n",
    "        deviation = F.kl_div(output.log(), output_clean[node_id], reduce=False)\n",
    "        \n",
    "        if loop_edges[:,i][1]>len(data.x):\n",
    "            # print(loop_edges[:,i][1])\n",
    "            result_trigger.append(deviation.mean().item())\n",
    "            \n",
    "        # else:\n",
    "        # print(deviation.mean().item())\n",
    "            # result_clean.append(deviation.mean().item())\n",
    "\n",
    "        # result_trigger.append(deviation.mean().item())\n",
    "        # print(deviation.mean().item())\n",
    "print(result_trigger)"
   ]
  },
  {
   "cell_type": "code",
   "execution_count": 24,
   "metadata": {},
   "outputs": [
    {
     "name": "stdout",
     "output_type": "stream",
     "text": [
      "543\n",
      "0.0002048439346253872\n",
      "0.4440935254096985\n",
      "[0.4440935254096985, 0.44019055366516113, 0.4344047009944916, 0.43211570382118225, 0.4285106360912323, 0.4233660399913788, 0.4172205626964569, 0.41059398651123047, 0.40861088037490845, 0.40190163254737854, 0.3990641236305237, 0.3986470401287079, 0.39674028754234314, 0.3913044035434723, 0.3888581097126007, 0.3867969512939453, 0.38231754302978516, 0.3811855912208557, 0.37937337160110474, 0.37538114190101624, 0.3750844895839691, 0.37414130568504333, 0.368127703666687, 0.3650378882884979, 0.35849103331565857, 0.3584005534648895, 0.35839441418647766, 0.35414811968803406, 0.35240212082862854, 0.35128650069236755, 0.34614571928977966, 0.3451785445213318, 0.34377822279930115, 0.34308061003685, 0.3428548276424408, 0.3420873284339905, 0.3414064645767212, 0.33757483959198, 0.33699682354927063, 0.33634743094444275, 0.3353646695613861, 0.3335929214954376, 0.33342134952545166, 0.33321309089660645, 0.3331073224544525, 0.33274397253990173, 0.32598578929901123, 0.32469087839126587, 0.3203081488609314, 0.3172384798526764, 0.31554368138313293, 0.3151145577430725, 0.3122638761997223, 0.3122548758983612, 0.31194958090782166, 0.3083474636077881, 0.3068808913230896, 0.304281085729599, 0.3038477599620819, 0.30171850323677063, 0.2983739972114563, 0.29831117391586304, 0.29774317145347595, 0.2974086403846741, 0.29495224356651306, 0.2948727011680603, 0.2941246032714844, 0.2934282422065735, 0.2926959693431854, 0.291215717792511, 0.29006507992744446, 0.28945666551589966, 0.2887113392353058, 0.2865602672100067, 0.28595298528671265, 0.2846384644508362, 0.2844013571739197, 0.2834716737270355, 0.2817802131175995, 0.27984723448753357, 0.2794666886329651, 0.27895697951316833, 0.2781042754650116, 0.2778250277042389, 0.27662819623947144, 0.2758214473724365, 0.2758108675479889, 0.2741246521472931, 0.27401408553123474, 0.27312764525413513, 0.27252644300460815, 0.27209505438804626, 0.2720281183719635, 0.27192366123199463, 0.271496444940567, 0.2709968090057373, 0.2707827687263489, 0.269588828086853, 0.2691856324672699, 0.2690585255622864, 0.2679194509983063, 0.2674768269062042, 0.2674383521080017, 0.267110139131546, 0.26705870032310486, 0.2668841779232025, 0.26522839069366455, 0.26445725560188293, 0.2638145983219147, 0.2632058262825012, 0.26285144686698914, 0.2626606523990631, 0.262536883354187, 0.2624574899673462, 0.26243484020233154, 0.2619277536869049, 0.2615654170513153, 0.2614659070968628, 0.2609061598777771, 0.25989672541618347, 0.2595656216144562, 0.2590537965297699, 0.2585127353668213, 0.2585037648677826, 0.25835317373275757, 0.2566017210483551, 0.25443777441978455, 0.25442957878112793, 0.2538464367389679, 0.25354811549186707, 0.2529465854167938, 0.25218772888183594, 0.25132691860198975, 0.2505403757095337, 0.25004589557647705, 0.2495630979537964, 0.24862530827522278, 0.2484138309955597, 0.24772508442401886, 0.24740687012672424, 0.24664513766765594, 0.2465493232011795, 0.24635601043701172, 0.24618153274059296, 0.24419167637825012, 0.2440159171819687, 0.24349145591259003, 0.24322763085365295, 0.2424299567937851, 0.2422286719083786, 0.24204109609127045, 0.2402142733335495, 0.24006123840808868, 0.23967550694942474, 0.23950283229351044, 0.23792603611946106, 0.23635534942150116, 0.23615539073944092, 0.23564796149730682, 0.23537032306194305, 0.23440153896808624, 0.23415902256965637, 0.233280211687088, 0.23324064910411835, 0.2330280989408493, 0.23264896869659424, 0.23263724148273468, 0.23260138928890228, 0.23250296711921692, 0.23193085193634033, 0.2313433438539505, 0.23104484379291534, 0.23069491982460022, 0.23031353950500488, 0.22931741178035736, 0.22917981445789337, 0.2289920151233673, 0.22823789715766907, 0.22750532627105713, 0.22742605209350586, 0.22577093541622162, 0.22515611350536346, 0.22481469810009003, 0.224552184343338, 0.22389435768127441, 0.22370155155658722, 0.22319863736629486, 0.22304725646972656, 0.22199706733226776, 0.2210249900817871, 0.2208954393863678, 0.22070840001106262, 0.22033393383026123, 0.21975544095039368, 0.21971933543682098, 0.2196972817182541, 0.21966147422790527, 0.2189284861087799, 0.21864385902881622, 0.21760086715221405, 0.21751666069030762, 0.2173186093568802, 0.2164483517408371, 0.21604572236537933, 0.21461306512355804, 0.21426761150360107, 0.213616281747818, 0.21351078152656555, 0.21304097771644592, 0.21183310449123383, 0.2117614597082138, 0.21122018992900848, 0.21083210408687592, 0.20995555818080902, 0.20990672707557678, 0.20953385531902313, 0.2091800421476364, 0.20861409604549408, 0.20854131877422333, 0.20706026256084442, 0.20581352710723877, 0.20501795411109924, 0.20446257293224335, 0.20434482395648956, 0.20429883897304535, 0.2042435258626938, 0.20421841740608215, 0.20420384407043457, 0.20412078499794006, 0.2036542147397995, 0.20326443016529083, 0.2030634880065918, 0.2030629962682724, 0.20276375114917755, 0.2027161866426468, 0.20269861817359924, 0.20262272655963898, 0.2021019458770752, 0.20207419991493225, 0.20149564743041992, 0.2010163813829422, 0.20101073384284973, 0.20055697858333588, 0.2004874050617218, 0.20042715966701508, 0.20012317597866058, 0.19967791438102722, 0.19921906292438507, 0.198791965842247, 0.1985296756029129, 0.1980680227279663, 0.1978701800107956, 0.1975717693567276, 0.19751636683940887, 0.1974613070487976, 0.19729745388031006, 0.1972474306821823, 0.1970328837633133, 0.19652047753334045, 0.19639155268669128, 0.19617752730846405, 0.19602984189987183, 0.1960221379995346, 0.19601157307624817, 0.19553032517433167, 0.19539888203144073, 0.19485488533973694, 0.1940186470746994, 0.19400495290756226, 0.1939423531293869, 0.19292333722114563, 0.1915089339017868, 0.1913832426071167, 0.19127996265888214, 0.19082824885845184, 0.19073571264743805, 0.19066999852657318, 0.19060549139976501, 0.18998809158802032, 0.18954139947891235, 0.18891169130802155, 0.18874652683734894, 0.18824978172779083, 0.18733087182044983, 0.18705226480960846, 0.18613557517528534, 0.1858331561088562, 0.18527798354625702, 0.1850527971982956, 0.18395690619945526, 0.18327027559280396, 0.1832672357559204, 0.18241819739341736, 0.18224754929542542, 0.18214111030101776, 0.18192003667354584, 0.18162739276885986, 0.18130764365196228, 0.18108974397182465, 0.180672749876976, 0.18025076389312744, 0.1790962815284729, 0.17904990911483765, 0.17851947247982025, 0.178055077791214, 0.17798888683319092, 0.17789267003536224, 0.1777968406677246, 0.17766253650188446, 0.17758575081825256, 0.17722220718860626, 0.17720340192317963, 0.17706966400146484, 0.17686307430267334, 0.1758202165365219, 0.17567990720272064, 0.17534397542476654, 0.17524783313274384, 0.1746019423007965, 0.17419877648353577, 0.17376048862934113, 0.17375604808330536, 0.1735498011112213, 0.17317341268062592, 0.17313580214977264, 0.17288248240947723, 0.17267785966396332, 0.17243461310863495, 0.17238709330558777, 0.17237690091133118, 0.172336146235466, 0.17203423380851746, 0.17186306416988373, 0.1716921478509903, 0.17113733291625977, 0.17077331244945526, 0.1707196980714798, 0.1705678403377533, 0.170529305934906, 0.17050687968730927, 0.17050646245479584, 0.1691514551639557, 0.1688997447490692, 0.16879497468471527, 0.16814827919006348, 0.16778331995010376, 0.1675550788640976, 0.16692326962947845, 0.16674713790416718, 0.1667320728302002, 0.16605766117572784, 0.16544277966022491, 0.16540150344371796, 0.1651104986667633, 0.16502144932746887, 0.1649542897939682, 0.16488581895828247, 0.16462711989879608, 0.1646106094121933, 0.16446299850940704, 0.16441208124160767, 0.1639031171798706, 0.1635013073682785, 0.1632266491651535, 0.16293518245220184, 0.16239610314369202, 0.16238462924957275, 0.16234444081783295, 0.16165123879909515, 0.161117285490036, 0.16063548624515533, 0.1605832278728485, 0.1605210155248642, 0.15973952412605286, 0.15945002436637878, 0.15934155881404877, 0.15911440551280975, 0.1586953103542328, 0.15864227712154388, 0.15862281620502472, 0.1585802286863327, 0.1585479974746704, 0.15836502611637115, 0.1580967903137207, 0.1573859304189682, 0.1568300575017929, 0.15664874017238617, 0.15629999339580536, 0.15594027936458588, 0.15581975877285004, 0.15493537485599518, 0.15488873422145844, 0.15458910167217255, 0.1543503850698471, 0.1524263620376587, 0.15206196904182434, 0.1518918126821518, 0.151655912399292, 0.15092256665229797, 0.1507251113653183, 0.15002340078353882, 0.14961019158363342, 0.14804844558238983, 0.14763961732387543, 0.1469666212797165, 0.14646963775157928, 0.14606444537639618, 0.14584623277187347, 0.1438348889350891, 0.14366638660430908, 0.14344333112239838, 0.14218148589134216, 0.14182238280773163, 0.14154104888439178, 0.14141035079956055, 0.14107851684093475, 0.14010919630527496, 0.1398334801197052, 0.13974417746067047, 0.139726921916008, 0.13937444984912872, 0.13934384286403656, 0.13907329738140106, 0.13852249085903168, 0.13842126727104187, 0.13832594454288483, 0.13819758594036102, 0.13657885789871216, 0.13634054362773895, 0.13564838469028473, 0.1353086680173874, 0.1349877417087555, 0.1346517652273178, 0.13447903096675873, 0.13421738147735596, 0.13417412340641022, 0.13270385563373566, 0.1326812356710434, 0.1322058141231537, 0.1318720430135727, 0.13177697360515594, 0.13042078912258148, 0.12991595268249512, 0.1296236515045166, 0.1292675882577896, 0.12822739779949188, 0.1267453134059906, 0.12661738693714142, 0.12645617127418518, 0.12558187544345856, 0.1255451887845993, 0.12397418171167374, 0.12388036400079727, 0.12362656742334366, 0.12308745831251144, 0.12279555946588516, 0.12277114391326904, 0.12240206450223923, 0.122130386531353, 0.12182461470365524, 0.12094952911138535, 0.12035548686981201, 0.11954724043607712, 0.11919275671243668, 0.11761164665222168, 0.11740829050540924, 0.11733176559209824, 0.11656489223241806, 0.11647820472717285, 0.11643479019403458, 0.11631902307271957, 0.11590351909399033, 0.11520805209875107, 0.11474838107824326, 0.11415693908929825, 0.11357345432043076, 0.11348503082990646, 0.11193295568227768, 0.11060338467359543, 0.10787785053253174, 0.1073116883635521, 0.10475791990756989, 0.1042906641960144, 0.10318763554096222, 0.10286471992731094, 0.10196870565414429, 0.10030736774206161, 0.09703244268894196, 0.09686490148305893, 0.09532543271780014, 0.09381483495235443, 0.0920007973909378, 0.09078480303287506, 0.08858983963727951, 0.08747632056474686, 0.0856967493891716, 0.08317413926124573, 0.08309356123209, 0.08261965960264206, 0.0822334885597229, 0.08201645314693451, 0.08200923353433609, 0.07992910593748093, 0.07935570925474167, 0.07886279374361038, 0.07816825807094574, 0.07816384732723236, 0.07668685913085938, 0.07645785063505173, 0.07494339346885681, 0.07480286806821823, 0.07474284619092941, 0.07368432730436325, 0.0736706405878067, 0.07350554317235947, 0.07088389992713928, 0.06998731940984726, 0.06458008289337158, 0.06432922929525375, 0.06336752325296402, 0.06247947737574577, 0.06035744771361351, 0.056211818009614944, 0.051239997148513794, 0.04646579548716545, 0.046342503279447556, 0.045462992042303085, 0.04295645281672478, 0.041773874312639236, 0.04071613773703575, 0.03871478885412216, 0.032688919454813004, 0.03179888054728508, 0.02881440334022045, 0.024575650691986084, 0.02348644845187664, 0.01552989799529314, 0.015195709653198719, 0.01073643658310175, 0.01007970329374075, 0.005990948528051376, 0.0019490758422762156, 0.0002048439346253872]\n",
      "0.05041194707155228\n",
      "[0.05041194707155228, 0.0484641008079052, 0.04397602751851082, 0.043870389461517334, 0.035575706511735916, 0.03498275950551033, 0.03288646787405014, 0.032581884413957596, 0.032239917665719986, 0.032048407942056656, 0.02996320091187954, 0.029306402429938316, 0.027530241757631302, 0.027210935950279236, 0.027164656668901443, 0.02708938531577587, 0.024257903918623924, 0.018123332411050797, 0.017750941216945648, 0.016865959390997887, 0.016052886843681335, 0.01593187265098095, 0.015733692795038223, 0.01567092351615429, 0.015571673400700092, 0.01550893671810627, 0.014288187026977539, 0.013303184881806374, 0.013172844424843788, 0.013164539821445942, 0.012235475704073906, 0.012120652012526989, 0.011938883922994137, 0.01190329622477293, 0.011641337536275387, 0.0116179333999753, 0.011575564742088318, 0.011397621594369411, 0.011241483502089977, 0.011170952580869198, 0.01111494842916727, 0.011011304333806038, 0.010783805511891842, 0.010707534849643707, 0.010558533482253551, 0.010407200083136559, 0.01038995198905468, 0.010378601960837841, 0.010215294547379017, 0.009986772201955318, 0.009785709902644157, 0.009782649576663971, 0.009723118506371975, 0.009675742127001286, 0.00967330951243639, 0.00962946005165577, 0.009623614139854908, 0.009601157158613205, 0.009539823047816753, 0.009364762343466282, 0.009283755905926228, 0.00927768275141716, 0.009271304123103619, 0.009256372228264809, 0.009201282635331154, 0.009101791307330132, 0.008974422700703144, 0.008440809324383736, 0.008355154655873775, 0.00830542016774416, 0.008271480910480022, 0.008250023238360882, 0.008238515816628933, 0.007997652515769005, 0.007987011224031448, 0.007956749759614468, 0.007856651209294796, 0.007848736830055714, 0.007812365423887968, 0.00764479348435998, 0.0075254845432937145, 0.007482455112040043, 0.0072870030999183655, 0.007075859699398279, 0.007042406592518091, 0.0069849188439548016, 0.006860582623630762, 0.00683381874114275, 0.00679229199886322, 0.0067408159375190735, 0.006740449462085962, 0.006646790541708469, 0.006356288678944111, 0.006300497334450483, 0.006266850978136063, 0.006247105076909065, 0.006217211484909058, 0.006199480500072241, 0.006113816052675247, 0.006101870909333229, 0.0060963099822402, 0.00605412432923913, 0.006043199449777603, 0.0060092853382229805, 0.005981197115033865, 0.005823908373713493, 0.005742550827562809, 0.005615196190774441, 0.005517230834811926, 0.005404553841799498, 0.005396898370236158, 0.0053215837106108665, 0.005320805124938488, 0.0052643283270299435, 0.0052057900466024876, 0.005195693578571081, 0.005152896046638489, 0.0050924732349812984, 0.005044892430305481, 0.004960085730999708, 0.004891301039606333, 0.004867968149483204, 0.00485756853595376, 0.0048455893993377686, 0.0047738696448504925, 0.0047608716413378716, 0.004757676273584366, 0.0047510904259979725, 0.004745373036712408, 0.004697158467024565, 0.0046080611646175385, 0.004600691143423319, 0.00459596561267972, 0.004497981164604425, 0.00444363197311759, 0.004441374447196722, 0.004436104092746973, 0.00437043234705925, 0.004358062986284494, 0.004356570076197386, 0.004355243872851133, 0.00434808898717165, 0.0043020593002438545, 0.004289844073355198, 0.004260210786014795, 0.00424569146707654, 0.0041608805768191814, 0.004136493895202875, 0.004134252667427063, 0.004124080296605825, 0.004108802881091833, 0.004093156661838293, 0.004078302066773176, 0.004031331278383732, 0.004025757312774658, 0.004016711842268705, 0.004011333454400301, 0.003983417060226202, 0.003955228719860315, 0.003894503926858306, 0.003872732864692807, 0.0038681153673678637, 0.0038272857200354338, 0.0038151347544044256, 0.003799548139795661, 0.0037753295619040728, 0.003718830645084381, 0.0037074852734804153, 0.00369804329238832, 0.0036957368720322847, 0.003692398313432932, 0.003689934266731143, 0.0036812194157391787, 0.0036772170569747686, 0.003654397325590253, 0.0036448955070227385, 0.003613136475905776, 0.003612445667386055, 0.0036105297040194273, 0.0036013745702803135, 0.0035898953210562468, 0.003566500497981906, 0.003543360624462366, 0.0035402574576437473, 0.0035356797743588686, 0.0035223595332354307, 0.0035153075587004423, 0.003496399614959955, 0.003494730917736888, 0.0034945111256092787, 0.0034806597977876663, 0.003437235252931714, 0.003432461293414235, 0.0034285758156329393, 0.003386201336979866, 0.003359287278726697, 0.003355215070769191, 0.0033375427592545748, 0.0033328800927847624, 0.0033095048274844885, 0.0032973557244986296, 0.0032763152848929167, 0.0032761867623776197, 0.003274549962952733, 0.003257259028032422, 0.0032522797118872404, 0.003244801191613078, 0.003240000456571579, 0.0032382060308009386, 0.0032358013559132814, 0.0032339170575141907, 0.00323370099067688, 0.003227697452530265, 0.0032223828602582216, 0.0032130812760442495, 0.0032056986819952726, 0.003185891779139638, 0.0031715233344584703, 0.0031700727995485067, 0.0031480335164815187, 0.003138719592243433, 0.0031138230115175247, 0.003104973118752241, 0.003104395465925336, 0.003085585543885827, 0.003078009933233261, 0.0030763589311391115, 0.0030710131395608187, 0.003061298979446292, 0.003052227199077606, 0.0030521126464009285, 0.0030465535819530487, 0.003043562639504671, 0.003042754717171192, 0.0030384112615138292, 0.0030364643316715956, 0.003028526669368148, 0.0030218525789678097, 0.003002909943461418, 0.002994285663589835, 0.0029729497618973255, 0.0029694826807826757, 0.0029667734634131193, 0.0029611424542963505, 0.0029565661679953337, 0.0029535554349422455, 0.002942568389698863, 0.002929809270426631, 0.0029269419610500336, 0.0029239002615213394, 0.0029230150394141674, 0.002908170921728015, 0.0029047622811049223, 0.002904668916016817, 0.002892779652029276, 0.0028927274979650974, 0.002884726505726576, 0.002873455872759223, 0.0028546059038490057, 0.0028457334265112877, 0.0028363505844026804, 0.0028292604256421328, 0.002825498580932617, 0.0028092588763684034, 0.002809162950143218, 0.002803013427183032, 0.0027980764862149954, 0.0027728769928216934, 0.0027628776151686907, 0.002754735993221402, 0.002753006061539054, 0.0027521655429154634, 0.0027446486055850983, 0.00274226488545537, 0.002741518896073103, 0.0027286692056804895, 0.0027190435212105513, 0.002704545622691512, 0.0027040643617510796, 0.002699143486097455, 0.0026966414880007505, 0.0026951327454298735, 0.0026802108623087406, 0.002679412951692939, 0.002674906747415662, 0.002673357492312789, 0.002661045640707016, 0.0026530991308391094, 0.002618370810523629, 0.00260863802395761, 0.0025993322487920523, 0.002598976483568549, 0.002595500322058797, 0.002584129571914673, 0.002582233166322112, 0.0025652218610048294, 0.0025569829158484936, 0.0025504138320684433, 0.0025354232639074326, 0.0025287640746682882, 0.0025243747513741255, 0.0025225479621440172, 0.0025198848452419043, 0.0025082752108573914, 0.0025001754984259605, 0.0024976476561278105, 0.00249703461304307, 0.0024844876024872065, 0.002476436784490943, 0.002467445330694318, 0.0024640511255711317, 0.0024630078114569187, 0.002459567040205002, 0.0024356681387871504, 0.002431863686069846, 0.002431863220408559, 0.0024230105336755514, 0.0024212293792515993, 0.002409212291240692, 0.0024069526698440313, 0.0024008890613913536, 0.0024007547181099653, 0.0023976778611540794, 0.0023958187084645033, 0.0023949735332280397, 0.0023806211538612843, 0.0023791303392499685, 0.0023759331088513136, 0.0023757286835461855, 0.002368280431255698, 0.0023618999402970076, 0.0023613080848008394, 0.0023593015503138304, 0.0023506779689341784, 0.0023503557313233614, 0.002341280458495021, 0.002338140970095992, 0.0023293073754757643, 0.002329129260033369, 0.0023230048827826977, 0.002321843756362796, 0.002317563397809863, 0.00231726816855371, 0.002310705604031682, 0.002307231305167079, 0.0023047912400215864, 0.002303539542481303, 0.002297996310517192, 0.0022961038630455732, 0.0022904877550899982, 0.0022849433589726686, 0.002280417364090681, 0.0022783742751926184, 0.002275822451338172, 0.0022739272098988295, 0.0022732382640242577, 0.0022695825900882483, 0.002268986776471138, 0.0022670321632176638, 0.0022614297922700644, 0.0022546821273863316, 0.0022536662872880697, 0.0022524443920701742, 0.002251200145110488, 0.0022482939530164003, 0.0022454485297203064, 0.002244609175249934, 0.002241582376882434, 0.0022410438396036625, 0.00223909062333405, 0.002234951127320528, 0.0022344952449202538, 0.002232887549325824, 0.0022322579752653837, 0.0022311126813292503, 0.0022251219488680363, 0.0022249191533774137, 0.0022240516263991594, 0.002222904236987233, 0.0022226297296583652, 0.002218599896878004, 0.002216432010754943, 0.002214350737631321, 0.002211951883509755, 0.002210828009992838, 0.002210125094279647, 0.0022035513538867235, 0.0022024258505553007, 0.0021971554961055517, 0.002188396407291293, 0.0021870953496545553, 0.002183617791160941, 0.0021809516474604607, 0.002179740695282817, 0.002179619623348117, 0.0021790338214486837, 0.002170233055949211, 0.0021654481533914804, 0.002165383892133832, 0.0021615212317556143, 0.0021587645169347525, 0.0021572120022028685, 0.002156883245334029, 0.002156525384634733, 0.002155587775632739, 0.002155126305297017, 0.0021546296775341034, 0.0021524932235479355, 0.0021497837733477354, 0.0021474482491612434, 0.002140461467206478, 0.0021383878774940968, 0.002137968549504876, 0.0021366046275943518, 0.0021350455936044455, 0.0021317810751497746, 0.0021314420737326145, 0.0021302925888448954, 0.0021280848886817694, 0.002127299318090081, 0.0021183311473578215, 0.002117797965183854, 0.002116416348144412, 0.002105800434947014, 0.0021016327664256096, 0.0021002597641199827, 0.0020994923543184996, 0.0020991156343370676, 0.0020964022260159254, 0.002095249481499195, 0.0020931840408593416, 0.0020914238411933184, 0.0020901476964354515, 0.0020900778472423553, 0.0020894769113510847, 0.002089311368763447, 0.002087218454107642, 0.0020863579120486975, 0.002085142768919468, 0.002085030311718583, 0.002079480094835162, 0.002078251913189888, 0.002078108489513397, 0.0020766831003129482, 0.0020757955498993397, 0.002074712421745062, 0.002074161311611533, 0.002073221607133746, 0.002070443704724312, 0.0020703922491520643, 0.00207032123580575, 0.0020695964340120554, 0.0020682401955127716, 0.0020678238943219185, 0.0020664604380726814, 0.002065434353426099, 0.0020653835963457823, 0.0020649381913244724, 0.0020593551453202963, 0.002058580983430147, 0.0020571399945765734, 0.0020567511674016714, 0.0020563448779284954, 0.0020562252029776573, 0.0020561558194458485, 0.0020545879378914833, 0.0020543159916996956, 0.002052601194009185, 0.0020517546217888594, 0.002051137387752533, 0.0020506547298282385, 0.0020497089717537165, 0.002046303590759635, 0.002045152708888054, 0.002043557818979025, 0.002043472370132804, 0.0020420465152710676, 0.002040666062384844, 0.0020400513894855976, 0.0020398234482854605, 0.002035984303802252, 0.0020335428416728973, 0.0020324017386883497, 0.0020320857875049114, 0.0020318739116191864, 0.0020293511915951967, 0.0020288280211389065, 0.002028579590842128, 0.0020283604972064495, 0.002028191229328513, 0.002026870148256421, 0.0020257753785699606, 0.0020233087707310915, 0.0020226798951625824, 0.0020224133040755987, 0.0020221651066094637, 0.0020219366997480392, 0.002021921332925558, 0.002021613297984004, 0.0020211043301969767, 0.0020196952391415834, 0.0020137475803494453, 0.002010911935940385, 0.0020101885311305523, 0.002009457442909479, 0.0020094409119337797, 0.00200927397236228, 0.0020085149444639683, 0.002005193615332246, 0.0020020303782075644, 0.002000922802835703, 0.001999619649723172, 0.001999531639739871, 0.001994469901546836, 0.0019878880120813847, 0.001986622577533126, 0.0019852938130497932, 0.001985023496672511, 0.0019850051030516624, 0.001984528498724103, 0.0019840893801301718, 0.001983815338462591, 0.00198348774574697, 0.0019832358229905367, 0.0019810700323432684, 0.00197990657761693, 0.001979523105546832, 0.0019795021507889032, 0.001979351742193103, 0.0019788353238254786, 0.001975592225790024, 0.0019748450722545385, 0.001972557045519352, 0.0019724725279957056, 0.001968754455447197, 0.0019672324415296316, 0.0019666270818561316, 0.0019634540658444166, 0.001962614944204688, 0.001962499227374792, 0.0019617732614278793, 0.0019565552938729525, 0.001956374617293477, 0.0019552060402929783, 0.0019539317581802607, 0.0019512352300807834, 0.0019498072797432542, 0.001949712517671287, 0.0019487738609313965, 0.001947165816091001, 0.0019450646359473467, 0.0019444829085841775, 0.001942487433552742, 0.0019421216566115618, 0.0019411974353715777, 0.0019408541265875101, 0.0019404400372877717, 0.001937723602168262, 0.001935326843522489, 0.0019347005290910602, 0.0019323675660416484, 0.001930634374730289, 0.0019306313479319215, 0.001930378028191626, 0.0019303414737805724, 0.0019301085267215967, 0.001930026919580996, 0.001929998048581183, 0.0019297481048852205, 0.0019285442540422082, 0.0019276113016530871, 0.0019270541379228234, 0.0019269753247499466, 0.0019254410872235894, 0.0019242380512878299, 0.0019226178992539644, 0.0019205821445211768, 0.001918692491017282, 0.0019176456844434142, 0.001915670931339264, 0.001915126689709723, 0.0019145276164636016, 0.0019143959507346153, 0.0019081613281741738, 0.001906379358842969, 0.001904308213852346, 0.0019038502359762788, 0.0019034277647733688, 0.0018990427488461137, 0.0018977242289111018, 0.0018968734657391906, 0.0018956772983074188, 0.0018905865726992488, 0.0018886238103732467, 0.0018875133246183395, 0.0018875012174248695, 0.001887193531729281, 0.001886008307337761, 0.001881866599433124, 0.0018805857980623841, 0.001879012561403215, 0.0018787647131830454, 0.0018779721576720476, 0.0018771762261167169, 0.0018755391938611865, 0.0018713998142629862, 0.0018713095923885703, 0.0018672446021810174, 0.0018657920882105827, 0.0018655427265912294, 0.001863593584857881, 0.0018625628435984254, 0.0018606673693284392, 0.001859645708464086, 0.001859312760643661, 0.0018531270325183868, 0.0018503640312701464, 0.0018461227882653475, 0.0018459343118593097, 0.0018459107959643006, 0.0018404562724754214, 0.0018344533164054155, 0.0018303474644199014, 0.001826426014304161, 0.0018248570850118995, 0.00182380061596632, 0.0018233696464449167, 0.0018219240009784698, 0.0018212114227935672, 0.0018204899970442057, 0.0018199417972937226, 0.0018180691404268146, 0.0018179763574153185, 0.0018084343755617738, 0.0018079091096296906, 0.0018077932763844728, 0.0018070023506879807, 0.0018059421563521028, 0.0018036913825199008, 0.0017994791269302368, 0.0017963728168979287, 0.0017954878276214004, 0.001794802607037127, 0.0017893448239192367, 0.0017885655397549272, 0.0017846638802438974, 0.0017802022630348802, 0.0017795305466279387, 0.0017781582428142428, 0.0017752861604094505, 0.0017742306226864457, 0.0017677799332886934, 0.001766558038070798, 0.0017662132158875465, 0.0017658070428296924, 0.001765799941495061, 0.0017609772039577365, 0.0017586477333679795, 0.0017574416706338525, 0.001756194862537086, 0.0017539078835397959, 0.0017503375420346856, 0.0017426004633307457, 0.0017376674804836512, 0.0017361771315336227, 0.0017336219316348433, 0.0017331388080492616, 0.0017323142383247614, 0.0017311781411990523, 0.001725637586787343, 0.0017206177581101656, 0.0017188159981742501, 0.001718629733659327, 0.0017174318199977279, 0.0017132333014160395, 0.0017129641491919756, 0.0017026931745931506, 0.0017004862893372774, 0.0017003411194309592, 0.0016964977839961648, 0.0016944262897595763, 0.001694230712018907, 0.0016938484041020274, 0.0016932351281866431, 0.001690277480520308, 0.0016896453453227878, 0.0016852006083354354, 0.0016844765050336719, 0.0016840972239151597, 0.001670514582656324, 0.0016700843116268516, 0.0016670728800818324, 0.0016665976727381349, 0.0016660329420119524, 0.0016653696075081825, 0.0016626184806227684, 0.0016575081972405314, 0.0016572031890973449, 0.0016307730693370104, 0.0016300514107570052, 0.0016263257712125778, 0.0016230784822255373, 0.0016210641479119658, 0.0016192951006814837, 0.001618176931515336, 0.001611284795217216, 0.0016090864082798362, 0.001606104546226561, 0.0016042039496824145, 0.001604115474037826, 0.0016026102239266038, 0.0016018446767702699, 0.0016006395453587174, 0.0015834777150303125, 0.0015830291667953134, 0.0015818391693755984, 0.0015765514690428972, 0.0015747972065582871, 0.0015747853321954608, 0.0015696216141805053, 0.0015631035203114152, 0.0015579559840261936, 0.001557840034365654, 0.001556775881908834, 0.0015494482358917594, 0.0015475786058232188, 0.001546156476251781, 0.0015457861591130495, 0.00153676001355052, 0.0015344992280006409, 0.0015302676474675536, 0.0015293152537196875, 0.0015278876526281238, 0.0015258454950526357, 0.001516871154308319, 0.001514768460765481, 0.0015123173361644149, 0.001511923037469387, 0.0015118442242965102, 0.001507596462033689, 0.0015067292843014002, 0.0015056523261591792, 0.0015014003729447722, 0.0014968597097322345, 0.0014914899365976453, 0.0014906490687280893, 0.0014860983937978745, 0.0014855008339509368, 0.00147733383346349, 0.0014714825665578246, 0.0014654708793386817, 0.0014604701427742839, 0.001454886863939464, 0.0014514403883367777, 0.0014505715807899833, 0.0014465891290456057, 0.0014435917837545276, 0.0014424024848267436, 0.0014418381033465266, 0.001440310152247548, 0.0014352593570947647, 0.0014338596956804395, 0.0014328983379527926, 0.001428673043847084, 0.0014269489329308271, 0.0014243334298953414, 0.0014240788295865059, 0.0014197340933606029, 0.0014179310528561473, 0.0014174445532262325, 0.0014134859666228294, 0.001413121703080833, 0.001410052995197475, 0.0014088377356529236, 0.0014052785700187087, 0.0014038215158507228, 0.0013990566367283463, 0.0013985132100060582, 0.0013977730413898826, 0.0013968040002509952, 0.001396356150507927, 0.0013917448231950402, 0.0013913437724113464, 0.0013899358455091715, 0.0013898492325097322, 0.0013790989760309458, 0.0013783962931483984, 0.0013735488755628467, 0.0013713724911212921, 0.0013708536280319095, 0.0013702840078622103, 0.0013682047137990594, 0.0013652682537212968, 0.001362785929813981, 0.0013599678641185164, 0.0013578747166320682, 0.0013572241878136992, 0.0013554779579862952, 0.001352159772068262, 0.001349343452602625, 0.0013479954795911908, 0.0013465910451486707, 0.001339780748821795, 0.0013352253008633852, 0.001334663131274283, 0.001332805142737925, 0.0013310021022334695, 0.0013291233917698264, 0.0013288456248119473, 0.001322366762906313, 0.001321449177339673, 0.0013103116070851684, 0.0013098304625600576, 0.001308991457335651, 0.001305137760937214, 0.0013047943357378244, 0.0013039630139246583, 0.001303756725974381, 0.0013020122423768044, 0.0013010287657380104, 0.0012964060297235847, 0.0012963165063410997, 0.0012961009051650763, 0.001294536399655044, 0.0012933331308886409, 0.0012914711842313409, 0.0012891112128272653, 0.0012879453133791685, 0.001278315088711679, 0.0012755756033584476, 0.0012746055144816637, 0.0012729403097182512, 0.0012724580010399222, 0.0012654801830649376, 0.0012618688633665442, 0.0012588434619829059, 0.0012554113054648042, 0.0012502429308369756, 0.0012500156881287694, 0.0012483472237363458, 0.0012452700175344944, 0.0012445254251360893, 0.001241461024619639, 0.0012385258451104164, 0.0012337749358266592, 0.0012304851552471519, 0.0012281234376132488, 0.0012280080700293183, 0.0012242798693478107, 0.001223936676979065, 0.0012236934853717685, 0.0012199695920571685, 0.0012161339400336146, 0.0012149708345532417, 0.0012146522058174014, 0.0012142822379246354, 0.0012131696566939354, 0.0012050253571942449, 0.0011989518534392118, 0.001197677687741816, 0.0011957682436332107, 0.0011956163216382265, 0.001193209202028811, 0.0011928105959668756, 0.0011923458660021424, 0.0011887106811627746, 0.0011878599179908633, 0.0011859710793942213, 0.0011841857340186834, 0.0011762045323848724, 0.0011745849624276161, 0.001173575990833342, 0.001170908915810287, 0.0011669861851260066, 0.0011649198131635785, 0.001163200126029551, 0.0011594437528401613, 0.0011570402421057224, 0.0011566637549549341, 0.0011539841070771217, 0.0011522377608343959, 0.0011515713995322585, 0.0011505403090268373, 0.0011503471760079265, 0.0011481607798486948, 0.0011452959151938558, 0.0011442567920312285, 0.0011434154585003853, 0.0011339080519974232, 0.0011338678887113929, 0.0011328533291816711, 0.0011321286438032985, 0.0011308033717796206, 0.0011305332882329822, 0.0011303559876978397, 0.0011286012595519423, 0.0011264228960499167, 0.0011225341586396098, 0.0011204720940440893, 0.001118210144340992, 0.0011175875551998615, 0.0011156537802889943, 0.0011136888060718775, 0.0011134903179481626, 0.0011081643169745803, 0.001107770367525518, 0.00110766536090523, 0.0011071033077314496, 0.0011058698873966932, 0.0011042748810723424, 0.001103239948861301, 0.0011018250370398164, 0.0011014746269211173, 0.0010983813554048538, 0.0010974342003464699, 0.0010968043934553862, 0.0010966149857267737, 0.0010958804050460458, 0.0010957189369946718, 0.0010891137644648552, 0.0010882796486839652, 0.0010846199002116919, 0.0010831531835719943, 0.001079089124687016, 0.001078563160263002, 0.001077367807738483, 0.001077094697393477, 0.001072422252036631, 0.0010720775462687016, 0.0010701947612687945, 0.0010690224589779973, 0.0010648779571056366, 0.0010623115813359618, 0.0010612907353788614, 0.0010594397317618132, 0.0010586053831502795, 0.0010556819615885615, 0.0010521921794861555, 0.0010502813383936882, 0.001047062105499208, 0.001040272181853652, 0.0010400054743513465, 0.001039573922753334, 0.001038264250382781, 0.001035306486301124, 0.0010344012407585979, 0.001033853623084724, 0.0010284865275025368, 0.001028303406201303, 0.0010259072296321392, 0.0010242939461022615, 0.0010236414382234216, 0.001023014890961349, 0.0010215044021606445, 0.001020682044327259, 0.0010199033422395587, 0.0010122990934178233, 0.0010101974476128817, 0.0010099950013682246, 0.0010084201348945498, 0.0010059369960799813, 0.0010055708698928356, 0.0010054506128653884, 0.001003709388896823, 0.0009996446315199137, 0.0009978340240195394, 0.000994400237686932, 0.0009939464507624507, 0.0009933336405083537, 0.0009932232787832618, 0.0009928735671564937, 0.0009894141694530845, 0.0009877284755930305, 0.0009871767833828926, 0.0009857406839728355, 0.0009837279794737697, 0.000983594567514956, 0.0009762576082721353, 0.0009762411355040967, 0.0009753053891472518, 0.00097201595781371, 0.0009695463231764734, 0.0009657171904109418, 0.0009654181194491684, 0.0009648833656683564, 0.0009644489618949592, 0.0009626466198824346, 0.0009595751762390137, 0.0009573792922310531, 0.0009536649449728429, 0.000952097587287426, 0.0009518120787106454, 0.0009489130461588502, 0.0009473182144574821, 0.000947244290728122, 0.00094583973987028, 0.0009453408420085907, 0.0009451983496546745, 0.0009451922960579395, 0.0009426885517314076, 0.0009426319156773388, 0.000942038488574326, 0.0009406363824382424, 0.0009389297338202596, 0.0009364882716909051, 0.0009363592835143209, 0.0009352620108984411, 0.0009350188192911446, 0.0009338942472822964, 0.0009338051313534379, 0.000931078742723912, 0.000931011512875557, 0.00093038723571226, 0.0009297304204665124, 0.000924652093090117, 0.0009243115782737732, 0.0009216532343998551, 0.0009209769777953625, 0.0009206946124322712, 0.0009177149622701108, 0.0009176433086395264, 0.0009146161610260606, 0.0009142846101894975, 0.0009142318740487099, 0.0009133678977377713, 0.000911138893570751, 0.0009097481379285455, 0.000909018621314317, 0.0009087398648262024, 0.0009047127678059042, 0.0008995493990369141, 0.0008963252766989172, 0.0008872227626852691, 0.0008831573068164289, 0.0008830605074763298, 0.000876315520144999, 0.0008728105458430946, 0.0008680325117893517, 0.0008673295378684998, 0.0008668621885590255, 0.0008660538005642593, 0.0008657797588966787, 0.0008640016312710941, 0.0008637307328172028, 0.0008636325947009027, 0.0008628065115772188, 0.0008612739038653672, 0.0008603727328591049, 0.0008592998492531478, 0.0008591548539698124, 0.0008586847106926143, 0.0008584093302488327, 0.0008542174473404884, 0.0008526597521267831, 0.0008518495014868677, 0.000848199357278645, 0.0008458955562673509, 0.0008440749952569604, 0.0008438173681497574, 0.0008413560572080314, 0.0008407642017118633, 0.0008390717557631433, 0.0008384780958294868, 0.0008380553917959332, 0.0008378764614462852, 0.0008337924373336136, 0.0008330321288667619, 0.0008324862574227154, 0.0008314758888445795, 0.0008309906697832048, 0.0008290333789773285, 0.0008284975192509592, 0.0008282027556560934, 0.0008263353374786675, 0.0008261615294031799, 0.0008247906225733459, 0.0008223857148550451, 0.0008206190541386604, 0.0008203007164411247, 0.0008177621639333665, 0.0008148947963491082, 0.0008125956519506872, 0.0008116347016766667, 0.0008090385235846043, 0.0008079802501015365, 0.0008065587026067078, 0.0008054431527853012, 0.0008024616399779916, 0.0008004490518942475, 0.0007988934521563351, 0.0007975706830620766, 0.0007911364664323628, 0.000789618119597435, 0.0007888915133662522, 0.0007882049540057778, 0.0007873911526985466, 0.000786835968028754, 0.0007868126849643886, 0.0007866910891607404, 0.0007851136033423245, 0.0007841686019673944, 0.0007821237086318433, 0.0007801723550073802, 0.0007780782179906964, 0.0007779799634590745, 0.0007744221366010606, 0.0007744114263914526, 0.0007699315319769084, 0.0007685483433306217, 0.0007663587457500398, 0.0007657640380784869, 0.0007644633878953755, 0.0007640862022526562, 0.0007636211812496185, 0.00076313316822052, 0.0007612068438902497, 0.0007607807638123631, 0.0007585800485685468, 0.0007584152044728398, 0.000757128291297704, 0.0007560477824881673, 0.0007514797034673393, 0.0007507601985707879, 0.0007494250894524157, 0.0007489398121833801, 0.0007487708935514092, 0.0007469074917025864, 0.00074671272886917, 0.0007440221379511058, 0.0007425948861055076, 0.0007410760154016316, 0.0007401734474115074, 0.0007383747142739594, 0.0007334225228987634, 0.0007323373574763536, 0.0007318900898098946, 0.0007305723265744746, 0.0007295937975868583, 0.0007285316823981702, 0.0007265630993060768, 0.0007256050012074411, 0.0007228729082271457, 0.0007206682348623872, 0.0007192917983047664, 0.0007179587264545262, 0.0007172425976023078, 0.0007158198277465999, 0.000714557827450335, 0.0007142803515307605, 0.0007137756911106408, 0.0007134850020520389, 0.0007106430130079389, 0.0007100550574250519, 0.000707452476490289, 0.0007047661929391325, 0.0007031762506812811, 0.0007010017870925367, 0.000700737873557955, 0.0007004096987657249, 0.0006990135880187154, 0.0006971618859097362, 0.0006956551223993301, 0.0006936438730917871, 0.000693039211910218, 0.0006918165599927306, 0.0006905946065671742, 0.0006879866123199463, 0.0006878187996335328, 0.0006861367146484554, 0.0006856031832285225, 0.0006847392069175839, 0.0006839588168077171, 0.0006832516519352794, 0.0006829746998846531, 0.0006816123495809734, 0.0006789315375499427, 0.0006782911368645728, 0.0006743436097167432, 0.0006729147280566394, 0.0006722757243551314, 0.0006720529054291546, 0.0006713994080200791, 0.0006712045869790018, 0.000670743000227958, 0.0006702992832288146, 0.0006693507893942297, 0.0006681793602183461, 0.000667839718516916, 0.0006675591575913131, 0.0006670953589491546, 0.0006659597274847329, 0.0006658904603682458, 0.0006644029053859413, 0.0006636306061409414, 0.0006632725126110017, 0.0006607315153814852, 0.0006606230745092034, 0.0006592454737983644, 0.0006579268956556916, 0.0006571408011950552, 0.0006569725810550153, 0.0006568934768438339, 0.000655193580314517, 0.0006539616151712835, 0.0006505823694169521, 0.0006505438359454274, 0.0006505211931653321, 0.0006501738680526614, 0.0006489467341452837, 0.0006489459192380309, 0.0006478899158537388, 0.0006475712289102376, 0.000646998465526849, 0.0006443900056183338, 0.0006411942886188626, 0.0006408149492926896, 0.0006394018419086933, 0.0006388969486579299, 0.0006338420207612216, 0.0006328342715278268, 0.0006318788509815931, 0.0006312249461188912, 0.0006306617869995534, 0.0006289595621638, 0.0006284647970460355, 0.0006265343981795013, 0.0006260699592530727, 0.0006247006240300834, 0.0006241240771487355, 0.0006238669739104807, 0.0006199440103955567, 0.0006193678709678352, 0.000618692662101239, 0.0006168375839479268, 0.0006163992220535874, 0.0006159075419418514, 0.0006141531048342586, 0.0006116993608884513, 0.0006092293187975883, 0.000608440488576889, 0.0006079917075112462, 0.0006077157449908555, 0.0006065101479180157, 0.0006046613561920822, 0.0006042702007107437, 0.0006020659930072725, 0.0006003407179377973, 0.000598904793150723, 0.0005971991340629756, 0.0005967420875094831, 0.0005967011093162, 0.0005965351010672748, 0.0005964565207250416, 0.0005954288062639534, 0.0005946769379079342, 0.000593217380810529, 0.0005923901917412877, 0.0005909280735068023, 0.0005907600279897451, 0.0005906175938434899, 0.0005896060029044747, 0.0005894391797482967, 0.0005892807967029512, 0.0005885455757379532, 0.000588216062169522, 0.0005873637273907661, 0.0005873615154996514, 0.0005866141873411834, 0.0005855268100276589, 0.0005844053230248392, 0.0005843184771947563, 0.0005841942620463669, 0.0005838476354256272, 0.0005837252829223871, 0.0005818065837956965, 0.0005802156520076096, 0.000580114487092942, 0.0005797010380774736, 0.0005781033542007208, 0.0005774287856183946, 0.0005769749986939132, 0.0005764078232459724, 0.0005762752261944115, 0.0005752217257395387, 0.0005728651885874569, 0.0005721553461626172, 0.0005715577863156796, 0.0005710244295187294, 0.0005697291344404221, 0.0005666667711921036, 0.00056543352548033, 0.0005631999229080975, 0.0005630922387354076, 0.0005630493978969753, 0.0005630306550301611, 0.0005628010258078575, 0.0005624578916467726, 0.0005619257572107017, 0.0005619109724648297, 0.0005606216727755964, 0.0005585504695773125, 0.0005577554693445563, 0.0005566384643316269, 0.0005552300135605037, 0.0005549215129576623, 0.0005547940963879228, 0.0005547318723984063, 0.0005524639855138958, 0.0005521581042557955, 0.0005517196259461343, 0.0005516912788152695, 0.0005512998322956264, 0.0005510035553015769, 0.0005495718796737492, 0.0005488886381499469, 0.0005470793112181127, 0.0005463212728500366, 0.0005461549735628068, 0.000544980401173234, 0.0005446219001896679, 0.0005428889999166131, 0.0005417094216682017, 0.0005416282801888883, 0.0005406515556387603, 0.0005405154079198837, 0.0005385644035413861, 0.0005378011846914887, 0.0005357802729122341, 0.0005347675760276616, 0.000534508959390223, 0.0005342675722204149, 0.0005341623327694833, 0.0005338830524124205, 0.0005337320035323501, 0.0005336661706678569, 0.0005329427076503634, 0.0005320782074704766, 0.0005289115360938013, 0.0005283867358230054, 0.0005258918972685933, 0.0005257627344690263, 0.0005254827556200325, 0.000525325711350888, 0.0005244147032499313, 0.0005225745844654739, 0.0005225001950748265, 0.0005223938496783376, 0.000521668407600373, 0.0005210455856285989, 0.0005209652008488774, 0.00051844835979864, 0.0005183594184927642, 0.0005177940474823117, 0.00051674316637218, 0.0005163827445358038, 0.0005162854795344174, 0.0005159891443327069, 0.0005155593389645219, 0.0005153641104698181, 0.0005147989140823483, 0.0005145228351466358, 0.0005143522284924984, 0.0005137838306836784, 0.0005132422666065395, 0.0005129158380441368, 0.0005126269534230232, 0.000512094353325665, 0.0005117029650136828, 0.0005109602934680879, 0.0005096096429042518, 0.000509188394062221, 0.0005084564909338951, 0.0005083321593701839, 0.0005070972838439047, 0.0005068957107141614, 0.0005058630486018956, 0.0005056373192928731, 0.0005040070973336697, 0.0005037086084485054, 0.0005036367219872773, 0.0005035552894696593, 0.0005032367189414799, 0.000502905051689595, 0.0005013855407014489, 0.000500237219966948, 0.0005001662648282945, 0.000500028021633625, 0.0004997524665668607, 0.0004989173612557352, 0.0004984846455045044, 0.0004972321330569685, 0.0004964534309692681, 0.0004959987127222121, 0.0004935755277983844, 0.0004928009584546089, 0.0004921894869767129, 0.0004906016401946545, 0.0004901585634797812, 0.0004897344624623656, 0.000488868507090956, 0.00048630553646944463, 0.0004861723573412746, 0.00048285440425388515, 0.0004817918816115707, 0.0004793052503373474, 0.0004790983221028, 0.0004788530059158802, 0.0004780282324645668, 0.0004769659717567265, 0.0004768267390318215, 0.00047572102630510926, 0.00047527631977573037, 0.0004751891829073429, 0.00047494974569417536, 0.0004732473462354392, 0.0004730357031803578, 0.00047120280214585364, 0.0004689054621849209, 0.0004685698659159243, 0.0004679999256040901, 0.0004664419393520802, 0.0004657519166357815, 0.0004651730414479971, 0.00046387637848965824, 0.0004637773090507835, 0.00046315378858707845, 0.00046287328586913645, 0.0004619065730366856, 0.00046182601363398135, 0.0004612069751601666, 0.0004606219881679863, 0.00046033572289161384, 0.00045903678983449936, 0.0004586452560033649, 0.0004579080268740654, 0.0004574860504362732, 0.000457380258012563, 0.00045659879106096923, 0.000456271693110466, 0.0004558670334517956, 0.0004557242791634053, 0.0004555823397822678, 0.00045345010585151613, 0.00045303089427761734, 0.0004524348769336939, 0.0004524039104580879, 0.00045215952559374273, 0.0004492872394621372, 0.0004475463356357068, 0.0004459134361241013, 0.00044537612120620906, 0.00044528787839226425, 0.000442935386672616, 0.0004429154214449227, 0.0004409202956594527, 0.0004408339154906571, 0.0004393165872897953, 0.00043648347491398454, 0.0004364655469544232, 0.00043627162813208997, 0.00043584738159552217, 0.0004338549915701151, 0.000433667708421126, 0.0004328208160586655, 0.0004323907196521759, 0.00043237069621682167, 0.0004309176583774388, 0.0004307744966354221, 0.00042974817915819585, 0.0004297031555324793, 0.0004288750351406634, 0.00042851321632042527, 0.0004257776017766446, 0.0004249502089805901, 0.00042458236566744745, 0.00042427750304341316, 0.00042418381781317294, 0.0004232492356095463, 0.00042226348887197673, 0.00042162949102930725, 0.00042124176979996264, 0.0004207654856145382, 0.0004202491254545748, 0.0004186724254395813, 0.0004175598733127117, 0.0004165313148405403, 0.0004163396661169827, 0.0004163079138379544, 0.0004154679481871426, 0.0004140782111790031, 0.00041155036888085306, 0.0004073675663676113, 0.0004071803705301136, 0.0004064385429956019, 0.0004064371751155704, 0.0004055958706885576, 0.00040529901161789894, 0.00040244736010208726, 0.0004008738324046135, 0.0004007865791209042, 0.00040008212090469897, 0.000399421202018857, 0.0003982129564974457, 0.00039767968701198697, 0.00039721900247968733, 0.00039659300819039345, 0.00039657019078731537, 0.0003952552506234497, 0.00039446476148441434, 0.00039424459100700915, 0.0003940381284337491, 0.0003934543638024479, 0.0003929179219994694, 0.00039147911593317986, 0.00038907938869670033, 0.0003887087223120034, 0.0003886986232828349, 0.00038795790169388056, 0.0003835177922155708, 0.00038347873487509787, 0.00038288073847070336, 0.00038182034040801227, 0.00038087842403911054, 0.000380497716832906, 0.0003790895571000874, 0.00037648333818651736, 0.00037571406573988497, 0.0003747603914234787, 0.00037330170744098723, 0.0003725635469891131, 0.0003724916314240545, 0.00036760259536094964, 0.0003670374571811408, 0.00036613477277569473, 0.0003653916937764734, 0.00036462777643464506, 0.00036005303263664246, 0.0003600355703383684, 0.00035971004399470985, 0.0003589530533645302, 0.0003566793748177588, 0.0003561421763151884, 0.00035399929038248956, 0.00035354308784008026, 0.0003532749542500824, 0.00035244421451352537, 0.0003524137136992067, 0.0003520177851896733, 0.00034972766297869384, 0.0003494383709039539, 0.0003452635428402573, 0.0003445577749516815, 0.00034340182901360095, 0.00034324461012147367, 0.0003417889238335192, 0.00034072782727889717, 0.00034041012986563146, 0.00034001481253653765, 0.0003397889086045325, 0.0003396070678718388, 0.0003389468474779278, 0.0003381630522198975, 0.0003381562128197402, 0.0003381070273462683, 0.00033778962097130716, 0.00033712919685058296, 0.00033443502616137266, 0.0003337335947435349, 0.00033304220414720476, 0.00033296941546723247, 0.0003314406785648316, 0.00033058298868127167, 0.0003304940473753959, 0.0003302797849755734, 0.0003280233941040933, 0.00032723986078053713, 0.00032694434048607945, 0.00032578929676674306, 0.0003241187077946961, 0.00032327717053703964, 0.00032309695961885154, 0.0003225984110031277, 0.0003200012433808297, 0.00031957970350049436, 0.00031957137980498374, 0.0003192266449332237, 0.0003185042296536267, 0.00031843295437283814, 0.00031377552659250796, 0.0003127235686406493, 0.00031271358602680266, 0.00031240275711752474, 0.0003112103440798819, 0.0003108206146862358, 0.0003099616733379662, 0.00030861582490615547, 0.00030839862301945686, 0.0003079134039580822, 0.0003078649751842022, 0.0003072950930800289, 0.00030687564867548645, 0.0003062684554606676, 0.0003049369843211025, 0.00030385982245206833, 0.00030348586733452976, 0.0003030791413038969, 0.00030179982422851026, 0.00030119632720015943, 0.0003009317151736468, 0.0002989454078488052, 0.000297298189252615, 0.0002962216385640204, 0.00029517392977140844, 0.0002948802139144391, 0.0002943227009382099, 0.0002931549388449639, 0.0002927391033153981, 0.00029233843088150024, 0.00029200862627476454, 0.000291355507215485, 0.0002906005538534373, 0.00029057636857032776, 0.000290518015390262, 0.0002901466505136341, 0.00028910068795084953, 0.0002885139547288418, 0.00028827786445617676, 0.00028798868879675865, 0.0002876825165003538, 0.0002875454956665635, 0.00028721135458908975, 0.000287182250758633, 0.0002869681629817933, 0.0002869251184165478, 0.0002866952563636005, 0.0002860196982510388, 0.00028552557341754436, 0.00028383321478031576, 0.0002835575432982296, 0.00028264897991903126, 0.0002822656824719161, 0.00028222354012541473, 0.0002814234176184982, 0.0002787407429423183, 0.00027792525361292064, 0.0002778567431960255, 0.0002756984322331846, 0.00027492514345794916, 0.0002745135861914605, 0.0002741386997513473, 0.0002741347998380661, 0.0002740415802691132, 0.00027385493740439415, 0.0002728463150560856, 0.00027142680482938886, 0.00027126455097459257, 0.00027112424140796065, 0.00026971762417815626, 0.00026955726207233965, 0.00026917600189335644, 0.0002690250694286078, 0.00026719007291831076, 0.00026653902023099363, 0.0002663880295585841, 0.00026601308491081, 0.00026505833375267684, 0.00026441208319738507, 0.00026434523169882596, 0.0002639539015945047, 0.000263621419435367, 0.00026328672538511455, 0.00026284350315108895, 0.000261157430941239, 0.0002602864697109908, 0.0002602721506264061, 0.0002600577718112618, 0.00026005724794231355, 0.0002596549456939101, 0.0002594619581941515, 0.00025934382574632764, 0.0002592639939393848, 0.00025810112128965557, 0.00025808336795307696, 0.0002578266430646181, 0.00025722369900904596, 0.00025670655304566026, 0.00025654121418483555, 0.0002564812602940947, 0.0002562981972005218, 0.00025596717023290694, 0.0002559012791607529, 0.0002550340723246336, 0.0002549731289036572, 0.0002543253358453512, 0.0002541050489526242, 0.0002529186604078859, 0.0002525193558540195, 0.0002513138751965016, 0.00025124417152255774, 0.0002492765779606998, 0.0002485412987880409, 0.00024838821263983846, 0.00024808550369925797, 0.0002479087561368942, 0.0002476205991115421, 0.00024753116304054856, 0.0002473399508744478, 0.0002469619794283062, 0.0002465698344167322, 0.0002450899628456682, 0.00024498856510035694, 0.00024490716168656945, 0.0002446161233820021, 0.00024434836814180017, 0.0002443217672407627, 0.00024390009639319032, 0.00024383922573179007, 0.00024344872508663684, 0.0002430954045848921, 0.00024274022143799812, 0.00024243784719146788, 0.00024174433201551437, 0.0002417104842606932, 0.00024134921841323376, 0.00024033496447373182, 0.00023924573906697333, 0.00023873164900578558, 0.00023712916299700737, 0.0002360846847295761, 0.00023537206288892776, 0.0002343898668186739, 0.0002331603318452835, 0.000233120983466506, 0.00023253024846781045, 0.0002318598999409005, 0.00023159701959230006, 0.00023150046763475984, 0.00023049756418913603, 0.00023028864234220237, 0.0002297757164342329, 0.00022911574342288077, 0.00022791344963479787, 0.00022780238941777498, 0.00022764397726859897, 0.00022713276848662645, 0.00022551578877028078, 0.00022545087267644703, 0.00022531738795805722, 0.00022500492923427373, 0.00022475207515526563, 0.00022289271873887628, 0.0002223715273430571, 0.00022135126346256584, 0.00022132997401058674, 0.00022129154240246862, 0.00021985548664815724, 0.00021853701036889106, 0.00021745187405031174, 0.00021672375441994518, 0.0002150093496311456, 0.00021432223729789257, 0.00021387077867984772, 0.0002134779206244275, 0.0002130483480868861, 0.00021294811449479312, 0.00021290770382620394, 0.00021281992667354643, 0.0002127323386957869, 0.00021237402688711882, 0.00021180848125368357, 0.00021177006419748068, 0.00021167262457311153, 0.00021160091273486614, 0.00021118558652233332, 0.0002108962507918477, 0.0002099598350469023, 0.00020973295613657683, 0.00020971419871784747, 0.00020939715614076704, 0.0002093182847602293, 0.00020733036217279732, 0.0002072572970064357, 0.00020720619068015367, 0.00020463415421545506, 0.00020428681455086917, 0.000203504620003514, 0.00020339932234492153, 0.00020273351401556283, 0.00020272536494303495, 0.00020165430032648146, 0.00020161647989880294, 0.000201255883439444, 0.00020035360648762435, 0.00020007257990073413, 0.0001998790103243664, 0.00019987676932942122, 0.00019899992912542075, 0.00019874927238561213, 0.00019866797083523124, 0.0001977248612092808, 0.00019754683307837695, 0.00019744329620152712, 0.00019708697800524533, 0.00019672480993904173, 0.00019630440510809422, 0.00019577630155254155, 0.00019379494187887758, 0.0001935547188622877, 0.00019328008056618273, 0.00019295336096547544, 0.0001923293893923983, 0.00019119962234981358, 0.00018968262884300202, 0.0001893635926535353, 0.00018932063539978117, 0.00018913605890702456, 0.00018868186452891678, 0.0001883314544102177, 0.00018807596643455327, 0.00018752245523501188, 0.0001872244174592197, 0.00018707277195062488, 0.00018694333266466856, 0.00018589256796985865, 0.00018554106645751745, 0.00018539131269790232, 0.00018528486543800682, 0.0001851469132816419, 0.0001833543210523203, 0.0001830189721658826, 0.0001820902107283473, 0.00018201333296019584, 0.00017978325195144862, 0.00017864718392957002, 0.00017834283062256873, 0.00017827832198236138, 0.00017670127272140235, 0.00017664529150351882, 0.00017653789836913347, 0.0001764623011695221, 0.0001764432672644034, 0.0001761306048138067, 0.00017583202861715108, 0.0001744016190059483, 0.00017420783115085214, 0.0001738483551889658, 0.00017340538033749908, 0.00017305591609328985, 0.00017269780801143497, 0.00017252087127417326, 0.00017249700613319874, 0.00017228983051609248, 0.00017225519695784897, 0.00017215039406437427, 0.00017210483201779425, 0.00017192985978908837, 0.0001718042476568371, 0.00017155414388980716, 0.0001715507241897285, 0.0001703532034298405, 0.00016979790234472603, 0.00016976414190139621, 0.00016974314348772168, 0.00016936838801484555, 0.000169087084941566, 0.00016887592209968716, 0.00016843201592564583, 0.00016717366816010326, 0.00016711183707229793, 0.00016666964802425355, 0.00016664277063682675, 0.0001663604489294812, 0.00016601523384451866, 0.0001659836998442188, 0.00016588950529694557, 0.00016587681602686644, 0.00016568515275139362, 0.0001655681262491271, 0.00016446434892714024, 0.0001643514260649681, 0.00016368234355468303, 0.00016345249605365098, 0.00016337328997906297, 0.00016280949057545513, 0.0001622682757442817, 0.00016218965174630284, 0.00016117464110720903, 0.00016106954717542976, 0.00016082345973700285, 0.00016078456246759742, 0.00016077129112090915, 0.00016069617413450032, 0.00016060091729741544, 0.0001599477109266445, 0.00015984140918590128, 0.00015954268747009337, 0.00015953027468640357, 0.0001576908543938771, 0.00015767458535265177, 0.00015757190703880042, 0.00015754268679302186, 0.00015752259059809148, 0.00015731486200820655, 0.00015715035260654986, 0.00015665804676245898, 0.00015663821250200272, 0.00015647444524802268, 0.00015619223995599896, 0.00015593040734529495, 0.00015549911768175662, 0.00015508729848079383, 0.00015296624042093754, 0.00015268083370756358, 0.00015195993182715029, 0.00015156094741541892, 0.00015154819993767887, 0.00015045786858536303, 0.00015016856195870787, 0.00014960035332478583, 0.0001491358270868659, 0.0001485738466726616, 0.00014851607556920499, 0.00014844165707472712, 0.00014812021981924772, 0.00014810007996857166, 0.00014697667211294174, 0.00014649312652181834, 0.0001457667676731944, 0.0001455836318200454, 0.00014491972979158163, 0.0001448817056370899, 0.00014449023001361638, 0.00014434847980737686, 0.00014417861530091614, 0.00014397366612683982, 0.00014391976583283395, 0.00014344470400828868, 0.0001434286095900461, 0.00014337050379253924, 0.00014284240023698658, 0.00014268247468862683, 0.00014263064076658338, 0.00014240269956644624, 0.0001423017674824223, 0.00014177394041325897, 0.00014174716488923877, 0.0001417444145772606, 0.00014167302288115025, 0.00014142694999463856, 0.0001407224772265181, 0.0001405990478815511, 0.0001404475187882781, 0.00014032167382538319, 0.00014014139014761895, 0.00014004227705299854, 0.0001397768355673179, 0.000139648123877123, 0.0001395944127580151, 0.00013954871974419802, 0.00013944618694949895, 0.00013934800517745316, 0.00013926402607467026, 0.0001390696706948802, 0.00013903364015277475, 0.0001389901153743267, 0.0001389080280205235, 0.00013877757010050118, 0.0001384360803058371, 0.00013813693658448756, 0.0001379617751808837, 0.00013783320900984108, 0.00013765117910224944, 0.00013761836453340948, 0.000137601702590473, 0.00013760126603301615, 0.0001373508566757664, 0.00013710223720408976, 0.00013684933946933597, 0.00013637013034895062, 0.00013615598436444998, 0.00013614780618809164, 0.00013606209540739655, 0.00013604846026282758, 0.00013582412793766707, 0.000134896399686113, 0.00013407468213699758, 0.0001339939481113106, 0.00013397699513006955, 0.00013396430585999042, 0.00013377319555729628, 0.00013369803491514176, 0.00013366954226512462, 0.0001335464185103774, 0.00013339784345589578, 0.00013280747225508094, 0.00013249197218101472, 0.00013236167433205992, 0.00013209719327278435, 0.0001320544397458434, 0.00013192482583690435, 0.00013168742589186877, 0.00013145404227543622, 0.00013131015293765813, 0.00013127470447216183, 0.00013126300473231822, 0.0001310098305111751, 0.000130948013975285, 0.00013071483408566564, 0.0001306109334109351, 0.00013056663738097996, 0.00013056641910225153, 0.00013047084212303162, 0.00013007772213313729, 0.0001297365961363539, 0.00012971383694093674, 0.00012922992755193263, 0.0001292260567424819, 0.00012918187712784857, 0.00012903833703603595, 0.0001288402418140322, 0.00012813629291485995, 0.0001280288997804746, 0.00012791586050298065, 0.00012783454440068454, 0.0001276770926779136, 0.00012756157957483083, 0.00012736748612951487, 0.00012708328722510487, 0.00012597876775544137, 0.00012595542648341507, 0.00012585600779857486, 0.00012582451745402068, 0.00012572672858368605, 0.0001253233349416405, 0.0001247097970917821, 0.00012429527123458683, 0.00012378848623484373, 0.0001237042306456715, 0.000122116383863613, 0.00012193047587061301, 0.00012144602806074545, 0.00012138943566242233, 0.00012132037954870611, 0.00012105835048714653, 0.00012090590462321416, 0.00012077808059984818, 0.00012063656322425231, 0.00012041713489452377, 0.00012035588588332757, 0.00012034555402351543, 0.00012010207865387201, 0.0001199812613776885, 0.00011993034422630444, 0.00011985169112449512, 0.00011982855357928202, 0.00011973561777267605, 0.00011968144826823846, 0.00011916840594494715, 0.00011910356261068955, 0.00011861073289765045, 0.00011857701611006632, 0.00011836268095066771, 0.00011834158794954419, 0.00011830915900645778, 0.00011812673619715497, 0.00011810795695055276, 0.00011801836080849171, 0.00011788050323957577, 0.0001178231104859151, 0.00011760921188397333, 0.00011726363300113007, 0.00011713176354533061, 0.00011711367551470175, 0.00011688173981383443, 0.00011661891039693728, 0.00011606729094637558, 0.00011600829748203978, 0.00011598642595345154, 0.00011571498907869682, 0.00011529086623340845, 0.0001151850083260797, 0.0001151755204773508, 0.00011512307537486777, 0.00011509093747008592, 0.00011486135190352798, 0.00011446949793025851, 0.00011416097549954429, 0.00011409087164793164, 0.00011380346404621378, 0.00011379960778867826, 0.00011366277612978593, 0.00011347959662089124, 0.00011303562496323138, 0.0001129424199461937, 0.00011287842789897695, 0.00011246137000853196, 0.0001120851156883873, 0.00011186749179614708, 0.00011172306403750554, 0.00011164993338752538, 0.00011130679922644049, 0.00011098806135123596, 0.00011095218360424042, 0.00011077761155320331, 0.00011045241262763739, 0.00010896690946538001, 0.00010843214113265276, 0.00010791276872623712, 0.00010782747995108366, 0.00010764454782474786, 0.00010747495252871886, 0.00010737506818259135, 0.00010722578008426353, 0.00010640300024533644, 0.00010639126412570477, 0.0001061531002051197, 0.00010586399730527773, 0.00010569357982603833, 0.00010561617091298103, 0.00010550000297371298, 0.00010511321306694299, 0.00010509078856557608, 0.00010497474431758747, 0.00010494096204638481, 0.00010480077617103234, 0.00010474575537955388, 0.00010464990191394463, 0.000104461309092585, 0.00010425120126456022, 0.00010420705802971497, 0.00010418317833682522, 0.00010412358824396506, 0.0001040851857396774, 0.00010405519424239174, 0.00010405280772829428, 0.00010358683357480913, 0.00010356603161199018, 0.00010327369818696752, 0.00010303846647730097, 0.00010299876885255799, 0.00010233706416329369, 0.00010230093175778165, 0.00010202648263657466, 0.00010155438212677836, 0.00010149986337637529, 0.00010124001710209996, 0.00010109851427841932, 0.00010103307431563735, 0.00010072607983602211, 0.0001003902216325514, 0.00010030165140051395, 0.0001001969794742763, 0.00010018827015301213, 0.00010009437392000109, 9.98055111267604e-05, 9.935007255990058e-05, 9.920273441821337e-05, 9.859834244707599e-05, 9.85702863545157e-05, 9.850755304796621e-05, 9.836035314947367e-05, 9.826488530961797e-05, 9.819808474276215e-05, 9.792437049327418e-05, 9.792363562155515e-05, 9.783688437892124e-05, 9.740448149386793e-05, 9.72225607256405e-05, 9.716377826407552e-05, 9.709281584946439e-05, 9.677116759121418e-05, 9.676840272732079e-05, 9.675084584159777e-05, 9.663577657192945e-05, 9.652243898017332e-05, 9.649304411141202e-05, 9.630747808841988e-05, 9.625363600207493e-05, 9.619910269975662e-05, 9.616974421078339e-05, 9.604946535546333e-05, 9.603743819752708e-05, 9.582500206306577e-05, 9.578339813742787e-05, 9.56456788117066e-05, 9.549805690767244e-05, 9.54786446527578e-05, 9.535064600640908e-05, 9.525875066174194e-05, 9.510856034466997e-05, 9.510224481346086e-05, 9.507860522717237e-05, 9.483718167757615e-05, 9.468370262766257e-05, 9.459876309847459e-05, 9.454328392166644e-05, 9.452611266169697e-05, 9.446163312532008e-05, 9.444926399737597e-05, 9.418439731234685e-05, 9.41614416660741e-05, 9.390190098201856e-05, 9.389855404151604e-05, 9.361681441077963e-05, 9.318904631072655e-05, 9.256509656552225e-05, 9.255169425159693e-05, 9.250811126548797e-05, 9.228948329109699e-05, 9.221771324519068e-05, 9.212818986270577e-05, 9.211578435497358e-05, 9.210607095155865e-05, 9.189348202198744e-05, 9.182858048006892e-05, 9.173039870802313e-05, 9.169224358629435e-05, 9.167961979983374e-05, 9.159876208286732e-05, 9.148444951279089e-05, 9.112642146646976e-05, 9.083894110517576e-05, 8.971132774604484e-05, 8.950602932600304e-05, 8.947710011852905e-05, 8.943620923673734e-05, 8.929050818551332e-05, 8.91888776095584e-05, 8.917946979636326e-05, 8.911891927709803e-05, 8.88541471795179e-05, 8.881868416210636e-05, 8.866306598065421e-05, 8.861464448273182e-05, 8.846041600918397e-05, 8.845858974382281e-05, 8.817435445962474e-05, 8.801087824394926e-05, 8.790362335275859e-05, 8.779903873801231e-05, 8.7699358118698e-05, 8.769864507485181e-05, 8.760575292399153e-05, 8.744354272494093e-05, 8.741451893001795e-05, 8.716676529729739e-05, 8.702440391061828e-05, 8.691130642546341e-05, 8.69008872541599e-05, 8.591188816353679e-05, 8.567683835281059e-05, 8.567432087147608e-05, 8.56630431371741e-05, 8.534159860573709e-05, 8.486626029480249e-05, 8.48530835355632e-05, 8.414599869865924e-05, 8.410659938817844e-05, 8.391429582843557e-05, 8.383439853787422e-05, 8.373742457479239e-05, 8.353019802598283e-05, 8.315528248203918e-05, 8.300485205836594e-05, 8.281473128590733e-05, 8.267338125733659e-05, 8.252338011516258e-05, 8.221757161663845e-05, 8.201601303881034e-05, 8.187097409972921e-05, 8.174659160431474e-05, 8.166668703779578e-05, 8.142345905071124e-05, 8.128101762849838e-05, 8.112208888633177e-05, 8.084178989520296e-05, 8.077738311840221e-05, 8.07602918939665e-05, 8.06865282356739e-05, 8.06643656687811e-05, 8.059595711529255e-05, 8.02866998128593e-05, 8.027022704482079e-05, 7.994614134076983e-05, 7.988896686583757e-05, 7.965892291394994e-05, 7.960248331073672e-05, 7.931069558253512e-05, 7.917247421573848e-05, 7.914087473182008e-05, 7.905543316155672e-05, 7.905223174020648e-05, 7.903681398602203e-05, 7.873170397942886e-05, 7.871280104154721e-05, 7.85888551035896e-05, 7.82754723331891e-05, 7.815766002750024e-05, 7.812596595613286e-05, 7.801027823006734e-05, 7.794219709467143e-05, 7.794014527462423e-05, 7.791310781612992e-05, 7.781910244375467e-05, 7.768820796627551e-05, 7.765658665448427e-05, 7.760764856357127e-05, 7.753182580927387e-05, 7.748799544060603e-05, 7.731736695859581e-05, 7.719176210230216e-05, 7.709301280556247e-05, 7.705823372816667e-05, 7.695122621953487e-05, 7.66521116020158e-05, 7.64813885325566e-05, 7.639563409611583e-05, 7.638226816197857e-05, 7.610030297655612e-05, 7.606350118294358e-05, 7.601980905747041e-05, 7.554879266535863e-05, 7.532339805038646e-05, 7.52298510633409e-05, 7.522344822064042e-05, 7.510609430028126e-05, 7.509436545660719e-05, 7.504255336243659e-05, 7.496093166992068e-05, 7.467394607374445e-05, 7.463830115739256e-05, 7.451041165040806e-05, 7.449532859027386e-05, 7.448720134561881e-05, 7.447904499713331e-05, 7.436692249029875e-05, 7.429377728840336e-05, 7.422718772431836e-05, 7.414341234834865e-05, 7.406809163512662e-05, 7.403474592138082e-05, 7.40240138838999e-05, 7.375019049504772e-05, 7.353239925578237e-05, 7.345263293245807e-05, 7.344732148339972e-05, 7.339095463976264e-05, 7.292295777006075e-05, 7.290552457561716e-05, 7.288537017302588e-05, 7.28820959920995e-05, 7.285492029041052e-05, 7.282379374373704e-05, 7.273161463672295e-05, 7.21902833902277e-05, 7.2101793193724e-05, 7.208690658444539e-05, 7.207779708551243e-05, 7.19253221177496e-05, 7.172937330324203e-05, 7.163146801758558e-05, 7.160042878240347e-05, 7.14808120392263e-05, 7.127306889742613e-05, 7.120725058484823e-05, 7.104349788278341e-05, 7.092520536389202e-05, 7.085893594194204e-05, 7.085684046614915e-05, 7.079244096530601e-05, 7.051432476146147e-05, 7.049342821119353e-05, 7.03903497196734e-05, 7.038172770990059e-05, 7.035760791040957e-05, 7.030553388176486e-05, 7.026469393167645e-05, 6.956175639061257e-05, 6.947598012629896e-05, 6.947021756786853e-05, 6.945884524611756e-05, 6.917534483363852e-05, 6.9115158112254e-05, 6.90945380483754e-05, 6.87601204845123e-05, 6.861152360215783e-05, 6.850129284430295e-05, 6.833330553490669e-05, 6.828582991147414e-05, 6.826641038060188e-05, 6.82112222420983e-05, 6.819813279435039e-05, 6.802727148169652e-05, 6.795571971451864e-05, 6.794224464101717e-05, 6.779391696909443e-05, 6.778619717806578e-05, 6.770015897927806e-05, 6.765942089259624e-05, 6.765513535356149e-05, 6.763829151168466e-05, 6.74617404001765e-05, 6.718529766658321e-05, 6.674369069514796e-05, 6.665125692961738e-05, 6.611416029045358e-05, 6.60174191580154e-05, 6.600797496503219e-05, 6.598106119781733e-05, 6.569539982592687e-05, 6.549123645527288e-05, 6.549071258632466e-05, 6.53905954095535e-05, 6.5310210629832e-05, 6.529939128085971e-05, 6.505491910502315e-05, 6.470483640441671e-05, 6.457408017013222e-05, 6.456245318986475e-05, 6.455022958107293e-05, 6.434712850023061e-05, 6.434098031604663e-05, 6.418766133720055e-05, 6.415630923584104e-05, 6.415303505491465e-05, 6.411025970010087e-05, 6.407726323232055e-05, 6.388556357705966e-05, 6.33117524557747e-05, 6.278380897128955e-05, 6.248823046917096e-05, 6.231579754967242e-05, 6.222284719115123e-05, 6.202398799359798e-05, 6.174542068038136e-05, 6.167894753161818e-05, 6.159239273983985e-05, 6.151478009996936e-05, 6.138544267741963e-05, 6.138104799902067e-05, 6.119409954408184e-05, 6.0976995882811025e-05, 6.066499190637842e-05, 6.054848927306011e-05, 6.053795732441358e-05, 6.027254858054221e-05, 5.8643265219870955e-05, 5.861864337930456e-05, 5.846660860697739e-05, 5.803373642265797e-05, 5.788332782685757e-05, 5.786872861790471e-05, 5.7801360526354983e-05, 5.662031617248431e-05, 5.6149019656004384e-05, 5.589432475971989e-05, 5.568424239754677e-05, 5.553171649808064e-05, 5.5137814342742786e-05, 5.4861804528627545e-05, 5.472151315188967e-05, 5.457619045046158e-05, 5.455175050883554e-05, 5.454485290101729e-05, 5.449475793284364e-05, 5.381070150178857e-05, 5.298676114762202e-05, 5.272868656902574e-05, 5.239239180809818e-05, 5.227102155913599e-05, 5.2033716201549396e-05, 5.1919236284447834e-05, 5.17967164341826e-05, 5.1753853767877445e-05, 5.132172009325586e-05, 5.094504376756959e-05, 5.0722435844363645e-05, 5.0624967116164044e-05, 5.0422444473952055e-05, 5.0252023356733844e-05, 4.931828152621165e-05, 4.861034904024564e-05, 4.840627298108302e-05, 4.80117741972208e-05, 4.756174894282594e-05, 4.738236384582706e-05, 4.693351365858689e-05, 4.6168755943654105e-05, 4.596769576892257e-05, 4.5946420868858695e-05, 4.5523327571572736e-05, 4.533183528110385e-05, 4.5322063670028e-05, 4.5296514144865796e-05, 4.457822069525719e-05, 4.453579822438769e-05, 4.449069456313737e-05, 4.425130464369431e-05, 4.417438685777597e-05, 4.368838926893659e-05, 4.295319740776904e-05, 4.273824379197322e-05, 4.194466964690946e-05, 4.063772576046176e-05, 3.997154999524355e-05, 3.976140942540951e-05, 3.974967330577783e-05, 3.9355010812869295e-05, 3.9157483115559444e-05, 3.9115187973948196e-05, 3.788472531596199e-05, 3.602595461416058e-05, 3.592513894545846e-05, 3.272192770964466e-05, 3.2357384043280035e-05, 3.21130282827653e-05, 3.190099960193038e-05, 3.1587504054186866e-05, 2.9989087124704383e-05, 2.8956099413335323e-05, 2.8923259378643706e-05, 2.863847475964576e-05, 2.7918455089093186e-05, 2.790982944134157e-05, 2.736721762630623e-05, 2.7302628950565122e-05, 2.7062162189395167e-05, 2.6962583433487453e-05, 2.683635102584958e-05, 2.64698301180033e-05, 2.6407360564917326e-05, 2.638300065882504e-05, 2.593380122561939e-05, 2.5763700250536203e-05, 2.5735685994732194e-05, 2.5696319426060654e-05, 2.5657956939539872e-05, 2.553694685047958e-05, 2.5475677830399945e-05, 2.5254374122596346e-05, 2.5225283025065437e-05, 2.494006730557885e-05, 2.4830083930282854e-05, 2.4829618268995546e-05, 2.477673115208745e-05, 2.4676550310687162e-05, 2.4603947167634033e-05, 2.4148601369233802e-05, 2.3081875042407773e-05, 2.286982453370001e-05, 2.2779238861403428e-05, 2.27770706260344e-05, 2.270924233016558e-05, 2.269502692797687e-05, 2.263967144244816e-05, 2.2544631065102294e-05, 2.252432568639051e-05, 2.247275369882118e-05, 2.2041276679374278e-05, 2.1899386410950683e-05, 2.1845231458428316e-05, 2.181093441322446e-05, 2.1648616893799044e-05, 2.137503179255873e-05, 2.1349964299588464e-05, 2.1324607587303035e-05, 2.114039489242714e-05, 2.1069419744890183e-05, 2.1007004761486314e-05, 2.0966970623703673e-05, 2.085822598019149e-05, 2.0724977730424143e-05, 2.069310357910581e-05, 2.056748780887574e-05, 2.027976734098047e-05, 2.023985689447727e-05, 2.00795620912686e-05, 1.976435123651754e-05, 1.9652767150546424e-05, 1.957883796421811e-05, 1.9499957488733344e-05, 1.943076858879067e-05, 1.9301498468848877e-05, 1.9061402781517245e-05, 1.901966425066348e-05, 1.8682751033338718e-05, 1.867724677140359e-05, 1.856735434557777e-05, 1.8551550965639763e-05, 1.84011096280301e-05, 1.8241187717649154e-05, 1.823220736696385e-05, 1.8072491002385505e-05, 1.795504431356676e-05, 1.764393164194189e-05, 1.7369766283081844e-05, 1.734742363623809e-05, 1.7193122403114103e-05, 1.715915095701348e-05, 1.6853893612278625e-05, 1.6807933207019232e-05, 1.6767438864917494e-05, 1.675310886639636e-05, 1.6740203136578202e-05, 1.6711252101231366e-05, 1.6647760276100598e-05, 1.6642408809275366e-05, 1.6610152670182288e-05, 1.6564137695240788e-05, 1.646606506255921e-05, 1.6459409380331635e-05, 1.6430707546533085e-05, 1.638007233850658e-05, 1.6218498785747215e-05, 1.6044665244407952e-05, 1.5990808606147766e-05, 1.587207952979952e-05, 1.5509593140450306e-05, 1.5212685866572428e-05, 1.5159605027292855e-05, 1.4995091078162659e-05, 1.4694271158077754e-05, 1.4367392395797651e-05, 1.4283180462371092e-05, 1.4013180589245167e-05, 1.3882963685318828e-05, 1.3677929928235244e-05, 1.3598334589914884e-05, 1.3476012099999934e-05, 1.3341285921342205e-05, 1.3291821232996881e-05, 1.3256736565381289e-05, 1.318914564762963e-05, 1.302732289332198e-05, 1.2673466699197888e-05, 1.2660428183153272e-05, 1.2546192920126487e-05, 1.2243632227182388e-05, 1.2158748177171219e-05, 1.194806827697903e-05, 1.1904446182597894e-05, 1.1690680366882589e-05, 1.1687104233715218e-05, 1.1637871466518845e-05, 1.1571886716410518e-05, 1.14704080260708e-05, 1.1428785910538863e-05, 1.1428244761191308e-05, 1.1296629054413643e-05, 1.1236191312491428e-05, 1.1060398719564546e-05, 1.1054679816879798e-05, 1.1048221495002508e-05, 1.098333450499922e-05, 1.0979300895996857e-05, 1.0931783435808029e-05, 1.0868473509617615e-05, 1.0843097697943449e-05, 1.0800443305925e-05, 1.0724167623266112e-05, 1.0650490366970189e-05, 1.0613928679958917e-05, 1.0579166882962454e-05, 1.0558255780779291e-05, 1.0551678315096069e-05, 1.0472159374330658e-05, 1.0465749255672563e-05, 1.0345771443098783e-05, 1.0273925909132231e-05, 1.0238890354230534e-05, 1.0216978807875421e-05, 1.01121640909696e-05, 9.965509889298119e-06, 9.957072506949771e-06, 9.95280879578786e-06, 9.95222399069462e-06, 9.925264748744667e-06, 9.877708180283662e-06, 9.877461707219481e-06, 9.820631021284498e-06, 9.745267561811488e-06, 9.703260730020702e-06, 9.69337997958064e-06, 9.63367256190395e-06, 9.630903150537051e-06, 9.571745067660231e-06, 9.557756129652262e-06, 9.43262693908764e-06, 9.402336218045093e-06, 9.30051646719221e-06, 9.282047358283307e-06, 9.243130989489146e-06, 9.241441148333251e-06, 9.212202712660655e-06, 9.195275197271258e-06, 9.182471330859698e-06, 9.071164640772622e-06, 9.053791472979356e-06, 9.023551683640108e-06, 9.01578641787637e-06, 9.011494512378704e-06, 8.983936822914984e-06, 8.97136669664178e-06, 8.93514425115427e-06, 8.92036496225046e-06, 8.907222763809841e-06, 8.896596227714326e-06, 8.883051123120822e-06, 8.879605047695804e-06, 8.84568908077199e-06, 8.822995368973352e-06, 8.796002475719433e-06, 8.78538685356034e-06, 8.784738383837976e-06, 8.77289585332619e-06, 8.750437700655311e-06, 8.736517884244677e-06, 8.73195403983118e-06, 8.684469321451616e-06, 8.659900231577922e-06, 8.529597835149616e-06, 8.477142728224862e-06, 8.398283171118237e-06, 8.384784450754523e-06, 8.34095317259198e-06, 8.327576324518304e-06, 8.306889867526479e-06, 8.008582881302573e-06, 7.78114190325141e-06, 7.753325917292386e-06, 7.635879228473641e-06, 7.601648576383013e-06, 7.534228188887937e-06, 7.395475677185459e-06, 7.337209808611078e-06, 7.177294264693046e-06, 6.40249663774739e-06, 6.388436304405332e-06, 6.121129445091356e-06, 5.755003257945646e-06, 5.246428827376803e-06, 4.671781880460912e-06, 3.3631538371992065e-06, 3.094130761382985e-06, 2.870683601940982e-06, 2.8009355901303934e-06, 2.777147528831847e-06, 2.767988689811318e-06, 2.7594105631578714e-06, 2.749279246927472e-06, 2.742383685472305e-06, 2.731989980020444e-06, 2.7242501801083563e-06, 2.699033984754351e-06, 2.693426040423219e-06, 2.6868444820138393e-06, 2.682353169802809e-06, 2.644532969497959e-06, 2.6340967451687902e-06, 2.6207269456790527e-06, 2.6004011033364804e-06, 2.5991873826569645e-06, 2.5956735498766648e-06, 2.5927292881533504e-06, 2.591086513348273e-06, 2.5904148515110137e-06, 2.58573709288612e-06, 2.5851561531453626e-06, 2.582560000519152e-06, 2.5789777282625437e-06, 2.5731296773301437e-06, 2.5682099931145785e-06, 2.561658902777708e-06, 2.5615918275434524e-06, 2.5608151190681383e-06, 2.5452952741034096e-06, 2.5447036477999063e-06, 2.5379933958902257e-06, 2.5346773782075616e-06, 2.5287517928518355e-06, 2.520288717278163e-06, 2.5151045974780573e-06, 2.5125191314145923e-06, 2.5036295028257882e-06, 2.5021695364557672e-06, 2.495183480277774e-06, 2.4685236894583795e-06, 2.4669611775607336e-06, 2.4619337182230083e-06, 2.460664518366684e-06, 2.460044242980075e-06, 2.4575590487074805e-06, 2.4573398604843533e-06, 2.453764636811684e-06, 2.4505782221240224e-06, 2.450474994475371e-06, 2.4399043923040153e-06, 2.4358789687539684e-06, 2.428286052236217e-06, 2.4265470983664272e-06, 2.4210232822952094e-06, 2.418420763206086e-06, 2.41600650952023e-06, 2.4149237560777692e-06, 2.4096304969134508e-06, 2.389939027125365e-06, 2.3840439098421484e-06, 2.382410229984089e-06, 2.381973672527238e-06, 2.3764384877722478e-06, 2.3718173451925395e-06, 2.3708817025180906e-06, 2.3698983113717986e-06, 2.3619793410034617e-06, 2.3609377421962563e-06, 2.358037136218627e-06, 2.3574100396217545e-06, 2.355083779548295e-06, 2.351293460378656e-06, 2.33395121540525e-06, 2.3334564502874855e-06, 2.326723233636585e-06, 2.324676870557596e-06, 2.320206249351031e-06, 2.30627279051987e-06, 2.3048930870572804e-06, 2.2972615170147037e-06, 2.2969304609432584e-06, 2.285751179442741e-06, 2.2821830043540103e-06, 2.2729805095877964e-06, 2.2461317712441087e-06, 2.2427991552831372e-06, 2.231790858786553e-06, 2.2159576928970637e-06, 2.211953415098833e-06, 2.2109991277829977e-06, 2.2088315745349973e-06, 2.208422074545524e-06, 2.1806613403896336e-06, 2.1754294721176848e-06, 2.166975946238381e-06, 2.145707867384772e-06, 2.130107986886287e-06, 2.125817218256998e-06, 2.1236342035990674e-06, 2.11007727557444e-06, 2.1019866380811436e-06, 2.1004511836508755e-06, 2.0991203655285062e-06, 2.087558414132218e-06, 2.0831064375670394e-06, 2.058539166682749e-06, 2.0561376459227176e-06, 2.03582453650597e-06, 2.0130798930040328e-06, 1.997267190745333e-06, 1.9923024865420302e-06, 1.949496891029412e-06, 1.9372034785192227e-06, 1.8863953528125421e-06, 1.8724404071690515e-06, 1.7359561752527952e-06, 1.6882401041584671e-06, 1.640347250031482e-06, 1.557838231747155e-06, 1.5350993862739415e-06, 1.4211866528057726e-06, 1.4039135294297012e-06, 1.377420630888082e-06, 1.3489043340086937e-06, 1.3475921605277108e-06, 1.1944827065235586e-06, 1.0189113481828826e-06, 9.625127859180793e-07, 6.748654755028838e-07, 5.549909474211745e-07]\n"
     ]
    }
   ],
   "source": [
    "print(len(result_trigger))\n",
    "print(min(result_trigger))\n",
    "print(max(result_trigger))\n",
    "print(sorted(result_trigger,reverse=True))\n",
    "print(max(result_clean))\n",
    "print(sorted(result_clean,reverse=True))"
   ]
  },
  {
   "cell_type": "code",
   "execution_count": 25,
   "metadata": {},
   "outputs": [
    {
     "data": {
      "image/png": "[encoded data removed]",
      "text/plain": [
       "<Figure size 1000x500 with 1 Axes>"
      ]
     },
     "metadata": {},
     "output_type": "display_data"
    }
   ],
   "source": [
    "import matplotlib.pyplot as plt\n",
    "\n",
    "# Ensure you have your data loaded in result_clean and result_trigger\n",
    "# Example: result_clean = [1, 2, 3], result_trigger = [3, 2, 1]\n",
    "# result_trigger = [x for x in result_trigger if x < 0.8 and x>0.2]\n",
    "# result_clean = [x for x in result_clean if x < 2 and x>0.2]\n",
    "\n",
    "# plt.figure(figsize=(10, 5))\n",
    "\n",
    "# plt.hist(result_trigger, alpha=0.7, bins=10, label='Trigger Edge',density=True)\n",
    "# # plt.hist(result_trigger, alpha=0.7, bins=10, label='Trigger Data')\n",
    "\n",
    "# plt.hist(result_clean, alpha=0.7, bins=10, label='Clean Edge',density=True)\n",
    "# # plt.hist(result_clean, alpha=0.7, bins=10, label='Clean Data')\n",
    "\n",
    "\n",
    "# # plt.title('Histogram of Clean and Trigger Data')\n",
    "# plt.xlabel('Prediction Variance')\n",
    "# plt.ylabel('Frequency')\n",
    "# plt.legend()\n",
    "# plt.grid(True)\n",
    "\n",
    "# # Save the plot before displaying it\n",
    "# plt.savefig('cora.pdf')\n",
    "\n",
    "# # Display the plot\n",
    "# plt.show()\n",
    "plt.figure(figsize=(10, 5))\n",
    "\n",
    "plt.hist(result_trigger, alpha=0.7, bins=10, label='Trigger Edges', density=True)\n",
    "plt.hist(result_clean, alpha=0.7, bins=10, label='Clean Edges', density=True)\n",
    "\n",
    "plt.xlabel('Prediction Variance',fontsize=16)\n",
    "plt.ylabel('Frequency',fontsize=16)\n",
    "\n",
    "# Adjust x and y ticks\n",
    "plt.xticks(fontsize=16)\n",
    "plt.yticks(fontsize=16)\n",
    "\n",
    "plt.legend(fontsize=16)\n",
    "plt.grid(True)\n",
    "\n",
    "# Add a caption below the figure\n",
    "# plt.figtext(0.5, -0.05, 'Comparison of prediction variance due to trigger edges drop and clean edges drop.', wrap=True, horizontalalignment='center', fontsize=14)\n",
    "\n",
    "# Save the plot before displaying it\n",
    "plt.savefig('cora.pdf')\n",
    "\n",
    "# Display the plot\n",
    "plt.show()"
   ]
  },
  {
   "cell_type": "code",
   "execution_count": null,
   "metadata": {},
   "outputs": [],
   "source": []
  },
  {
   "cell_type": "code",
   "execution_count": 26,
   "metadata": {},
   "outputs": [],
   "source": [
    "# result_clean=[]\n",
    "# for node_id in idx_train[:10000]:\n",
    "#     node_id = node_id.item()\n",
    "#     subset, edge_index, mapping, edge_mask = k_hop_subgraph(node_id, 2, poison_edge_index, relabel_nodes=False)\n",
    "#     loop_edges = edge_index[:, edge_index[0] == node_id]\n",
    "#     non_loop_edges = edge_index[:, edge_index[0] != node_id]\n",
    "\n",
    "#     selected_x = poison_x[subset]\n",
    "    \n",
    "#     for i in range(loop_edges.size(1)):\n",
    "#         # Current loop edge to remove\n",
    "#         current_loop_edge = loop_edges[:, i]\n",
    "\n",
    "#         # Find indices of the current loop edge and its reverse\n",
    "#         forward_edge_mask = (edge_index[0] == current_loop_edge[0]) & (edge_index[1] == current_loop_edge[1])\n",
    "#         reverse_edge_mask = (edge_index[0] == current_loop_edge[1]) & (edge_index[1] == current_loop_edge[0])\n",
    "\n",
    "#         # Combine masks for forward and reverse edges\n",
    "#         combined_mask = forward_edge_mask | reverse_edge_mask\n",
    "\n",
    "#         # Remove both forward and reverse edges from the graph\n",
    "#         modified_edge_index = edge_index[:, ~combined_mask]\n",
    "\n",
    "#         edge_weights = torch.ones(modified_edge_index.size(1), dtype=torch.float, device=device)\n",
    "\n",
    "#         output, x = test_model(poison_x, modified_edge_index, edge_weights)\n",
    "#         output = output[node_id]\n",
    "#         output = torch.exp(output)\n",
    "#         output += epsilon\n",
    "#         deviation = F.kl_div(output.log(), output_clean[node_id], reduce=False)\n",
    "#         result_clean.append(deviation.mean().item())\n",
    "#         print(deviation.mean().item())\n",
    "# print(result_clean)\n"
   ]
  },
  {
   "cell_type": "code",
   "execution_count": 27,
   "metadata": {},
   "outputs": [],
   "source": [
    "# result_trigger = []\n",
    "# for node_id in idx_attach:\n",
    "#     node_id = node_id.item()\n",
    "#     subset, edge_index, mapping, edge_mask = k_hop_subgraph(node_id, 2, poison_edge_index, relabel_nodes=False)\n",
    "#     loop_edges = edge_index[:, edge_index[0] == node_id]\n",
    "#     non_loop_edges = edge_index[:, edge_index[0] != node_id]\n",
    "\n",
    "#     selected_x = poison_x[subset]\n",
    "    \n",
    "#     for i in range(loop_edges.size(1)):\n",
    "#         # Current loop edge to remove\n",
    "#         current_loop_edge = loop_edges[:, i]\n",
    "\n",
    "#         # Find indices of the current loop edge and its reverse\n",
    "#         forward_edge_mask = (edge_index[0] == current_loop_edge[0]) & (edge_index[1] == current_loop_edge[1])\n",
    "#         reverse_edge_mask = (edge_index[0] == current_loop_edge[1]) & (edge_index[1] == current_loop_edge[0])\n",
    "\n",
    "#         # Combine masks for forward and reverse edges\n",
    "#         combined_mask = forward_edge_mask | reverse_edge_mask\n",
    "\n",
    "#         # Remove both forward and reverse edges from the graph\n",
    "#         modified_edge_index = edge_index[:, ~combined_mask]\n",
    "\n",
    "#         edge_weights = torch.ones(modified_edge_index.size(1), dtype=torch.float, device=device)\n",
    "\n",
    "#         output, x = test_model(poison_x, modified_edge_index, edge_weights)\n",
    "#         output = output[node_id]\n",
    "#         output = torch.exp(output)\n",
    "#         output += epsilon\n",
    "#         deviation = F.kl_div(output.log(), output_clean[node_id], reduce=False)\n",
    "        \n",
    "#         if loop_edges[:,i][1]>len(data.x):\n",
    "#             result_trigger.append(deviation.mean().item())\n",
    "#         else:\n",
    "#             print(deviation.mean().item())\n",
    "#             # result_clean.append(deviation.mean().item())\n",
    "\n",
    "#         result_trigger.append(deviation.mean().item())\n",
    "#         print(deviation.mean().item())\n",
    "# print(result_trigger)\n"
   ]
  },
  {
   "cell_type": "code",
   "execution_count": 28,
   "metadata": {},
   "outputs": [],
   "source": [
    "# import matplotlib.pyplot as plt\n",
    "\n",
    "# # Ensure you have your data loaded in result_clean and result_trigger\n",
    "# # Example: result_clean = [1, 2, 3], result_trigger = [3, 2, 1]\n",
    "\n",
    "# plt.figure(figsize=(10, 5))\n",
    "\n",
    "# plt.hist(result_trigger, alpha=0.7, bins=10, label='Trigger Data',density=True)\n",
    "# # plt.hist(result_trigger, alpha=0.7, bins=10, label='Trigger Data')\n",
    "\n",
    "# plt.hist(result_clean, alpha=0.7, bins=10, label='Clean Data',density=True)\n",
    "# # plt.hist(result_clean, alpha=0.7, bins=10, label='Clean Data')\n",
    "\n",
    "\n",
    "# plt.title('Histogram of Clean and Trigger Data')\n",
    "# plt.xlabel('Value')\n",
    "# plt.ylabel('Frequency')\n",
    "# plt.legend()\n",
    "# plt.grid(True)\n",
    "# plt.show()"
   ]
  },
  {
   "cell_type": "code",
   "execution_count": 29,
   "metadata": {},
   "outputs": [],
   "source": [
    "poison_labels[idx_attach] = args.target_class"
   ]
  },
  {
   "cell_type": "code",
   "execution_count": 30,
   "metadata": {},
   "outputs": [
    {
     "data": {
      "text/plain": [
       "544"
      ]
     },
     "execution_count": 30,
     "metadata": {},
     "output_type": "execute_result"
    }
   ],
   "source": [
    "len(idx_attach)"
   ]
  },
  {
   "cell_type": "code",
   "execution_count": 31,
   "metadata": {},
   "outputs": [
    {
     "name": "stdout",
     "output_type": "stream",
     "text": [
      "tensor([2, 2, 2, 2, 2, 2, 2, 2, 2, 2, 2, 2, 2, 2, 2, 2, 2, 2, 2, 2, 2, 2, 2, 2,\n",
      "        2, 2, 2, 2, 2, 2, 2, 2, 2, 2, 2, 2, 2, 2, 2, 2, 2, 2, 2, 2, 2, 2, 2, 2,\n",
      "        2, 2, 2, 2, 2, 2, 2, 2, 2, 2, 2, 2, 2, 2, 2, 2, 2, 2, 2, 2, 2, 2, 2, 2,\n",
      "        2, 2, 2, 2, 2, 2, 2, 2, 2, 2, 2, 2, 2, 2, 2, 2, 2, 2, 2, 2, 2, 2, 2, 2,\n",
      "        2, 2, 2, 2, 2, 2, 2, 2, 2, 2, 2, 2, 2, 2, 2, 2, 2, 2, 2, 2, 2, 2, 2, 2,\n",
      "        2, 2, 2, 2, 2, 2, 2, 2, 2, 2, 2, 2, 2, 2, 2, 2, 2, 2, 2, 2, 2, 2, 2, 2,\n",
      "        2, 2, 2, 2, 2, 2, 2, 2, 2, 2, 2, 2, 2, 2, 2, 2, 2, 2, 2, 2, 2, 2, 2, 2,\n",
      "        2, 2, 2, 2, 2, 2, 2, 2, 2, 2, 2, 2, 2, 2, 2, 2, 2, 2, 2, 2, 2, 2, 2, 2,\n",
      "        2, 2, 2, 2, 2, 2, 2, 2, 2, 2, 2, 2, 2, 2, 2, 2, 2, 2, 2, 2, 2, 2, 2, 2,\n",
      "        2, 2, 2, 2, 2, 2, 2, 2, 2, 2, 2, 2, 2, 2, 2, 2, 2, 2, 2, 2, 2, 2, 2, 2,\n",
      "        2, 2, 2, 2, 2, 2, 2, 2, 2, 2, 2, 2, 2, 2, 2, 2, 2, 2, 2, 2, 2, 2, 2, 2,\n",
      "        2, 2, 2, 2, 2, 2, 2, 2, 2, 2, 2, 2, 2, 2, 2, 2, 2, 2, 2, 2, 2, 2, 2, 2,\n",
      "        2, 2, 2, 2, 2, 2, 2, 2, 2, 2, 2, 2, 2, 2, 2, 2, 2, 2, 2, 2, 2, 2, 2, 2,\n",
      "        2, 2, 2, 2, 2, 2, 2, 2, 2, 2, 2, 2, 2, 2, 2, 2, 2, 2, 2, 2, 2, 2, 2, 2,\n",
      "        2, 2, 2, 2, 2, 2, 2, 2, 2, 2, 2, 2, 2, 2, 2, 2, 2, 2, 2, 2, 2, 2, 2, 2,\n",
      "        2, 2, 2, 2, 2, 2, 2, 2, 2, 2, 2, 2, 2, 2, 2, 2, 2, 2, 2, 2, 2, 2, 2, 2,\n",
      "        2, 2, 2, 2, 2, 2, 2, 2, 2, 2, 2, 2, 2, 2, 2, 2, 2, 2, 2, 2, 2, 2, 2, 2,\n",
      "        2, 2, 2, 2, 2, 2, 2, 2, 2, 2, 2, 2, 2, 2, 2, 2, 2, 2, 2, 2, 2, 2, 2, 2,\n",
      "        2, 2, 2, 2, 2, 2, 2, 2, 2, 2, 2, 2, 2, 2, 2, 2, 2, 2, 2, 2, 2, 2, 2, 2,\n",
      "        2, 2, 2, 2, 2, 2, 2, 2, 2, 2, 2, 2, 2, 2, 2, 2, 2, 2, 2, 2, 2, 2, 2, 2,\n",
      "        2, 2, 2, 2, 2, 2, 2, 2, 2, 2, 2, 2, 2, 2, 2, 2, 2, 2, 2, 2, 2, 2, 2, 2,\n",
      "        2, 2, 2, 2, 2, 2, 2, 2, 2, 2, 2, 2, 2, 2, 2, 2, 2, 2, 2, 2, 2, 2, 2, 2,\n",
      "        2, 2, 2, 2, 2, 2, 2, 2, 2, 2, 2, 2, 2, 2, 2, 2], device='cuda:2')\n",
      "accuracy on clean test nodes: 0.0000\n"
     ]
    }
   ],
   "source": [
    "## retrain a model on purified graph ##\n",
    "\n",
    "# labels for target poisoned node before purified #\n",
    "print(poison_labels[idx_attach])\n",
    "\n",
    "# purifying #\n",
    "# for idx in index_of_less_robust[:400]:\n",
    "#     poison_labels[bkd_tn_nodes[idx]]=data.y[bkd_tn_nodes[idx]]\n",
    "\n",
    "# # labels for target poisoned node after purified #\n",
    "# print(poison_labels[idx_attach])\n",
    "\n",
    "# retrain a model #s\n",
    "test_model = model_construct(args,args.test_model,data,device).to(device) \n",
    "test_model.fit(poison_x,poison_edge_index, poison_edge_weights, poison_labels, bkd_tn_nodes, idx_val,train_iters=args.epochs,verbose=False, finetune=True, attach=index_of_less_robust)\n",
    "\n",
    "## test model on purified graph (poisoned target node) ##\n",
    "clean_acc = test_model.test(poison_x,poison_edge_index, poison_edge_weights,poison_labels,idx_attach)\n",
    "\n",
    "print(\"accuracy on clean test nodes: {:.4f}\".format(clean_acc))"
   ]
  },
  {
   "cell_type": "code",
   "execution_count": 32,
   "metadata": {},
   "outputs": [
    {
     "name": "stdout",
     "output_type": "stream",
     "text": [
      "ASR: 0.0000\n",
      "Flip ASR: 0.0000/16482 nodes\n",
      "CA: 0.6727\n"
     ]
    }
   ],
   "source": [
    "# add a trigger detector #\n",
    "# assumption: backdoor attack's success is based on trigger pattern #\n",
    "# 1. outlier, trigger different to each other #\n",
    "# 2. in distribution, trigger similar to each other #\n",
    "# # in case, model trained on clean graph learn attack pattern #\n",
    "induct_edge_index = torch.cat([poison_edge_index,mask_edge_index],dim=1)\n",
    "induct_edge_weights = torch.cat([poison_edge_weights,torch.ones([mask_edge_index.shape[1]],dtype=torch.float,device=device)])\n",
    "induct_x, induct_edge_index,induct_edge_weights = model.inject_trigger(idx_atk,poison_x,induct_edge_index,induct_edge_weights,device)\n",
    "# induct_x, induct_edge_index,induct_edge_weights = model.inject_trigger(idx_attach,poison_x,induct_edge_index,induct_edge_weights,device)\n",
    "induct_x, induct_edge_index,induct_edge_weights = induct_x.clone().detach(), induct_edge_index.clone().detach(),induct_edge_weights.clone().detach()\n",
    "\n",
    "output, x = test_model(induct_x,induct_edge_index,induct_edge_weights)\n",
    "train_attach_rate = (output.argmax(dim=1)[idx_atk]==args.target_class).float().mean()\n",
    "# train_attach_rate = (output.argmax(dim=1)[idx_attach]==args.target_class).float().mean()\n",
    "print(\"ASR: {:.4f}\".format(train_attach_rate))\n",
    "asr = train_attach_rate\n",
    "flip_idx_atk = idx_atk[(data.y[idx_atk] != args.target_class).nonzero().flatten()]\n",
    "flip_asr = (output.argmax(dim=1)[flip_idx_atk]==args.target_class).float().mean()\n",
    "print(\"Flip ASR: {:.4f}/{} nodes\".format(flip_asr,flip_idx_atk.shape[0]))\n",
    "ca = test_model.test(induct_x,induct_edge_index,induct_edge_weights,data.y,idx_clean_test)\n",
    "print(\"CA: {:.4f}\".format(ca))"
   ]
  },
  {
   "cell_type": "code",
   "execution_count": 36,
   "metadata": {},
   "outputs": [
    {
     "data": {
      "text/plain": [
       "tensor([22, 22, 22,  ..., 22, 22, 22], device='cuda:2')"
      ]
     },
     "execution_count": 36,
     "metadata": {},
     "output_type": "execute_result"
    }
   ],
   "source": [
    "output.argmax(dim=1)[idx_atk]"
   ]
  },
  {
   "cell_type": "code",
   "execution_count": 34,
   "metadata": {},
   "outputs": [
    {
     "ename": "IndexError",
     "evalue": "too many indices for tensor of dimension 2",
     "output_type": "error",
     "traceback": [
      "\u001b[0;31m---------------------------------------------------------------------------\u001b[0m",
      "\u001b[0;31mIndexError\u001b[0m                                Traceback (most recent call last)",
      "Cell \u001b[0;32mIn[34], line 1\u001b[0m\n\u001b[0;32m----> 1\u001b[0m correct_class_probs \u001b[39m=\u001b[39m output[idx_atk, torch\u001b[39m.\u001b[39;49marange(data\u001b[39m.\u001b[39;49my[idx_atk]\u001b[39m.\u001b[39;49msize(\u001b[39m0\u001b[39;49m)), data\u001b[39m.\u001b[39;49my[idx_atk]]\n",
      "\u001b[0;31mIndexError\u001b[0m: too many indices for tensor of dimension 2"
     ]
    }
   ],
   "source": [
    "correct_class_probs = output[idx_atk, torch.arange(data.y[idx_atk].size(0)), data.y[idx_atk]]"
   ]
  },
  {
   "cell_type": "code",
   "execution_count": null,
   "metadata": {},
   "outputs": [],
   "source": []
  },
  {
   "cell_type": "code",
   "execution_count": null,
   "metadata": {},
   "outputs": [],
   "source": []
  }
 ],
 "metadata": {
  "kernelspec": {
   "display_name": "spurious",
   "language": "python",
   "name": "python3"
  },
  "language_info": {
   "codemirror_mode": {
    "name": "ipython",
    "version": 3
   },
   "file_extension": ".py",
   "mimetype": "text/x-python",
   "name": "python",
   "nbconvert_exporter": "python",
   "pygments_lexer": "ipython3",
   "version": "3.8.17"
  }
 },
 "nbformat": 4,
 "nbformat_minor": 2
}
