{
 "cells": [
  {
   "cell_type": "code",
   "execution_count": 1,
   "metadata": {},
   "outputs": [
    {
     "name": "stderr",
     "output_type": "stream",
     "text": [
      "/tmp/ipykernel_2038848/3056393123.py:1: DeprecationWarning: the imp module is deprecated in favour of importlib; see the module's documentation for alternative uses\n",
      "  import imp\n",
      "/home/mfl5681/anaconda3/envs/py39_torch201/lib/python3.9/site-packages/tqdm/auto.py:21: TqdmWarning: IProgress not found. Please update jupyter and ipywidgets. See https://ipywidgets.readthedocs.io/en/stable/user_install.html\n",
      "  from .autonotebook import tqdm as notebook_tqdm\n"
     ]
    },
    {
     "name": "stdout",
     "output_type": "stream",
     "text": [
      "Namespace(debug=True, no_cuda=False, seed=10, model='GCN', dataset='Cora', train_lr=0.01, weight_decay=0.0005, hidden=64, thrd=0.5, target_class=0, k=100, dropout=0.5, epochs=1000, rec_epochs=30, trojan_epochs=400, inner=1, lr=0.01, trigger_size=3, use_vs_number=True, vs_ratio=0, range=1.0, vs_number=40, defense_mode='none', prune_thr=0.8, target_loss_weight=1, weight_target=1, weight_ood=1, weight_targetclass=1, outter_size=4096, homo_loss_weight=100, homo_boost_thrd=0.8, dis_weight=1, selection_method='none', test_model='GCN', evaluate_mode='1by1', device_id=2, cuda=True)\n"
     ]
    }
   ],
   "source": [
    "import imp\n",
    "import time\n",
    "import argparse\n",
    "import numpy as np\n",
    "import torch\n",
    "torch.set_printoptions(threshold=10000)\n",
    "from torch_geometric.datasets import Planetoid,Reddit2,Flickr\n",
    "import torch.nn.functional as F\n",
    "import numpy as np\n",
    "import matplotlib.pyplot as plt\n",
    "# from torch_geometric.loader import DataLoader\n",
    "from help_funcs import prune_unrelated_edge,prune_unrelated_edge_isolated, clu_prune_unrelated_edge\n",
    "import scipy.sparse as sp\n",
    "from torch_geometric.utils import subgraph\n",
    "# Training settings\n",
    "parser = argparse.ArgumentParser()\n",
    "parser.add_argument('--debug', action='store_true',\n",
    "        default=True, help='debug mode')\n",
    "parser.add_argument('--no-cuda', action='store_true', default=False,\n",
    "                    help='Disables CUDA training.')\n",
    "parser.add_argument('--seed', type=int, default=10, help='Random seed.')\n",
    "parser.add_argument('--model', type=str, default='GCN', help='model',\n",
    "                    choices=['GCN','GAT','GraphSage','GIN'])\n",
    "parser.add_argument('--dataset', type=str, default='Cora', \n",
    "                    help='Dataset',\n",
    "                    choices=['Cora','Pubmed','Flickr','ogbn-arxiv','Citeseer','Reddit2'])\n",
    "parser.add_argument('--train_lr', type=float, default=0.01,\n",
    "                    help='Initial learning rate.')\n",
    "parser.add_argument('--weight_decay', type=float, default=5e-4,\n",
    "                    help='Weight decay (L2 loss on parameters).')\n",
    "parser.add_argument('--hidden', type=int, default=64,\n",
    "                    help='Number of hidden units.')\n",
    "parser.add_argument('--thrd', type=float, default=0.5)\n",
    "parser.add_argument('--target_class', type=int, default=0)\n",
    "parser.add_argument('--k', type=int, default=100)\n",
    "parser.add_argument('--dropout', type=float, default=0.5,\n",
    "                    help='Dropout rate (1 - keep probability).')\n",
    "parser.add_argument('--epochs', type=int,  default=1000, help='Number of epochs to train benign and backdoor model.')\n",
    "parser.add_argument('--rec_epochs', type=int,  default=30, help='Number of epochs to train benign and backdoor model.')\n",
    "parser.add_argument('--trojan_epochs', type=int,  default=400, help='Number of epochs to train trigger generator.')\n",
    "parser.add_argument('--inner', type=int,  default=1, help='Number of inner')\n",
    "# backdoor setting\n",
    "parser.add_argument('--lr', type=float, default=0.01,\n",
    "                    help='Initial learning rate.')\n",
    "parser.add_argument('--trigger_size', type=int, default=3,\n",
    "                    help='tirgger_size')\n",
    "parser.add_argument('--use_vs_number', action='store_true', default=True,\n",
    "                    help=\"if use detailed number to decide Vs\")\n",
    "parser.add_argument('--vs_ratio', type=float, default=0,\n",
    "                    help=\"ratio of poisoning nodes relative to the full graph\")\n",
    "parser.add_argument('--range', type=float, default=1.0,\n",
    "                    help=\"ratio of poisoning nodes relative to the full graph\")\n",
    "parser.add_argument('--vs_number', type=int, default=40,\n",
    "                    help=\"number of poisoning nodes relative to the full graph\")\n",
    "# defense setting\n",
    "parser.add_argument('--defense_mode', type=str, default=\"none\",\n",
    "                    choices=['prune', 'isolate', 'none','reconstruct'],\n",
    "                    help=\"Mode of defense\")\n",
    "parser.add_argument('--prune_thr', type=float, default=0.8,\n",
    "                    help=\"Threshold of prunning edges\")\n",
    "parser.add_argument('--target_loss_weight', type=float, default=1,\n",
    "                    help=\"Weight of optimize outter trigger generator\")\n",
    "parser.add_argument('--weight_target', type=float, default=1,\n",
    "                    help=\"Weight of optimize outter trigger generator\")\n",
    "parser.add_argument('--weight_ood', type=float, default=1,\n",
    "                    help=\"Weight of optimize outter trigger generator\")\n",
    "parser.add_argument('--weight_targetclass', type=float, default=1,\n",
    "                    help=\"Weight of optimize outter trigger generator\")\n",
    "parser.add_argument('--outter_size', type=int, default=4096,\n",
    "                    help=\"Weight of optimize outter trigger generator\")\n",
    "parser.add_argument('--homo_loss_weight', type=float, default=100,\n",
    "                    help=\"Weight of optimize similarity loss\")\n",
    "parser.add_argument('--homo_boost_thrd', type=float, default=0.8,\n",
    "                    help=\"Threshold of increase similarity\")\n",
    "# attack setting\n",
    "parser.add_argument('--dis_weight', type=float, default=1,\n",
    "                    help=\"Weight of cluster distance\")\n",
    "parser.add_argument('--selection_method', type=str, default='none',\n",
    "                    choices=['loss','conf','cluster','none','cluster_degree'],\n",
    "                    help='Method to select idx_attach for training trojan model (none means randomly select)')\n",
    "parser.add_argument('--test_model', type=str, default='GCN',\n",
    "                    choices=['GCN','GAT','GraphSage','GIN'],\n",
    "                    help='Model used to attack')\n",
    "parser.add_argument('--evaluate_mode', type=str, default='1by1',\n",
    "                    choices=['overall','1by1'],\n",
    "                    help='Model used to attack')\n",
    "# GPU setting\n",
    "parser.add_argument('--device_id', type=int, default=2,\n",
    "                    help=\"Threshold of prunning edges\")\n",
    "# args = parser.parse_args()\n",
    "args = parser.parse_known_args()[0]\n",
    "args.cuda =  not args.no_cuda and torch.cuda.is_available()\n",
    "device = torch.device(('cuda:{}' if torch.cuda.is_available() else 'cpu').format(args.device_id))\n",
    "\n",
    "np.random.seed(args.seed)\n",
    "torch.manual_seed(args.seed)\n",
    "torch.cuda.manual_seed(args.seed)\n",
    "print(args)"
   ]
  },
  {
   "cell_type": "code",
   "execution_count": 2,
   "metadata": {},
   "outputs": [],
   "source": [
    "from torch_geometric.utils import to_undirected\n",
    "import torch_geometric.transforms as T\n",
    "transform = T.Compose([T.NormalizeFeatures()])\n",
    "\n",
    "if(args.dataset == 'Cora' or args.dataset == 'Citeseer' or args.dataset == 'Pubmed'):\n",
    "    dataset = Planetoid(root='./data/', \\\n",
    "                        name=args.dataset,\\\n",
    "                        transform=transform)\n",
    "elif(args.dataset == 'Flickr'):\n",
    "    dataset = Flickr(root='./data/Flickr/', \\\n",
    "                    transform=transform)\n",
    "elif(args.dataset == 'Reddit2'):\n",
    "    dataset = Reddit2(root='./data/Reddit2/', \\\n",
    "                    transform=transform)\n",
    "elif(args.dataset == 'ogbn-arxiv'):\n",
    "    from ogb.nodeproppred import PygNodePropPredDataset\n",
    "    # Download and process data at './dataset/ogbg_molhiv/'\n",
    "    dataset = PygNodePropPredDataset(name = 'ogbn-arxiv', root='./data/')\n",
    "    split_idx = dataset.get_idx_split() \n",
    "\n",
    "data = dataset[0].to(device)\n",
    "\n",
    "if(args.dataset == 'ogbn-arxiv'):\n",
    "    nNode = data.x.shape[0]\n",
    "    setattr(data,'train_mask',torch.zeros(nNode, dtype=torch.bool).to(device))\n",
    "    # dataset[0].train_mask = torch.zeros(nEdge, dtype=torch.bool).to(device)\n",
    "    data.val_mask = torch.zeros(nNode, dtype=torch.bool).to(device)\n",
    "    data.test_mask = torch.zeros(nNode, dtype=torch.bool).to(device)\n",
    "    data.y = data.y.squeeze(1)\n",
    "    \n",
    "if(args.dataset == 'Reddit2'):\n",
    "    num_nodes_to_sample = 20000  # Adjust this based on your needs\n",
    "\n",
    "    # Randomly select a subset of nodes\n",
    "    sampled_nodes = torch.randint(data.num_nodes, (num_nodes_to_sample,), device=device)\n",
    "\n",
    "    # Perform subgraph sampling\n",
    "    edge,_ = subgraph(sampled_nodes, data.edge_index)\n",
    "    data.edge_index = edge"
   ]
  },
  {
   "cell_type": "code",
   "execution_count": 3,
   "metadata": {},
   "outputs": [],
   "source": [
    "from utils import get_split\n",
    "data, idx_train, idx_val, idx_clean_test, idx_atk = get_split(args,data,device)\n",
    "\n",
    "from torch_geometric.utils import to_undirected\n",
    "from utils import subgraph\n",
    "data.edge_index = to_undirected(data.edge_index)\n",
    "train_edge_index,_, edge_mask = subgraph(torch.bitwise_not(data.test_mask),data.edge_index,relabel_nodes=False)\n",
    "mask_edge_index = data.edge_index[:,torch.bitwise_not(edge_mask)]"
   ]
  },
  {
   "cell_type": "code",
   "execution_count": 4,
   "metadata": {},
   "outputs": [
    {
     "name": "stdout",
     "output_type": "stream",
     "text": [
      "number of benign training nodes 541\n",
      "number of poisoned target nodes 40\n"
     ]
    }
   ],
   "source": [
    "from sklearn_extra import cluster\n",
    "from models.backdoor import Backdoor\n",
    "from models.construct import model_construct\n",
    "import heuristic_selection as hs\n",
    "from torch.distributions.bernoulli import Bernoulli\n",
    "\n",
    "# select poisoned target node #\n",
    "\n",
    "# filter out the unlabeled nodes except from training nodes and testing nodes, nonzero() is to get index, flatten is to get 1-d tensor\n",
    "unlabeled_idx = (torch.bitwise_not(data.test_mask)&torch.bitwise_not(data.train_mask)).nonzero().flatten()\n",
    "if(args.use_vs_number):\n",
    "    size = args.vs_number\n",
    "else:\n",
    "    size = int((len(data.test_mask)-data.test_mask.sum())*args.vs_ratio)\n",
    "# print(\"#Attach Nodes:{}\".format(size))\n",
    "assert size>0, 'The number of selected trigger nodes must be larger than 0!'\n",
    "# here is randomly select poison nodes from unlabeled nodes\n",
    "if(args.selection_method == 'none'):\n",
    "    idx_attach = hs.obtain_attach_nodes(args,unlabeled_idx,size)\n",
    "elif(args.selection_method == 'cluster'):\n",
    "    idx_attach = hs.cluster_distance_selection(args,data,idx_train,idx_val,idx_clean_test,unlabeled_idx,train_edge_index,size,device)\n",
    "    idx_attach = torch.LongTensor(idx_attach).to(device)\n",
    "elif(args.selection_method == 'cluster_degree'):\n",
    "    if(args.dataset == 'Pubmed'):\n",
    "        idx_attach = hs.cluster_degree_selection_seperate_fixed(args,data,idx_train,idx_val,idx_clean_test,unlabeled_idx,train_edge_index,size,device)\n",
    "    else:\n",
    "        idx_attach = hs.cluster_degree_selection(args,data,idx_train,idx_val,idx_clean_test,unlabeled_idx,train_edge_index,size,device)\n",
    "    idx_attach = torch.LongTensor(idx_attach).to(device)\n",
    "# print(\"idx_attach: {}\".format(idx_attach))\n",
    "unlabeled_idx = torch.tensor(list(set(unlabeled_idx.cpu().numpy()) - set(idx_attach.cpu().numpy()))).to(device)\n",
    "print('number of benign training nodes', len(idx_train))\n",
    "print('number of poisoned target nodes', len(idx_attach))\n",
    "\n",
    "# Cora\n",
    "idx_attach = torch.tensor([2183, 2202,  980, 1291, 2630, 2530,  376,  590, 1220,  574,  276,   15,\n",
    "        2049, 2117, 2535, 1505, 2665, 1469,  316, 1201,  511,  700, 1259,  357,\n",
    "        1754,  228, 2290, 1019, 2546,  958, 1263, 2556, 2003,   51,  342,  711,\n",
    "        2305,  461, 1246, 1850])\n",
    "\n",
    "\n",
    "idx_attach = idx_attach.to(device)"
   ]
  },
  {
   "cell_type": "code",
   "execution_count": 5,
   "metadata": {},
   "outputs": [
    {
     "data": {
      "text/plain": [
       "0"
      ]
     },
     "execution_count": 5,
     "metadata": {},
     "output_type": "execute_result"
    }
   ],
   "source": [
    "## trigger generator ##\n",
    "model = Backdoor(args,device)\n",
    "model.fit(data.x, train_edge_index, None, data.y, idx_train,idx_attach, unlabeled_idx, True)"
   ]
  },
  {
   "cell_type": "code",
   "execution_count": 6,
   "metadata": {},
   "outputs": [],
   "source": [
    "test_model = 'GCN'\n",
    "total_overall_asr = 0\n",
    "total_overall_ca = 0\n",
    "args.test_model = test_model\n",
    "rs = np.random.RandomState(args.seed)\n",
    "seeds = rs.randint(1000,size=1)\n",
    "overall_asr = 0\n",
    "overall_ca = 0"
   ]
  },
  {
   "cell_type": "code",
   "execution_count": 7,
   "metadata": {},
   "outputs": [],
   "source": [
    "# load poisoned graph #\n",
    "# poison_x = torch.load('poison_x.pt')\n",
    "# poison_edge_index = torch.load('poison_edge_index.pt')\n",
    "# poison_edge_weights = torch.load('poison_edge_weights.pt')\n",
    "# poison_labels = torch.load('poison_labels.pt')\n",
    "poison_x = torch.load('poison_x_cora.pt')\n",
    "poison_edge_index = torch.load('poison_edge_index_cora.pt')\n",
    "poison_edge_weights = torch.load('poison_edge_weights_cora.pt')\n",
    "poison_labels = torch.load('poison_labels_cora.pt')"
   ]
  },
  {
   "cell_type": "code",
   "execution_count": 8,
   "metadata": {},
   "outputs": [
    {
     "name": "stdout",
     "output_type": "stream",
     "text": [
      "Namespace(debug=True, no_cuda=False, seed=10, model='GCN', dataset='Cora', train_lr=0.01, weight_decay=0.0005, hidden=64, thrd=0.5, target_class=0, k=100, dropout=0.5, epochs=1000, rec_epochs=30, trojan_epochs=400, inner=1, lr=0.01, trigger_size=3, use_vs_number=True, vs_ratio=0, range=1.0, vs_number=40, defense_mode='none', prune_thr=0.8, target_loss_weight=1, weight_target=1, weight_ood=1, weight_targetclass=1, outter_size=4096, homo_loss_weight=100, homo_boost_thrd=0.8, dis_weight=1, selection_method='none', test_model='GCN', evaluate_mode='1by1', device_id=2, cuda=True)\n"
     ]
    }
   ],
   "source": [
    "print(args)\n",
    "\n",
    "mask = data.y[idx_attach] != args.target_class\n",
    "mask = mask.to(device)\n",
    "\n",
    "## only attack those has groud truth labels != target_class ##\n",
    "idx_attach = idx_attach[(data.y[idx_attach] != args.target_class).nonzero().flatten()]\n",
    "\n",
    "bkd_tn_nodes = torch.cat([idx_train,idx_attach]).to(device)\n",
    "# test_model = model_construct(args,args.test_model,data,device).to(device) \n",
    "known_nodes = torch.cat([idx_train,idx_attach]).to(device)\n",
    "predictions = []\n",
    "# edge weight for clean edge_index, may use later #\n",
    "edge_weight = torch.ones([data.edge_index.shape[1]],device=device,dtype=torch.float)\n"
   ]
  },
  {
   "cell_type": "code",
   "execution_count": 9,
   "metadata": {},
   "outputs": [
    {
     "data": {
      "text/plain": [
       "tensor(31, device='cuda:2')"
      ]
     },
     "execution_count": 9,
     "metadata": {},
     "output_type": "execute_result"
    }
   ],
   "source": [
    "mask.sum()"
   ]
  },
  {
   "cell_type": "code",
   "execution_count": 10,
   "metadata": {},
   "outputs": [
    {
     "name": "stdout",
     "output_type": "stream",
     "text": [
      "tensor([1, 6, 3, 2, 5, 3, 3, 3, 3, 3, 1, 4, 3, 3, 3, 3, 3, 2, 2, 2, 4, 3, 2, 1,\n",
      "        2, 2, 3, 3, 1, 3, 4], device='cuda:2')\n",
      "tensor([0, 0, 0, 0, 0, 0, 0, 0, 0, 0, 0, 0, 0, 0, 0, 0, 0, 0, 0, 0, 0, 0, 0, 0,\n",
      "        0, 0, 0, 0, 0, 0, 0], device='cuda:2')\n"
     ]
    }
   ],
   "source": [
    "print(data.y[idx_attach])\n",
    "# idx_attach is selected target node #\n",
    "print(poison_labels[idx_attach])"
   ]
  },
  {
   "cell_type": "code",
   "execution_count": null,
   "metadata": {},
   "outputs": [],
   "source": [
    "# train a backdoored model on poisoned graph # \n",
    "test_model = model_construct(args,args.test_model,data,device).to(device) \n",
    "test_model.fit(poison_x,poison_edge_index, poison_edge_weights, poison_labels, bkd_tn_nodes, idx_val,train_iters=args.epochs,verbose=False)\n",
    "test_model.eval()\n",
    "clean_acc = test_model.test(poison_x,poison_edge_index, poison_edge_weights,poison_labels,idx_attach)\n",
    "output_clean, x = test_model(poison_x,poison_edge_index,poison_edge_weights)\n",
    "ori_predict = torch.exp(output_clean[known_nodes])\n",
    "print(\"accuracy on poisoned target nodes: {:.4f}\".format(clean_acc))"
   ]
  },
  {
   "cell_type": "code",
   "execution_count": 13,
   "metadata": {},
   "outputs": [],
   "source": [
    "'''\n",
    "randomized smoothing\n",
    "'''\n",
    "from models.random_smooth import RS\n",
    "\n",
    "test_model = model_construct(args,args.test_model,data,device).to(device) \n",
    "rs_model = RS(model_name = args.test_model, model=test_model, prob_drop = 0.7, device = device)\n",
    "rs_model.fit(poison_x,poison_edge_index, poison_edge_weights, poison_labels, bkd_tn_nodes, idx_val,train_iters=args.epochs,verbose=False)\n",
    "rs_model.eval()\n",
    "clean_acc = rs_model.test(poison_x,poison_edge_index, poison_edge_weights,poison_labels,idx_attach)"
   ]
  },
  {
   "cell_type": "code",
   "execution_count": null,
   "metadata": {},
   "outputs": [],
   "source": [
    "'''\n",
    "attack evaluation for Randomized Smoothing\n",
    "'''\n",
    "induct_edge_index = torch.cat([poison_edge_index,mask_edge_index],dim=1)\n",
    "induct_edge_weights = torch.cat([poison_edge_weights,torch.ones([mask_edge_index.shape[1]],dtype=torch.float,device=device)])\n",
    "induct_x, induct_edge_index,induct_edge_weights = model.inject_trigger(idx_atk,poison_x,induct_edge_index,induct_edge_weights,device)\n",
    "induct_x, induct_edge_index,induct_edge_weights = induct_x.clone().detach(), induct_edge_index.clone().detach(),induct_edge_weights.clone().detach()\n",
    "\n",
    "rs_model.attack_evaluation(args, induct_x, induct_edge_index,induct_edge_weights, data.y, idx_atk, idx_clean_test)"
   ]
  },
  {
   "cell_type": "code",
   "execution_count": 11,
   "metadata": {},
   "outputs": [
    {
     "name": "stdout",
     "output_type": "stream",
     "text": [
      "=== training gnn model ===\n",
      "Epoch 0, training loss: 1.942042589187622\n",
      "acc_val: 0.3148\n",
      "Epoch 10, training loss: 1.7930927276611328\n",
      "acc_val: 0.4111\n",
      "Epoch 20, training loss: 1.7020777463912964\n",
      "acc_val: 0.4741\n",
      "Epoch 30, training loss: 1.5483022928237915\n",
      "acc_val: 0.5407\n",
      "Epoch 40, training loss: 1.393540620803833\n",
      "acc_val: 0.6000\n",
      "Epoch 50, training loss: 1.2238564491271973\n",
      "acc_val: 0.6222\n",
      "Epoch 60, training loss: 1.1143767833709717\n",
      "acc_val: 0.7074\n",
      "Epoch 70, training loss: 1.0259199142456055\n",
      "acc_val: 0.7000\n",
      "Epoch 80, training loss: 0.918402373790741\n",
      "acc_val: 0.7370\n",
      "Epoch 90, training loss: 0.8343381285667419\n",
      "acc_val: 0.7407\n",
      "Epoch 100, training loss: 0.7984828948974609\n",
      "acc_val: 0.7333\n",
      "Epoch 110, training loss: 0.7928588390350342\n",
      "acc_val: 0.7667\n",
      "Epoch 120, training loss: 0.7331372499465942\n",
      "acc_val: 0.7778\n",
      "Epoch 130, training loss: 0.7570202946662903\n",
      "acc_val: 0.7778\n",
      "Epoch 140, training loss: 0.7182356119155884\n",
      "acc_val: 0.7519\n",
      "Epoch 150, training loss: 0.6612203121185303\n",
      "acc_val: 0.7741\n",
      "Epoch 160, training loss: 0.6634746193885803\n",
      "acc_val: 0.7778\n",
      "Epoch 170, training loss: 0.6520277857780457\n",
      "acc_val: 0.7741\n",
      "Epoch 180, training loss: 0.6536532640457153\n",
      "acc_val: 0.7741\n",
      "Epoch 190, training loss: 0.6438444256782532\n",
      "acc_val: 0.7852\n",
      "Epoch 200, training loss: 0.6129189133644104\n",
      "acc_val: 0.7741\n",
      "Epoch 210, training loss: 0.6187264919281006\n",
      "acc_val: 0.7778\n",
      "Epoch 220, training loss: 0.6171672344207764\n",
      "acc_val: 0.7704\n",
      "Epoch 230, training loss: 0.5846078395843506\n",
      "acc_val: 0.7852\n",
      "Epoch 240, training loss: 0.5974613428115845\n",
      "acc_val: 0.7667\n",
      "Epoch 250, training loss: 0.5806035995483398\n",
      "acc_val: 0.7778\n",
      "Epoch 260, training loss: 0.5694909691810608\n",
      "acc_val: 0.7778\n",
      "Epoch 270, training loss: 0.5625587105751038\n",
      "acc_val: 0.7778\n",
      "Epoch 280, training loss: 0.582709014415741\n",
      "acc_val: 0.7741\n",
      "Epoch 290, training loss: 0.5585488080978394\n",
      "acc_val: 0.7852\n",
      "Epoch 300, training loss: 0.5434336066246033\n",
      "acc_val: 0.7667\n",
      "Epoch 310, training loss: 0.5567195415496826\n",
      "acc_val: 0.7593\n",
      "Epoch 320, training loss: 0.5437365174293518\n",
      "acc_val: 0.7741\n",
      "Epoch 330, training loss: 0.5540289282798767\n",
      "acc_val: 0.7704\n",
      "Epoch 340, training loss: 0.5297979116439819\n",
      "acc_val: 0.7667\n",
      "Epoch 350, training loss: 0.5376911163330078\n",
      "acc_val: 0.7704\n",
      "Epoch 360, training loss: 0.5451814532279968\n",
      "acc_val: 0.7704\n",
      "Epoch 370, training loss: 0.5440597534179688\n",
      "acc_val: 0.7593\n",
      "Epoch 380, training loss: 0.5293456315994263\n",
      "acc_val: 0.7556\n",
      "Epoch 390, training loss: 0.5310885310173035\n",
      "acc_val: 0.7593\n",
      "Epoch 400, training loss: 0.5328789353370667\n",
      "acc_val: 0.7667\n",
      "Epoch 410, training loss: 0.49140027165412903\n",
      "acc_val: 0.7704\n",
      "Epoch 420, training loss: 0.5318624377250671\n",
      "acc_val: 0.7741\n",
      "Epoch 430, training loss: 0.5241904854774475\n",
      "acc_val: 0.7593\n",
      "Epoch 440, training loss: 0.5027369260787964\n",
      "acc_val: 0.7593\n",
      "Epoch 450, training loss: 0.5184643864631653\n",
      "acc_val: 0.7667\n",
      "Epoch 460, training loss: 0.5098085999488831\n",
      "acc_val: 0.7667\n",
      "Epoch 470, training loss: 0.5073422789573669\n",
      "acc_val: 0.7741\n",
      "Epoch 480, training loss: 0.47678807377815247\n",
      "acc_val: 0.7630\n",
      "Epoch 490, training loss: 0.514431357383728\n",
      "acc_val: 0.7667\n",
      "Epoch 500, training loss: 0.5002965331077576\n",
      "acc_val: 0.7593\n",
      "Epoch 510, training loss: 0.48985978960990906\n",
      "acc_val: 0.7704\n",
      "Epoch 520, training loss: 0.4804897606372833\n",
      "acc_val: 0.7704\n",
      "Epoch 530, training loss: 0.5053091049194336\n",
      "acc_val: 0.7630\n",
      "Epoch 540, training loss: 0.48104825615882874\n",
      "acc_val: 0.7630\n",
      "Epoch 550, training loss: 0.4756033420562744\n",
      "acc_val: 0.7741\n",
      "Epoch 560, training loss: 0.49425143003463745\n",
      "acc_val: 0.7630\n",
      "Epoch 570, training loss: 0.4549272358417511\n",
      "acc_val: 0.7556\n",
      "Epoch 580, training loss: 0.5252411365509033\n",
      "acc_val: 0.7704\n",
      "Epoch 590, training loss: 0.5064055919647217\n",
      "acc_val: 0.7556\n",
      "Epoch 600, training loss: 0.46073007583618164\n",
      "acc_val: 0.7704\n",
      "Epoch 610, training loss: 0.44206875562667847\n",
      "acc_val: 0.7704\n",
      "Epoch 620, training loss: 0.46116194128990173\n",
      "acc_val: 0.7630\n",
      "Epoch 630, training loss: 0.4699684679508209\n",
      "acc_val: 0.7741\n",
      "Epoch 640, training loss: 0.4745124876499176\n",
      "acc_val: 0.7667\n",
      "Epoch 650, training loss: 0.4787682890892029\n",
      "acc_val: 0.7667\n",
      "Epoch 660, training loss: 0.46823424100875854\n",
      "acc_val: 0.7667\n",
      "Epoch 670, training loss: 0.47169479727745056\n",
      "acc_val: 0.7667\n",
      "Epoch 680, training loss: 0.47545841336250305\n",
      "acc_val: 0.7704\n",
      "Epoch 690, training loss: 0.4634849727153778\n",
      "acc_val: 0.7741\n",
      "Epoch 700, training loss: 0.4720417261123657\n",
      "acc_val: 0.7704\n",
      "Epoch 710, training loss: 0.4872809052467346\n",
      "acc_val: 0.7667\n",
      "Epoch 720, training loss: 0.4840898811817169\n",
      "acc_val: 0.7704\n",
      "Epoch 730, training loss: 0.4661960303783417\n",
      "acc_val: 0.7667\n",
      "Epoch 740, training loss: 0.462441623210907\n",
      "acc_val: 0.7630\n",
      "Epoch 750, training loss: 0.45630699396133423\n",
      "acc_val: 0.7704\n",
      "Epoch 760, training loss: 0.46780630946159363\n",
      "acc_val: 0.7667\n",
      "Epoch 770, training loss: 0.4814295768737793\n",
      "acc_val: 0.7630\n",
      "Epoch 780, training loss: 0.44868868589401245\n",
      "acc_val: 0.7778\n",
      "Epoch 790, training loss: 0.4562106430530548\n",
      "acc_val: 0.7667\n",
      "Epoch 800, training loss: 0.4561556279659271\n",
      "acc_val: 0.7593\n",
      "Epoch 810, training loss: 0.4742565453052521\n",
      "acc_val: 0.7593\n",
      "Epoch 820, training loss: 0.45867934823036194\n",
      "acc_val: 0.7741\n",
      "Epoch 830, training loss: 0.4521052837371826\n",
      "acc_val: 0.7667\n",
      "Epoch 840, training loss: 0.47731509804725647\n",
      "acc_val: 0.7630\n",
      "Epoch 850, training loss: 0.4387817084789276\n",
      "acc_val: 0.7593\n",
      "Epoch 860, training loss: 0.46422111988067627\n",
      "acc_val: 0.7556\n",
      "Epoch 870, training loss: 0.44027355313301086\n",
      "acc_val: 0.7778\n",
      "Epoch 880, training loss: 0.4618936777114868\n",
      "acc_val: 0.7667\n",
      "Epoch 890, training loss: 0.43474259972572327\n",
      "acc_val: 0.7630\n",
      "Epoch 900, training loss: 0.4283897578716278\n",
      "acc_val: 0.7667\n",
      "Epoch 910, training loss: 0.4551871120929718\n",
      "acc_val: 0.7667\n",
      "Epoch 920, training loss: 0.4481510519981384\n",
      "acc_val: 0.7630\n",
      "Epoch 930, training loss: 0.4655793309211731\n",
      "acc_val: 0.7630\n",
      "Epoch 940, training loss: 0.47335314750671387\n",
      "acc_val: 0.7778\n",
      "Epoch 950, training loss: 0.471900999546051\n",
      "acc_val: 0.7704\n",
      "Epoch 960, training loss: 0.4504852890968323\n",
      "acc_val: 0.7593\n",
      "Epoch 970, training loss: 0.4609001576900482\n",
      "acc_val: 0.7593\n",
      "Epoch 980, training loss: 0.45670560002326965\n",
      "acc_val: 0.7519\n",
      "Epoch 990, training loss: 0.4427725076675415\n",
      "acc_val: 0.7593\n",
      "=== picking the best model according to the performance on validation ===\n"
     ]
    }
   ],
   "source": [
    "'''\n",
    "adversarial training\n",
    "'''\n",
    "from models.adver_training import AdvTraining\n",
    "\n",
    "test_model = model_construct(args,args.test_model,data,device).to(device) \n",
    "adv_model = AdvTraining(args, model_name = args.test_model, model=test_model, trigger_generator=model, device = device)\n",
    "adv_model.fit(poison_x,poison_edge_index, poison_edge_weights, poison_labels, bkd_tn_nodes, idx_val,train_iters=args.epochs,verbose=True)\n",
    "adv_model.eval()\n",
    "clean_acc = adv_model.test(poison_x,poison_edge_index, poison_edge_weights,poison_labels,idx_attach)"
   ]
  },
  {
   "cell_type": "code",
   "execution_count": 13,
   "metadata": {},
   "outputs": [
    {
     "name": "stdout",
     "output_type": "stream",
     "text": [
      "ASR: 0.1734\n",
      "Flip ASR: 0.0756/225 nodes\n"
     ]
    },
    {
     "ename": "NameError",
     "evalue": "name 'rs_edge_index' is not defined",
     "output_type": "error",
     "traceback": [
      "\u001b[0;31m---------------------------------------------------------------------------\u001b[0m",
      "\u001b[0;31mNameError\u001b[0m                                 Traceback (most recent call last)",
      "Cell \u001b[0;32mIn[13], line 9\u001b[0m\n\u001b[1;32m      6\u001b[0m induct_x, induct_edge_index,induct_edge_weights \u001b[38;5;241m=\u001b[39m model\u001b[38;5;241m.\u001b[39minject_trigger(idx_atk,poison_x,induct_edge_index,induct_edge_weights,device)\n\u001b[1;32m      7\u001b[0m induct_x, induct_edge_index,induct_edge_weights \u001b[38;5;241m=\u001b[39m induct_x\u001b[38;5;241m.\u001b[39mclone()\u001b[38;5;241m.\u001b[39mdetach(), induct_edge_index\u001b[38;5;241m.\u001b[39mclone()\u001b[38;5;241m.\u001b[39mdetach(),induct_edge_weights\u001b[38;5;241m.\u001b[39mclone()\u001b[38;5;241m.\u001b[39mdetach()\n\u001b[0;32m----> 9\u001b[0m \u001b[43madv_model\u001b[49m\u001b[38;5;241;43m.\u001b[39;49m\u001b[43mattack_evaluation\u001b[49m\u001b[43m(\u001b[49m\u001b[43margs\u001b[49m\u001b[43m,\u001b[49m\u001b[43m \u001b[49m\u001b[43minduct_x\u001b[49m\u001b[43m,\u001b[49m\u001b[43m \u001b[49m\u001b[43minduct_edge_index\u001b[49m\u001b[43m,\u001b[49m\u001b[43minduct_edge_weights\u001b[49m\u001b[43m,\u001b[49m\u001b[43m \u001b[49m\u001b[43mdata\u001b[49m\u001b[38;5;241;43m.\u001b[39;49m\u001b[43my\u001b[49m\u001b[43m,\u001b[49m\u001b[43m \u001b[49m\u001b[43midx_atk\u001b[49m\u001b[43m,\u001b[49m\u001b[43m \u001b[49m\u001b[43midx_clean_test\u001b[49m\u001b[43m)\u001b[49m\n",
      "File \u001b[0;32m/data/home/mfl5681/project-bkd-defense/backdoor_defense/pre/models/adver_training.py:167\u001b[0m, in \u001b[0;36mAdvTraining.attack_evaluation\u001b[0;34m(self, args, x, edge_index, edge_weight, labels, idx_atk, idx_clean_test)\u001b[0m\n\u001b[1;32m    165\u001b[0m flip_asr \u001b[38;5;241m=\u001b[39m (output\u001b[38;5;241m.\u001b[39margmax(dim\u001b[38;5;241m=\u001b[39m\u001b[38;5;241m1\u001b[39m)[flip_idx_atk]\u001b[38;5;241m==\u001b[39margs\u001b[38;5;241m.\u001b[39mtarget_class)\u001b[38;5;241m.\u001b[39mfloat()\u001b[38;5;241m.\u001b[39mmean()\n\u001b[1;32m    166\u001b[0m \u001b[38;5;28mprint\u001b[39m(\u001b[38;5;124m\"\u001b[39m\u001b[38;5;124mFlip ASR: \u001b[39m\u001b[38;5;132;01m{:.4f}\u001b[39;00m\u001b[38;5;124m/\u001b[39m\u001b[38;5;132;01m{}\u001b[39;00m\u001b[38;5;124m nodes\u001b[39m\u001b[38;5;124m\"\u001b[39m\u001b[38;5;241m.\u001b[39mformat(flip_asr,flip_idx_atk\u001b[38;5;241m.\u001b[39mshape[\u001b[38;5;241m0\u001b[39m]))\n\u001b[0;32m--> 167\u001b[0m ca \u001b[38;5;241m=\u001b[39m \u001b[38;5;28mself\u001b[39m\u001b[38;5;241m.\u001b[39mtest(x,\u001b[43mrs_edge_index\u001b[49m,rs_edge_weight,labels,idx_clean_test)\n\u001b[1;32m    168\u001b[0m \u001b[38;5;28mprint\u001b[39m(\u001b[38;5;124m\"\u001b[39m\u001b[38;5;124mCA: \u001b[39m\u001b[38;5;132;01m{:.4f}\u001b[39;00m\u001b[38;5;124m\"\u001b[39m\u001b[38;5;241m.\u001b[39mformat(ca))\n",
      "\u001b[0;31mNameError\u001b[0m: name 'rs_edge_index' is not defined"
     ]
    }
   ],
   "source": [
    "'''\n",
    "attack evaluation for Randomized Smoothing\n",
    "'''\n",
    "induct_edge_index = torch.cat([poison_edge_index,mask_edge_index],dim=1)\n",
    "induct_edge_weights = torch.cat([poison_edge_weights,torch.ones([mask_edge_index.shape[1]],dtype=torch.float,device=device)])\n",
    "induct_x, induct_edge_index,induct_edge_weights = model.inject_trigger(idx_atk,poison_x,induct_edge_index,induct_edge_weights,device)\n",
    "induct_x, induct_edge_index,induct_edge_weights = induct_x.clone().detach(), induct_edge_index.clone().detach(),induct_edge_weights.clone().detach()\n",
    "\n",
    "adv_model.attack_evaluation(args, induct_x, induct_edge_index,induct_edge_weights, data.y, idx_atk, idx_clean_test)"
   ]
  },
  {
   "cell_type": "code",
   "execution_count": 17,
   "metadata": {},
   "outputs": [
    {
     "data": {
      "text/plain": [
       "tensor([0, 0, 0, 0, 0, 0, 0, 0, 0, 0, 0, 0, 0, 0, 0, 0, 0, 0, 0, 0, 0, 0, 0, 0,\n",
       "        0, 0, 0, 0, 0, 0, 0], device='cuda:2')"
      ]
     },
     "execution_count": 17,
     "metadata": {},
     "output_type": "execute_result"
    }
   ],
   "source": [
    "output_clean[idx_attach].argmax(dim=1)"
   ]
  },
  {
   "cell_type": "code",
   "execution_count": 14,
   "metadata": {},
   "outputs": [
    {
     "name": "stdout",
     "output_type": "stream",
     "text": [
      "ASR: 0.1734\n",
      "Flip ASR: 0.0756/225 nodes\n",
      "CA: 0.7778\n"
     ]
    }
   ],
   "source": [
    "# test backdoored model for comparison #\n",
    "induct_edge_index = torch.cat([poison_edge_index,mask_edge_index],dim=1)\n",
    "induct_edge_weights = torch.cat([poison_edge_weights,torch.ones([mask_edge_index.shape[1]],dtype=torch.float,device=device)])\n",
    "induct_x, induct_edge_index,induct_edge_weights = model.inject_trigger(idx_atk,poison_x,induct_edge_index,induct_edge_weights,device)\n",
    "induct_x, induct_edge_index,induct_edge_weights = induct_x.clone().detach(), induct_edge_index.clone().detach(),induct_edge_weights.clone().detach()\n",
    "\n",
    "output, x = test_model(induct_x,induct_edge_index,induct_edge_weights)\n",
    "train_attach_rate = (output.argmax(dim=1)[idx_atk]==args.target_class).float().mean()\n",
    "print(\"ASR: {:.4f}\".format(train_attach_rate))\n",
    "asr = train_attach_rate\n",
    "flip_idx_atk = idx_atk[(data.y[idx_atk] != args.target_class).nonzero().flatten()]\n",
    "flip_asr = (output.argmax(dim=1)[flip_idx_atk]==args.target_class).float().mean()\n",
    "print(\"Flip ASR: {:.4f}/{} nodes\".format(flip_asr,flip_idx_atk.shape[0]))\n",
    "ca = test_model.test(induct_x,induct_edge_index,induct_edge_weights,data.y,idx_clean_test)\n",
    "print(\"CA: {:.4f}\".format(ca))"
   ]
  },
  {
   "cell_type": "code",
   "execution_count": 19,
   "metadata": {},
   "outputs": [
    {
     "data": {
      "text/plain": [
       "tensor([0, 0, 0, 0, 0, 0, 0, 0, 0, 0, 0, 0, 0, 0, 0, 0, 0, 0, 0, 0, 0, 0, 0, 0,\n",
       "        0, 0, 0, 0, 0, 0, 0, 0, 0, 0, 0, 0, 0, 0, 0, 0, 0, 0, 0, 0, 0, 0, 0, 0,\n",
       "        0, 0, 0, 0, 0, 0, 0, 0, 0, 0, 0, 0, 0, 0, 0, 0, 0, 0, 0, 0, 0, 0, 0, 0,\n",
       "        0, 0, 0, 0, 0, 0, 0, 0, 0, 0, 0, 0, 0, 0, 0, 0, 0, 0, 0, 0, 0, 0, 0, 0,\n",
       "        0, 0, 0, 0, 0, 0, 0, 0, 0, 0, 0, 0, 0, 0, 0, 0, 0, 0, 0, 0, 0, 0, 0, 0,\n",
       "        0, 0, 0, 0, 0, 0, 0, 0, 0, 0, 0, 0, 0, 0, 0, 0, 0, 0, 0, 0, 0, 0, 0, 0,\n",
       "        0, 0, 0, 0, 0, 0, 0, 0, 0, 0, 0, 0, 0, 0, 0, 0, 0, 0, 0, 0, 0, 0, 0, 0,\n",
       "        0, 0, 0, 0, 0, 0, 0, 0, 0, 0, 0, 0, 0, 0, 0, 0, 0, 0, 0, 0, 0, 0, 0, 0,\n",
       "        0, 0, 0, 0, 0, 0, 0, 0, 0, 0, 0, 0, 0, 0, 0, 0, 0, 0, 0, 0, 0, 0, 0, 0,\n",
       "        0, 0, 0, 0, 0, 0, 0, 0, 0], device='cuda:2')"
      ]
     },
     "execution_count": 19,
     "metadata": {},
     "output_type": "execute_result"
    }
   ],
   "source": [
    "output[flip_idx_atk].argmax(dim=1)"
   ]
  },
  {
   "cell_type": "code",
   "execution_count": 20,
   "metadata": {},
   "outputs": [],
   "source": [
    "# edge drop #\n",
    "def sample_noise_all(edge_index, edge_weight,device):\n",
    "    noisy_edge_index = edge_index.clone().detach()\n",
    "    if(edge_weight == None):\n",
    "        noisy_edge_weight = torch.ones([noisy_edge_index.shape[1],]).to(device)\n",
    "    else:\n",
    "        noisy_edge_weight = edge_weight.clone().detach()\n",
    "    # # rand_noise_data = copy.deepcopy(data)\n",
    "    # rand_noise_data.edge_weight = torch.ones([rand_noise_data.edge_index.shape[1],]).to(device)\n",
    "    m = Bernoulli(torch.tensor([0.5]).to(device))\n",
    "    mask = m.sample(noisy_edge_weight.shape).squeeze(-1).int()\n",
    "    # print('mask',mask)\n",
    "    rand_inputs = torch.randint_like(noisy_edge_weight, low=0, high=2).squeeze().int().to(device)\n",
    "    # print(rand_noise_data.edge_weight.shape,mask.shape)\n",
    "    noisy_edge_weight = noisy_edge_weight * mask #+ rand_inputs * (1-mask)\n",
    "        \n",
    "    if(noisy_edge_weight!=None):\n",
    "        noisy_edge_index = noisy_edge_index[:,noisy_edge_weight.nonzero().flatten().long()]\n",
    "        noisy_edge_weight = torch.ones([noisy_edge_index.shape[1],]).to(device)\n",
    "    return noisy_edge_index, noisy_edge_weight"
   ]
  },
  {
   "cell_type": "code",
   "execution_count": 21,
   "metadata": {},
   "outputs": [],
   "source": [
    "# test robustness #\n",
    "for i in range(20):\n",
    "            test_model.eval()\n",
    "            noisy_poison_edge_index, noisy_poison_edge_weights = sample_noise_all(poison_edge_index, poison_edge_weights, device)\n",
    "            output, x = test_model(poison_x,noisy_poison_edge_index,noisy_poison_edge_weights)\n",
    "            train_attach_rate = (output.argmax(dim=1)[idx_attach]==args.target_class).float().mean()\n",
    "            train_clean_rate = (output.argmax(dim=1)[idx_train]==data.y[idx_train]).float().mean()\n",
    "            predictions.append(torch.exp(output[known_nodes]))"
   ]
  },
  {
   "cell_type": "code",
   "execution_count": 22,
   "metadata": {},
   "outputs": [],
   "source": [
    "# torch.argmax(predictions[8][23868])"
   ]
  },
  {
   "cell_type": "code",
   "execution_count": 23,
   "metadata": {},
   "outputs": [
    {
     "name": "stdout",
     "output_type": "stream",
     "text": [
      "index_of_less_robust tensor([571, 557, 565, 555, 548, 567, 554, 570, 542, 568, 566, 544, 551, 549,\n",
      "        550, 553, 560, 541, 564, 545, 558, 552, 562, 563, 556, 559, 543, 561,\n",
      "        546, 547, 569], device='cuda:2')\n",
      "count 31\n"
     ]
    },
    {
     "name": "stderr",
     "output_type": "stream",
     "text": [
      "/home/mfl5681/anaconda3/envs/py39_torch201/lib/python3.9/site-packages/torch/nn/_reduction.py:42: UserWarning: size_average and reduce args will be deprecated, please use reduction='none' instead.\n",
      "  warnings.warn(warning.format(ret))\n"
     ]
    }
   ],
   "source": [
    "epsilon = 1e-8\n",
    "deviations = []\n",
    "for sub_pred in predictions:\n",
    "    sub_pred += epsilon\n",
    "    deviation = F.kl_div(sub_pred.log(), ori_predict, reduce=False)\n",
    "    deviations.append(deviation)\n",
    "\n",
    "summed_deviations = torch.zeros_like(deviations[0]).to(deviations[0].device)\n",
    "for deviation in deviations:\n",
    "    ##### summed deviations for each node #####\n",
    "    summed_deviations += deviation\n",
    "\n",
    "\n",
    "##### get the index for nodes with less robustness #####\n",
    "    \n",
    "##### args.vs_number is unknown #####\n",
    "index_of_less_robust = torch.sort(torch.mean(summed_deviations,dim=-1),descending=True)[1][:mask.sum()]\n",
    "print('index_of_less_robust',index_of_less_robust)\n",
    "\n",
    "##### count how many poisoned target nodes are selected in less robustness nodes #####\n",
    "count = 0\n",
    "dd = []\n",
    "for idx in index_of_less_robust:\n",
    "    if idx >= len(known_nodes)-args.vs_number:\n",
    "        count += 1\n",
    "        dd.append(idx)\n",
    "print('count',count)"
   ]
  },
  {
   "cell_type": "code",
   "execution_count": 24,
   "metadata": {},
   "outputs": [
    {
     "data": {
      "text/plain": [
       "tensor([29.9743, 28.4295, 24.6085, 22.2448, 22.1636, 21.5653, 20.4992, 19.4949,\n",
       "        19.1857, 19.1508, 19.0562, 18.0168, 16.2301, 15.7321, 15.4437, 12.7131,\n",
       "        12.2951, 12.1961, 11.8403, 11.2304, 10.3941, 10.1916, 10.0978,  9.0894,\n",
       "         9.0069,  7.5049,  7.1361,  6.7612,  6.6033,  6.3483,  5.1751],\n",
       "       device='cuda:2', grad_fn=<SliceBackward0>)"
      ]
     },
     "execution_count": 24,
     "metadata": {},
     "output_type": "execute_result"
    }
   ],
   "source": [
    "torch.sort(torch.mean(summed_deviations,dim=-1),descending=True)[0][:mask.sum()]"
   ]
  },
  {
   "cell_type": "code",
   "execution_count": 25,
   "metadata": {},
   "outputs": [
    {
     "name": "stdout",
     "output_type": "stream",
     "text": [
      "572\n"
     ]
    },
    {
     "data": {
      "text/plain": [
       "tensor(31, device='cuda:2')"
      ]
     },
     "execution_count": 25,
     "metadata": {},
     "output_type": "execute_result"
    }
   ],
   "source": [
    "print(len(ori_predict))\n",
    "mask.sum()"
   ]
  },
  {
   "cell_type": "code",
   "execution_count": null,
   "metadata": {},
   "outputs": [],
   "source": []
  },
  {
   "cell_type": "code",
   "execution_count": 26,
   "metadata": {},
   "outputs": [
    {
     "data": {
      "image/png": "[encoded data removed]",
      "text/plain": [
       "<Figure size 1000x600 with 1 Axes>"
      ]
     },
     "metadata": {},
     "output_type": "display_data"
    }
   ],
   "source": [
    "\n",
    "\n",
    "# visualize robustness distribution #\n",
    "a=torch.mean(summed_deviations,dim=-1)\n",
    "a_excluding_last_40 = a[:-args.vs_number].detach().cpu()\n",
    "a_last=a[-mask.sum():].detach().cpu()\n",
    "\n",
    "\n",
    "a_last_40 = a[-args.vs_number:].detach().cpu()\n",
    "\n",
    "\n",
    "\n",
    "\n",
    "indices_to_remove = [i for i, node in enumerate(known_nodes[-args.vs_number:]) if data.y[node] == args.target_class]\n",
    "\n",
    "indices_to_remove = []\n",
    "\n",
    "a_last_list = list(a_last)\n",
    "\n",
    "indices_to_check = range(len(known_nodes[-args.vs_number:]))\n",
    "\n",
    "# indices_to_remove = []\n",
    "\n",
    "# ##### find those nodes that are already have target class or poisoned failed #####\n",
    "# for i in indices_to_check:\n",
    "#     condition1 = data.y[known_nodes[-args.vs_number:][i]] == args.target_class\n",
    "#     condition2 = output.argmax(dim=1)[idx_attach[i]] != args.target_class\n",
    "    \n",
    "#     if condition1 or condition2:\n",
    "#         indices_to_remove.append(i)\n",
    "\n",
    "# for index in sorted(indices_to_remove, reverse=True):\n",
    "#     del a_last_list[index]\n",
    "\n",
    "\n",
    "a_last_40 = a_last_list\n",
    "plt.figure(figsize=(10, 6))\n",
    "# plt.figure(figsize=(40, 24))\n",
    "##### benign nodes #####\n",
    "plt.hist(a_excluding_last_40, bins=20, alpha=0.5, label='benign nodes', density=True)\n",
    "##### poisoned success nodes #####\n",
    "plt.hist(a_last_40, bins=20, alpha=0.5, label='poisoned target nodes',density=True)\n",
    "plt.legend(loc='upper right')\n",
    "plt.xlabel('Value')\n",
    "plt.ylabel('Frequency')\n",
    "plt.title('Distribution of robustness for each node')\n",
    "plt.savefig('a.jpg')\n",
    "plt.show()"
   ]
  },
  {
   "cell_type": "code",
   "execution_count": 28,
   "metadata": {},
   "outputs": [
    {
     "name": "stdout",
     "output_type": "stream",
     "text": [
      "tensor(3.7337)\n",
      "tensor(5.1751)\n"
     ]
    }
   ],
   "source": [
    "print(max(a_excluding_last_40))\n",
    "print(min(a_last_40))"
   ]
  },
  {
   "cell_type": "code",
   "execution_count": 29,
   "metadata": {},
   "outputs": [],
   "source": [
    "output_clean = torch.exp(output_clean)"
   ]
  },
  {
   "cell_type": "code",
   "execution_count": 30,
   "metadata": {},
   "outputs": [
    {
     "name": "stdout",
     "output_type": "stream",
     "text": [
      "tensor([0, 0, 0, 0, 0, 0, 0, 0, 0, 0, 0, 0, 0, 0, 0, 0, 0, 0, 0, 0, 0, 0, 0, 0,\n",
      "        0, 0, 0, 0, 0, 0, 0], device='cuda:2')\n"
     ]
    },
    {
     "name": "stderr",
     "output_type": "stream",
     "text": [
      "/home/mfl5681/anaconda3/envs/py39_torch201/lib/python3.9/site-packages/torch/nn/_reduction.py:42: UserWarning: size_average and reduce args will be deprecated, please use reduction='none' instead.\n",
      "  warnings.warn(warning.format(ret))\n"
     ]
    },
    {
     "name": "stdout",
     "output_type": "stream",
     "text": [
      "[0.001981348730623722, 0.006803745403885841, 0.0331759974360466, 0.0018316300120204687, 0.03576885163784027, 0.0006366862216964364, 0.002993880771100521, 0.0008896560175344348, 0.0005607735365629196, 0.001112681464292109, 0.002793194493278861, 0.0012726661516353488, 0.0003910000959876925, 0.0022631583269685507, 0.0011856189230456948, 0.0005940262926742435, 0.002026234520599246, 0.0006060797604732215, 0.0038595590740442276, 0.016200628131628036, 0.003014353569597006, 3.980301698902622e-05, 2.9032469683443196e-05, 2.3578261334478157e-06, 4.68583675683476e-05, 1.5347963199019432e-05, 0.0002831534657161683, 0.0005034312489442527, 0.0006446553743444383, 5.498093742062338e-05, 1.7039517842931673e-05, 5.65137634112034e-05, 0.009864305146038532, 0.0005290666595101357, 0.00013273555669002235, 0.0033242825884371996, 0.0056745680049061775, 0.0009514543344266713, 0.0002623324398882687, 7.98582550487481e-05, 6.082674372009933e-05, 7.493740849895403e-05, 0.10924895107746124, 0.0011912701884284616, 0.0002190007799072191, 0.00022645614808425307, 4.898065162706189e-05, 0.0014651477104052901, 0.00043092723353765905, 0.0035090255551040173, 0.005345991812646389, 0.017773665487766266, 0.025366337969899178, 0.030353449285030365, 0.05247011408209801, 0.001256548217497766, 0.0002694664872251451, 0.00014929260942153633, 0.0008175820694305003, 0.006394663359969854, 0.006642687134444714, 0.002265347633510828, 0.01533013116568327, 0.06893005967140198, 0.0008584346505813301, 0.0005948812467977405, 0.00115529156755656, 0.007388689089566469, 0.022978458553552628, 0.0005503318388946354, 0.0060478695668280125, 0.0006212459411472082, 0.00023926209541969, 7.885162631282583e-05, 0.00026619169511832297, 0.0013040193589404225, 0.00013348899665288627, 0.00010081826621899381, 0.00038348432281054556, 5.4586016631219536e-05, 0.006822155322879553, 0.00012673418677877635, 1.1575409189390484e-05, 0.00021563238988164812, 0.00012500531738623977, 0.0013086983235552907, 0.0002795384789351374, 0.0003390955680515617, 4.3465759517857805e-05, 0.0003390955680515617, 0.000555875594727695, 7.235844532260671e-05, 0.00015157954476308078, 0.00019103196973446757, 0.03666527941823006, 0.004303480964154005, 0.0004134279442951083, 0.00015457560948561877, 0.00019433136912994087, 0.000672952039167285, 0.05439135432243347, 0.00040983158396556973, 0.01190919242799282, 0.005353582091629505, 0.00912126712501049, 0.004682654980570078, 0.006077515427023172, 0.0044428035616874695, 0.031041452661156654, 0.056072406470775604, 0.0029091155156493187, 0.0009638513438403606, 0.01236253697425127, 0.0032000164501369, 0.0038298857398331165, 0.0017570103518664837, 0.020487327128648758, 0.02948722429573536, 0.009907791391015053, 0.005266130901873112, 0.011784408241510391, 0.003314241301268339, 0.0009145375224761665, 0.0007883874932304025, 0.0005299965268932283, 0.0008107956382445991, 0.002501094015315175, 0.00036220892798155546, 0.0002630699018482119, 0.0016916038002818823, 0.0036961447913199663, 0.00045607081847265363, 0.0011980277486145496, 0.005768515635281801, 0.001255788723938167, 0.022263547405600548, 0.0015480966540053487, 0.033540278673172, 0.0017527193995192647, 0.01574723981320858, 0.024110672995448112, 0.0065100728534162045, 0.011495264247059822, 0.0037680184468626976, 0.0016163726104423404, 0.0012064650654792786, 0.0018716359045356512, 0.0018203994259238243, 0.00014337897300720215, 0.0032131101470440626, 0.004049771465361118, 0.007827546447515488, 0.00024642105563543737, 0.0017353020375594497, 0.008651318028569221, 0.0020426996052265167, 0.0009721049573272467, 0.0008993135998025537, 0.0006213264423422515, 0.00040821926086209714, 0.001455733086913824, 0.0017553302459418774, 0.003047567792236805, 0.0019874409772455692, 0.04117962345480919, 4.218678441247903e-05, 0.0002590315416455269, 0.0006738842930644751, 9.611582208890468e-05, 0.01991013064980507, 0.12748412787914276, 0.0006034158868715167, 0.00010170335735892877, 0.0014742536004632711, 0.007362810894846916, 0.004329096060246229, 0.04199108108878136, 0.04647642746567726, 0.03280079737305641, 0.025894565507769585, 0.043223340064287186, 0.003639283124357462, 0.005632592365145683, 0.011100178584456444, 0.015535091049969196, 0.04033655673265457, 0.00010398885206086561, 7.757558341836557e-05, 4.934379830956459e-06, 0.0006731849862262607, 0.00503168161958456, 0.006780428811907768, 0.003839327022433281, 6.726504216203466e-05, 0.00015791572513990104, 2.012401819229126e-05, 2.8980764909647405e-05, 3.260773519286886e-05, 0.003218163503333926, 0.005302489269524813, 0.003215647302567959, 0.07310765236616135, 0.004290072713047266, 0.00018830971384886652, 0.0008773495210334659, 0.011495609767735004, 0.015651166439056396, 0.0008706421358510852, 0.0003579993499442935, 7.425821240758523e-05, 2.74118847300997e-05, 0.001142085180617869, 0.00011390927102183923, 9.644484089221805e-05, 0.00016961061919573694, 0.00011039659148082137, 0.0004144491977058351, 0.000227459313464351, 0.00032330278190784156, 0.00018616367015056312, 0.002621512161567807, 0.0024751394521445036, 0.009220534935593605, 0.006405676249414682, 0.006405680440366268, 0.030581489205360413, 0.00553071079775691, 0.02277723141014576, 0.003098245244473219, 0.0035156374797225, 0.0031340729910880327, 0.009412151761353016, 0.0018987650983035564, 0.0004322007589507848, 8.099153637886047e-05, 0.00047879028716124594, 0.00027007824974134564, 0.0005922610289417207, 0.0017328044632449746, 0.006709379609674215, 0.0004052980220876634, 0.0004106225387658924, 0.00016682888963259757, 0.00021009973715990782, 0.0020112236961722374, 0.0014792160363867879, 0.0015885212924331427, 0.0012814839137718081, 0.0010565868578851223, 0.0015529075171798468, 0.001573116984218359, 0.0013792605604976416, 0.002101078163832426, 9.418917761649936e-05, 0.00011473974154796451, 3.5073877370450646e-05, 1.570622407598421e-05, 8.989658454083838e-06, 0.0004065265238750726, 6.36553013464436e-05, 1.3822690561937634e-05, 7.588649623357924e-06, 5.163951209397055e-05, 1.232073259416211e-06, 1.9470462575554848e-05, 8.473070192849264e-05, 1.8889850252890028e-05, 4.341958970144333e-07, 9.768243671715027e-07, 8.210969099309295e-05, 3.3448452541051665e-06, 1.4064567949390039e-05, 1.9464309843897354e-06, 4.714487999990524e-07, 4.38430106441956e-06, 3.054355693166144e-05, 0.01423159521073103, 0.004515597131103277, 0.03873100504279137, 0.012858705595135689, 0.004630131646990776, 0.0005389585276134312, 0.011973334476351738, 0.049214161932468414, 0.0006435480318032205, 0.00023731437977403402, 0.00022589696163777262, 0.00018740506493486464, 0.0006548418314196169, 0.0005643145996145904, 0.0004263399459887296, 0.00016985535330604762, 0.0026044270489364862, 0.0024224291555583477, 0.0015741706592962146, 0.004248435143381357, 0.008771730586886406, 0.0030000200495123863, 0.009151100181043148, 0.010394950397312641, 0.0005049461033195257, 0.001198714948259294, 0.00034500661422498524, 0.003833549562841654, 0.00045075881644152105, 0.0007647097809240222, 0.0032204282470047474, 0.011062701232731342, 0.004879985935986042, 0.0012557543814182281, 0.007593494839966297, 0.001965529751032591, 0.0031674483325332403, 0.0028248855378478765, 0.015627844259142876, 0.004891647025942802, 0.00292597827501595, 0.0001790672686183825, 0.001300133764743805, 0.0011958980467170477, 0.0014104300644248724, 0.008619360625743866, 0.0015060934238135815, 0.005998637061566114, 0.0014452035538852215, 0.006605195347219706, 0.0005382288945838809, 0.00181690719909966, 0.0012075002305209637, 1.419738146068994e-05, 1.525905645394232e-05, 1.7927095541381277e-05, 1.7901584214996547e-05, 1.3974396097182762e-05, 4.83842040921445e-06, 0.00024043716257438064, 0.00042592495447024703, 0.0020226784981787205, 0.0003095311112701893, 0.04145224764943123, 0.030833715572953224, 0.20944131910800934, 1.5155545952438843e-05, 3.849103086395189e-05, 2.6115483706234954e-05, 0.0021545991767197847, 0.0030346261337399483, 0.009360266849398613, 0.005776306614279747, 0.00507350591942668, 0.0017205136828124523, 0.0008539919508621097, 0.001854220754466951, 0.0004071226285304874, 0.0027245120145380497, 0.003236527554690838, 0.00074901117477566, 0.0031708271708339453, 0.0036299454513937235, 0.007789635099470615, 0.013376831077039242, 0.0006699817604385316, 0.04814007505774498, 2.2121306756162085e-05, 0.00010722583101596683, 0.00018770541646517813, 1.621060073375702e-05, 8.80421866895631e-05, 0.17343226075172424, 0.0012322321999818087, 0.002109558554366231, 0.0033033513464033604, 0.0020138761028647423, 0.00476488471031189, 0.00042117442353628576, 0.003878179006278515, 0.0016290870262309909, 0.004721652250736952, 0.0011096735252067447, 0.00018533186812419444, 0.0010531939333304763, 0.0012445524334907532, 0.006450506392866373, 0.004461527802050114, 0.009599247947335243, 0.005299455486238003, 0.03357183560729027, 0.019401174038648605, 0.00024258931807707995, 0.0022343872115015984, 0.02643597684800625, 0.005272428970783949, 0.009829073213040829, 0.001077385968528688, 0.0012918455759063363, 0.0003645931137725711, 0.0008116441895253956, 0.0020004804246127605, 7.328098581638187e-05, 0.00021393757197074592, 0.00023268323275260627, 0.00011030105815734714, 0.0006016764673404396, 0.0002480756083969027, 0.00024366452998947352, 5.493985372595489e-05, 0.0003118066815659404, 0.0002577823761384934, 2.907263296947349e-05, 0.006896140519529581, 0.005979857407510281, 0.001716096536256373, 0.00945556815713644, 0.003532343776896596, 0.0001101406742236577, 0.00016845656500663608, 0.0007107457495294511, 0.00016554092871956527, 0.0018718211213126779, 0.0034345374442636967, 0.00018829613691195846, 4.3345684389350936e-05, 0.00019934182637371123, 6.430908979382366e-05, 0.0012211751891300082, 0.00011904857819899917, 0.00024343974655494094, 0.00017372598813381046, 0.0003385094169061631, 0.007302931509912014, 0.018002450466156006, 0.0011650797678157687, 0.0005135008250363171, 0.02855655550956726, 0.0070345341227948666, 0.0011344957165420055, 0.00023759370378684253, 0.0023266684729605913, 0.0003171786665916443, 3.303348057670519e-05, 5.6065222452161834e-05, 0.0001272297085961327, 0.02629411779344082, 0.001854447997175157, 0.0010163981933146715, 0.001891016261652112, 0.001998067367821932, 0.00535937724635005, 0.0008089675684459507, 0.00023245000920724124, 5.631721069221385e-05, 0.03250561282038689, 0.006181327626109123, 0.005692415405064821, 0.008987675420939922, 0.03877398371696472, 0.0186476930975914, 0.00034616023185662925, 0.00046155310701578856, 0.0004977175849489868, 0.0020691929385066032, 0.0009918498108163476, 0.0002515491796657443, 0.0015611319104209542, 0.00019507057731971145, 0.0001972766185645014, 0.00031879745074547827, 0.004217381589114666, 6.228991696843877e-05, 0.0004843220813199878, 0.0008431823807768524, 0.0011321166530251503, 0.0007112473831512034, 0.000473138497909531, 0.00045469298493117094, 0.00032826888491399586, 0.0011881313985213637, 0.00018348758749198169, 0.00036768883001059294, 0.001633144449442625, 0.0022227701265364885, 0.03472066670656204, 0.008226931095123291, 0.0032240436412394047, 0.0017837914638221264, 0.0011164158349856734, 1.8621662093210034e-05, 0.00010322646994609386, 0.002459048992022872, 0.008840791881084442, 0.003298433031886816, 0.041136547923088074, 0.014099436812102795, 0.0003251036978326738, 0.031718771904706955, 0.0035600485280156136, 0.001572659588418901, 0.001033430453389883, 0.00013406095968093723, 0.0006562300259247422, 0.0001311111991526559, 0.00716889463365078, 0.005432428326457739, 0.013990775682032108, 0.0032711955718696117, 0.07417205721139908, 0.00074820063309744, 0.006060308776795864, 0.005833899602293968, 5.890336251468398e-05, 0.00015649638953618705, 0.0011733326828107238, 0.00021385149739217013, 0.018854878842830658, 0.015330148860812187, 0.027269313111901283, 0.0017197744455188513, 0.0022310770582407713, 0.12484968453645706, 1.541711390018463e-05, 5.6337103160331026e-05, 3.62015089194756e-05, 3.987983291153796e-05, 0.005065890960395336, 0.005318258889019489, 0.0009116296423599124, 0.00048606525524519384, 0.0021837290842086077, 0.0012331370962783694, 0.037808001041412354, 0.06085728853940964, 0.002452883869409561, 0.0008273912826552987, 0.015483292751014233, 0.0030135263223201036, 0.00016230398614425212, 0.0003264692204538733, 0.0011527625611051917, 1.5875657481956296e-05, 4.394778443383984e-05, 0.0005794301978312433, 0.024438869208097458, 0.004242271184921265, 0.0004008518881164491, 0.002870256546884775, 0.005113023798912764, 0.019586432725191116, 0.0021450361236929893, 0.005455570761114359, 0.030670158565044403, 0.009848657064139843, 0.002934545511379838, 0.0010726898908615112, 0.0006763924611732364, 0.0007075199391692877, 0.00021363250561989844, 0.0007393972482532263, 0.0004192930064164102, 5.688199235009961e-05, 0.00012973695993423462, 0.00027823448181152344, 6.296831998042762e-05, 0.0003155379672534764, 7.750520308036357e-05, 0.00016510194109287113, 5.988670636725146e-06, 0.025620969012379646, 0.0011905767023563385, 0.014313079416751862, 0.000285908579826355, 0.0008248822996392846, 0.09090150147676468, 0.020384453237056732, 0.0022602800745517015, 0.0005390982259996235, 0.0003886294725816697, 0.0060813105665147305, 0.0004897195030935109, 0.0004934844328090549, 0.013669059611856937, 0.0019954151939600706, 0.08420062810182571, 0.0015185893280431628, 0.0008239155868068337, 0.0034072687849402428, 0.0019207927398383617, 0.001020127208903432, 0.0025691199116408825, 0.0067458441480994225, 0.00039986363844946027, 4.98670033266535e-06, 4.008798350696452e-05, 2.752497312030755e-05, 0.00029002048540860415, 7.41004478186369e-05, 1.1896981050085742e-05, 7.19437375664711e-05, 0.0013169508893042803, 9.842070721788332e-05, 0.00047361920587718487, 0.000106667575892061, 0.00022325653117150068, 0.0010556097840890288, 8.787002298049629e-05, 0.00040547444950789213, 4.8503014113521203e-05, 0.0002925517037510872, 0.00047572291805408895, 0.00859006680548191, 0.0001556507486384362, 0.00011087435996159911, 3.580389966373332e-05, 0.00010935004684142768, 0.0038829713594168425, 0.010640035383403301, 0.02155780978500843, 0.005950266495347023, 0.0015955829294398427, 0.02279544435441494, 0.0034604808315634727, 0.08032643049955368, 0.0009181961650028825, 0.0009715762571431696, 0.00021820729307364672, 0.0014452873729169369, 0.0011759152403101325, 5.476775550050661e-05, 2.281673914694693e-05, 2.0974715880583972e-05, 4.735189941129647e-05, 3.986366937169805e-05, 3.070570755880908e-06, 0.00014702284533996135, 1.83324209501734e-05, 3.054831176996231e-05, 6.188239694893127e-06, 0.0008180242730304599, 0.005482856649905443, 0.0012241421500220895, 0.004667037632316351, 0.004236366134136915, 0.00352796190418303, 0.0015160281909629703, 0.00043294369243085384, 0.006406532134860754, 0.0017255800776183605, 0.0017023396212607622, 0.001201583887450397, 0.0007139929221011698, 0.0012267126003280282, 0.005104840733110905, 0.0034861203748732805, 0.0010999558726325631, 0.0058183674700558186, 0.0034441060852259398, 0.0006324340356513858, 0.0025562208611518145, 0.0243059229105711, 0.006654897704720497, 0.023842472583055496, 0.004909859504550695, 0.009528234601020813, 0.027060994878411293, 0.001550005516037345, 0.00033972307574003935, 0.0009445101604796946, 0.0033594476990401745, 0.0015028013149276376, 0.0008425989653915167, 0.0007387102232314646, 0.0020500391256064177, 0.00457732193171978, 0.005208118818700314, 0.0033102803863584995, 0.0028050432447344065, 0.0005270141991786659, 0.011771541088819504, 0.0014902160037308931, 0.0004603093839250505, 6.625722016906366e-05, 0.00118979811668396, 8.99524602573365e-05, 0.0013003411004319787, 0.019709724932909012, 0.0006926863570697606, 7.312878005905077e-05, 0.0014943885616958141, 0.0002699528995435685, 0.00045054886140860617, 0.0006547497469000518, 0.00019399143639020622, 0.0014663190813735127, 0.0011127006728202105, 0.0005762545624747872, 0.0013635383220389485, 0.0005412059254013002, 0.019616881385445595, 0.0013811056269332767, 0.004269694909453392, 0.012835903093218803, 0.01676909253001213, 0.004720240831375122, 0.002546689473092556, 0.0003510631213430315, 0.00037116080056875944, 0.0002066620800178498, 0.0002800625516101718, 0.00012057860294589773, 0.004823962692171335, 0.03560124337673187, 0.00045439336099661887, 5.749254228248901e-08, 2.5818176254688296e-06, 1.8330425177737197e-07, 8.304487550958584e-07, 8.48592890179134e-07, 3.2074751743493835e-06, 2.710755779844476e-06, 6.399308858817676e-06, 2.1387158710695076e-08, 3.755641557745548e-07, 2.654394165801932e-06, 3.1106176265893737e-06, 1.0254610742777004e-06, 0.002464994788169861, 0.004851979203522205, 0.014898179098963737, 2.3972908820724115e-05, 0.0005958834663033485, 0.0019600745290517807, 0.00038199115078896284, 0.00023999092809390277, 0.00026144873118028045, 7.661006384296343e-05, 0.00025895453291013837, 0.00020512939954642206, 0.0002444314886815846, 0.014387856237590313, 0.011593912728130817, 0.20424284040927887, 0.0033233207650482655, 0.0065949587151408195, 0.00039094474050216377, 0.0010216401424258947, 7.600637036375701e-05, 3.868348358082585e-06, 4.065189932589419e-05, 6.36176491752849e-06, 0.00022369697398971766, 4.0304683352587745e-05, 0.00017143148579634726, 0.0028049894608557224, 0.0005189601215533912, 0.0045083859004080296, 0.034603651612997055, 0.0009409551275894046, 0.0031524887308478355, 0.0007209182367660105, 0.0004089788708370179, 0.002162463031709194, 0.0005226295324973762, 0.0010721598519012332, 0.0006480812444351614, 0.0012684379471465945, 0.0015348541783168912, 0.0008179426076821983, 0.003980919253081083, 0.00010886283416766673, 0.0009366290178149939, 0.011226165108382702, 0.005568798165768385, 0.028020653873682022, 0.0041073947213590145, 0.0024532133247703314, 0.010493624955415726, 0.0008050531032495201, 0.001340809976682067, 0.0083259092643857, 0.013408340513706207, 0.015343164093792439, 0.0007045870879665017, 0.00022848376829642802, 0.0014028805308043957, 0.0062593016773462296, 0.00614036712795496, 0.03145642578601837, 0.015426196157932281, 0.015171770937740803, 0.0042746118269860744, 0.0002355917531531304, 0.00015361128316726536, 0.001699198386631906, 0.0004302928573451936, 0.00022988235286902636, 0.0008064854773692787, 0.0010189430322498083, 0.001376061118207872, 0.00019416745635680854, 0.0008391599985770881, 0.010346587747335434, 0.007154341787099838, 0.007111456245183945, 0.003668220015242696, 0.006258574314415455, 0.2061385065317154, 0.000826120434794575, 0.00023157389659900218, 0.0021270972210913897, 7.144574919948354e-05, 1.4188401110004634e-05, 1.3457245586323552e-05, 1.05161952888011e-05, 2.0928814592480194e-06, 5.521279490494635e-06, 4.63878495793324e-06, 7.633685527252965e-06, 2.4069067876553163e-05, 6.472536188084632e-05, 3.6416377042769454e-06, 1.977656938834116e-05, 1.022788455884438e-05, 2.9544546578108566e-06, 9.983612471842207e-06, 0.0012601141352206469, 0.0004332007374614477, 0.003803778672590852, 0.006908202078193426, 0.0013037207536399364, 0.0005280876066535711, 5.394626350607723e-05, 2.3906552087282762e-05, 2.01487655431265e-05, 2.361787664995063e-05, 0.0001489787537138909, 2.879679414036218e-05, 3.323172131786123e-05, 5.851060996064916e-05, 6.039600702933967e-05, 7.56019726395607e-05, 0.006340778432786465, 0.02898503839969635, 3.5084253795503173e-06, 6.268034212553175e-06, 0.0005003688274882734, 7.643757271580398e-05, 5.0926781113957986e-05, 7.9672085121274e-05, 2.5334769816254266e-05, 3.037987698917277e-05, 0.03305744752287865, 0.0036051119677722454, 0.004614653531461954, 0.0009731083991937339, 0.0006129095563665032, 0.0014840426156297326, 0.0002894018543884158, 0.0006320479442365468, 0.00028976239264011383, 0.0024344874545931816, 1.7278429368161596e-05, 4.528915451373905e-05, 0.00010505106183700264, 5.213490658206865e-05, 8.123740553855896e-05, 3.06982547044754e-05, 0.0003304957936052233, 0.00027105945628136396, 0.017157424241304398, 0.0035870710853487253, 0.004766685422509909, 0.006173260975629091, 0.0004469305567909032, 0.004630794748663902, 0.0007276808028109372, 6.806485180277377e-05, 0.00010262939031235874, 0.0005639891605824232, 0.01707797311246395, 3.594293229980394e-05, 0.0019009681418538094, 8.607470226706937e-05, 0.0011488336604088545, 8.392760355491191e-05, 0.000535538827534765, 0.00045123486779630184, 0.007714320905506611, 0.0009170409175567329, 0.0009100211318582296, 0.00025358478887937963, 0.0009196776081807911, 0.008961185812950134, 0.005199456121772528, 0.00021403763093985617, 0.010383263230323792, 0.0004900874919258058, 0.000389260909287259, 0.0008615378173999488, 0.010872206650674343, 0.0014813148882240057, 0.00253981351852417, 0.0039407419972121716, 0.0016003490891307592, 0.00228568515740335, 0.00228568515740335, 0.0008809948922134936, 0.008915593847632408, 0.012415897101163864, 0.0066274600103497505, 0.0005272465059533715, 0.0002510634367354214, 1.677724503679201e-05, 5.1119634008500725e-05, 0.00013695703819394112, 0.00011220122541999444, 0.0015185917727649212, 0.0008239155868068337, 0.0034072687849402428, 0.00020864726684521884, 0.00010597147775115445, 0.00010355842096032575, 0.000700089440215379, 0.0019513411680236459, 0.00388437625952065, 0.005774567369371653, 0.000607634661719203, 0.009170716628432274, 0.0019639059901237488, 0.0036506205797195435, 0.0026743358466774225, 0.0024011407513171434, 0.0035459233913570642, 0.00012232150766067207, 0.000820386630948633, 0.0004533949831966311, 0.007688108831644058, 0.00015082117170095444, 0.003593308152630925, 0.0004650529008358717, 0.011185233481228352, 0.007613305002450943, 0.0028894348070025444, 7.842847116990015e-05, 0.0003026511112693697, 0.000985812395811081, 0.0032978313975036144, 0.004779128823429346, 0.0004076760960742831, 0.0027990820817649364, 0.007391431834548712, 0.019960802048444748, 0.0003126982192043215, 0.022533366456627846, 0.004686655942350626, 0.0029582057613879442, 0.014951561577618122, 0.17156223952770233, 0.00023446365958079696, 0.021057887002825737, 0.008361926302313805, 0.04405292496085167, 2.878427267205552e-06, 3.146768676742795e-06, 1.8501013983041048e-05, 1.1728345725714462e-06, 4.167448423686437e-06, 1.3605875210487284e-05, 1.1400806215533521e-05, 4.623156200977974e-06, 1.2999243153899442e-05, 4.231539060128853e-05, 5.573475391429383e-06, 9.671876796346623e-06, 1.0925000424322207e-05, 0.0169055238366127, 0.01255705114454031, 0.002430711640045047, 0.10708257555961609, 0.0006520705646835268, 0.0008098047110252082, 0.00047655298840254545, 0.000653698283713311, 1.9481140043353662e-05, 0.000389101798646152, 0.00753615191206336, 0.028232596814632416, 0.0004407897940836847, 0.0010512208100408316, 7.320049189729616e-05, 0.0002499576658010483, 0.008557264693081379, 0.0036760889925062656, 0.0009207449038513005, 0.012873007915914059, 4.6554821892641485e-05, 0.00034936898737214506, 0.0002911374904215336, 0.0009529947419650853, 0.0004929548013024032, 4.826080476050265e-05, 0.00015126455400604755, 0.00028568925336003304, 3.9858412492321804e-05, 0.0005312084103934467, 0.0001608222519280389, 0.0010775411501526833, 0.00014919808018021286, 0.00032581904088146985, 0.0002398775686742738, 4.276846448192373e-05, 8.439299563178793e-05, 4.351924144430086e-05, 0.0007315477705560625, 0.00034729711478576064, 3.452612509136088e-05, 6.770635809516534e-05, 0.0002368330751778558, 0.00025237485533580184, 8.214903937187046e-05, 0.0009318550582975149, 0.001413889811374247, 6.33634626865387e-05, 7.616516086272895e-05, 0.0001411262492183596, 0.00020420525106601417, 0.00012131089169997722, 0.000605935521889478, 3.085418575210497e-05, 3.0671646527480334e-05, 0.0001866200182121247, 0.0007590638706460595, 0.0005219571175985038, 0.0007122928509488702, 9.174645674647763e-05, 8.272832201328129e-05, 0.0010920199565589428, 0.002576508792117238, 4.524165706243366e-05, 0.0001279651914956048, 0.0322459414601326, 0.0040638926438987255, 0.0002050804323516786, 0.013406763784587383, 0.0030007469467818737, 5.7486020523356274e-05, 0.0005110542406328022, 0.0002807661076076329, 0.0001443209475837648, 0.00011066348088206723, 3.224185638828203e-05, 6.085714267101139e-05, 8.989258640212938e-05, 0.00020316617155913264, 3.556854153430322e-06, 0.00022836403513792902, 2.3643620806979015e-05, 1.805861211323645e-05, 8.974570664577186e-05, 0.0008105476154014468, 6.828537152614444e-05, 0.0002583717869129032, 0.0015405643498525023, 0.00025988026754930615, 0.0004999342490918934, 0.0011242732871323824, 0.00034142445656470954, 0.00063855922780931, 0.0009901289595291018, 0.00023660942679271102, 0.0002556153340265155, 0.0009800656698644161, 0.000763246847782284, 0.00011989475024165586, 0.037389423698186874, 0.037899017333984375, 0.00035297765862196684, 0.005524611100554466, 0.0019560866057872772, 0.0187753327190876, 0.012232793495059013, 0.0018399485852569342, 0.00034381664590910077, 0.0014861261006444693, 0.0004218391259200871, 0.0012064962647855282, 0.0009903874015435576, 0.0005060482653789222, 0.0005084042204543948, 0.0006915988633409142, 0.013471897691488266, 0.0144560681656003, 0.054765451699495316, 0.0033100908622145653, 0.0011133009102195501, 0.02396065928041935, 0.0013153963955119252, 0.02728104218840599, 0.010942468419671059, 0.005939092021435499, 0.005482205655425787, 0.000884148757904768, 0.00014486111467704177, 0.0002387937856838107, 0.00024744763504713774, 0.001095165149308741, 0.0006207334226928651, 0.0016372991958633065, 0.0016675506485626101, 0.0007254268857650459, 0.0024801611434668303, 0.00583628797903657, 0.014675294049084187, 0.004153740592300892, 4.819308378500864e-05, 0.004652261734008789, 0.00524315657094121, 0.00023347153910435736, 0.007185371592640877, 0.0008387787383981049, 0.0007626169826835394, 0.0028397985734045506, 0.004632327239960432, 0.0006553541752509773, 0.0025562718510627747, 0.02744005247950554, 0.00047188892494887114, 0.0012296688510105014, 0.0018060026923194528, 9.033563401317224e-05, 0.00011331481800880283, 0.003001153003424406, 0.0023572579957544804, 0.017381202429533005, 0.0009569808025844395, 0.002835882594808936, 0.008278461173176765, 0.0008685105131007731, 0.0009036330739036202, 0.005784047767519951, 0.002472340129315853, 0.002083406550809741, 0.0010669652838259935, 0.006289700511842966, 0.003253167262300849, 0.00444799242541194, 0.005535635631531477, 0.0016739581478759646, 0.0008426447166129947, 0.015663975849747658, 0.0025125625543296337, 0.007871213369071484, 0.004019133280962706, 0.00012875953689217567, 0.00020350716658867896, 0.00014091776392888278, 0.00021109372028149664, 0.00015370867913588881, 0.0007865765946917236, 0.00010856035078177229, 0.00023924221750348806, 0.0001182091873488389, 0.0004442951176315546, 0.0002470474282745272, 0.0003964545903727412, 0.00012572010746225715, 0.00040389399509876966, 0.00037874814006499946, 0.0002272638666909188, 0.00037874814006499946, 0.02512504905462265, 0.032865457236766815, 0.00028086535166949034, 0.00021759787341579795, 0.00014235684648156166, 0.00022135397011879832, 0.00019595872436184436, 0.0001506779226474464, 0.00016297181718982756, 7.41022449801676e-05, 0.000126863902551122, 8.685498323757201e-05, 9.196531755151227e-05, 9.567935921950266e-05, 0.00014302933414001018, 0.00017716024012770504, 0.00018589133105706424, 0.00017273673438467085, 5.738085019402206e-05, 8.390009315917268e-05, 0.00010538523929426447, 0.00031136590405367315, 0.00020977010717615485, 0.0001462881627958268, 0.00011983614240307361, 0.00025081814965233207, 0.03717431053519249, 0.00023645257169846445, 0.00047025937237776816, 5.849105218658224e-05, 0.0003745019785128534, 0.00017618016863707453, 6.94154659868218e-05, 0.00022587526473216712, 0.0001525163243059069, 0.0002846164570655674, 0.0015546109061688185, 0.00030449434416368604, 0.00023613020312041044, 0.000301244028378278, 5.686310032615438e-05, 0.0013317572884261608, 7.41218391340226e-05, 0.00010736180411186069, 3.062508039874956e-05, 0.0016546164406463504, 0.0005346654215827584, 0.0066222334280610085, 0.009009448811411858, 0.00024391339684370905, 0.00038750231033191085, 0.00020392426813486964, 0.00041767038055695593, 4.052157964906655e-05, 0.0004313638783060014, 0.0001757486315909773, 0.003073217812925577, 2.9006574550294317e-05, 0.00029163583531044424, 0.0032845481764525175, 0.0020904892589896917, 0.005519129801541567, 0.0010817141737788916, 0.007962046191096306, 0.0017751887207850814, 0.0016602494288235903, 0.001509269466623664, 0.006442722864449024, 0.0014768977416679263, 0.0021133683621883392, 0.0162392295897007, 0.0003881656739395112, 0.009367579594254494, 0.003979947417974472, 0.011829230934381485, 0.030448785051703453, 0.0026396838948130608, 1.184570095347226e-07, 6.985764144928908e-08, 1.710074286620511e-07, 3.071490937145427e-07, 5.19143164012803e-08, 4.064304803819141e-08, 6.908810945560617e-08, 4.0755434582706584e-08, 3.144253213349657e-08, 4.4524249176447483e-08, 1.9885997915025655e-07, 1.4844380302747595e-07, 9.872159267843017e-08, 5.7414517584675195e-08, 4.9417071323887285e-08, 1.3797814446547818e-08, 7.919555145008417e-08, 5.265714531077492e-09, 4.4524249176447483e-08, 5.4555165718284115e-08, 1.2000367632936104e-07, 2.673878896075621e-08, 4.152830967996124e-08, 6.08451955486089e-08, 7.639434329576034e-08, 1.639251934193453e-07, 6.469551294685516e-08, 2.6685940568427213e-08, 6.178678546575611e-08, 4.054219004956394e-08, 3.628198541605343e-08, 1.0112753301427801e-08, -5.358621102402594e-09, 2.3345586441791966e-07, -5.688532311864947e-09, 1.669703095785735e-07, 1.6609289943403382e-08, 3.3592154835559995e-08, 2.5763258193478578e-08, 4.4524185227601265e-08, 2.4486618954711048e-08, 9.51448413388789e-08, 2.3133095439220597e-08, 2.98565048240107e-08, 2.16615916315277e-07, 1.4880428977903648e-07, 2.2374317509843422e-08, 3.388728586628531e-08, 2.95322362120487e-08, 1.3115294450471993e-07, 7.934249879326671e-08, 0.0003347865422256291, 0.0019567504059523344, 0.23185646533966064, 0.0019909541588276625, 0.0006105684442445636, 0.016206733882427216, 0.0040440731681883335, 0.004833972081542015, 0.004810961429029703, 0.015382640063762665, 0.013011349365115166, 0.0006673054303973913, 0.0006871303776279092, 0.03807196766138077, 0.011350066401064396, 0.02012813091278076, 0.003820831887423992, 0.034505706280469894, 0.020187556743621826, 0.0034486153163015842, 0.03313659131526947, 0.01243208721280098, 0.004588660784065723, 0.0009373330976814032, 0.002184999408200383, 0.0017712899716570973, 0.0007303251186385751, 0.007415276952087879, 0.00645541213452816, 0.003559618256986141, 0.002052063588052988, 0.0002820674271788448, 0.0010909162228927016, 0.00013142585521563888, 0.0011562705039978027, 0.004703317768871784, 0.0005083680152893066, 3.9580678276252e-05, 5.603315730695613e-05, 0.003403220558539033, 0.0035358774475753307, 0.1226164847612381, 0.008358791470527649, 0.00784280151128769, 0.025200894102454185, 0.08319107443094254, 0.00031658742227591574, 0.003994159400463104, 0.0005429012235254049, 0.0009248015121556818, 0.002323855645954609, 0.001915074186399579, 0.008373222313821316, 0.0007468217518180609, 0.006775631569325924, 0.0013299138518050313, 0.025288162752985954, 0.005122664850205183, 0.00638599181547761, 0.0003966412623412907, 0.0008907281444408, 0.00251185754314065, 0.0005033388733863831, 0.0014587428886443377, 4.209618055028841e-05, 0.0031800877768546343, 0.0011069418396800756, 0.005760243162512779, 0.00029413774609565735, 0.0006332791526801884, 0.00989527627825737, 0.003291255794465542, 0.00036516122054308653, 0.010806704871356487, 0.040241993963718414, 0.00013757791020907462, 0.00013928781845606863, 0.00016012815467547625, 0.0011909109307453036, 0.00040690656169317663, 9.89628751995042e-05, 0.00020866229897364974, 7.657081732759252e-05, 0.0001867643150035292, 2.1978548829793e-06, 0.01866443268954754, 0.04353315010666847, 0.0042686196975409985, 0.0037289513275027275, 0.04391375929117203, 0.003122136229649186, 0.0035030136350542307, 0.011202435940504074, 0.0010822862386703491, 0.009586241096258163, 0.009853560477495193, 0.012411106377840042, 0.0033886455930769444, 0.0037341248244047165, 0.002927955938503146, 0.001060842419974506, 0.0016226695151999593, 0.0019722518045455217, 0.002191325416788459, 0.0024932571686804295, 0.0016289689810946584, 1.4330127669381909e-05, 0.0007313836249522865, 1.8795952200889587e-05, 3.0632265406893566e-05, 0.00010091120202559978, 0.0001511539303464815, 0.00030828960007056594, 0.00014728547830600291, 0.0018155298894271255, 0.0008813462336547673, 0.0001586196740390733, 0.00032512692268937826, 0.00014794658636674285, 0.08691107481718063, 0.0004856195591855794, 0.0006418406846933067, 9.655287431087345e-05, 0.009239217266440392, 0.010441632010042667, 0.016406267881393433, 0.012742796912789345, 0.000499193964060396, 0.003092873375862837, 0.009350577369332314, 0.0022292553912848234, 0.0027340848464518785, 0.00015348356100730598, 0.00012336246436461806, 0.006632212083786726, 0.0006978948367759585, 0.0002735278685577214, 0.004090391099452972, 0.005779615603387356, 0.006541042122989893, 0.0055176327005028725, 0.004117331933230162, 0.003828044980764389, 0.003938145004212856, 4.866433300776407e-05, 0.00010454912990098819, 1.7618827769183554e-05, 3.8824928196845576e-05, 3.6668963730335236e-05, 3.087446020799689e-05, 2.9389149858616292e-05, 3.2288273359881714e-05, 0.00016139882791321725, 2.31071790040005e-05, 1.2893762686871924e-05, 1.4802241821598727e-05, 0.00014084437862038612, 0.00013079633936285973, 0.0002012834302149713, 0.0001581113028805703, 0.00038017280166968703, 5.307481114869006e-05, 5.9679950936697423e-05, 0.0001352265098830685, 5.307481114869006e-05, 0.0005176706472411752, 0.0023812674917280674, 0.0005039386451244354, 0.0816025659441948, 0.007525028195232153, 0.003339912975206971, 0.0016792300157248974, 0.0013968088896945119, 0.0005871888133697212, 0.0007859320030547678, 0.0018787203589454293, 0.0036842813715338707, 0.0014737650053575635, 0.0020987382158637047, 0.002787418896332383, 0.0002619415463414043, 0.021345892921090126, 0.018491512164473534, 0.0043660602532327175, 0.0014288712991401553, 0.017056016251444817, 0.0033397963270545006, 0.002143479883670807, 0.1414688378572464, 0.0005546805914491415, 0.0006952317780815065, 0.004614139441400766, 0.002583394292742014, 0.0022063010837882757, 0.00031365390168502927, 0.028119714930653572, 0.013589421287178993, 0.017265496775507927, 0.0034461813047528267, 0.0007623567362315953, 0.006349069532006979, 0.00011370438005542383, 2.931723793153651e-05, 1.7441478121327236e-05, 1.45268031701562e-05, 0.0002823711547534913, 0.001051693456247449, 0.004568574484437704, 0.001425630645826459, 0.024024363607168198, 0.009085399098694324, 0.00021773730986751616, 0.0004210646729916334, 0.0017940265825018287, 0.0004491080471780151, 2.84064699371811e-05, 0.00010329485667170957, 0.00038837004103697836, 0.0024759818334132433, 0.0002663502818904817, 0.009184174239635468, 0.011927258223295212, 0.0005258465535007417, 0.0009927530772984028, 0.00017237378051504493, 0.0003248302382417023, 0.0018807940650731325, 0.00015884730964899063, 2.7813450287794694e-05, 0.0005394624313339591, 0.0001717338600428775, 0.001644846168346703, 0.0007406380609609187, 0.0004930641734972596, 0.0016936117317527533, 0.0204288512468338, 0.00019647415319923311, 0.00079874019138515, 0.0001978800428332761, 0.00045361777301877737, 0.0014555322704836726, 0.001014330075122416, 0.00032109409221448004, 0.0004631581832654774, 0.0018138611922040582, 0.0004822896735277027, 0.000683809514157474, 0.012029160745441914, 0.0003413142985664308, 0.0003426394541747868, 0.0023307406809180975, 0.003991049714386463, 0.008274760097265244, 0.11647029966115952, 0.00303735607303679, 0.0028153785970062017, 0.002406258834525943, 0.000843578192871064, 0.00024653333821333945, 0.0013727546902373433, 0.0028366458136588335, 0.000663657789118588, 0.0007433324935846031, 0.0036921706050634384, 0.009441617876291275, 0.014672127552330494, 0.10355175286531448, 0.0034419011790305376, 0.017444578930735588, 0.004884612746536732, 9.361761476611719e-05, 0.0013522442895919085, 0.0006327163428068161, 0.0008251406834460795, 0.0011626601917669177, 0.002455511363223195, 0.0012641759822145104, 0.0010140815284103155, 0.00031160033540800214, 0.0020379717461764812, 0.00014616656699217856, 0.0009041503653861582, 0.0003846663166768849, 0.000188837104360573, 0.002777810674160719, 0.005637238267809153, 0.0003550680703483522, 0.0001427722891094163, 0.0008851668098941445, 0.0011461612302809954, 0.0003354830259922892, 0.00010591759200906381, 0.0003424699534662068, 0.0024682837538421154, 0.00013120872608851641, 0.013791489414870739, 0.00029939255909994245, 1.4798184565734118e-05, 2.885769617932965e-06, 0.0008086360176093876, 0.00023911861353553832, 6.123386265244335e-05, 1.746715497574769e-05, 0.0006231125444173813, 0.00011721493501681834, 0.00903165340423584, 0.000710616703145206, 0.0007302584708668292, 0.0002485589648131281, 8.675233402755111e-05, 0.0004334574332460761, 0.01025296188890934, 0.005777002777904272, 0.0034593376331031322, 0.0012988795060664415, 0.00018426084716338664, 0.00022959444322623312, 0.002391195623204112, 0.0016925378004088998, 0.0018307423451915383, 0.060354966670274734, 0.0014906019205227494, 0.00025579880457371473, 0.0006428363849408925, 0.0026566716842353344, 0.01186657790094614, 0.009101319126784801, 0.02795359678566456, 0.1086173802614212, 0.01337458286434412, 0.00012415419041644782, 0.00043275102507323027, 0.00018493646348360926, 0.0001897700276458636, 0.009925104677677155, 0.003805533517152071, 0.0020846084225922823, 0.0033579643350094557, 1.1668696970446035e-05, 1.4645089549958357e-06, 0.0005578409763984382, 0.00482640415430069, 0.003236645134165883, 0.0032366414088755846, 0.001031499938108027, 0.0016993546159937978, 9.941509779309854e-05, 0.000416457507526502, 0.0008040386601351202, 0.024597855284810066, 0.0006325634312815964, 0.0006478381110355258]\n"
     ]
    }
   ],
   "source": [
    "# output, x = test_model(poison_x,noisy_poison_edge_index,noisy_poison_edge_weights)\n",
    "# output_clean = torch.exp(output)\n",
    "# epsilon = 1e-8\n",
    "print(output_clean[idx_attach].argmax(dim=1))\n",
    "\n",
    "\n",
    "from torch_geometric.utils import k_hop_subgraph\n",
    "result_clean=[]\n",
    "for node_id in idx_train:\n",
    "    node_id = node_id.item()\n",
    "    subset, edge_index, mapping, edge_mask = k_hop_subgraph(node_id, 2, poison_edge_index, relabel_nodes=False)\n",
    "    loop_edges = edge_index[:, edge_index[0] == node_id]\n",
    "    non_loop_edges = edge_index[:, edge_index[0] != node_id]\n",
    "\n",
    "    selected_x = poison_x[subset]\n",
    "    \n",
    "    for i in range(loop_edges.size(1)):\n",
    "        # Current loop edge to remove\n",
    "        current_loop_edge = loop_edges[:, i]\n",
    "\n",
    "        # Find indices of the current loop edge and its reverse\n",
    "        forward_edge_mask = (edge_index[0] == current_loop_edge[0]) & (edge_index[1] == current_loop_edge[1])\n",
    "        reverse_edge_mask = (edge_index[0] == current_loop_edge[1]) & (edge_index[1] == current_loop_edge[0])\n",
    "\n",
    "        # Combine masks for forward and reverse edges\n",
    "        combined_mask = forward_edge_mask | reverse_edge_mask\n",
    "\n",
    "        # Remove both forward and reverse edges from the graph\n",
    "        modified_edge_index = edge_index[:, ~combined_mask]\n",
    "\n",
    "        edge_weights = torch.ones(modified_edge_index.size(1), dtype=torch.float, device=device)\n",
    "\n",
    "        output, x = test_model(poison_x, modified_edge_index, edge_weights)\n",
    "        output = output[node_id]\n",
    "        output = torch.exp(output)\n",
    "        output += epsilon\n",
    "        # print(output)\n",
    "        # print(output_clean[node_id])\n",
    "        deviation = F.kl_div(output.log(), output_clean[node_id], reduce=False)\n",
    "        result_clean.append(deviation.mean().item())\n",
    "        # print(deviation.mean().item())\n",
    "print(result_clean)\n"
   ]
  },
  {
   "cell_type": "code",
   "execution_count": 25,
   "metadata": {},
   "outputs": [
    {
     "name": "stdout",
     "output_type": "stream",
     "text": [
      "[0.45376014709472656, 0.23714213073253632, 0.4891679584980011, 0.8828974962234497, 0.5208219885826111, 0.3460015654563904, 0.3702331483364105, 0.6441277265548706, 0.655338704586029, 0.5486935973167419, 0.5393781661987305, 0.6124709248542786, 0.6275392770767212, 0.9869785904884338, 0.6994723081588745, 0.7249783873558044, 2.0514485836029053, 0.7043826580047607, 0.7854368090629578, 0.777312695980072, 0.37762778997421265, 0.5786334276199341, 0.45274215936660767, 0.5328803062438965, 0.6352378129959106, 0.5737479329109192, 0.45713725686073303, 0.485424667596817, 0.35803455114364624, 0.7042599320411682, 0.6717641353607178]\n"
     ]
    }
   ],
   "source": [
    "result_trigger = []\n",
    "for node_id in idx_attach:\n",
    "    node_id = node_id.item()\n",
    "    subset, edge_index, mapping, edge_mask = k_hop_subgraph(node_id, 2, poison_edge_index, relabel_nodes=False)\n",
    "    loop_edges = edge_index[:, edge_index[0] == node_id]\n",
    "    non_loop_edges = edge_index[:, edge_index[0] != node_id]\n",
    "\n",
    "    selected_x = poison_x[subset]\n",
    "    \n",
    "    for i in range(loop_edges.size(1)):\n",
    "        # Current loop edge to remove\n",
    "        current_loop_edge = loop_edges[:, i]\n",
    "\n",
    "        # Find indices of the current loop edge and its reverse\n",
    "        forward_edge_mask = (edge_index[0] == current_loop_edge[0]) & (edge_index[1] == current_loop_edge[1])\n",
    "        reverse_edge_mask = (edge_index[0] == current_loop_edge[1]) & (edge_index[1] == current_loop_edge[0])\n",
    "\n",
    "        # Combine masks for forward and reverse edges\n",
    "        combined_mask = forward_edge_mask | reverse_edge_mask\n",
    "\n",
    "        # Remove both forward and reverse edges from the graph\n",
    "        modified_edge_index = edge_index[:, ~combined_mask]\n",
    "\n",
    "        edge_weights = torch.ones(modified_edge_index.size(1), dtype=torch.float, device=device)\n",
    "\n",
    "        output, x = test_model(poison_x, modified_edge_index, edge_weights)\n",
    "        output = output[node_id]\n",
    "        output = torch.exp(output)\n",
    "        output += epsilon\n",
    "        # print(output)\n",
    "        # print(output_clean[node_id])\n",
    "        deviation = F.kl_div(output.log(), output_clean[node_id], reduce=False)\n",
    "        \n",
    "        if loop_edges[:,i][1]>len(data.x):\n",
    "            # print(loop_edges[:,i][1])\n",
    "            result_trigger.append(deviation.mean().item())\n",
    "            \n",
    "        # else:\n",
    "        # print(deviation.mean().item())\n",
    "            # result_clean.append(deviation.mean().item())\n",
    "\n",
    "        # result_trigger.append(deviation.mean().item())\n",
    "        # print(deviation.mean().item())\n",
    "print(result_trigger)"
   ]
  },
  {
   "cell_type": "code",
   "execution_count": 26,
   "metadata": {},
   "outputs": [
    {
     "data": {
      "text/plain": [
       "31"
      ]
     },
     "execution_count": 26,
     "metadata": {},
     "output_type": "execute_result"
    }
   ],
   "source": [
    "len(result_trigger)"
   ]
  },
  {
   "cell_type": "code",
   "execution_count": 27,
   "metadata": {},
   "outputs": [
    {
     "data": {
      "text/plain": [
       "tensor([0, 0, 0, 0, 0, 0, 0, 0, 0, 0, 0, 0, 0, 0, 0, 0, 0, 0, 0, 0, 0, 0, 0, 0,\n",
       "        0, 0, 0, 0, 0, 0, 0], device='cuda:2')"
      ]
     },
     "execution_count": 27,
     "metadata": {},
     "output_type": "execute_result"
    }
   ],
   "source": [
    "output_clean[idx_attach].argmax(dim=1)"
   ]
  },
  {
   "cell_type": "code",
   "execution_count": 28,
   "metadata": {},
   "outputs": [
    {
     "name": "stdout",
     "output_type": "stream",
     "text": [
      "31\n",
      "0.23714213073253632\n",
      "2.0514485836029053\n",
      "[2.0514485836029053, 0.9869785904884338, 0.8828974962234497, 0.7854368090629578, 0.777312695980072, 0.7249783873558044, 0.7043826580047607, 0.7042599320411682, 0.6994723081588745, 0.6717641353607178, 0.655338704586029, 0.6441277265548706, 0.6352378129959106, 0.6275392770767212, 0.6124709248542786, 0.5786334276199341, 0.5737479329109192, 0.5486935973167419, 0.5393781661987305, 0.5328803062438965, 0.5208219885826111, 0.4891679584980011, 0.485424667596817, 0.45713725686073303, 0.45376014709472656, 0.45274215936660767, 0.37762778997421265, 0.3702331483364105, 0.35803455114364624, 0.3460015654563904, 0.23714213073253632]\n",
      "0.23046785593032837\n",
      "[0.23046785593032837, 0.2067282348871231, 0.20392195880413055, 0.20349779725074768, 0.17345716059207916, 0.17249073088169098, 0.14042183756828308, 0.12751564383506775, 0.1248953565955162, 0.12243819981813431, 0.11736951768398285, 0.10911421477794647, 0.10886651277542114, 0.10579817742109299, 0.10339666157960892, 0.09106890857219696, 0.08715483546257019, 0.08421698957681656, 0.08306442946195602, 0.08128859847784042, 0.08044731616973877, 0.07437098026275635, 0.07330530881881714, 0.06880438327789307, 0.061366695910692215, 0.0601489320397377, 0.05622611194849014, 0.05472913756966591, 0.05438642576336861, 0.05268852785229683, 0.04917353019118309, 0.04799242690205574, 0.0468694232404232, 0.04400626942515373, 0.04385373741388321, 0.043535176664590836, 0.04345734044909477, 0.042222484946250916, 0.041703976690769196, 0.04117146134376526, 0.04101588949561119, 0.04034118354320526, 0.040311798453330994, 0.03873945400118828, 0.03870052844285965, 0.038255736231803894, 0.03808192163705826, 0.03808093070983887, 0.03714283928275108, 0.03698555752635002, 0.036506861448287964, 0.03576275706291199, 0.035208117216825485, 0.03469317778944969, 0.03451462462544441, 0.03450069576501846, 0.0336766354739666, 0.033396363258361816, 0.033300261944532394, 0.033181071281433105, 0.03307752311229706, 0.032851915806531906, 0.03281136229634285, 0.03236037492752075, 0.03233860060572624, 0.031591858714818954, 0.0315854474902153, 0.031114840880036354, 0.030948005616664886, 0.030702654272317886, 0.030579864978790283, 0.03035830706357956, 0.030322536826133728, 0.029588403180241585, 0.02894739806652069, 0.028618991374969482, 0.028158437460660934, 0.028150182217359543, 0.02800714410841465, 0.02791913039982319, 0.02728608436882496, 0.027280842885375023, 0.027253303676843643, 0.027089210227131844, 0.026621557772159576, 0.026225389912724495, 0.02608034759759903, 0.02568511851131916, 0.025354821234941483, 0.02533796988427639, 0.025137268006801605, 0.025137070566415787, 0.024393713101744652, 0.0243601743131876, 0.024310113862156868, 0.024177130311727524, 0.023959225043654442, 0.023888997733592987, 0.023747818544507027, 0.023052571341395378, 0.022769171744585037, 0.02273690328001976, 0.022561905905604362, 0.022066017612814903, 0.02157970890402794, 0.021498197689652443, 0.020998258143663406, 0.020502854138612747, 0.020323414355516434, 0.020305687561631203, 0.020155631005764008, 0.020147016271948814, 0.020006759092211723, 0.01998131349682808, 0.01966247893869877, 0.019612669944763184, 0.019524050876498222, 0.019367879256606102, 0.018805542960762978, 0.01868610829114914, 0.018682118505239487, 0.01862446777522564, 0.018607940524816513, 0.01774406060576439, 0.01768474653363228, 0.01739220693707466, 0.01725139282643795, 0.017228292301297188, 0.01718641072511673, 0.01711149513721466, 0.01710137538611889, 0.016869639977812767, 0.016754169017076492, 0.01633700728416443, 0.01627054251730442, 0.016201624646782875, 0.016090475022792816, 0.015786457806825638, 0.015780605375766754, 0.015627622604370117, 0.015576467849314213, 0.015566553920507431, 0.015398586168885231, 0.015394163317978382, 0.015370995737612247, 0.015369214117527008, 0.015348860993981361, 0.015289749950170517, 0.015148645266890526, 0.015015930868685246, 0.014914524741470814, 0.014595100656151772, 0.014576032757759094, 0.014463460072875023, 0.014446146786212921, 0.014383572153747082, 0.014236891642212868, 0.01402786374092102, 0.013839680701494217, 0.013828152790665627, 0.01361052319407463, 0.013586529530584812, 0.013479683548212051, 0.013416914269328117, 0.013416660949587822, 0.013409372419118881, 0.013299504294991493, 0.012959922663867474, 0.012886514887213707, 0.012867864221334457, 0.012811164371669292, 0.012797300703823566, 0.012538382783532143, 0.012475376017391682, 0.012342670932412148, 0.012298286892473698, 0.01228414848446846, 0.012236202135682106, 0.012077721767127514, 0.012056151404976845, 0.012000246904790401, 0.011901939287781715, 0.01188875176012516, 0.011838491074740887, 0.011813641525804996, 0.011801830492913723, 0.011621410958468914, 0.011485783383250237, 0.011450003832578659, 0.011364108882844448, 0.01134079322218895, 0.011246924288570881, 0.011194752529263496, 0.011170465499162674, 0.01106736995279789, 0.010937138460576534, 0.010846506804227829, 0.010783609002828598, 0.010599629022181034, 0.010553376749157906, 0.010431868024170399, 0.010407011024653912, 0.01037516724318266, 0.010307278484106064, 0.010169516317546368, 0.00994699727743864, 0.009918611496686935, 0.009915669448673725, 0.009905720129609108, 0.00987651851028204, 0.009864884428679943, 0.009843270294368267, 0.009755137376487255, 0.00953336339443922, 0.009526517242193222, 0.009508879855275154, 0.009491688571870327, 0.009459996595978737, 0.00939812883734703, 0.009372306987643242, 0.009340757504105568, 0.00922970287501812, 0.009194529615342617, 0.009173793718218803, 0.00915139727294445, 0.00914763379842043, 0.009130018763244152, 0.009128889068961143, 0.009122518822550774, 0.009064167737960815, 0.00899988692253828, 0.008969185873866081, 0.008952583186328411, 0.008878782391548157, 0.0087971156463027, 0.008752075955271721, 0.008737391792237759, 0.00868494063615799, 0.00862937793135643, 0.008518747054040432, 0.00843710359185934, 0.008426335640251637, 0.008358940482139587, 0.008351094089448452, 0.008306150324642658, 0.008261476643383503, 0.008192931301891804, 0.008022662252187729, 0.007925853133201599, 0.007849429734051228, 0.007832540199160576, 0.00776645727455616, 0.007733507081866264, 0.007641168776899576, 0.007581849582493305, 0.007562445476651192, 0.007498634047806263, 0.007495236583054066, 0.007429136894643307, 0.007423056289553642, 0.0073733641766011715, 0.007359528448432684, 0.007268258836120367, 0.007223157677799463, 0.0071833510883152485, 0.0071426741778850555, 0.007061540149152279, 0.006890921853482723, 0.006872332654893398, 0.006843657232820988, 0.006840524263679981, 0.006805856712162495, 0.006786839570850134, 0.00677067693322897, 0.006701401434838772, 0.006701047532260418, 0.006700318306684494, 0.006633298937231302, 0.006624817382544279, 0.006616191938519478, 0.006595132872462273, 0.006594168022274971, 0.0065648239105939865, 0.006560908630490303, 0.006502201780676842, 0.006499151233583689, 0.00649690767750144, 0.006449292413890362, 0.006424112245440483, 0.006386809516698122, 0.006386804860085249, 0.006372619885951281, 0.00633489852771163, 0.00633448688313365, 0.006277857348322868, 0.0062509458512067795, 0.00623960280790925, 0.006200545933097601, 0.0061733010224998, 0.006160820368677378, 0.006152553483843803, 0.006099597085267305, 0.006054106634110212, 0.00603863038122654, 0.006009136326611042, 0.005982064176350832, 0.005968855228275061, 0.005945810582488775, 0.005944640841335058, 0.0058301170356571674, 0.005814423784613609, 0.005808272864669561, 0.005794145632535219, 0.005793913267552853, 0.005772769916802645, 0.005770830437541008, 0.005759780295193195, 0.005712541751563549, 0.0057096718810498714, 0.005668871570378542, 0.005666275974363089, 0.005631570238620043, 0.005629624705761671, 0.005585425067692995, 0.00553941959515214, 0.005532051902264357, 0.005521438550204039, 0.00550005491822958, 0.005493911448866129, 0.005462239030748606, 0.005460774526000023, 0.005412079859524965, 0.005368067882955074, 0.005337240640074015, 0.005331427790224552, 0.005328310653567314, 0.005313694942742586, 0.005305930506438017, 0.00530193792656064, 0.005296314600855112, 0.005284405313432217, 0.005265339277684689, 0.0052248332649469376, 0.005190893076360226, 0.0051492913626134396, 0.005128516815602779, 0.005094468593597412, 0.005088509526103735, 0.005071647465229034, 0.005014798603951931, 0.004913861397653818, 0.0049043395556509495, 0.004864105489104986, 0.00485593406483531, 0.004855639301240444, 0.004848022945225239, 0.004846123978495598, 0.004837540909647942, 0.004787692334502935, 0.004785871133208275, 0.004770253784954548, 0.004755045287311077, 0.004706974606961012, 0.004706770181655884, 0.004695628769695759, 0.004686318337917328, 0.004669973161071539, 0.004666396416723728, 0.004644063767045736, 0.004642757121473551, 0.0046292501501739025, 0.004622615873813629, 0.0046120937913656235, 0.004571834113448858, 0.004568883683532476, 0.004561251029372215, 0.004547358490526676, 0.004534164909273386, 0.00452178530395031, 0.004506375174969435, 0.004486182238906622, 0.004438108764588833, 0.00435038423165679, 0.004339045844972134, 0.00432016234844923, 0.004303121007978916, 0.004295466002076864, 0.00427871523424983, 0.004260013345628977, 0.004236547742038965, 0.004233923740684986, 0.004212871193885803, 0.004212336149066687, 0.004156042821705341, 0.004108434543013573, 0.0041046771220862865, 0.004067936912178993, 0.0040629105642437935, 0.004047635477036238, 0.004027186892926693, 0.004016232676804066, 0.004005007445812225, 0.003983085975050926, 0.003982543013989925, 0.003969477489590645, 0.003933056257665157, 0.0039146663621068, 0.0038914219476282597, 0.003884692443534732, 0.0038617197424173355, 0.0038498679641634226, 0.0038450579158961773, 0.003834874602034688, 0.0038205329328775406, 0.003817913355305791, 0.0038130979519337416, 0.0038110471796244383, 0.003759752493351698, 0.0037368994671851397, 0.0037362296134233475, 0.003720690729096532, 0.0036933051887899637, 0.0036931922659277916, 0.003668528748676181, 0.0036670705303549767, 0.003647199831902981, 0.00364150432869792, 0.003641317132860422, 0.003637312212958932, 0.0036242585629224777, 0.0035827700048685074, 0.0035529343876987696, 0.0035469341091811657, 0.003538271877914667, 0.0035342341288924217, 0.003534086514264345, 0.003529306733980775, 0.0035079463850706816, 0.0035007635597139597, 0.003491050098091364, 0.0034779971465468407, 0.0034769850317388773, 0.003467002185061574, 0.0034565224777907133, 0.0034377353731542826, 0.0034338547848165035, 0.0034292053896933794, 0.00342875299975276, 0.0034015404526144266, 0.003398631000891328, 0.003394913161173463, 0.0033944454044103622, 0.0033858702518045902, 0.0033858702518045902, 0.003331930609419942, 0.003331767162308097, 0.003327547572553158, 0.0033241489436477423, 0.0033212988637387753, 0.0033211868721991777, 0.003317194990813732, 0.0033167260698974133, 0.0032969703897833824, 0.003289963351562619, 0.003289406653493643, 0.0032739120069891214, 0.0032614225056022406, 0.0032541423570364714, 0.0032455571927130222, 0.00324505427852273, 0.00324505427852273, 0.0032438498456031084, 0.0032221542205661535, 0.003220432670786977, 0.0032150300685316324, 0.003197492565959692, 0.0031952508725225925, 0.0031877325382083654, 0.003168686293065548, 0.003168276511132717, 0.0031485133804380894, 0.0031351069919764996, 0.003129655960947275, 0.0031221446115523577, 0.0031163091771304607, 0.0031097112223505974, 0.003054691245779395, 0.0030463621951639652, 0.0030457975808531046, 0.0030366098508238792, 0.0030082897283136845, 0.003002784214913845, 0.0029899501241743565, 0.002986951731145382, 0.0029802999924868345, 0.0029670896474272013, 0.00295505253598094, 0.0029526071157306433, 0.002948442939668894, 0.002940309001132846, 0.0029247270431369543, 0.0028829292859882116, 0.002845301292836666, 0.002844060305505991, 0.0028359289281070232, 0.002830757759511471, 0.002829417120665312, 0.002818223787471652, 0.002818073146045208, 0.0027998520527035, 0.0027954147662967443, 0.0027923835441470146, 0.002789716701954603, 0.0027666802052408457, 0.0027328296564519405, 0.0026842805091291666, 0.002672421745955944, 0.0026650724466890097, 0.002663565566763282, 0.0025981836952269077, 0.002588520757853985, 0.002567126415669918, 0.002563806716352701, 0.0025626954156905413, 0.002557063940912485, 0.0025464585050940514, 0.002545570721849799, 0.0025397748686373234, 0.0025185230188071728, 0.0025123460218310356, 0.002507530152797699, 0.002501901937648654, 0.002486688317731023, 0.0024709042627364397, 0.0024672087747603655, 0.0024664471857249737, 0.0024541872553527355, 0.002452603541314602, 0.00244736997410655, 0.0024397149682044983, 0.002436506561934948, 0.0024336236529052258, 0.0024331314489245415, 0.002423075959086418, 0.002422997495159507, 0.0024179304018616676, 0.002417461248114705, 0.002408638596534729, 0.002391448710113764, 0.0023666482884436846, 0.002338060876354575, 0.0023247653152793646, 0.002319793915376067, 0.0022972244769334793, 0.0022972244769334793, 0.0022771023213863373, 0.0022748110350221395, 0.0022514283191412687, 0.002235227497294545, 0.002230662852525711, 0.0022232586052268744, 0.002222931943833828, 0.0022044875659048557, 0.0021927007474005222, 0.0021914516109973192, 0.0021801614202558994, 0.0021659566555172205, 0.0021478496491909027, 0.002142970683053136, 0.0021423399448394775, 0.002137403469532728, 0.0021283812820911407, 0.0021248727571219206, 0.0021182901691645384, 0.0021138163283467293, 0.002091772388666868, 0.0020736262667924166, 0.002068416913971305, 0.0020526601001620293, 0.002052144380286336, 0.002046333160251379, 0.0020406886469572783, 0.002023951383307576, 0.0020232191309332848, 0.0020174456294625998, 0.0020163257140666246, 0.002012995770201087, 0.0020053512416779995, 0.0020030841697007418, 0.0019947197288274765, 0.00199320656247437, 0.0019870444666594267, 0.0019796842243522406, 0.0019680100958794355, 0.0019646589644253254, 0.0019597657956182957, 0.0019595613703131676, 0.0019581688102334738, 0.0019554481841623783, 0.001955325249582529, 0.0019167379941791296, 0.001911128289066255, 0.0018997607985511422, 0.0018955044215545058, 0.0018937606364488602, 0.0018873449880629778, 0.0018792788032442331, 0.0018715295009315014, 0.0018528138753026724, 0.0018524003680795431, 0.0018364505376666784, 0.0018250389257445931, 0.0018235549796372652, 0.0018185005756095052, 0.001815957948565483, 0.0018151701660826802, 0.0018029191996902227, 0.0018027478363364935, 0.0018025834579020739, 0.0017925070133060217, 0.001791883842088282, 0.00177871307823807, 0.001771610346622765, 0.0017603165470063686, 0.001748011913150549, 0.001739385537803173, 0.0017228154465556145, 0.0017213423270732164, 0.001719699939712882, 0.0017162360018119216, 0.0017146649770438671, 0.0017145894235000014, 0.001711104647256434, 0.0017062873812392354, 0.0017048738664016128, 0.0016940200002864003, 0.0016903681680560112, 0.0016902005299925804, 0.0016894149594008923, 0.0016758341807872057, 0.0016699631232768297, 0.0016660679830238223, 0.0016517193289473653, 0.0016510204877704382, 0.001647541648708284, 0.001637565321289003, 0.001626760931685567, 0.0016254219226539135, 0.0016207419103011489, 0.0015955839771777391, 0.0015950097003951669, 0.0015943360049277544, 0.0015943316975608468, 0.0015740644885227084, 0.0015706622507423162, 0.0015695742331445217, 0.0015594997676089406, 0.0015591926639899611, 0.001559164491482079, 0.0015524046029895544, 0.0015354242641478777, 0.0015329120215028524, 0.0015321337850764394, 0.0015255189500749111, 0.0015164013020694256, 0.0015158148016780615, 0.0015158108435571194, 0.0015094515401870012, 0.0015093408292159438, 0.0015044292667880654, 0.0014950179029256105, 0.001493928488343954, 0.0014902460388839245, 0.0014898341614753008, 0.0014849303988739848, 0.0014806006802245975, 0.0014789706328883767, 0.0014748753746971488, 0.0014654252445325255, 0.0014609460486099124, 0.0014544822042807937, 0.001451844465918839, 0.0014442844549193978, 0.001435792655684054, 0.0014314790023490787, 0.0014311294071376324, 0.0014290357939898968, 0.0014215601840987802, 0.00141962303314358, 0.0014132296200841665, 0.0014100895496085286, 0.0013861928600817919, 0.0013822701293975115, 0.0013803282054141164, 0.0013774250401183963, 0.001374155399389565, 0.0013524872483685613, 0.0013477824395522475, 0.0013295103562995791, 0.00132653652690351, 0.0013261704007163644, 0.0013238689862191677, 0.0013197165681049228, 0.0013126055710017681, 0.0013102000812068582, 0.0013062049401924014, 0.0013059846824035048, 0.0012999542523175478, 0.0012965686619281769, 0.0012879888527095318, 0.001280584605410695, 0.0012796100927516818, 0.0012707710266113281, 0.001265954808332026, 0.001265823608264327, 0.0012626579264178872, 0.0012516952119767666, 0.0012446067994460464, 0.0012414262164384127, 0.0012397029204294086, 0.0012361921835690737, 0.0012296598870307207, 0.0012236301554366946, 0.0012202274519950151, 0.0012189853005111217, 0.0012144159991294146, 0.001209289999678731, 0.001205258071422577, 0.0012045040493831038, 0.0012041203444823623, 0.0012009195052087307, 0.0012000687420368195, 0.0011999112321063876, 0.0011971114436164498, 0.0011965797748416662, 0.001192927942611277, 0.0011911712354049087, 0.0011907544685527682, 0.0011895073112100363, 0.0011575048556551337, 0.0011556342942640185, 0.0011547389440238476, 0.0011516509111970663, 0.0011447523720562458, 0.0011444923002272844, 0.0011420495575293899, 0.0011401602532714605, 0.00113220838829875, 0.0011289258254691958, 0.0011250091483816504, 0.0011202222667634487, 0.0011196924606338143, 0.0011192720849066973, 0.0011179707944393158, 0.0011140190763399005, 0.0011070488253608346, 0.0011015553027391434, 0.001098346314392984, 0.001095631392672658, 0.001095070387236774, 0.0010885825613513589, 0.001082260743714869, 0.0010813371045514941, 0.0010747521882876754, 0.0010738533455878496, 0.0010674980003386736, 0.0010658627143129706, 0.0010635757353156805, 0.001060525537468493, 0.001060310285538435, 0.001056318636983633, 0.0010544013930484653, 0.001049444661475718, 0.001047890866175294, 0.0010344530455768108, 0.001031948602758348, 0.001020354451611638, 0.001013954053632915, 0.0010135986376553774, 0.0010028108954429626, 0.0010013700230047107, 0.0010001499904319644, 0.0009953975677490234, 0.0009923912584781647, 0.0009870021604001522, 0.0009855559328570962, 0.0009820882696658373, 0.0009809028124436736, 0.0009754422935657203, 0.0009704898111522198, 0.0009677099296823144, 0.0009652964654378593, 0.0009574709692969918, 0.0009568541427142918, 0.0009501843014732003, 0.0009487385977990925, 0.0009408025653101504, 0.0009375396184623241, 0.0009340409887954593, 0.0009307779255323112, 0.0009234380559064448, 0.0009221003856509924, 0.0009214316960424185, 0.0009180536726489663, 0.0009150803671218455, 0.0009134688880294561, 0.0009130548569373786, 0.000911964918486774, 0.0008998223347589374, 0.0008984679589048028, 0.0008969871560111642, 0.0008934260113164783, 0.0008907201699912548, 0.0008876898791640997, 0.0008851534803397954, 0.0008821019437164068, 0.0008799460483714938, 0.0008766917744651437, 0.0008743635844439268, 0.0008718318422324955, 0.000871114491019398, 0.0008654025150462985, 0.0008539666887372732, 0.0008485887083224952, 0.0008468479500152171, 0.0008431274327449501, 0.0008407969726249576, 0.0008360424544662237, 0.0008292336715385318, 0.0008288502576760948, 0.0008262271294370294, 0.0008212021202780306, 0.0008212021202780306, 0.0008197932620532811, 0.0008185431943275034, 0.0008183064637705684, 0.0008169015054591, 0.0008154468960128725, 0.0008134756935760379, 0.0008127785404212773, 0.0008120587444864213, 0.0008091565105132759, 0.0008078816463239491, 0.0008077100501395762, 0.0008067840244621038, 0.0008051422191783786, 0.0008012650068849325, 0.0008007653523236513, 0.0007932871812954545, 0.000792401609942317, 0.0007903160876594484, 0.0007886812672950327, 0.0007680718554183841, 0.0007647558231838048, 0.0007624865975230932, 0.0007598650408908725, 0.0007536698831245303, 0.0007510440773330629, 0.0007497469196096063, 0.000741140975151211, 0.0007389254751615226, 0.0007378917071036994, 0.0007376732537522912, 0.0007355085690505803, 0.000733097258489579, 0.0007302878657355905, 0.0007295217947103083, 0.0007288250490091741, 0.0007251863135024905, 0.0007216281373985112, 0.0007167775765992701, 0.0007164838025346398, 0.0007143478724174201, 0.0007124685798771679, 0.0007095432956703007, 0.0007065175450406969, 0.0007041991339065135, 0.0007041147327981889, 0.0007008968968875706, 0.0007007606909610331, 0.000698614923749119, 0.0006935119163244963, 0.0006904733018018305, 0.0006800366099923849, 0.0006798027316108346, 0.0006786506855860353, 0.0006780911353416741, 0.0006745160208083689, 0.0006719136144965887, 0.0006636807229369879, 0.0006596361054107547, 0.0006590686971321702, 0.0006583648500964046, 0.0006572080310434103, 0.0006542940391227603, 0.0006495287525467575, 0.0006494682165794075, 0.0006446884945034981, 0.0006443869788199663, 0.0006438267882913351, 0.0006418635603040457, 0.0006387177854776382, 0.0006382169085554779, 0.000637497752904892, 0.0006349066970869899, 0.0006338474340736866, 0.0006325496360659599, 0.0006270616431720555, 0.0006256817141547799, 0.000623854692094028, 0.0006235007895156741, 0.0006232570740394294, 0.0006201730575412512, 0.0006194071611389518, 0.0006181616336107254, 0.0006168346735648811, 0.0006146654486656189, 0.0006078774458728731, 0.0006038240971975029, 0.0006017312407493591, 0.0006003704620525241, 0.0005968367913737893, 0.0005941870040260255, 0.0005889385938644409, 0.000588859838899225, 0.0005885346909053624, 0.0005818781210109591, 0.0005768777336925268, 0.0005693946732208133, 0.0005602091550827026, 0.0005575722316280007, 0.0005553715745918453, 0.0005552561488002539, 0.0005547191831283271, 0.0005535355885513127, 0.000541219487786293, 0.000539597705937922, 0.0005392993916757405, 0.0005374058964662254, 0.0005361271323636174, 0.0005356494220905006, 0.0005346729885786772, 0.0005330170970410109, 0.0005303658545017242, 0.0005302594508975744, 0.0005300109041854739, 0.0005274061113595963, 0.0005269577959552407, 0.0005258189048618078, 0.0005247876979410648, 0.0005236560828052461, 0.0005223876214586198, 0.0005217175930738449, 0.0005160578293725848, 0.0005149400094524026, 0.0005143082817085087, 0.0005139868590049446, 0.0005104371812194586, 0.000510050798766315, 0.0005059077520854771, 0.0005058678216300905, 0.0005054133362136781, 0.0005035767680965364, 0.0005035310168750584, 0.0005032734479755163, 0.0005028449813835323, 0.0005007777363061905, 0.0004972215974703431, 0.000494304287713021, 0.000492916617076844, 0.0004927950212731957, 0.0004907989059574902, 0.00048810546286404133, 0.00048415790661238134, 0.00048292602878063917, 0.0004826092626899481, 0.00047891243593767285, 0.00047796222497709095, 0.00047667979379184544, 0.00047649338375777006, 0.00047637283569201827, 0.00047429479309357703, 0.00047014656593091786, 0.0004690063651651144, 0.0004617846861947328, 0.00046175348688848317, 0.0004580173990689218, 0.00045788049465045333, 0.0004560221277642995, 0.0004544673429336399, 0.0004540410591289401, 0.0004538872744888067, 0.0004519580979831517, 0.00045117444824427366, 0.0004486666584853083, 0.00044773388071917, 0.0004474700544960797, 0.0004472607688512653, 0.0004449119733180851, 0.0004371911636553705, 0.00043494097189977765, 0.0004337046993896365, 0.0004325723566580564, 0.0004296736733522266, 0.0004288305644877255, 0.000426932645495981, 0.0004267974873073399, 0.000425768899731338, 0.0004249369667377323, 0.00042352135642431676, 0.000422642711782828, 0.000422509154304862, 0.0004204544529784471, 0.00041871919529512525, 0.0004182737902738154, 0.0004157847142778337, 0.00041425268864259124, 0.00041386272641830146, 0.00041302473982796073, 0.00040951845585368574, 0.0004084908578079194, 0.00040789376362226903, 0.0004060925857629627, 0.00040601700311526656, 0.00040570649434812367, 0.00040541126509197056, 0.00040466751670464873, 0.00040451332461088896, 0.0004037879698444158, 0.0004006297094747424, 0.0004001057823188603, 0.00039691585698165, 0.0003933305270038545, 0.00039290051790885627, 0.0003903279430232942, 0.0003897130081895739, 0.0003894301480613649, 0.0003889103536494076, 0.00038634773227386177, 0.0003856708062812686, 0.0003842458827421069, 0.00038324936758726835, 0.00038309808587655425, 0.00038309808587655425, 0.00038304607733152807, 0.0003814770607277751, 0.0003810868365690112, 0.00037589605199173093, 0.0003755553043447435, 0.0003655020846053958, 0.0003623739175964147, 0.0003615857276599854, 0.0003595442685764283, 0.00035708665382117033, 0.00035650472273118794, 0.00035057112108916044, 0.0003502563340589404, 0.0003471151285339147, 0.00034559148480184376, 0.00034393745590932667, 0.00034374758251942694, 0.0003436835831962526, 0.0003435327089391649, 0.0003419186105020344, 0.00034066743683069944, 0.00033953835372813046, 0.00033953701495192945, 0.000339082267601043, 0.0003382643626537174, 0.00033549233921803534, 0.000333630625391379, 0.0003327468584757298, 0.0003326689766254276, 0.0003323486016597599, 0.0003266097919549793, 0.00032655682298354805, 0.0003254695038776845, 0.0003245829720981419, 0.00032327271765097976, 0.00032175041269510984, 0.0003208642010577023, 0.00031980607309378684, 0.000318556500133127, 0.00031760550336912274, 0.00031699083046987653, 0.0003147567040286958, 0.0003140938060823828, 0.0003140399930998683, 0.00031052224221639335, 0.00030968181090429425, 0.00030852723284624517, 0.00030653219437226653, 0.00030575759592466056, 0.0003002797020599246, 0.0003000936994794756, 0.00029924101545475423, 0.00029894631006754935, 0.00029562070267274976, 0.00029296084539964795, 0.00029295191052369773, 0.0002922647399827838, 0.00028898866730742157, 0.0002887217269744724, 0.0002866819850169122, 0.0002865128917619586, 0.00028632409521378577, 0.00028548549744300544, 0.0002847141004167497, 0.00028275593649595976, 0.00028045239741913974, 0.0002795620239339769, 0.0002791838487610221, 0.0002776544133666903, 0.0002766754478216171, 0.0002749599516391754, 0.0002704278740566224, 0.00027033581864088774, 0.0002686586230993271, 0.0002676923177205026, 0.0002673311100807041, 0.0002660597092472017, 0.000264808681095019, 0.0002642165054567158, 0.00026382014038972557, 0.0002624095941428095, 0.0002609749499242753, 0.00026041269302368164, 0.0002596172271296382, 0.00025781962904147804, 0.0002576613042037934, 0.00025564327370375395, 0.00025549964630044997, 0.0002542633155826479, 0.0002535352832637727, 0.00025312043726444244, 0.00025276310043409467, 0.0002517881221137941, 0.0002492678468115628, 0.0002491174964234233, 0.00024810913600958884, 0.0002477456582710147, 0.0002474210341461003, 0.00024649608531035483, 0.00024579893215559423, 0.0002452838234603405, 0.00024441845016554, 0.00024388491874560714, 0.0002434615744277835, 0.00024305125407408923, 0.0002416945790173486, 0.00024135306011885405, 0.00024108064826577902, 0.00024055264657363296, 0.00023901250096969306, 0.00023883042740635574, 0.00023831959697417915, 0.00023764825891703367, 0.00023619405692443252, 0.00023572094505652785, 0.00023461254022549838, 0.00023427780251950026, 0.00023367602261714637, 0.00023361615603789687, 0.00023323058849200606, 0.00023272082034964114, 0.00023249724472407252, 0.00023243736359290779, 0.00023064709967002273, 0.00022990669822320342, 0.00022982487280387431, 0.0002294049772899598, 0.00022891696426086128, 0.00022852927213534713, 0.0002280138578498736, 0.00022766740585211664, 0.00022595762857235968, 0.00022574554895982146, 0.00022546149557456374, 0.00022440777684096247, 0.00022353146050591022, 0.00022187817376106977, 0.00022164035181049258, 0.00022113590966910124, 0.0002175590198021382, 0.00021621586347464472, 0.00021606685186270624, 0.00021387058950494975, 0.00021357003424782306, 0.0002125177124980837, 0.00021229631965979934, 0.0002089820773107931, 0.00020814688468817621, 0.00020811274589505047, 0.00020788024994544685, 0.00020695877901744097, 0.0002050954644801095, 0.00020474941993597895, 0.00020319090981502086, 0.00020312199194449931, 0.00020292428962420672, 0.00020283248159103096, 0.00020040279196109623, 0.0001996564824366942, 0.00019801808230113238, 0.00019732776854652911, 0.00019663413695525378, 0.0001957113272510469, 0.00019543884263839573, 0.00019421383331064135, 0.00019296232494525611, 0.00019256345694884658, 0.000192203966435045, 0.00019019510364159942, 0.0001901374344015494, 0.00019002813496626914, 0.00018780013488139957, 0.0001876878523034975, 0.00018664902017917484, 0.00018607852689456195, 0.00018569541862234473, 0.00018491969967726618, 0.00018491064838599414, 0.00018403466674499214, 0.00018364151765126735, 0.00018360852845944464, 0.00018281863594893366, 0.0001812194095691666, 0.0001810763933463022, 0.00018004329467657954, 0.0001773304829839617, 0.0001761211606208235, 0.00017466951976530254, 0.00017101345292758197, 0.00017027977446559817, 0.0001698532869340852, 0.00016981150838546455, 0.00016974977916106582, 0.00016752637748140842, 0.0001672219077590853, 0.0001660091947996989, 0.00016528661944903433, 0.00016515642346348614, 0.00016380181477870792, 0.00016237011004704982, 0.0001621822448214516, 0.0001613393978914246, 0.0001598810777068138, 0.00015935595729388297, 0.00015928303764667362, 0.00015770152094773948, 0.00015663742669858038, 0.000156189184053801, 0.00015615233860444278, 0.00015517830615863204, 0.000154031440615654, 0.0001538668730063364, 0.00015318713849410415, 0.0001531541347503662, 0.0001529407309135422, 0.00015168132085818797, 0.00015123894263524562, 0.0001503505918662995, 0.0001497363846283406, 0.00014931149780750275, 0.0001492336014052853, 0.00014888355508446693, 0.00014719793398398906, 0.00014702457701787353, 0.00014698173617944121, 0.00014665271737612784, 0.0001462767249904573, 0.00014592554362025112, 0.0001453565782867372, 0.0001450562267564237, 0.00014329116675071418, 0.0001429255644325167, 0.00014288697275333107, 0.00014224635378923267, 0.00014067688607610762, 0.00013906508684158325, 0.0001388963864883408, 0.0001383461058139801, 0.00013778399443253875, 0.00013673253124579787, 0.00013433690764941275, 0.00013325270265340805, 0.00013276124082040042, 0.0001320190349360928, 0.00013034285802859813, 0.00012981479812879115, 0.000129480758914724, 0.00012856123794335872, 0.0001281832519453019, 0.00012774221249856055, 0.0001268414780497551, 0.0001266411127289757, 0.000125483755255118, 0.00012497391435317695, 0.00012317384243942797, 0.0001224047300638631, 0.00012196813622722402, 0.00012156580487499014, 0.00012073639663867652, 0.00012039952707709745, 0.0001200190163217485, 0.00011937200906686485, 0.00011930242908420041, 0.00011690786050166935, 0.00011548613110790029, 0.00011409257422201335, 0.00011400240327930078, 0.00011363386875018477, 0.00011332020949339494, 0.00011133456428069621, 0.00011088806058978662, 0.00011082938726758584, 0.00011071775952586904, 0.00011050063039874658, 0.00011023812839994207, 0.00010937186743831262, 0.00010885192023124546, 0.00010778542491607368, 0.00010761393059510738, 0.00010757547715911642, 0.00010699134145397693, 0.00010601231770124286, 0.00010580383968772367, 0.00010418929014122114, 0.00010411521361675113, 0.00010369603842264041, 0.0001032512154779397, 0.00010239060793537647, 0.00010234064393443987, 0.00010124847176484764, 0.00010118341015186161, 0.00010113232565345243, 0.00010044933151220903, 9.976188448490575e-05, 9.940472227754071e-05, 9.900917211780325e-05, 9.759023669175804e-05, 9.69262036960572e-05, 9.672556916484609e-05, 9.590334229869768e-05, 9.449651406612247e-05, 9.37671575229615e-05, 9.371845953864977e-05, 9.137658344116062e-05, 9.070230589713901e-05, 9.056234557647258e-05, 9.042131569003686e-05, 8.974770025815815e-05, 8.897696534404531e-05, 8.86277193785645e-05, 8.852354221744463e-05, 8.625936607131734e-05, 8.57658960740082e-05, 8.57617415022105e-05, 8.501987758791074e-05, 8.436878124484792e-05, 8.285192598123103e-05, 8.22163638076745e-05, 8.217877621063963e-05, 8.142753358697519e-05, 8.123168663587421e-05, 7.966831617522985e-05, 7.96006788732484e-05, 7.94955703895539e-05, 7.916188769740984e-05, 7.763844769215211e-05, 7.710107456659898e-05, 7.681894931010902e-05, 7.6711927249562e-05, 7.658186223125085e-05, 7.63067218940705e-05, 7.61829869588837e-05, 7.590225868625566e-05, 7.583077967865393e-05, 7.521142106270418e-05, 7.460825145244598e-05, 7.45971774449572e-05, 7.432207348756492e-05, 7.323126192204654e-05, 7.293240923900157e-05, 7.256067328853533e-05, 7.23895791452378e-05, 7.223551074275747e-05, 7.207266025943682e-05, 7.157932850532234e-05, 6.889326323289424e-05, 6.866535113658756e-05, 6.85671329847537e-05, 6.815126107539982e-05, 6.686896085739136e-05, 6.661085353698581e-05, 6.499201845144853e-05, 6.48092755000107e-05, 6.40924263279885e-05, 6.341988046187907e-05, 6.327991286525503e-05, 6.227102130651474e-05, 6.162628415040672e-05, 6.144912913441658e-05, 6.133264832897112e-05, 6.077505531720817e-05, 5.9101468650624156e-05, 5.861707904841751e-05, 5.849251465406269e-05, 5.833059913129546e-05, 5.7510234910296276e-05, 5.742109351558611e-05, 5.7081826525973156e-05, 5.680722097167745e-05, 5.646781937684864e-05, 5.6374617997789755e-05, 5.60398111701943e-05, 5.588521162280813e-05, 5.5289565352723e-05, 5.4997926781652495e-05, 5.497611709870398e-05, 5.46897244930733e-05, 5.397244240157306e-05, 5.3535084589384496e-05, 5.3417337767314166e-05, 5.341720680007711e-05, 5.219118611421436e-05, 5.2037983550690114e-05, 5.1498580432962626e-05, 5.089254045742564e-05, 4.9546364607522264e-05, 4.9477312131784856e-05, 4.9401875003241e-05, 4.9294907512376085e-05, 4.865807932219468e-05, 4.77675384900067e-05, 4.643481588573195e-05, 4.643446663976647e-05, 4.60451228718739e-05, 4.549337973003276e-05, 4.423227073857561e-05, 4.380436075734906e-05, 4.295539474696852e-05, 4.293224264984019e-05, 4.2630759708117694e-05, 4.2242267227265984e-05, 4.191276821075007e-05, 4.1837938624667004e-05, 4.0265167626785114e-05, 4.006054223282263e-05, 3.985242437920533e-05, 3.984411159763113e-05, 3.949300298700109e-05, 3.934633423341438e-05, 3.928178921341896e-05, 3.8855825550854206e-05, 3.854963870253414e-05, 3.825474050245248e-05, 3.765683140954934e-05, 3.7081274058436975e-05, 3.6492612707661465e-05, 3.6389799788594246e-05, 3.600573108997196e-05, 3.569699765648693e-05, 3.4814303944585845e-05, 3.3514443202875555e-05, 3.3235843147849664e-05, 3.3036008971976116e-05, 3.261438541812822e-05, 3.239159923396073e-05, 3.0772131140111014e-05, 3.075493441428989e-05, 3.0694798624608666e-05, 3.06419788103085e-05, 3.055483102798462e-05, 3.032253334822599e-05, 2.9906897907494567e-05, 2.9843302399967797e-05, 2.9721564715146087e-05, 2.9689168513868935e-05, 2.9462258680723608e-05, 2.9288034056662582e-05, 2.921645500464365e-05, 2.916042649303563e-05, 2.9153325158404186e-05, 2.880853571696207e-05, 2.871806464099791e-05, 2.7900296117877588e-05, 2.733578185143415e-05, 2.7071286240243353e-05, 2.548857082729228e-05, 2.5402756364201196e-05, 2.4178998501156457e-05, 2.3989374312805012e-05, 2.388549728493672e-05, 2.3874456019257195e-05, 2.382948514423333e-05, 2.366477383475285e-05, 2.343633423151914e-05, 2.2994589016889222e-05, 2.2212045223568566e-05, 2.030403084063437e-05, 2.0182425942039117e-05, 1.972584504983388e-05, 1.950668593053706e-05, 1.9224893549107946e-05, 1.9183382391929626e-05, 1.8829945474863052e-05, 1.8600641851662658e-05, 1.8433935110806488e-05, 1.8356635337113403e-05, 1.8250197172164917e-05, 1.8224271116196178e-05, 1.7844973626779392e-05, 1.772067480487749e-05, 1.7555164959048852e-05, 1.7459571608924307e-05, 1.7177846530103125e-05, 1.7030833987519145e-05, 1.6879690519999713e-05, 1.6189580492209643e-05, 1.5917368727969006e-05, 1.5619310943293385e-05, 1.5504525435972027e-05, 1.5177631212281995e-05, 1.5164692740654573e-05, 1.5161599549173843e-05, 1.5081040146469604e-05, 1.5027356312202755e-05, 1.4622030903410632e-05, 1.440223877580138e-05, 1.4187469787430018e-05, 1.4060842659091577e-05, 1.3992856111144647e-05, 1.3940037206339184e-05, 1.3791823221254162e-05, 1.3414679415291175e-05, 1.3394414963840973e-05, 1.3054881492280401e-05, 1.272875215363456e-05, 1.189964223158313e-05, 1.1756351341318805e-05, 1.1709243153745774e-05, 1.123388392443303e-05, 1.0780487173178699e-05, 1.049088405125076e-05, 1.015770249068737e-05, 9.952645996236242e-06, 9.503519322606735e-06, 8.924665053200442e-06, 7.582828857266577e-06, 7.563137842225842e-06, 6.377855243044905e-06, 6.319456133496715e-06, 6.291450063145021e-06, 6.046944690751843e-06, 6.03523676545592e-06, 5.534085175895598e-06, 5.4655251915392e-06, 4.985403393220622e-06, 4.964249001204735e-06, 4.881394488620572e-06, 4.589025593304541e-06, 4.524660653260071e-06, 4.359188551461557e-06, 4.067152531206375e-06, 3.930015282094246e-06, 3.6206497497914825e-06, 3.4558388506411575e-06, 3.4549407246231567e-06, 3.349435246491339e-06, 3.1981285246729385e-06, 3.0735641303181183e-06, 3.0645212518720655e-06, 2.946771246570279e-06, 2.9035977604507934e-06, 2.822705710059381e-06, 2.820148893079022e-06, 2.692894440770033e-06, 2.6777354378282325e-06, 2.5723297767399345e-06, 2.4179296360671287e-06, 2.0943450635968475e-06, 2.0935467546223663e-06, 1.8931460772364517e-06, 1.4128205521046766e-06, 1.2083370393156656e-06, 1.2030027392029297e-06, 1.0107594334840542e-06, 9.62588501352002e-07, 8.451087296634796e-07, 8.135685334309528e-07, 4.349276707671379e-07, 4.1606838863117446e-07, 3.698930584050686e-07, 3.091772668994963e-07, 2.5407319981241017e-07, 2.3204991350667115e-07, 1.9809418461136374e-07, 1.819498436361755e-07, 1.8005043500579632e-07, 1.7895673920520494e-07, 1.6970781757663644e-07, 1.6299951255405176e-07, 1.6212497655487823e-07, 1.4095105882461212e-07, 1.265224796043185e-07, 1.1562351431848583e-07, 1.1284133449862566e-07, 1.0076353618160283e-07, 8.964646269760124e-08, 8.375602078558586e-08, 8.08014277708935e-08, 7.634084653318496e-08, 7.08675713667617e-08, 6.97978776997843e-08, 6.899865923060133e-08, 6.540020791589995e-08, 6.192376389435594e-08, 6.072819758173864e-08, 5.815757475602368e-08, 5.7841788247969816e-08, 5.78074192958411e-08, 5.615139286874182e-08, 5.4032074814358566e-08, 5.316480766737186e-08, 4.903693451296931e-08, 4.8199225943790225e-08, 4.744077131135782e-08, 4.400086695000027e-08, 4.400060760190172e-08, 4.400060760190172e-08, 4.1323836796891555e-08, 4.028048294912878e-08, 4.015497268028412e-08, 3.820361982320719e-08, 3.6968494043776445e-08, 3.635271639268467e-08, 3.325073905102727e-08, 3.227780709380568e-08, 3.128525349893607e-08, 3.1212234574695685e-08, 2.330463289013096e-08, 2.0475747319892434e-08, 1.2740981603087675e-08, 1.2258429826772499e-08, 4.627460636896785e-09, 1.4455119323741883e-09, -1.3003046639425975e-08]\n"
     ]
    }
   ],
   "source": [
    "print(len(result_trigger))\n",
    "print(min(result_trigger))\n",
    "print(max(result_trigger))\n",
    "print(sorted(result_trigger,reverse=True))\n",
    "print(max(result_clean))\n",
    "print(sorted(result_clean,reverse=True))"
   ]
  },
  {
   "cell_type": "code",
   "execution_count": 29,
   "metadata": {},
   "outputs": [
    {
     "data": {
      "image/png": "[encoded data removed]",
      "text/plain": [
       "<Figure size 1000x500 with 1 Axes>"
      ]
     },
     "metadata": {},
     "output_type": "display_data"
    }
   ],
   "source": [
    "import matplotlib.pyplot as plt\n",
    "\n",
    "# Ensure you have your data loaded in result_clean and result_trigger\n",
    "# Example: result_clean = [1, 2, 3], result_trigger = [3, 2, 1]\n",
    "# result_trigger = [x for x in result_trigger if x < 0.8 and x>0.2]\n",
    "# result_clean = [x for x in result_clean if x < 2 and x>0.2]\n",
    "\n",
    "# plt.figure(figsize=(10, 5))\n",
    "\n",
    "# plt.hist(result_trigger, alpha=0.7, bins=10, label='Trigger Edge',density=True)\n",
    "# # plt.hist(result_trigger, alpha=0.7, bins=10, label='Trigger Data')\n",
    "\n",
    "# plt.hist(result_clean, alpha=0.7, bins=10, label='Clean Edge',density=True)\n",
    "# # plt.hist(result_clean, alpha=0.7, bins=10, label='Clean Data')\n",
    "\n",
    "\n",
    "# # plt.title('Histogram of Clean and Trigger Data')\n",
    "# plt.xlabel('Prediction Variance')\n",
    "# plt.ylabel('Frequency')\n",
    "# plt.legend()\n",
    "# plt.grid(True)\n",
    "\n",
    "# # Save the plot before displaying it\n",
    "# plt.savefig('cora.pdf')\n",
    "\n",
    "# # Display the plot\n",
    "# plt.show()\n",
    "plt.figure(figsize=(10, 5))\n",
    "\n",
    "plt.hist(result_trigger, alpha=0.7, bins=10, label='Trigger Edges', density=True)\n",
    "plt.hist(result_clean, alpha=0.7, bins=10, label='Clean Edges', density=True)\n",
    "\n",
    "plt.xlabel('Prediction Variance',fontsize=16)\n",
    "plt.ylabel('Frequency',fontsize=16)\n",
    "\n",
    "# Adjust x and y ticks\n",
    "plt.xticks(fontsize=16)\n",
    "plt.yticks(fontsize=16)\n",
    "\n",
    "plt.legend(fontsize=16)\n",
    "plt.grid(True)\n",
    "\n",
    "# Add a caption below the figure\n",
    "# plt.figtext(0.5, -0.05, 'Comparison of prediction variance due to trigger edges drop and clean edges drop.', wrap=True, horizontalalignment='center', fontsize=14)\n",
    "\n",
    "# Save the plot before displaying it\n",
    "plt.savefig('cora.pdf')\n",
    "\n",
    "# Display the plot\n",
    "plt.show()"
   ]
  },
  {
   "cell_type": "code",
   "execution_count": 30,
   "metadata": {},
   "outputs": [
    {
     "data": {
      "text/plain": [
       "[]"
      ]
     },
     "execution_count": 30,
     "metadata": {},
     "output_type": "execute_result"
    }
   ],
   "source": [
    "filter = [x for x in result_clean if x > 0.4]\n",
    "filter"
   ]
  },
  {
   "cell_type": "code",
   "execution_count": 37,
   "metadata": {},
   "outputs": [],
   "source": [
    "poison_labels[idx_attach] = args.target_class"
   ]
  },
  {
   "cell_type": "code",
   "execution_count": 38,
   "metadata": {},
   "outputs": [
    {
     "name": "stdout",
     "output_type": "stream",
     "text": [
      "tensor([0, 0, 0, 0, 0, 0, 0, 0, 0, 0, 0, 0, 0, 0, 0, 0, 0, 0, 0, 0, 0, 0, 0, 0,\n",
      "        0, 0, 0, 0, 0, 0, 0], device='cuda:2')\n",
      "accuracy on clean test nodes: 0.0000\n"
     ]
    }
   ],
   "source": [
    "## retrain a model on purified graph ##\n",
    "# stop\n",
    "# labels for target poisoned node before purified #\n",
    "# print(poison_labels[idx_attach])\n",
    "\n",
    "# # purifying #\n",
    "# for idx in index_of_less_robust:\n",
    "#     poison_labels[bkd_tn_nodes[idx]]=data.y[bkd_tn_nodes[idx]]\n",
    "\n",
    "# # labels for target poisoned node after purified #\n",
    "# print(poison_labels[idx_attach])\n",
    "\n",
    "# # retrain a model #\n",
    "# test_model = model_construct(args,args.test_model,data,device).to(device) \n",
    "# test_model.fit(poison_x,poison_edge_index, poison_edge_weights, poison_labels, bkd_tn_nodes, idx_val,train_iters=args.epochs,verbose=False)\n",
    "\n",
    "# ## test model on purified graph (poisoned target node) ##\n",
    "# clean_acc = test_model.test(poison_x,poison_edge_index, poison_edge_weights,poison_labels,idx_attach)\n",
    "\n",
    "# print(\"accuracy on clean test nodes: {:.4f}\".format(clean_acc))\n",
    "print(poison_labels[idx_attach])\n",
    "\n",
    "# purifying #\n",
    "# for idx in index_of_less_robust[:400]:\n",
    "#     poison_labels[bkd_tn_nodes[idx]]=data.y[bkd_tn_nodes[idx]]\n",
    "\n",
    "# # labels for target poisoned node after purified #\n",
    "# print(poison_labels[idx_attach])\n",
    "\n",
    "# retrain a model #s\n",
    "test_model = model_construct(args,args.test_model,data,device).to(device) \n",
    "test_model.fit(poison_x,poison_edge_index, poison_edge_weights, poison_labels, bkd_tn_nodes, idx_val,train_iters=args.epochs,verbose=False, finetune=True, attach=index_of_less_robust)\n",
    "\n",
    "## test model on purified graph (poisoned target node) ##\n",
    "clean_acc = test_model.test(poison_x,poison_edge_index, poison_edge_weights,poison_labels,idx_attach)\n",
    "\n",
    "print(\"accuracy on clean test nodes: {:.4f}\".format(clean_acc))"
   ]
  },
  {
   "cell_type": "code",
   "execution_count": 39,
   "metadata": {},
   "outputs": [
    {
     "name": "stdout",
     "output_type": "stream",
     "text": [
      "ASR: 0.0000\n",
      "Flip ASR: 0.0000/225 nodes\n",
      "CA: 0.8444\n"
     ]
    }
   ],
   "source": [
    "# add a trigger detector #\n",
    "# assumption: backdoor attack's success is based on trigger pattern #\n",
    "# 1. outlier, trigger different to each other #\n",
    "# 2. in distribution, trigger similar to each other #\n",
    "# in case, model trained on clean graph learn attack pattern #\n",
    "induct_edge_index = torch.cat([poison_edge_index,mask_edge_index],dim=1)\n",
    "induct_edge_weights = torch.cat([poison_edge_weights,torch.ones([mask_edge_index.shape[1]],dtype=torch.float,device=device)])\n",
    "induct_x, induct_edge_index,induct_edge_weights = model.inject_trigger(idx_atk,poison_x,induct_edge_index,induct_edge_weights,device)\n",
    "induct_x, induct_edge_index,induct_edge_weights = induct_x.clone().detach(), induct_edge_index.clone().detach(),induct_edge_weights.clone().detach()\n",
    "\n",
    "output, x = test_model(induct_x,induct_edge_index,induct_edge_weights)\n",
    "train_attach_rate = (output.argmax(dim=1)[idx_atk]==args.target_class).float().mean()\n",
    "print(\"ASR: {:.4f}\".format(train_attach_rate))\n",
    "asr = train_attach_rate\n",
    "flip_idx_atk = idx_atk[(data.y[idx_atk] != args.target_class).nonzero().flatten()]\n",
    "flip_asr = (output.argmax(dim=1)[flip_idx_atk]==args.target_class).float().mean()\n",
    "print(\"Flip ASR: {:.4f}/{} nodes\".format(flip_asr,flip_idx_atk.shape[0]))\n",
    "ca = test_model.test(induct_x,induct_edge_index,induct_edge_weights,data.y,idx_clean_test)\n",
    "print(\"CA: {:.4f}\".format(ca))"
   ]
  },
  {
   "cell_type": "code",
   "execution_count": 34,
   "metadata": {},
   "outputs": [
    {
     "name": "stderr",
     "output_type": "stream",
     "text": [
      "/home/zbz5349/anaconda3/envs/spurious/lib/python3.8/site-packages/torch/nn/_reduction.py:42: UserWarning: size_average and reduce args will be deprecated, please use reduction='none' instead.\n",
      "  warnings.warn(warning.format(ret))\n"
     ]
    }
   ],
   "source": [
    "predictions_1 = []\n",
    "for i in range(4):\n",
    "            test_model.eval()\n",
    "            noisy_poison_edge_index, noisy_poison_edge_weights = sample_noise_all(poison_edge_index, poison_edge_weights, device)\n",
    "            output, x = test_model(poison_x,noisy_poison_edge_index,noisy_poison_edge_weights)\n",
    "            train_attach_rate = (output.argmax(dim=1)[idx_attach]==args.target_class).float().mean()\n",
    "            train_clean_rate = (output.argmax(dim=1)[idx_train]==data.y[idx_train]).float().mean()\n",
    "            predictions_1.append(torch.exp(output[known_nodes]))\n",
    "\n",
    "epsilon = 1e-8\n",
    "deviations = []\n",
    "for sub_pred in predictions_1:\n",
    "\n",
    "    sub_pred += epsilon\n",
    "    deviation = F.kl_div(sub_pred.log(), ori_predict, reduce=False)\n",
    "    for othersub_pred in predictions:\n",
    "        deviation += F.kl_div(sub_pred.log(), othersub_pred, reduce=False)\n",
    "    deviations.append(deviation)"
   ]
  },
  {
   "cell_type": "code",
   "execution_count": 35,
   "metadata": {},
   "outputs": [
    {
     "name": "stdout",
     "output_type": "stream",
     "text": [
      "index_of_less_robust tensor([552, 557, 546, 562, 543, 542, 559, 550, 570, 555, 563, 541, 556, 547,\n",
      "        568, 545, 553, 461, 554, 558, 569, 329, 549, 571, 551, 298, 566, 567,\n",
      "        255, 564, 215], device='cuda:2')\n",
      "count 26\n"
     ]
    }
   ],
   "source": [
    "summed_deviations = torch.zeros_like(deviations[0]).to(deviations[0].device)\n",
    "for deviation in deviations:\n",
    "    ##### summed deviations for each node #####\n",
    "    summed_deviations += deviation\n",
    "\n",
    "\n",
    "##### get the index for nodes with less robustness #####\n",
    "    \n",
    "##### args.vs_number is unknown #####\n",
    "index_of_less_robust = torch.sort(torch.mean(summed_deviations,dim=-1),descending=True)[1][:mask.sum()]\n",
    "print('index_of_less_robust',index_of_less_robust)\n",
    "\n",
    "##### count how many poisoned target nodes are selected in less robustness nodes #####\n",
    "count = 0\n",
    "dd = []\n",
    "for idx in index_of_less_robust:\n",
    "    if idx >= len(known_nodes)-args.vs_number:\n",
    "        count += 1\n",
    "        dd.append(idx)\n",
    "print('count',count)"
   ]
  },
  {
   "cell_type": "code",
   "execution_count": 36,
   "metadata": {},
   "outputs": [
    {
     "data": {
      "image/png": "[encoded data removed]",
      "text/plain": [
       "<Figure size 1000x600 with 1 Axes>"
      ]
     },
     "metadata": {},
     "output_type": "display_data"
    }
   ],
   "source": [
    "\n",
    "# visualize robustness distribution #\n",
    "a=torch.mean(summed_deviations,dim=-1)\n",
    "a_excluding_last_40 = a[:-args.vs_number].detach().cpu()\n",
    "a_last=a[-mask.sum():].detach().cpu()\n",
    "\n",
    "\n",
    "a_last_40 = a[-args.vs_number:].detach().cpu()\n",
    "\n",
    "\n",
    "\n",
    "\n",
    "indices_to_remove = [i for i, node in enumerate(known_nodes[-args.vs_number:]) if data.y[node] == args.target_class]\n",
    "\n",
    "indices_to_remove = []\n",
    "\n",
    "a_last_list = list(a_last)\n",
    "\n",
    "indices_to_check = range(len(known_nodes[-args.vs_number:]))\n",
    "\n",
    "# indices_to_remove = []\n",
    "\n",
    "# ##### find those nodes that are already have target class or poisoned failed #####\n",
    "# for i in indices_to_check:\n",
    "#     condition1 = data.y[known_nodes[-args.vs_number:][i]] == args.target_class\n",
    "#     condition2 = output.argmax(dim=1)[idx_attach[i]] != args.target_class\n",
    "    \n",
    "#     if condition1 or condition2:\n",
    "#         indices_to_remove.append(i)\n",
    "\n",
    "# for index in sorted(indices_to_remove, reverse=True):\n",
    "#     del a_last_list[index]\n",
    "\n",
    "\n",
    "a_last_40 = a_last_list\n",
    "plt.figure(figsize=(10, 6))\n",
    "# plt.figure(figsize=(40, 24))\n",
    "##### benign nodes #####\n",
    "plt.hist(a_excluding_last_40, bins=20, alpha=0.5, label='benign nodes', density=True)\n",
    "##### poisoned success nodes #####\n",
    "plt.hist(a_last_40, bins=20, alpha=0.5, label='poisoned target nodes',density=True)\n",
    "plt.legend(loc='upper right')\n",
    "plt.xlabel('Value')\n",
    "plt.ylabel('Frequency')\n",
    "plt.title('Distribution of robustness for each node')\n",
    "plt.savefig('a.jpg')\n",
    "plt.show()"
   ]
  }
 ],
 "metadata": {
  "kernelspec": {
   "display_name": "spurious",
   "language": "python",
   "name": "python3"
  },
  "language_info": {
   "codemirror_mode": {
    "name": "ipython",
    "version": 3
   },
   "file_extension": ".py",
   "mimetype": "text/x-python",
   "name": "python",
   "nbconvert_exporter": "python",
   "pygments_lexer": "ipython3",
   "version": "3.8.17"
  }
 },
 "nbformat": 4,
 "nbformat_minor": 2
}
