{
 "cells": [
  {
   "cell_type": "code",
   "execution_count": 26,
   "metadata": {},
   "outputs": [
    {
     "name": "stdout",
     "output_type": "stream",
     "text": [
      "Namespace(cuda=True, dataset='Pubmed', debug=True, defense_mode='none', device_id=2, dis_weight=1, dropout=0.5, epochs=1000, evaluate_mode='1by1', hidden=128, homo_boost_thrd=0.8, homo_loss_weight=100, inner=1, k=100, lr=0.01, model='GCN', no_cuda=False, outter_size=4096, prune_thr=0.8, range=1.0, rec_epochs=30, seed=12, selection_method='none', target_class=2, target_loss_weight=1, test_model='GCN', thrd=0.5, train_lr=0.01, trigger_size=3, trojan_epochs=400, use_vs_number=True, vs_number=160, vs_ratio=0, weight_decay=0.0005, weight_ood=1, weight_target=1, weight_targetclass=1)\n"
     ]
    }
   ],
   "source": [
    "import imp\n",
    "import time\n",
    "import argparse\n",
    "import numpy as np\n",
    "import torch\n",
    "torch.set_printoptions(threshold=10000)\n",
    "from torch_geometric.datasets import Planetoid,Reddit2,Flickr\n",
    "import torch.nn.functional as F\n",
    "import numpy as np\n",
    "import matplotlib.pyplot as plt\n",
    "# from torch_geometric.loader import DataLoader\n",
    "from help_funcs import prune_unrelated_edge,prune_unrelated_edge_isolated, clu_prune_unrelated_edge\n",
    "import scipy.sparse as sp\n",
    "from torch_geometric.utils import subgraph\n",
    "# Training settings\n",
    "parser = argparse.ArgumentParser()\n",
    "parser.add_argument('--debug', action='store_true',\n",
    "        default=True, help='debug mode')\n",
    "parser.add_argument('--no-cuda', action='store_true', default=False,\n",
    "                    help='Disables CUDA training.')\n",
    "parser.add_argument('--seed', type=int, default=12, help='Random seed.')\n",
    "parser.add_argument('--model', type=str, default='GCN', help='model',\n",
    "                    choices=['GCN','GAT','GraphSage','GIN'])\n",
    "parser.add_argument('--dataset', type=str, default='Pubmed', \n",
    "                    help='Dataset',\n",
    "                    choices=['Cora','Pubmed','Flickr','ogbn-arxiv','Citeseer','Reddit2'])\n",
    "parser.add_argument('--train_lr', type=float, default=0.01,\n",
    "                    help='Initial learning rate.')\n",
    "parser.add_argument('--weight_decay', type=float, default=5e-4,\n",
    "                    help='Weight decay (L2 loss on parameters).')\n",
    "parser.add_argument('--hidden', type=int, default=128,\n",
    "                    help='Number of hidden units.')\n",
    "parser.add_argument('--thrd', type=float, default=0.5)\n",
    "parser.add_argument('--target_class', type=int, default=2)\n",
    "parser.add_argument('--k', type=int, default=100)\n",
    "parser.add_argument('--dropout', type=float, default=0.5,\n",
    "                    help='Dropout rate (1 - keep probability).')\n",
    "parser.add_argument('--epochs', type=int,  default=1000, help='Number of epochs to train benign and backdoor model.')\n",
    "parser.add_argument('--rec_epochs', type=int,  default=30, help='Number of epochs to train benign and backdoor model.')\n",
    "parser.add_argument('--trojan_epochs', type=int,  default=400, help='Number of epochs to train trigger generator.')\n",
    "parser.add_argument('--inner', type=int,  default=1, help='Number of inner')\n",
    "# backdoor setting\n",
    "parser.add_argument('--lr', type=float, default=0.01,\n",
    "                    help='Initial learning rate.')\n",
    "parser.add_argument('--trigger_size', type=int, default=3,\n",
    "                    help='tirgger_size')\n",
    "parser.add_argument('--use_vs_number', action='store_true', default=True,\n",
    "                    help=\"if use detailed number to decide Vs\")\n",
    "parser.add_argument('--vs_ratio', type=float, default=0,\n",
    "                    help=\"ratio of poisoning nodes relative to the full graph\")\n",
    "parser.add_argument('--range', type=float, default=1.0,\n",
    "                    help=\"ratio of poisoning nodes relative to the full graph\")\n",
    "parser.add_argument('--vs_number', type=int, default=160,\n",
    "                    help=\"number of poisoning nodes relative to the full graph\")\n",
    "# defense setting\n",
    "parser.add_argument('--defense_mode', type=str, default=\"none\",\n",
    "                    choices=['prune', 'isolate', 'none','reconstruct'],\n",
    "                    help=\"Mode of defense\")\n",
    "parser.add_argument('--prune_thr', type=float, default=0.8,\n",
    "                    help=\"Threshold of prunning edges\")\n",
    "parser.add_argument('--target_loss_weight', type=float, default=1,\n",
    "                    help=\"Weight of optimize outter trigger generator\")\n",
    "parser.add_argument('--weight_target', type=float, default=1,\n",
    "                    help=\"Weight of optimize outter trigger generator\")\n",
    "parser.add_argument('--weight_ood', type=float, default=1,\n",
    "                    help=\"Weight of optimize outter trigger generator\")\n",
    "parser.add_argument('--weight_targetclass', type=float, default=1,\n",
    "                    help=\"Weight of optimize outter trigger generator\")\n",
    "parser.add_argument('--outter_size', type=int, default=4096,\n",
    "                    help=\"Weight of optimize outter trigger generator\")\n",
    "parser.add_argument('--homo_loss_weight', type=float, default=100,\n",
    "                    help=\"Weight of optimize similarity loss\")\n",
    "parser.add_argument('--homo_boost_thrd', type=float, default=0.8,\n",
    "                    help=\"Threshold of increase similarity\")\n",
    "# attack setting\n",
    "parser.add_argument('--dis_weight', type=float, default=1,\n",
    "                    help=\"Weight of cluster distance\")\n",
    "parser.add_argument('--selection_method', type=str, default='none',\n",
    "                    choices=['loss','conf','cluster','none','cluster_degree'],\n",
    "                    help='Method to select idx_attach for training trojan model (none means randomly select)')\n",
    "parser.add_argument('--test_model', type=str, default='GCN',\n",
    "                    choices=['GCN','GAT','GraphSage','GIN'],\n",
    "                    help='Model used to attack')\n",
    "parser.add_argument('--evaluate_mode', type=str, default='1by1',\n",
    "                    choices=['overall','1by1'],\n",
    "                    help='Model used to attack')\n",
    "# GPU setting\n",
    "parser.add_argument('--device_id', type=int, default=2,\n",
    "                    help=\"Threshold of prunning edges\")\n",
    "# args = parser.parse_args()\n",
    "args = parser.parse_known_args()[0]\n",
    "args.cuda =  not args.no_cuda and torch.cuda.is_available()\n",
    "device = torch.device(('cuda:{}' if torch.cuda.is_available() else 'cpu').format(args.device_id))\n",
    "\n",
    "np.random.seed(args.seed)\n",
    "torch.manual_seed(args.seed)\n",
    "torch.cuda.manual_seed(args.seed)\n",
    "print(args)"
   ]
  },
  {
   "cell_type": "code",
   "execution_count": 27,
   "metadata": {},
   "outputs": [],
   "source": [
    "from torch_geometric.utils import to_undirected\n",
    "import torch_geometric.transforms as T\n",
    "transform = T.Compose([T.NormalizeFeatures()])\n",
    "\n",
    "if(args.dataset == 'Cora' or args.dataset == 'Citeseer' or args.dataset == 'Pubmed'):\n",
    "    dataset = Planetoid(root='./data/', \\\n",
    "                        name=args.dataset,\\\n",
    "                        transform=transform)\n",
    "elif(args.dataset == 'Flickr'):\n",
    "    dataset = Flickr(root='./data/Flickr/', \\\n",
    "                    transform=transform)\n",
    "elif(args.dataset == 'Reddit2'):\n",
    "    dataset = Reddit2(root='./data/Reddit2/', \\\n",
    "                    transform=transform)\n",
    "elif(args.dataset == 'ogbn-arxiv'):\n",
    "    from ogb.nodeproppred import PygNodePropPredDataset\n",
    "    # Download and process data at './dataset/ogbg_molhiv/'\n",
    "    dataset = PygNodePropPredDataset(name = 'ogbn-arxiv', root='./data/')\n",
    "    split_idx = dataset.get_idx_split() \n",
    "\n",
    "data = dataset[0].to(device)\n",
    "\n",
    "if(args.dataset == 'ogbn-arxiv'):\n",
    "    nNode = data.x.shape[0]\n",
    "    setattr(data,'train_mask',torch.zeros(nNode, dtype=torch.bool).to(device))\n",
    "    # dataset[0].train_mask = torch.zeros(nEdge, dtype=torch.bool).to(device)\n",
    "    data.val_mask = torch.zeros(nNode, dtype=torch.bool).to(device)\n",
    "    data.test_mask = torch.zeros(nNode, dtype=torch.bool).to(device)\n",
    "    data.y = data.y.squeeze(1)\n",
    "    \n",
    "if(args.dataset == 'Reddit2'):\n",
    "    num_nodes_to_sample = 20000  # Adjust this based on your needs\n",
    "\n",
    "    # Randomly select a subset of nodes\n",
    "    sampled_nodes = torch.randint(data.num_nodes, (num_nodes_to_sample,), device=device)\n",
    "\n",
    "    # Perform subgraph sampling\n",
    "    edge,_ = subgraph(sampled_nodes, data.edge_index)\n",
    "    data.edge_index = edge"
   ]
  },
  {
   "cell_type": "code",
   "execution_count": 28,
   "metadata": {},
   "outputs": [],
   "source": [
    "from utils import get_split\n",
    "data, idx_train, idx_val, idx_clean_test, idx_atk = get_split(args,data,device)\n",
    "\n",
    "from torch_geometric.utils import to_undirected\n",
    "from utils import subgraph\n",
    "data.edge_index = to_undirected(data.edge_index)\n",
    "train_edge_index,_, edge_mask = subgraph(torch.bitwise_not(data.test_mask),data.edge_index,relabel_nodes=False)\n",
    "mask_edge_index = data.edge_index[:,torch.bitwise_not(edge_mask)]"
   ]
  },
  {
   "cell_type": "code",
   "execution_count": 29,
   "metadata": {},
   "outputs": [
    {
     "name": "stdout",
     "output_type": "stream",
     "text": [
      "number of benign training nodes 3943\n",
      "number of poisoned target nodes 160\n"
     ]
    }
   ],
   "source": [
    "from sklearn_extra import cluster\n",
    "from models.backdoor import Backdoor\n",
    "from models.construct import model_construct\n",
    "import heuristic_selection as hs\n",
    "from torch.distributions.bernoulli import Bernoulli\n",
    "\n",
    "# select poisoned target node #\n",
    "\n",
    "# filter out the unlabeled nodes except from training nodes and testing nodes, nonzero() is to get index, flatten is to get 1-d tensor\n",
    "unlabeled_idx = (torch.bitwise_not(data.test_mask)&torch.bitwise_not(data.train_mask)).nonzero().flatten()\n",
    "if(args.use_vs_number):\n",
    "    size = args.vs_number\n",
    "else:\n",
    "    size = int((len(data.test_mask)-data.test_mask.sum())*args.vs_ratio)\n",
    "# print(\"#Attach Nodes:{}\".format(size))\n",
    "assert size>0, 'The number of selected trigger nodes must be larger than 0!'\n",
    "# here is randomly select poison nodes from unlabeled nodes\n",
    "if(args.selection_method == 'none'):\n",
    "    idx_attach = hs.obtain_attach_nodes(args,unlabeled_idx,size)\n",
    "elif(args.selection_method == 'cluster'):\n",
    "    idx_attach = hs.cluster_distance_selection(args,data,idx_train,idx_val,idx_clean_test,unlabeled_idx,train_edge_index,size,device)\n",
    "    idx_attach = torch.LongTensor(idx_attach).to(device)\n",
    "elif(args.selection_method == 'cluster_degree'):\n",
    "    if(args.dataset == 'Pubmed'):\n",
    "        idx_attach = hs.cluster_degree_selection_seperate_fixed(args,data,idx_train,idx_val,idx_clean_test,unlabeled_idx,train_edge_index,size,device)\n",
    "    else:\n",
    "        idx_attach = hs.cluster_degree_selection(args,data,idx_train,idx_val,idx_clean_test,unlabeled_idx,train_edge_index,size,device)\n",
    "    idx_attach = torch.LongTensor(idx_attach).to(device)\n",
    "# print(\"idx_attach: {}\".format(idx_attach))\n",
    "unlabeled_idx = torch.tensor(list(set(unlabeled_idx.cpu().numpy()) - set(idx_attach.cpu().numpy()))).to(device)\n",
    "print('number of benign training nodes', len(idx_train))\n",
    "print('number of poisoned target nodes', len(idx_attach))\n",
    "\n",
    "# Cora\n",
    "# idx_attach = torch.tensor([1672, 2399, 1785, 2020, 2013, 1652,  208, 1220, 2128,  446])\n",
    "# Flicker\n",
    "idx_attach = torch.tensor([ 2407, 14892, 10532, 11865, 10343,  4477,  6124, 13501, 16064, 16288,\n",
    "        13241, 19092,  3261,  1473,   773,  4570,   744, 19660,    41, 17647,\n",
    "         2590, 16881,  3837, 13691,  8013,  9920,   636,  4780, 13109, 13351,\n",
    "        10086,  4145,  8146, 11758,  3936, 18992,  5991,  8038, 18082, 16778,\n",
    "        14764, 18516, 18624,  2659, 11568,  6363, 17628,  7541, 17529,  8857,\n",
    "        15031,   387, 15655, 18300, 11006,     1, 18977,  6870,  4800,  9171,\n",
    "         2752,  3509,  9451,  5994, 10639,  8514, 13852, 15909, 15383, 18961,\n",
    "         3241, 11481, 12033, 13359,  6130,  8003,  7938,  9119, 16206,  7469,\n",
    "          512, 12784,  9765,  3562,  6826,  6278, 13067,   247,  2562, 13399,\n",
    "         7239, 14831,  8724,  8416,  4572,  7645, 12721, 16473,  7433,  9726,\n",
    "         3245, 16527, 19033,  6070, 11668,  7818, 14003, 15038,  4301,  8838,\n",
    "        18121,   823,  6874,  7616, 11089,  8844,  7886, 17175,  7113,  7481,\n",
    "         2625,   449, 10371,  1772, 15689,  4812,  7556, 12247, 17101,  9577,\n",
    "        11005,  9181,   183,  4061, 11633, 14199, 16526,  7711,  6759, 18305,\n",
    "         4873,   683, 18104,  7229, 12772, 10363, 15239,  8594, 16058,  5771,\n",
    "        13088, 15769, 15966,   885,  5873,  8670, 15267,  9813,  3823, 17756])\n",
    "\n",
    "idx_attach = idx_attach.to(device)"
   ]
  },
  {
   "cell_type": "code",
   "execution_count": 30,
   "metadata": {},
   "outputs": [
    {
     "data": {
      "text/plain": [
       "0"
      ]
     },
     "execution_count": 30,
     "metadata": {},
     "output_type": "execute_result"
    }
   ],
   "source": [
    "## trigger generator ##\n",
    "model = Backdoor(args,device)\n",
    "model.fit(data.x, train_edge_index, None, data.y, idx_train,idx_attach, unlabeled_idx, True)"
   ]
  },
  {
   "cell_type": "code",
   "execution_count": 31,
   "metadata": {},
   "outputs": [],
   "source": [
    "test_model = 'GCN'\n",
    "total_overall_asr = 0\n",
    "total_overall_ca = 0\n",
    "args.test_model = test_model\n",
    "rs = np.random.RandomState(args.seed)\n",
    "seeds = rs.randint(1000,size=1)\n",
    "overall_asr = 0\n",
    "overall_ca = 0"
   ]
  },
  {
   "cell_type": "code",
   "execution_count": 32,
   "metadata": {},
   "outputs": [],
   "source": [
    "# load poisoned graph #\n",
    "# poison_x = torch.load('poison_x.pt')\n",
    "# poison_edge_index = torch.load('poison_edge_index.pt')\n",
    "# poison_edge_weights = torch.load('poison_edge_weights.pt')\n",
    "# poison_labels = torch.load('poison_labels.pt')\n",
    "poison_x = torch.load('./UGBA/poison_x_pubmed.pt')\n",
    "poison_edge_index = torch.load('./UGBA/poison_edge_index_pubmed.pt')\n",
    "poison_edge_weights = torch.load('./UGBA/poison_edge_weights_pubmed.pt')\n",
    "poison_labels = torch.load('./UGBA/poison_labels_pubmed.pt')\n",
    "# poison_x = torch.load('/home/zbz5349/defense_backdoor/DPGBA/kdd-backdooor/run_arxiv/poison_x.pt')\n",
    "# poison_edge_index = torch.load('/home/zbz5349/defense_backdoor/DPGBA/kdd-backdooor/run_arxiv/poison_edge_index.pt')\n",
    "# poison_edge_weights = torch.load('/home/zbz5349/defense_backdoor/DPGBA/kdd-backdooor/run_arxiv/poison_edge_weights.pt')\n",
    "# poison_labels = torch.load('/home/zbz5349/defense_backdoor/DPGBA/kdd-backdooor/run_arxiv/poison_labels.pt')"
   ]
  },
  {
   "cell_type": "code",
   "execution_count": 33,
   "metadata": {},
   "outputs": [
    {
     "name": "stdout",
     "output_type": "stream",
     "text": [
      "Namespace(cuda=True, dataset='Pubmed', debug=True, defense_mode='none', device_id=2, dis_weight=1, dropout=0.5, epochs=1000, evaluate_mode='1by1', hidden=128, homo_boost_thrd=0.8, homo_loss_weight=100, inner=1, k=100, lr=0.01, model='GCN', no_cuda=False, outter_size=4096, prune_thr=0.8, range=1.0, rec_epochs=30, seed=12, selection_method='none', target_class=2, target_loss_weight=1, test_model='GCN', thrd=0.5, train_lr=0.01, trigger_size=3, trojan_epochs=400, use_vs_number=True, vs_number=160, vs_ratio=0, weight_decay=0.0005, weight_ood=1, weight_target=1, weight_targetclass=1)\n"
     ]
    }
   ],
   "source": [
    "print(args)\n",
    "\n",
    "mask = data.y[idx_attach] != args.target_class\n",
    "mask = mask.to(device)\n",
    "\n",
    "## only attack those has groud truth labels != target_class ##\n",
    "idx_attach = idx_attach[(data.y[idx_attach] != args.target_class).nonzero().flatten()]\n",
    "\n",
    "bkd_tn_nodes = torch.cat([idx_train,idx_attach]).to(device)\n",
    "# test_model = model_construct(args,args.test_model,data,device).to(device) \n",
    "known_nodes = torch.cat([idx_train,idx_attach]).to(device)\n",
    "predictions = []\n",
    "# edge weight for clean edge_index, may use later #\n",
    "edge_weight = torch.ones([data.edge_index.shape[1]],device=device,dtype=torch.float)\n"
   ]
  },
  {
   "cell_type": "code",
   "execution_count": 34,
   "metadata": {},
   "outputs": [
    {
     "data": {
      "text/plain": [
       "tensor(97, device='cuda:2')"
      ]
     },
     "execution_count": 34,
     "metadata": {},
     "output_type": "execute_result"
    }
   ],
   "source": [
    "mask.sum()"
   ]
  },
  {
   "cell_type": "code",
   "execution_count": 35,
   "metadata": {},
   "outputs": [
    {
     "name": "stdout",
     "output_type": "stream",
     "text": [
      "tensor([1, 0, 0, 1, 1, 0, 0, 1, 1, 1, 1, 1, 0, 1, 0, 0, 0, 0, 1, 0, 1, 1, 1, 0,\n",
      "        0, 1, 1, 1, 1, 1, 0, 1, 1, 1, 0, 1, 1, 1, 1, 0, 1, 0, 1, 0, 1, 1, 1, 0,\n",
      "        0, 1, 1, 1, 0, 1, 1, 0, 0, 1, 1, 1, 0, 0, 1, 1, 0, 1, 1, 1, 0, 1, 0, 1,\n",
      "        1, 1, 1, 1, 0, 1, 1, 1, 0, 1, 1, 1, 0, 1, 1, 1, 1, 1, 0, 1, 0, 0, 0, 1,\n",
      "        0], device='cuda:2')\n",
      "tensor([2, 2, 2, 2, 2, 2, 2, 2, 2, 2, 2, 2, 2, 2, 2, 2, 2, 2, 2, 2, 2, 2, 2, 2,\n",
      "        2, 2, 2, 2, 2, 2, 2, 2, 2, 2, 2, 2, 2, 2, 2, 2, 2, 2, 2, 2, 2, 2, 2, 2,\n",
      "        2, 2, 2, 2, 2, 2, 2, 2, 2, 2, 2, 2, 2, 2, 2, 2, 2, 2, 2, 2, 2, 2, 2, 2,\n",
      "        2, 2, 2, 2, 2, 2, 2, 2, 2, 2, 2, 2, 2, 2, 2, 2, 2, 2, 2, 2, 2, 2, 2, 2,\n",
      "        2], device='cuda:2')\n"
     ]
    }
   ],
   "source": [
    "print(data.y[idx_attach])\n",
    "# idx_attach is selected target node #\n",
    "print(poison_labels[idx_attach])"
   ]
  },
  {
   "cell_type": "code",
   "execution_count": 36,
   "metadata": {},
   "outputs": [
    {
     "name": "stdout",
     "output_type": "stream",
     "text": [
      "accuracy on poisoned target nodes: 1.0000\n"
     ]
    }
   ],
   "source": [
    "test_model = model_construct(args,args.test_model,data,device).to(device) \n",
    "test_model.fit(poison_x,poison_edge_index, poison_edge_weights, poison_labels, bkd_tn_nodes, idx_val,train_iters=args.epochs,verbose=False)\n",
    "test_model.eval()\n",
    "clean_acc = test_model.test(poison_x,poison_edge_index, poison_edge_weights,poison_labels,idx_attach)\n",
    "output_clean, x = test_model(poison_x,poison_edge_index,poison_edge_weights)\n",
    "ori_predict = torch.exp(output_clean[known_nodes])\n",
    "print(\"accuracy on poisoned target nodes: {:.4f}\".format(clean_acc))"
   ]
  },
  {
   "cell_type": "code",
   "execution_count": 37,
   "metadata": {},
   "outputs": [
    {
     "data": {
      "text/plain": [
       "tensor([2, 2, 2, 2, 2, 2, 2, 2, 2, 2, 2, 2, 2, 2, 2, 2, 2, 2, 2, 2, 2, 2, 2, 2,\n",
       "        2, 2, 2, 2, 2, 2, 2, 2, 2, 2, 2, 2, 2, 2, 2, 2, 2, 2, 2, 2, 2, 2, 2, 2,\n",
       "        2, 2, 2, 2, 2, 2, 2, 2, 2, 2, 2, 2, 2, 2, 2, 2, 2, 2, 2, 2, 2, 2, 2, 2,\n",
       "        2, 2, 2, 2, 2, 2, 2, 2, 2, 2, 2, 2, 2, 2, 2, 2, 2, 2, 2, 2, 2, 2, 2, 2,\n",
       "        2], device='cuda:2')"
      ]
     },
     "execution_count": 37,
     "metadata": {},
     "output_type": "execute_result"
    }
   ],
   "source": [
    "output_clean[idx_attach].argmax(dim=1)"
   ]
  },
  {
   "cell_type": "code",
   "execution_count": 38,
   "metadata": {},
   "outputs": [
    {
     "name": "stdout",
     "output_type": "stream",
     "text": [
      "ASR: 1.0000\n",
      "Flip ASR: 1.0000/1198 nodes\n",
      "CA: 0.8453\n"
     ]
    }
   ],
   "source": [
    "# test backdoored model for comparison #\n",
    "induct_edge_index = torch.cat([poison_edge_index,mask_edge_index],dim=1)\n",
    "induct_edge_weights = torch.cat([poison_edge_weights,torch.ones([mask_edge_index.shape[1]],dtype=torch.float,device=device)])\n",
    "induct_x, induct_edge_index,induct_edge_weights = model.inject_trigger(idx_atk,poison_x,induct_edge_index,induct_edge_weights,device)\n",
    "induct_x, induct_edge_index,induct_edge_weights = induct_x.clone().detach(), induct_edge_index.clone().detach(),induct_edge_weights.clone().detach()\n",
    "\n",
    "output, x = test_model(induct_x,induct_edge_index,induct_edge_weights)\n",
    "train_attach_rate = (output.argmax(dim=1)[idx_atk]==args.target_class).float().mean()\n",
    "print(\"ASR: {:.4f}\".format(train_attach_rate))\n",
    "asr = train_attach_rate\n",
    "flip_idx_atk = idx_atk[(data.y[idx_atk] != args.target_class).nonzero().flatten()]\n",
    "flip_asr = (output.argmax(dim=1)[flip_idx_atk]==args.target_class).float().mean()\n",
    "print(\"Flip ASR: {:.4f}/{} nodes\".format(flip_asr,flip_idx_atk.shape[0]))\n",
    "ca = test_model.test(induct_x,induct_edge_index,induct_edge_weights,data.y,idx_clean_test)\n",
    "print(\"CA: {:.4f}\".format(ca))"
   ]
  },
  {
   "cell_type": "code",
   "execution_count": 39,
   "metadata": {},
   "outputs": [],
   "source": [
    "# edge drop #\n",
    "def sample_noise_all(edge_index, edge_weight,device):\n",
    "    noisy_edge_index = edge_index.clone().detach()\n",
    "    if(edge_weight == None):\n",
    "        noisy_edge_weight = torch.ones([noisy_edge_index.shape[1],]).to(device)\n",
    "    else:\n",
    "        noisy_edge_weight = edge_weight.clone().detach()\n",
    "    # # rand_noise_data = copy.deepcopy(data)\n",
    "    # rand_noise_data.edge_weight = torch.ones([rand_noise_data.edge_index.shape[1],]).to(device)\n",
    "    m = Bernoulli(torch.tensor([0.5]).to(device))\n",
    "    mask = m.sample(noisy_edge_weight.shape).squeeze(-1).int()\n",
    "    # print('mask',mask)\n",
    "    rand_inputs = torch.randint_like(noisy_edge_weight, low=0, high=2).squeeze().int().to(device)\n",
    "    # print(rand_noise_data.edge_weight.shape,mask.shape)\n",
    "    noisy_edge_weight = noisy_edge_weight * mask #+ rand_inputs * (1-mask)\n",
    "        \n",
    "    if(noisy_edge_weight!=None):\n",
    "        noisy_edge_index = noisy_edge_index[:,noisy_edge_weight.nonzero().flatten().long()]\n",
    "        noisy_edge_weight = torch.ones([noisy_edge_index.shape[1],]).to(device)\n",
    "    return noisy_edge_index, noisy_edge_weight"
   ]
  },
  {
   "cell_type": "code",
   "execution_count": 40,
   "metadata": {},
   "outputs": [],
   "source": [
    "# test robustness #\n",
    "for i in range(20):\n",
    "            test_model.eval()\n",
    "            noisy_poison_edge_index, noisy_poison_edge_weights = sample_noise_all(poison_edge_index, poison_edge_weights, device)\n",
    "            output, x = test_model(poison_x,noisy_poison_edge_index,noisy_poison_edge_weights)\n",
    "            train_attach_rate = (output.argmax(dim=1)[idx_attach]==args.target_class).float().mean()\n",
    "            train_clean_rate = (output.argmax(dim=1)[idx_train]==data.y[idx_train]).float().mean()\n",
    "            predictions.append(torch.exp(output[known_nodes]))"
   ]
  },
  {
   "cell_type": "code",
   "execution_count": 41,
   "metadata": {},
   "outputs": [],
   "source": [
    "# torch.argmax(predictions[8][23868])"
   ]
  },
  {
   "cell_type": "code",
   "execution_count": 42,
   "metadata": {},
   "outputs": [
    {
     "name": "stdout",
     "output_type": "stream",
     "text": [
      "index_of_less_robust tensor([3946, 3996, 3977, 3963, 4017, 4032, 3990, 4004, 3975, 4020, 3968, 3986,\n",
      "        4019, 4031, 3999, 4021, 4024, 3951, 3970, 1214, 3974, 3956, 3960, 4000,\n",
      "        3979, 3989, 3944, 4001, 3988, 4016, 4029, 4003, 4030, 3966, 3978, 4009,\n",
      "        4023, 3972, 3959, 3954, 3982, 3980, 3998, 3971, 4010, 4002, 3947, 3949,\n",
      "        3985, 4036, 4008, 3967, 3965, 3973, 4034, 4012, 3993, 4013, 3955, 3953,\n",
      "        4022, 3948, 3962, 3964,  521, 4027, 3994, 3961, 4039, 4038,  307, 3943,\n",
      "        3945, 4018, 1690, 3992, 4037,  511, 4014, 3981, 2770, 3952, 4033, 4006,\n",
      "          25, 2067, 2368, 3950, 4005, 3983, 3997,  499, 1763, 4011, 3858, 4025,\n",
      "        4026], device='cuda:2')\n",
      "count 85\n"
     ]
    },
    {
     "name": "stderr",
     "output_type": "stream",
     "text": [
      "/home/zbz5349/anaconda3/envs/spurious/lib/python3.8/site-packages/torch/nn/_reduction.py:42: UserWarning: size_average and reduce args will be deprecated, please use reduction='none' instead.\n",
      "  warnings.warn(warning.format(ret))\n"
     ]
    }
   ],
   "source": [
    "epsilon = 1e-8\n",
    "deviations = []\n",
    "for sub_pred in predictions:\n",
    "    sub_pred += epsilon\n",
    "    deviation = F.kl_div(sub_pred.log(), ori_predict, reduce=False)\n",
    "    deviations.append(deviation)\n",
    "\n",
    "summed_deviations = torch.zeros_like(deviations[0]).to(deviations[0].device)\n",
    "for deviation in deviations:\n",
    "    ##### summed deviations for each node #####\n",
    "    summed_deviations += deviation\n",
    "\n",
    "\n",
    "##### get the index for nodes with less robustness #####\n",
    "    \n",
    "##### args.vs_number is unknown #####\n",
    "index_of_less_robust = torch.sort(torch.mean(summed_deviations,dim=-1),descending=True)[1][:mask.sum()]\n",
    "print('index_of_less_robust',index_of_less_robust)\n",
    "\n",
    "##### count how many poisoned target nodes are selected in less robustness nodes #####\n",
    "count = 0\n",
    "dd = []\n",
    "for idx in index_of_less_robust:\n",
    "    if idx >= len(known_nodes)-args.vs_number:\n",
    "        count += 1\n",
    "        dd.append(idx)\n",
    "print('count',count)"
   ]
  },
  {
   "cell_type": "code",
   "execution_count": 43,
   "metadata": {},
   "outputs": [
    {
     "data": {
      "text/plain": [
       "tensor([47.8962, 43.1829, 43.0248, 42.2769, 40.3703, 39.0910, 38.7749, 38.6140,\n",
       "        37.6082, 37.3875, 37.2452, 33.9707, 31.8237, 30.5774, 30.4698, 30.2592,\n",
       "        29.5784, 29.2813, 29.1798, 28.8391, 28.3742, 27.8984, 26.5705, 25.8827,\n",
       "        25.6239, 25.4637, 23.9391, 23.1581, 23.0624, 22.8996, 22.5237, 22.4997,\n",
       "        22.4461, 22.2405, 21.9804, 21.9786, 21.4537, 21.2805, 21.2725, 20.5033,\n",
       "        20.4271, 20.3409, 20.0834, 19.3304, 19.1143, 18.3990, 18.0732, 17.6925,\n",
       "        17.6218, 16.9937, 16.0759, 15.0894, 14.5731, 14.4302, 14.0197, 13.6628,\n",
       "        13.2050, 13.2000, 12.6854, 12.6307, 11.4814, 11.4274, 10.9080, 10.7808,\n",
       "        10.6076, 10.5449, 10.5199, 10.2463, 10.2008, 10.1651, 10.0652,  9.7857,\n",
       "         9.5664,  9.3368,  9.1798,  9.0735,  8.8885,  8.8655,  8.6817,  8.6690,\n",
       "         8.6104,  8.2618,  7.8158,  7.7959,  7.6472,  7.5634,  7.5572,  7.5259,\n",
       "         6.8803,  6.8215,  6.7785,  6.7647,  6.5377,  6.3901,  6.3485,  6.3240,\n",
       "         6.2470], device='cuda:2', grad_fn=<SliceBackward0>)"
      ]
     },
     "execution_count": 43,
     "metadata": {},
     "output_type": "execute_result"
    }
   ],
   "source": [
    "torch.sort(torch.mean(summed_deviations,dim=-1),descending=True)[0][:mask.sum()]"
   ]
  },
  {
   "cell_type": "code",
   "execution_count": 44,
   "metadata": {},
   "outputs": [
    {
     "name": "stdout",
     "output_type": "stream",
     "text": [
      "4040\n"
     ]
    },
    {
     "data": {
      "text/plain": [
       "tensor(97, device='cuda:2')"
      ]
     },
     "execution_count": 44,
     "metadata": {},
     "output_type": "execute_result"
    }
   ],
   "source": [
    "print(len(ori_predict))\n",
    "mask.sum()"
   ]
  },
  {
   "cell_type": "code",
   "execution_count": 45,
   "metadata": {},
   "outputs": [
    {
     "data": {
      "image/png": "[encoded data removed]",
      "text/plain": [
       "<Figure size 1000x600 with 1 Axes>"
      ]
     },
     "metadata": {},
     "output_type": "display_data"
    }
   ],
   "source": [
    "\n",
    "\n",
    "# visualize robustness distribution #\n",
    "a=torch.mean(summed_deviations,dim=-1)\n",
    "a_excluding_last_40 = a[:-args.vs_number].detach().cpu()\n",
    "a_last=a[-mask.sum():].detach().cpu()\n",
    "\n",
    "\n",
    "a_last_40 = a[-args.vs_number:].detach().cpu()\n",
    "\n",
    "\n",
    "\n",
    "\n",
    "indices_to_remove = [i for i, node in enumerate(known_nodes[-args.vs_number:]) if data.y[node] == args.target_class]\n",
    "\n",
    "indices_to_remove = []\n",
    "\n",
    "a_last_list = list(a_last)\n",
    "\n",
    "indices_to_check = range(len(known_nodes[-args.vs_number:]))\n",
    "\n",
    "# indices_to_remove = []\n",
    "\n",
    "# ##### find those nodes that are already have target class or poisoned failed #####\n",
    "# for i in indices_to_check:\n",
    "#     condition1 = data.y[known_nodes[-args.vs_number:][i]] == args.target_class\n",
    "#     condition2 = output.argmax(dim=1)[idx_attach[i]] != args.target_class\n",
    "    \n",
    "#     if condition1 or condition2:\n",
    "#         indices_to_remove.append(i)\n",
    "\n",
    "# for index in sorted(indices_to_remove, reverse=True):\n",
    "#     del a_last_list[index]\n",
    "\n",
    "\n",
    "a_last_40 = a_last_list\n",
    "plt.figure(figsize=(10, 6))\n",
    "# plt.figure(figsize=(40, 24))\n",
    "##### benign nodes #####\n",
    "plt.hist(a_excluding_last_40, bins=20, alpha=0.5, label='benign nodes', density=True)\n",
    "##### poisoned success nodes #####\n",
    "plt.hist(a_last_40, bins=20, alpha=0.5, label='poisoned target nodes',density=True)\n",
    "plt.legend(loc='upper right')\n",
    "plt.xlabel('Value')\n",
    "plt.ylabel('Frequency')\n",
    "plt.title('Distribution of robustness for each node')\n",
    "plt.savefig('a.jpg')\n",
    "plt.show()"
   ]
  },
  {
   "cell_type": "code",
   "execution_count": 46,
   "metadata": {},
   "outputs": [],
   "source": [
    "output_clean[idx_attach].argmax(dim=1)\n",
    "output_clean = torch.exp(output_clean)"
   ]
  },
  {
   "cell_type": "code",
   "execution_count": 47,
   "metadata": {},
   "outputs": [
    {
     "name": "stdout",
     "output_type": "stream",
     "text": [
      "tensor([2, 2, 2, 2, 2, 2, 2, 2, 2, 2, 2, 2, 2, 2, 2, 2, 2, 2, 2, 2, 2, 2, 2, 2,\n",
      "        2, 2, 2, 2, 2, 2, 2, 2, 2, 2, 2, 2, 2, 2, 2, 2, 2, 2, 2, 2, 2, 2, 2, 2,\n",
      "        2, 2, 2, 2, 2, 2, 2, 2, 2, 2, 2, 2, 2, 2, 2, 2, 2, 2, 2, 2, 2, 2, 2, 2,\n",
      "        2, 2, 2, 2, 2, 2, 2, 2, 2, 2, 2, 2, 2, 2, 2, 2, 2, 2, 2, 2, 2, 2, 2, 2,\n",
      "        2], device='cuda:2')\n",
      "[0.0003375572559889406, 3.14079225063324e-05, 0.00014035403728485107, 0.0052675469778478146, 0.0004398748278617859, 0.0009955255081877112, 0.0016699049156159163, 0.0009458474814891815, 0.0014372393488883972, 0.0011128647020086646, 0.003506205976009369, 0.00796530582010746, 0.0055937133729457855, 0.001437778351828456, 0.0013884585350751877, 0.001876838505268097, 0.00026164454175159335, 0.0019642352126538754, 0.0018627243116497993, 0.0025472473353147507, 0.0029625201132148504, 0.003079160815104842, 0.0016943620285019279, 0.002394114388152957, 0.0023073290940374136, 0.04716971516609192, 0.01135165523737669, 1.973162170543219e-06, 0.006672114133834839, 0.015423203818500042, 0.00032485401607118547, 0.00013877576566301286, 0.009005775675177574, 0.003501353319734335, 0.0011113410582765937, 0.0010097710182890296, 0.0027612075209617615, 0.00883572082966566, 0.0029439318459481, 0.007188643328845501, 0.00032700476003810763, 0.005087519995868206, 0.017751451581716537, 0.00013192743062973022, 0.0005985039169900119, 2.6984762371284887e-05, 0.05944450944662094, 0.010024234652519226, 0.0005488644237630069, 0.04351023584604263, 0.0001600061950739473, 0.00011242678010603413, 0.0003350724873598665, 0.003958342131227255, 0.0028823267202824354, 0.006444843020290136, 0.005515966098755598, 0.0027571420650929213, 0.0019093155860900879, 0.0018878281116485596, 0.0018885508179664612, 0.001429407624527812, 0.0018051385413855314, 0.0014493981143459678, 0.0007084285607561469, 0.0014521268894895911, 0.0007930429419502616, 0.0014308288227766752, 0.0019236467778682709, 0.0021012327633798122, 0.0005167530616745353, 0.001037518261000514, 0.001853129593655467, 0.000993217690847814, 0.01595868170261383, 0.03761085495352745, 0.01048105489462614, 6.0741713241441175e-05, 4.922521111438982e-05, 0.00014879570517223328, 7.7222168215485e-08, 1.4003211390445358e-06, 1.5159137547016144e-05, 0.00011746794916689396, 0.0017259170999750495, 0.09543657302856445, 0.04624851047992706, 0.011893751099705696, 0.00014412961900234222, 0.0013963577803224325, 0.01771436631679535, 0.0015316655626520514, 0.0021368018351495266, 0.0011167488992214203, 0.0017265044152736664, 0.0020209222566336393, 0.0013308189809322357, 0.011876314878463745, 0.0022773544769734144, 0.0021164182107895613, 0.002294667763635516, 0.0021331775933504105, 0.03583022579550743, 0.014427796006202698, 0.030067872256040573, 0.0014442838728427887, 8.905989670893177e-05, 0.04212063178420067, 0.00020158695406280458, 0.0002733722794800997, 0.00048541295109316707, 0.0003724205307662487, 0.00037327231257222593, 6.545878477481892e-06, 0.00016870505351107568, 0.00013486544776242226, 0.00033739954233169556, 0.0005520149134099483, 0.00033295550383627415, 0.00020980618137400597, 0.0003671674057841301, 0.0003218180499970913, 0.0002403374237474054, 0.00037404545582830906, 0.0004977569333277643, 0.0002762571384664625, 0.0002889741153921932, 0.0002989565837197006, 0.00016530719585716724, 0.0002846788556780666, 0.0003802857827395201, 0.8452873229980469, 0.007920949719846249, 0.0887475460767746, 0.0006808614125475287, 0.001379994093440473, 0.009489640593528748, 0.00027546536875888705, 0.0002058073878288269, 0.000833685218822211, 0.004056519828736782, 0.004278404172509909, 4.631529373000376e-05, 0.00014402717351913452, 3.4265220165252686e-05, 0.0031892559491097927, 0.0065939477644860744, 0.025424635037779808, 0.017799189314246178, 0.0063880858942866325, 0.011698096990585327, 0.008947080001235008, 0.007110933773219585, 0.0019493898143991828, 0.00912520568817854, 0.013120274059474468, 0.0021649114787578583, 0.0010362789034843445, 0.004509091377258301, 0.0002254511637147516, 0.002024711575359106, 0.0030412774067372084, 0.001172588556073606, 0.004406226333230734, 0.009574085474014282, 0.011715668253600597, 0.0008504875004291534, 0.003890346735715866, 0.01915142498910427, 0.0018202252686023712, 0.01104792021214962, 0.0016555053880438209, 0.0029321364127099514, 0.02845669351518154, 0.03534041345119476, 0.000557897612452507, 0.00037534753209911287, 7.184160494944081e-05, 0.00025841471506282687, 0.003468173323199153, 0.0008755940943956375, 0.0008686287328600883, 0.0014442622195929289, 0.000490769452881068, 0.00021812475461047143, 0.0006991479313001037, 0.00010530806321185082, 0.0008830096339806914, 0.0015759698580950499, 0.0005532832583412528, 0.0507669523358345, 0.0002260829060105607, 0.0004926262190565467, 0.00033908835030160844, 0.001926568103954196, 0.009816944599151611, 0.08671317994594574, 0.017219139263033867, 0.1285494714975357, 0.00013688206672668457, 0.004438964184373617, 0.0005494995857588947, 0.0001841516641434282, 0.0035229537170380354, 0.0015439571579918265, 3.971780643041711e-06, 0.002046257257461548, 0.012362468056380749, 0.06893835961818695, 0.008370107039809227, 0.005319739691913128, 0.002800112124532461, 0.005065766628831625, 0.03158973529934883, 0.012060848996043205, 0.0018194864969700575, 0.0037483673077076674, 0.0025922581553459167, 0.0031474034767597914, 0.0063416436314582825, 0.0004963725805282593, 0.012266352772712708, 0.002874041674658656, 0.0010309964418411255, 0.39428645372390747, 0.025042738765478134, 0.0025768927298486233, 0.018247123807668686, 0.0003887477214448154, 0.001986425369977951, 7.233272299345117e-06, 0.005763049237430096, 0.02529364824295044, 0.00011134396481793374, 0.010477746836841106, 0.003880530595779419, 0.00366220879368484, 0.002804212272167206, 0.004964575171470642, 0.002462349832057953, 0.002748283324763179, 0.004845199640840292, 0.015041433274745941, 8.638513827463612e-05, 0.00016892142593860626, 0.000569172843825072, 0.003294175025075674, 0.0949375256896019, 0.09301000833511353, 5.107329343445599e-06, 1.1489222373484154e-07, 1.0480289347469807e-07, 2.6729929913926753e-07, 3.733730409294367e-07, 4.018827894469723e-05, 1.0920727788743534e-07, 1.0623868547554594e-05, 1.7869073190013296e-06, 4.339478323345247e-07, 7.021978376542393e-07, 5.160885621080524e-07, 3.613148464864935e-06, 1.1459595043561421e-05, 2.3573279577249195e-06, 3.421640570877571e-08, 2.5081731109821703e-06, 0.005842546932399273, 0.006940255872905254, 0.001256374642252922, 0.0009066542843356729, 0.0012907256605103612, 0.0012891588266938925, 0.000886362511664629, 0.0010934645542874932, 0.00046118046157062054, 0.0007924862438812852, 0.0007266447646543384, 0.0008211792446672916, 0.0011258175363764167, 0.0007732618832960725, 0.0009079470182769, 0.0012037516571581364, 0.0010892925783991814, 0.0011059856042265892, 0.0008903585840016603, 0.0009798003593459725, 0.0007114897016435862, 0.0012966364156454802, 0.0011878997320309281, 0.004039580933749676, 0.002842262387275696, 0.0017630060901865363, 0.0004123167018406093, 0.0011761540081351995, 0.0017362283542752266, 0.0003642762894742191, 0.001716994447633624, 0.0010812627151608467, 0.0004351884126663208, 0.0008092783391475677, 0.0010264904703944921, 0.00032699978328309953, 0.15798304975032806, 0.0008740996709093451, 0.0006756882066838443, 0.017938120290637016, 0.0013761818408966064, 0.0012560015311464667, 0.12091435492038727, 5.6234448493341915e-06, 2.528709501348203e-06, 5.713132850360125e-06, 9.354682333650999e-06, 1.8765711502055638e-05, 7.5275092967785895e-06, 8.669611816003453e-06, 6.635367753915489e-06, 7.596099749207497e-06, 6.258318080654135e-06, 2.918522568506887e-06, 5.740769665862899e-06, 2.675825726328185e-06, 7.571560672658961e-06, 7.342421213252237e-06, 1.9365943444427103e-06, 9.041296834766399e-06, 8.302238711621612e-06, 5.653455446008593e-06, 4.3134132283739746e-06, 4.4831349441665225e-06, 1.363834599032998e-06, 6.435383511416148e-06, 7.290374014701229e-06, 6.6566572058945894e-06, 8.173294190783054e-06, 8.4441253420664e-06, 3.7458448787219822e-06, 5.609118488791864e-06, 8.558061381336302e-06, 8.875575076672249e-06, 7.310067303478718e-06, 7.782444299664348e-06, 5.085234988655429e-06, 6.6287639128859155e-06, 5.981669346510898e-06, 7.475660822819918e-06, 6.287019459705334e-06, 5.168161351321032e-06, 3.0896044336259365e-05, 8.332352081197314e-06, 8.177921699825674e-06, 8.466951840091497e-06, 3.533704784786096e-06, 7.035703220026335e-06, 7.603327503602486e-06, 2.7509704523254186e-06, 4.9742229748517275e-06, 4.731858552986523e-06, 5.014335329178721e-06, 7.5176844802626874e-06, 8.238424015871715e-06, 2.363831299589947e-06, 0.16468475759029388, 0.020826175808906555, 0.00488387793302536, 0.001930552301928401, 0.0027092844247817993, 0.004447107668966055, 0.0018990486860275269, 0.0029359832406044006, 0.030044924467802048, 0.010251887142658234, 0.01557090412825346, 0.0007824985077604651, 0.0003344242868479341, 0.00019681453704833984, 0.0009971149265766144, 0.3058874309062958, 0.036510270088911057, 0.0019245899748057127, 0.003063549753278494, 0.00045594945549964905, 0.0015818167012184858, 0.0005037753726355731, 0.001014903886243701, 0.016794469207525253, 0.00037710307515226305, 0.0012794740032404661, 0.005350057035684586, 0.0023810975253582, 0.009281855076551437, 0.011145289056003094, 0.005386382341384888, 0.004903356544673443, 0.0006164952064864337, 0.0010917950421571732, 0.0016235820949077606, 0.0005946165765635669, 0.0005276917363516986, 9.274296462535858e-05, 0.0009519855375401676, 0.0008083700085990131, 0.0007206543232314289, 0.0018648518016561866, 0.0008290546829812229, 0.0006220763316377997, 0.000595891266129911, 8.269989848486148e-06, 3.6332447052700445e-05, 1.6069312550825998e-05, 3.95247116102837e-05, 0.00011151393118780106, 0.0006407536566257477, 0.0019710685592144728, 0.004550380166620016, 0.0019944510422647, 0.0022675693035125732, 0.031830161809921265, 0.0018671900033950806, 0.001958062406629324, 0.004584181122481823, 0.45397529006004333, 0.007498142775148153, 0.02712632343173027, 0.001980528235435486, 0.009131960570812225, 0.005630414001643658, 0.006477519869804382, 4.2549025238258764e-05, 0.0011299442267045379, 0.00025710463523864746, 0.03930558264255524, 0.0012266449630260468, 5.147358024260029e-05, 0.005353820975869894, 0.0002123707381542772, 0.00025640492094680667, 0.002983370330184698, 0.0009336099028587341, 0.00030013424111530185, 0.01738925836980343, 0.0015225758543238044, 0.002425695536658168, 0.021673373878002167, 0.010568353347480297, 0.005384269170463085, 0.23549330234527588, 0.005566011182963848, 0.008783127181231976, 0.0004247725009918213, 0.020731236785650253, 0.007190982811152935, 0.005916088819503784, 0.00010672211647033691, 0.001423930749297142, 0.000868380069732666, 0.000922083854675293, 0.010048206895589828, 0.0032942357938736677, 0.0003881466982420534, 0.04965854808688164, 0.003523975145071745, 0.07781189680099487, 0.1181253045797348, 0.0028144842945039272, 0.004896844737231731, 0.003210879862308502, 0.0022662929259240627, 0.0016226371517404914, 0.0020788933616131544, 0.00903724879026413, 0.10888790339231491, 0.008705477230250835, 0.018871277570724487, 0.004014169331640005, 0.000336979835992679, 0.01109316200017929, 0.006077483296394348, 0.009969423525035381, 0.0024678311310708523, 0.017675762996077538, 0.0016818344593048096, 0.0030096869450062513, 0.0012458860874176025, 0.012067924253642559, 0.013045619241893291, 0.009267836809158325, 0.1626230776309967, 0.013558171689510345, 0.040045447647571564, 0.025060251355171204, 0.00030410662293434143, 0.0003792140632867813, 0.00017041651881299913, 0.0006689348956570029, 0.000458316266303882, 0.0008641568711027503, 0.0009034226532094181, 0.00032206004834733903, 0.0005509071052074432, 0.0012773554772138596, 0.0008570521022193134, 0.002554347738623619, 0.0002305302768945694, 0.0006434768438339233, 0.0005620146985165775, 0.00016292184591293335, 0.000250181183218956, 2.800549191306345e-05, 0.00042836740612983704, 0.00026386789977550507, 0.017934104427695274, 0.02927914634346962, 0.0989408940076828, 0.003921343944966793, 0.0002541939611546695, 0.021438507363200188, 0.0016096855979412794, 0.05660196393728256, 0.15517204999923706, 0.10997682064771652, 0.07214256376028061, 0.0020605388563126326, 0.006174619309604168, 0.0015076672425493598, 0.0010092004667967558, 0.0016666434239596128, 0.0010524317622184753, 0.0020443457178771496, 0.002207896439358592, 0.0007902762736193836, 0.0003052235988434404, 0.0013071883004158735, 0.0012037053238600492, 0.0013473983854055405, 0.0015791244804859161, 0.0002195859997300431, 0.0028981990180909634, 0.00030747056007385254, 0.02505088970065117, 0.00396651541814208, 0.07044804096221924, 0.00039276271127164364, 0.0006392033537849784, 0.0007310050423257053, 0.0011006768327206373, 0.0005837364587932825, 0.0004510178114287555, 0.0005583892925642431, 0.0005679306341335177, 0.0006525072967633605, 0.0006523555493913591, 0.0009958971058949828, 0.0007627207669429481, 0.0005302121862769127, 0.0009758942760527134, 0.0008311571436934173, 0.001105066272430122, 0.0014738594181835651, 0.0013091026339679956, 0.0013627060689032078, 0.001156594487838447, 0.0015623013023287058, 0.0017143762670457363, 0.0010726540349423885, 0.001269738539122045, 0.0012688356218859553, 0.0008311764104291797, 0.0012196673778817058, 0.001375702559016645, 0.0010513239540159702, 0.0010381669271737337, 0.0026110392063856125, 0.0009619832853786647, 0.0027908484917134047, 0.00031053958809934556, 0.00021535344421863556, 0.0037781584542244673, 0.002572012599557638, 0.0027852128259837627, 0.002379582729190588, 0.0038289863150566816, 0.007448092103004456, 0.0057702334597706795, 0.0015743182739242911, 0.007797807455062866, 0.021319735795259476, 0.005208591930568218, 0.053184881806373596, 1.895284185593482e-05, 1.860000702436082e-05, 3.591106360545382e-05, 2.5934987206710503e-05, 1.7774040315998718e-05, 2.1603365894407034e-05, 3.5542354453355074e-05, 1.740087100188248e-05, 3.824939994956367e-05, 3.0637020245194435e-05, 3.2630654459353536e-05, 3.8170685002114624e-05, 2.7728403438231908e-05, 6.42370869172737e-05, 1.496092136221705e-05, 6.457577455876162e-06, 9.666167170507833e-05, 5.231413524597883e-06, 4.3222489694016986e-06, 7.530984930781415e-06, 2.3534852516604587e-05, 0.0001995234633795917, 1.764481930877082e-05, 1.0401476174592972e-05, 5.163485184311867e-06, 0.001390760182403028, 0.012672824785113335, 0.0019880011677742004, 0.08828593790531158, 0.0031699712853878736, 0.032053567469120026, 0.000645030289888382, 0.0018128815572708845, 0.0005896383663639426, 0.0009688455611467361, 0.000452650710940361, 0.0004884458030574024, 0.00031136241159401834, 0.002823007060214877, 0.0018691237783059478, 0.0005850879242643714, 0.0009662415832281113, 0.00019244074064772576, 0.0008906055008992553, 0.0007185991853475571, 0.0008454391499981284, 0.00013928224507253617, 0.0001939241774380207, 0.0025809488724917173, 0.0016624806448817253, 0.001773939235135913, 0.0029611042700707912, 0.0009904224425554276, 0.00024138732987921685, 0.00021692723385058343, 0.001733369193971157, 0.05365464836359024, 0.0016596106579527259, 8.187567436834797e-05, 0.031877972185611725, 0.00040963044739328325, 0.0004022146458737552, 0.004975646734237671, 0.000535331666469574, 0.0009289036388508976, 0.002710620639845729, 0.021329626441001892, 0.002870639320462942, 0.00011429935693740845, 0.007190041244029999, 0.0012142136693000793, 0.05437513440847397, 0.15605990588665009, 0.033776942640542984, 0.0017830997239798307, 0.0016402493929490447, 0.0008507728343829513, 0.0010667850729078054, 0.0012781480327248573, 0.00046594752348028123, 0.001017085975036025, 0.0002063227293547243, 0.000375090487068519, 0.0008343883673660457, 0.0008757133036851883, 0.0010192515328526497, 0.0014037378132343292, 0.058763593435287476, 0.0009027744526974857, 0.0014976536622270942, 0.006525847129523754, 0.001381687237881124, 0.0008278461173176765, 0.0010754754766821861, 0.0009024410392157733, 0.0004098033532500267, 0.0015765668358653784, 0.0005201517487876117, 8.852159226080403e-05, 0.000628102570772171, 0.0006747333100065589, 0.0006705591222271323, 0.0003312875924166292, 0.02142976224422455, 0.02214047871530056, 0.029695263132452965, 0.03380881994962692, 0.017873939126729965, 0.02691934071481228, 0.000993196270428598, 0.0014022467657923698, 0.0024653549771755934, 0.00019460669136606157, 0.001039806753396988, 0.0007592166657559574, 0.00032683712197467685, 0.021932348608970642, 0.0012817507376894355, 0.0016409903764724731, 4.6510249376297e-05, 0.002187289297580719, 0.006972655653953552, 0.0005436601932160556, 0.005416497588157654, 0.0010194405913352966, 0.000231480851653032, 0.004168556537479162, 0.005320447497069836, 0.00527558010071516, 0.007387779653072357, 0.002941615879535675, 0.08344726264476776, 0.013079771772027016, 0.006414664443582296, 0.00105767953209579, 0.0010587995639070868, 0.0002639169688336551, 0.00017343214130960405, 2.673516792128794e-05, 0.006371429190039635, 0.0005234020645730197, 0.00015072152018547058, 0.0009633737499825656, 0.0006040520966053009, 0.001682595699094236, 0.0020404185634106398, 0.003493125317618251, 4.559507215162739e-05, 0.03482576832175255, 5.610321295534959e-06, 4.988202704225841e-07, 2.0947967982465343e-07, 7.816221909706655e-07, 1.864032469711674e-06, 1.4821756622040994e-06, 1.6222815020228154e-06, 2.918832933573867e-06, 1.5983048342604889e-06, 1.5699964706072933e-06, 4.267084932507714e-06, 2.6508885184739484e-06, 1.2484614671848249e-05, 9.194895028485917e-06, 1.3490692936102278e-06, 1.710737524263095e-05, 5.777013711849577e-07, 8.597562555223703e-07, 1.2024150919387466e-06, 0.0008876671781763434, 0.0005207521608099341, 0.0006840887363068759, 0.0017735952278599143, 0.006422390695661306, 0.0025628507137298584, 0.0005297847092151642, 0.0065888911485672, 0.0009207464754581451, 0.0035539008677005768, 0.02310021221637726, 0.0033347855787724257, 0.0014079747488722205, 0.0015061249723657966, 0.0013421674957498908, 0.14709840714931488, 0.07422113418579102, 0.13199907541275024, 0.0010692080250009894, 2.995257636939641e-05, 0.0001755108532961458, 0.0002570822834968567, 0.003971288911998272, 0.03764686733484268, 0.021051213145256042, 0.0005322446813806891, 0.00045393407344818115, 0.0030905157327651978, 0.003362248418852687, 0.0004200885887257755, 0.010973840951919556, 9.39766614465043e-05, 1.8949232980958186e-05, 7.674144580960274e-05, 6.128211680334061e-05, 3.644661046564579e-05, 3.2159266993403435e-05, 0.00010717951226979494, 2.4576827399869217e-06, 2.662216684257146e-05, 0.00011563363659661263, 9.485935879638419e-05, 5.18440137966536e-05, 4.834961146116257e-05, 7.925128738861531e-05, 7.000907498877496e-05, 0.22562208771705627, 1.857026290963404e-05, 0.0013764237519353628, 3.237587952753529e-05, 0.006216615438461304, 0.001739799976348877, 0.056039124727249146, 0.08251415938138962, 0.007712667342275381, 0.00794350914657116, 0.025092264637351036, 0.008905110880732536, 0.00999265443533659, 0.004217013716697693, 0.008561825379729271, 0.00036584836198017, 0.012410445138812065, 0.008265666663646698, 0.0079050213098526, 0.005125766154378653, 0.043670654296875, 0.006444571074098349, 0.002571260090917349, 0.0032437294721603394, 0.0010911941062659025, 0.0004230508056934923, 0.002486536977812648, 0.004519566893577576, 0.007695416919887066, 3.492025280138478e-05, 0.033399730920791626, 0.0012166997184976935, 0.0032069049775600433, 0.0014780325582250953, 0.006276953034102917, 0.01856725662946701, 0.0032866261899471283, 0.004839576315134764, 0.005462120287120342, 0.0029591615311801434, 0.007519137114286423, 0.004448199179023504, 0.009873703122138977, 0.010016153566539288, 0.004706816282123327, 0.006137275602668524, 0.003379425033926964, 0.00601041316986084, 0.008483554236590862, 0.0024114656262099743, 0.23698624968528748, 0.02895299158990383, 0.0065186223946511745, 0.007948133163154125, 0.0053048222325742245, 0.010058814659714699, 0.008329765871167183, 0.008088277652859688, 0.0032170279882848263, 0.015173858031630516, 0.003389606950804591, 0.008871125057339668, 0.00012194675946375355, 0.0002546105533838272, 7.457038009306416e-05, 5.201933527132496e-05, 5.135933679412119e-05, 0.008171649649739265, 0.02132401242852211, 0.005151510238647461, 0.0031245104037225246, 0.014885833486914635, 0.04685632884502411, 0.0007529035210609436, 0.003572138724848628, 3.141661727568135e-05, 0.024205941706895828, 0.006392344832420349, 0.024105532094836235, 0.021968945860862732, 0.023059062659740448, 0.017165374010801315, 0.005256150849163532, 0.005054491572082043, 0.00505482405424118, 0.004935996141284704, 0.003758107777684927, 0.004433175083249807, 0.002804623683914542, 0.008284727111458778, 0.005232859402894974, 0.02864738367497921, 0.0018081516027450562, 0.0007407417288050056, 0.004596962593495846, 0.005402890499681234, 0.0034361444413661957, 0.0039036828093230724, 0.0033137935679405928, 0.004327506758272648, 0.00388411246240139, 0.03218050301074982, 0.004162271972745657, 0.0015296190977096558, 0.000982046127319336, 0.00042880576802417636, 0.001184128224849701, 0.015634283423423767, 0.011548742651939392, 0.005985046736896038, 0.0012845546007156372, 0.0027185827493667603, 0.0009206384420394897, 0.0013892899733036757, 0.0038100332021713257, 0.00169319414999336, 0.00046435496187768877, 0.002849420066922903, 0.002197394846007228, 0.0028348814230412245, 0.003207097528502345, 0.000342274724971503, 0.0008834898471832275, 0.006750961299985647, 0.008778548799455166, 0.007187593728303909, 0.0066883317194879055, 0.005389537662267685, 0.005483299493789673, 0.006523183546960354, 0.007262767758220434, 0.007805362343788147, 0.005241956561803818, 0.00871358998119831, 0.005497653968632221, 0.005224573891609907, 0.004615139216184616, 0.0014796145260334015, 0.0019061823841184378, 9.118641901295632e-05, 0.0010373815894126892, 4.8434361815452576e-05, 0.0004161400720477104, 0.0012514725094661117, 0.00047251791693270206, 0.00034593488089740276, 0.00022459565661847591, 0.000209323363378644, 0.00020359535119496286, 0.0003337994567118585, 0.0004426426603458822, 0.00020072772167623043, 0.00016855946159921587, 0.005513550713658333, 0.005397725850343704, 0.004178185015916824, 0.002753760665655136, 0.0056307073682546616, 0.005959102418273687, 0.007285071536898613, 0.004207540303468704, 0.0037528998218476772, 0.0039554741233587265, 0.006231979932636023, 0.0005820021033287048, 0.0002230083046015352, 0.001034339307807386, 0.0008109025657176971, 0.0026245564222335815, 0.0006103751948103309, 0.00010693042713683099, 1.7676502466201782e-05, 0.0004192435590084642, 5.1585957407951355e-05, 0.10541337728500366, 1.7706461221678182e-05, 0.00022268644534051418, 0.000526486779563129, 0.0001338507718173787, 3.844810180453351e-06, 0.00010737621778389439, 0.00017979121184907854, 0.00039987158379517496, 0.00011617535346886143, 0.0002610346709843725, 0.00021114604896865785, 9.113302076002583e-05, 0.00023401761427521706, 0.000255143124377355, 0.00019457051530480385, 0.00020195823162794113, 0.0021593845449388027, 0.00916844792664051, 0.004137189593166113, 0.00952940247952938, 0.004483354743570089, 0.012151236645877361, 0.01770838163793087, 0.0043861148878932, 0.0024865109007805586, 0.003193418262526393, 0.011550615541636944, 0.001127593219280243, 0.010489106178283691, 0.026439081877470016, 0.0007440149784088135, 0.003288350999355316, 0.00035793831921182573, 0.005397190805524588, 0.0010158134391531348, 0.0005878942902199924, 0.0016369856894016266, 0.06973324716091156, 0.0007669913466088474, 0.00011962155986111611, 0.00041556856012903154, 0.00040242698742076755, 0.0004154158232267946, 3.885974729200825e-05, 0.010990560054779053, 0.014840466901659966, 0.006988149136304855, 0.00506085529923439, 0.01281379908323288, 0.0006297355284914374, 0.005242206156253815, 0.005419475492089987, 0.01104554533958435, 0.0015015329699963331, 0.04116341471672058, 0.011839285492897034, 6.880114960949868e-05, 0.0005115941166877747, 0.0008255988359451294, 0.0025427553337067366, 0.0052826134487986565, 0.004688893910497427, 0.009720991365611553, 3.766113513847813e-05, 0.002997400937601924, 0.004899767693132162, 0.018005043268203735, 0.001260173856280744, 0.0003668417630251497, 0.012433494441211224, 0.00045144310570321977, 0.003391218837350607, 0.020106714218854904, 0.19821509718894958, 0.46908873319625854, 0.017118901014328003, 0.0353948138654232, 0.0013357715215533972, 0.0015932428650557995, 0.0007226284360513091, 0.0009997349698096514, 0.0010741117876023054, 0.0007789263036102057, 0.0009929460939019918, 0.0008933164062909782, 0.0010579873342067003, 0.0010831294348463416, 0.0007985100382938981, 0.0005805372493341565, 0.05673344060778618, 0.0014012705069035292, 0.0037288616877049208, 0.05932235345244408, 0.0023565914016216993, 0.0028910674154758453, 0.008196290582418442, 0.00030465921736322343, 0.006886681076139212, 7.020682096481323e-05, 0.0004830199177376926, 0.005090724676847458, 0.005531015805900097, 0.06377409398555756, 0.007011942565441132, 0.016523122787475586, 0.0003841569123324007, 0.00010543565440457314, 0.00037988898111507297, 6.264634430408478e-05, 0.00020449547446332872, 0.0006444432656280696, 0.0029279529117047787, 0.27126479148864746, 0.0017348292749375105, 0.0015825654845684767, 0.018547138199210167, 0.005182810127735138, 0.0018306536367163062, 0.0004157883522566408, 0.003919093869626522, 0.006055315490812063, 0.0012408507755026221, 0.059457436203956604, 0.0007746179471723735, 6.475222471635789e-05, 3.602526703616604e-05, 0.0016470623668283224, 0.00170350749976933]\n"
     ]
    }
   ],
   "source": [
    "import torch\n",
    "from torch_geometric.utils import k_hop_subgraph\n",
    "epsilon = 1e-8\n",
    "\n",
    "print(output_clean[idx_attach].argmax(dim=1))\n",
    "\n",
    "\n",
    "from torch_geometric.utils import k_hop_subgraph\n",
    "result_clean=[]\n",
    "for node_id in idx_train[:300]:\n",
    "    node_id = node_id.item()\n",
    "    subset, edge_index, mapping, edge_mask = k_hop_subgraph(node_id, 2, poison_edge_index, relabel_nodes=False)\n",
    "    loop_edges = edge_index[:, edge_index[0] == node_id]\n",
    "    non_loop_edges = edge_index[:, edge_index[0] != node_id]\n",
    "\n",
    "    selected_x = poison_x[subset]\n",
    "    \n",
    "    for i in range(loop_edges.size(1)):\n",
    "        # Current loop edge to remove\n",
    "        current_loop_edge = loop_edges[:, i]\n",
    "\n",
    "        # Find indices of the current loop edge and its reverse\n",
    "        forward_edge_mask = (edge_index[0] == current_loop_edge[0]) & (edge_index[1] == current_loop_edge[1])\n",
    "        reverse_edge_mask = (edge_index[0] == current_loop_edge[1]) & (edge_index[1] == current_loop_edge[0])\n",
    "\n",
    "        # Combine masks for forward and reverse edges\n",
    "        combined_mask = forward_edge_mask | reverse_edge_mask\n",
    "\n",
    "        # Remove both forward and reverse edges from the graph\n",
    "        modified_edge_index = edge_index[:, ~combined_mask]\n",
    "\n",
    "        edge_weights = torch.ones(modified_edge_index.size(1), dtype=torch.float, device=device)\n",
    "\n",
    "        output, x = test_model(poison_x, modified_edge_index, edge_weights)\n",
    "        output = output[node_id]\n",
    "        output = torch.exp(output)\n",
    "        output += epsilon\n",
    "        # print(output)\n",
    "        # print(output_clean[node_id])\n",
    "        deviation = F.kl_div(output.log(), output_clean[node_id], reduce=False)\n",
    "        result_clean.append(deviation.mean().item())\n",
    "        # print(deviation.mean().item())\n",
    "print(result_clean)"
   ]
  },
  {
   "cell_type": "code",
   "execution_count": 48,
   "metadata": {},
   "outputs": [
    {
     "name": "stdout",
     "output_type": "stream",
     "text": [
      "[1.2977380752563477, 0.950320839881897, 0.37811070680618286, 0.07882420718669891, 1.4903225898742676, 0.8596345782279968, 1.0516297817230225, 0.48909837007522583, 0.788267970085144, 0.4453601837158203, 1.1475379467010498, 0.45884519815444946, 1.3244860172271729, 0.9546791911125183, 0.07504454255104065, 0.3208126127719879, 0.8683804273605347, 1.2308802604675293, 0.41911572217941284, 0.309292733669281, 0.6054389476776123, 0.3337344527244568, 0.9251076579093933, 0.9914975166320801, 1.2147763967514038, 1.4215353727340698, 0.047294892370700836, 2.2077574729919434, 1.5065945386886597, 0.45738351345062256, 0.8448051810264587, 1.3847031593322754, 1.9852842092514038, 0.2659023404121399, 2.203679084777832, 1.2907702922821045, 1.3443453311920166, 0.9638511538505554, 1.0708000659942627, 1.1990312337875366, 0.5467737913131714, 0.057270631194114685, 1.3864479064941406, 1.1133534908294678, 0.3127886652946472, 0.8844665288925171, 2.172104597091675, 0.9507893919944763, 0.5689969062805176, 0.7490334510803223, 1.2811367511749268, 1.2578036785125732, 0.10612934827804565, 1.1469602584838867, 0.9662535190582275, 1.0326588153839111, 1.0911824703216553, 1.3632395267486572, 1.1137620210647583, 0.6100517511367798, 0.7303030490875244, 2.1706271171569824, 0.9553132057189941, 0.8910871744155884, 0.2239769548177719, 0.9893349409103394, 1.0092839002609253, 0.3751252591609955, 0.37292778491973877, 1.1987627744674683, 0.7987072467803955, 0.8191410303115845, 0.886060893535614, 0.47938117384910583, 2.0415923595428467, 0.8809616565704346, 0.7678511142730713, 3.0774669647216797, 0.8783612251281738, 0.7303192019462585, 1.0855787992477417, 2.095139503479004, 0.6585174798965454, 0.4246842861175537, 0.6981054544448853, 0.7094926238059998, 1.6530077457427979, 1.633575201034546, 1.6109274625778198, 1.8749198913574219, 0.5203888416290283, 0.8719357252120972, 0.18485435843467712, 0.21331928670406342, 1.2680003643035889, 1.0979347229003906, 0.8347844481468201]\n"
     ]
    }
   ],
   "source": [
    "result_trigger = []\n",
    "for node_id in idx_attach:\n",
    "    node_id = node_id.item()\n",
    "    subset, edge_index, mapping, edge_mask = k_hop_subgraph(node_id, 2, poison_edge_index, relabel_nodes=False)\n",
    "    loop_edges = edge_index[:, edge_index[0] == node_id]\n",
    "    non_loop_edges = edge_index[:, edge_index[0] != node_id]\n",
    "\n",
    "    selected_x = poison_x[subset]\n",
    "    \n",
    "    for i in range(loop_edges.size(1)):\n",
    "        # Current loop edge to remove\n",
    "        current_loop_edge = loop_edges[:, i]\n",
    "\n",
    "        # Find indices of the current loop edge and its reverse\n",
    "        forward_edge_mask = (edge_index[0] == current_loop_edge[0]) & (edge_index[1] == current_loop_edge[1])\n",
    "        reverse_edge_mask = (edge_index[0] == current_loop_edge[1]) & (edge_index[1] == current_loop_edge[0])\n",
    "\n",
    "        # Combine masks for forward and reverse edges\n",
    "        combined_mask = forward_edge_mask | reverse_edge_mask\n",
    "\n",
    "        # Remove both forward and reverse edges from the graph\n",
    "        modified_edge_index = edge_index[:, ~combined_mask]\n",
    "\n",
    "        edge_weights = torch.ones(modified_edge_index.size(1), dtype=torch.float, device=device)\n",
    "\n",
    "        output, x = test_model(poison_x, modified_edge_index, edge_weights)\n",
    "        output = output[node_id]\n",
    "        output = torch.exp(output)\n",
    "        output += epsilon\n",
    "        # print(output)\n",
    "        # print(output_clean[node_id])\n",
    "        deviation = F.kl_div(output.log(), output_clean[node_id], reduce=False)\n",
    "        \n",
    "        if loop_edges[:,i][1]>len(data.x):\n",
    "            # print(loop_edges[:,i][1])\n",
    "            result_trigger.append(deviation.mean().item())\n",
    "            \n",
    "        # else:\n",
    "        # print(deviation.mean().item())\n",
    "            # result_clean.append(deviation.mean().item())\n",
    "\n",
    "        # result_trigger.append(deviation.mean().item())\n",
    "        # print(deviation.mean().item())\n",
    "print(result_trigger)"
   ]
  },
  {
   "cell_type": "code",
   "execution_count": 49,
   "metadata": {},
   "outputs": [
    {
     "name": "stdout",
     "output_type": "stream",
     "text": [
      "97\n",
      "0.047294892370700836\n",
      "3.0774669647216797\n",
      "[3.0774669647216797, 2.2077574729919434, 2.203679084777832, 2.172104597091675, 2.1706271171569824, 2.095139503479004, 2.0415923595428467, 1.9852842092514038, 1.8749198913574219, 1.6530077457427979, 1.633575201034546, 1.6109274625778198, 1.5065945386886597, 1.4903225898742676, 1.4215353727340698, 1.3864479064941406, 1.3847031593322754, 1.3632395267486572, 1.3443453311920166, 1.3244860172271729, 1.2977380752563477, 1.2907702922821045, 1.2811367511749268, 1.2680003643035889, 1.2578036785125732, 1.2308802604675293, 1.2147763967514038, 1.1990312337875366, 1.1987627744674683, 1.1475379467010498, 1.1469602584838867, 1.1137620210647583, 1.1133534908294678, 1.0979347229003906, 1.0911824703216553, 1.0855787992477417, 1.0708000659942627, 1.0516297817230225, 1.0326588153839111, 1.0092839002609253, 0.9914975166320801, 0.9893349409103394, 0.9662535190582275, 0.9638511538505554, 0.9553132057189941, 0.9546791911125183, 0.9507893919944763, 0.950320839881897, 0.9251076579093933, 0.8910871744155884, 0.886060893535614, 0.8844665288925171, 0.8809616565704346, 0.8783612251281738, 0.8719357252120972, 0.8683804273605347, 0.8596345782279968, 0.8448051810264587, 0.8347844481468201, 0.8191410303115845, 0.7987072467803955, 0.788267970085144, 0.7678511142730713, 0.7490334510803223, 0.7303192019462585, 0.7303030490875244, 0.7094926238059998, 0.6981054544448853, 0.6585174798965454, 0.6100517511367798, 0.6054389476776123, 0.5689969062805176, 0.5467737913131714, 0.5203888416290283, 0.48909837007522583, 0.47938117384910583, 0.45884519815444946, 0.45738351345062256, 0.4453601837158203, 0.4246842861175537, 0.41911572217941284, 0.37811070680618286, 0.3751252591609955, 0.37292778491973877, 0.3337344527244568, 0.3208126127719879, 0.3127886652946472, 0.309292733669281, 0.2659023404121399, 0.2239769548177719, 0.21331928670406342, 0.18485435843467712, 0.10612934827804565, 0.07882420718669891, 0.07504454255104065, 0.057270631194114685, 0.047294892370700836]\n",
      "0.8452873229980469\n",
      "[0.8452873229980469, 0.46908873319625854, 0.45397529006004333, 0.39428645372390747, 0.3058874309062958, 0.27126479148864746, 0.23698624968528748, 0.23549330234527588, 0.22562208771705627, 0.19821509718894958, 0.16468475759029388, 0.1626230776309967, 0.15798304975032806, 0.15605990588665009, 0.15517204999923706, 0.14709840714931488, 0.13199907541275024, 0.1285494714975357, 0.12091435492038727, 0.1181253045797348, 0.10997682064771652, 0.10888790339231491, 0.10541337728500366, 0.0989408940076828, 0.09543657302856445, 0.0949375256896019, 0.09301000833511353, 0.0887475460767746, 0.08828593790531158, 0.08671317994594574, 0.08344726264476776, 0.08251415938138962, 0.07781189680099487, 0.07422113418579102, 0.07214256376028061, 0.07044804096221924, 0.06973324716091156, 0.06893835961818695, 0.06377409398555756, 0.059457436203956604, 0.05944450944662094, 0.05932235345244408, 0.058763593435287476, 0.05673344060778618, 0.05660196393728256, 0.056039124727249146, 0.05437513440847397, 0.05365464836359024, 0.053184881806373596, 0.0507669523358345, 0.04965854808688164, 0.04716971516609192, 0.04685632884502411, 0.04624851047992706, 0.043670654296875, 0.04351023584604263, 0.04212063178420067, 0.04116341471672058, 0.040045447647571564, 0.03930558264255524, 0.03764686733484268, 0.03761085495352745, 0.036510270088911057, 0.03583022579550743, 0.0353948138654232, 0.03534041345119476, 0.03482576832175255, 0.03380881994962692, 0.033776942640542984, 0.033399730920791626, 0.03218050301074982, 0.032053567469120026, 0.031877972185611725, 0.031830161809921265, 0.03158973529934883, 0.030067872256040573, 0.030044924467802048, 0.029695263132452965, 0.02927914634346962, 0.02895299158990383, 0.02864738367497921, 0.02845669351518154, 0.02712632343173027, 0.02691934071481228, 0.026439081877470016, 0.025424635037779808, 0.02529364824295044, 0.025092264637351036, 0.025060251355171204, 0.02505088970065117, 0.025042738765478134, 0.024205941706895828, 0.024105532094836235, 0.02310021221637726, 0.023059062659740448, 0.02214047871530056, 0.021968945860862732, 0.021932348608970642, 0.021673373878002167, 0.021438507363200188, 0.02142976224422455, 0.021329626441001892, 0.02132401242852211, 0.021319735795259476, 0.021051213145256042, 0.020826175808906555, 0.020731236785650253, 0.020106714218854904, 0.01915142498910427, 0.018871277570724487, 0.01856725662946701, 0.018547138199210167, 0.018247123807668686, 0.018005043268203735, 0.017938120290637016, 0.017934104427695274, 0.017873939126729965, 0.017799189314246178, 0.017751451581716537, 0.01771436631679535, 0.01770838163793087, 0.017675762996077538, 0.01738925836980343, 0.017219139263033867, 0.017165374010801315, 0.017118901014328003, 0.016794469207525253, 0.016523122787475586, 0.01595868170261383, 0.015634283423423767, 0.01557090412825346, 0.015423203818500042, 0.015173858031630516, 0.015041433274745941, 0.014885833486914635, 0.014840466901659966, 0.014427796006202698, 0.013558171689510345, 0.013120274059474468, 0.013079771772027016, 0.013045619241893291, 0.01281379908323288, 0.012672824785113335, 0.012433494441211224, 0.012410445138812065, 0.012362468056380749, 0.012266352772712708, 0.012151236645877361, 0.012067924253642559, 0.012060848996043205, 0.011893751099705696, 0.011876314878463745, 0.011839285492897034, 0.011715668253600597, 0.011698096990585327, 0.011550615541636944, 0.011548742651939392, 0.01135165523737669, 0.011145289056003094, 0.01109316200017929, 0.01104792021214962, 0.01104554533958435, 0.010990560054779053, 0.010973840951919556, 0.010568353347480297, 0.010489106178283691, 0.01048105489462614, 0.010477746836841106, 0.010251887142658234, 0.010058814659714699, 0.010048206895589828, 0.010024234652519226, 0.010016153566539288, 0.00999265443533659, 0.009969423525035381, 0.009873703122138977, 0.009816944599151611, 0.009720991365611553, 0.009574085474014282, 0.00952940247952938, 0.009489640593528748, 0.009281855076551437, 0.009267836809158325, 0.00916844792664051, 0.009131960570812225, 0.00912520568817854, 0.00903724879026413, 0.009005775675177574, 0.008947080001235008, 0.008905110880732536, 0.008871125057339668, 0.00883572082966566, 0.008783127181231976, 0.008778548799455166, 0.00871358998119831, 0.008705477230250835, 0.008561825379729271, 0.008483554236590862, 0.008370107039809227, 0.008329765871167183, 0.008284727111458778, 0.008265666663646698, 0.008196290582418442, 0.008171649649739265, 0.008088277652859688, 0.00796530582010746, 0.007948133163154125, 0.00794350914657116, 0.007920949719846249, 0.0079050213098526, 0.007805362343788147, 0.007797807455062866, 0.007712667342275381, 0.007695416919887066, 0.007519137114286423, 0.007498142775148153, 0.007448092103004456, 0.007387779653072357, 0.007285071536898613, 0.007262767758220434, 0.007190982811152935, 0.007190041244029999, 0.007188643328845501, 0.007187593728303909, 0.007110933773219585, 0.007011942565441132, 0.006988149136304855, 0.006972655653953552, 0.006940255872905254, 0.006886681076139212, 0.006750961299985647, 0.0066883317194879055, 0.006672114133834839, 0.0065939477644860744, 0.0065888911485672, 0.006525847129523754, 0.006523183546960354, 0.0065186223946511745, 0.006477519869804382, 0.006444843020290136, 0.006444571074098349, 0.006422390695661306, 0.006414664443582296, 0.006392344832420349, 0.0063880858942866325, 0.006371429190039635, 0.0063416436314582825, 0.006276953034102917, 0.006231979932636023, 0.006216615438461304, 0.006174619309604168, 0.006137275602668524, 0.006077483296394348, 0.006055315490812063, 0.00601041316986084, 0.005985046736896038, 0.005959102418273687, 0.005916088819503784, 0.005842546932399273, 0.0057702334597706795, 0.005763049237430096, 0.0056307073682546616, 0.005630414001643658, 0.0055937133729457855, 0.005566011182963848, 0.005531015805900097, 0.005515966098755598, 0.005513550713658333, 0.005497653968632221, 0.005483299493789673, 0.005462120287120342, 0.005419475492089987, 0.005416497588157654, 0.005402890499681234, 0.005397725850343704, 0.005397190805524588, 0.005389537662267685, 0.005386382341384888, 0.005384269170463085, 0.005353820975869894, 0.005350057035684586, 0.005320447497069836, 0.005319739691913128, 0.0053048222325742245, 0.0052826134487986565, 0.00527558010071516, 0.0052675469778478146, 0.005256150849163532, 0.005242206156253815, 0.005241956561803818, 0.005232859402894974, 0.005224573891609907, 0.005208591930568218, 0.005182810127735138, 0.005151510238647461, 0.005125766154378653, 0.005090724676847458, 0.005087519995868206, 0.005065766628831625, 0.00506085529923439, 0.00505482405424118, 0.005054491572082043, 0.004975646734237671, 0.004964575171470642, 0.004935996141284704, 0.004903356544673443, 0.004899767693132162, 0.004896844737231731, 0.00488387793302536, 0.004845199640840292, 0.004839576315134764, 0.004706816282123327, 0.004688893910497427, 0.004615139216184616, 0.004596962593495846, 0.004584181122481823, 0.004550380166620016, 0.004519566893577576, 0.004509091377258301, 0.004483354743570089, 0.004448199179023504, 0.004447107668966055, 0.004438964184373617, 0.004433175083249807, 0.004406226333230734, 0.0043861148878932, 0.004327506758272648, 0.004278404172509909, 0.004217013716697693, 0.004207540303468704, 0.004178185015916824, 0.004168556537479162, 0.004162271972745657, 0.004137189593166113, 0.004056519828736782, 0.004039580933749676, 0.004014169331640005, 0.003971288911998272, 0.00396651541814208, 0.003958342131227255, 0.0039554741233587265, 0.003921343944966793, 0.003919093869626522, 0.0039036828093230724, 0.003890346735715866, 0.00388411246240139, 0.003880530595779419, 0.0038289863150566816, 0.0038100332021713257, 0.0037781584542244673, 0.003758107777684927, 0.0037528998218476772, 0.0037483673077076674, 0.0037288616877049208, 0.00366220879368484, 0.003572138724848628, 0.0035539008677005768, 0.003523975145071745, 0.0035229537170380354, 0.003506205976009369, 0.003501353319734335, 0.003493125317618251, 0.003468173323199153, 0.0034361444413661957, 0.003391218837350607, 0.003389606950804591, 0.003379425033926964, 0.003362248418852687, 0.0033347855787724257, 0.0033137935679405928, 0.0032942357938736677, 0.003294175025075674, 0.003288350999355316, 0.0032866261899471283, 0.0032437294721603394, 0.0032170279882848263, 0.003210879862308502, 0.003207097528502345, 0.0032069049775600433, 0.003193418262526393, 0.0031892559491097927, 0.0031699712853878736, 0.0031474034767597914, 0.0031245104037225246, 0.0030905157327651978, 0.003079160815104842, 0.003063549753278494, 0.0030412774067372084, 0.0030096869450062513, 0.002997400937601924, 0.002983370330184698, 0.0029625201132148504, 0.0029611042700707912, 0.0029591615311801434, 0.0029439318459481, 0.002941615879535675, 0.0029359832406044006, 0.0029321364127099514, 0.0029279529117047787, 0.0028981990180909634, 0.0028910674154758453, 0.0028823267202824354, 0.002874041674658656, 0.002870639320462942, 0.002849420066922903, 0.002842262387275696, 0.0028348814230412245, 0.002823007060214877, 0.0028144842945039272, 0.002804623683914542, 0.002804212272167206, 0.002800112124532461, 0.0027908484917134047, 0.0027852128259837627, 0.0027612075209617615, 0.0027571420650929213, 0.002753760665655136, 0.002748283324763179, 0.0027185827493667603, 0.002710620639845729, 0.0027092844247817993, 0.0026245564222335815, 0.0026110392063856125, 0.0025922581553459167, 0.0025809488724917173, 0.0025768927298486233, 0.002572012599557638, 0.002571260090917349, 0.0025628507137298584, 0.002554347738623619, 0.0025472473353147507, 0.0025427553337067366, 0.002486536977812648, 0.0024865109007805586, 0.0024678311310708523, 0.0024653549771755934, 0.002462349832057953, 0.002425695536658168, 0.0024114656262099743, 0.002394114388152957, 0.0023810975253582, 0.002379582729190588, 0.0023565914016216993, 0.0023073290940374136, 0.002294667763635516, 0.0022773544769734144, 0.0022675693035125732, 0.0022662929259240627, 0.002207896439358592, 0.002197394846007228, 0.002187289297580719, 0.0021649114787578583, 0.0021593845449388027, 0.0021368018351495266, 0.0021331775933504105, 0.0021164182107895613, 0.0021012327633798122, 0.0020788933616131544, 0.0020605388563126326, 0.002046257257461548, 0.0020443457178771496, 0.0020404185634106398, 0.002024711575359106, 0.0020209222566336393, 0.0019944510422647, 0.0019880011677742004, 0.001986425369977951, 0.001980528235435486, 0.0019710685592144728, 0.0019642352126538754, 0.001958062406629324, 0.0019493898143991828, 0.001930552301928401, 0.001926568103954196, 0.0019245899748057127, 0.0019236467778682709, 0.0019093155860900879, 0.0019061823841184378, 0.0018990486860275269, 0.0018885508179664612, 0.0018878281116485596, 0.001876838505268097, 0.0018691237783059478, 0.0018671900033950806, 0.0018648518016561866, 0.0018627243116497993, 0.001853129593655467, 0.0018306536367163062, 0.0018202252686023712, 0.0018194864969700575, 0.0018128815572708845, 0.0018081516027450562, 0.0018051385413855314, 0.0017830997239798307, 0.001773939235135913, 0.0017735952278599143, 0.0017630060901865363, 0.001739799976348877, 0.0017362283542752266, 0.0017348292749375105, 0.001733369193971157, 0.0017265044152736664, 0.0017259170999750495, 0.001716994447633624, 0.0017143762670457363, 0.00170350749976933, 0.0016943620285019279, 0.00169319414999336, 0.001682595699094236, 0.0016818344593048096, 0.0016699049156159163, 0.0016666434239596128, 0.0016624806448817253, 0.0016596106579527259, 0.0016555053880438209, 0.0016470623668283224, 0.0016409903764724731, 0.0016402493929490447, 0.0016369856894016266, 0.0016235820949077606, 0.0016226371517404914, 0.0016096855979412794, 0.0015932428650557995, 0.0015825654845684767, 0.0015818167012184858, 0.0015791244804859161, 0.0015765668358653784, 0.0015759698580950499, 0.0015743182739242911, 0.0015623013023287058, 0.0015439571579918265, 0.0015316655626520514, 0.0015296190977096558, 0.0015225758543238044, 0.0015076672425493598, 0.0015061249723657966, 0.0015015329699963331, 0.0014976536622270942, 0.0014796145260334015, 0.0014780325582250953, 0.0014738594181835651, 0.0014521268894895911, 0.0014493981143459678, 0.0014442838728427887, 0.0014442622195929289, 0.001437778351828456, 0.0014372393488883972, 0.0014308288227766752, 0.001429407624527812, 0.001423930749297142, 0.0014079747488722205, 0.0014037378132343292, 0.0014022467657923698, 0.0014012705069035292, 0.0013963577803224325, 0.001390760182403028, 0.0013892899733036757, 0.0013884585350751877, 0.001381687237881124, 0.001379994093440473, 0.0013764237519353628, 0.0013761818408966064, 0.001375702559016645, 0.0013627060689032078, 0.0013473983854055405, 0.0013421674957498908, 0.0013357715215533972, 0.0013308189809322357, 0.0013091026339679956, 0.0013071883004158735, 0.0012966364156454802, 0.0012907256605103612, 0.0012891588266938925, 0.0012845546007156372, 0.0012817507376894355, 0.0012794740032404661, 0.0012781480327248573, 0.0012773554772138596, 0.001269738539122045, 0.0012688356218859553, 0.001260173856280744, 0.001256374642252922, 0.0012560015311464667, 0.0012514725094661117, 0.0012458860874176025, 0.0012408507755026221, 0.0012266449630260468, 0.0012196673778817058, 0.0012166997184976935, 0.0012142136693000793, 0.0012037516571581364, 0.0012037053238600492, 0.0011878997320309281, 0.001184128224849701, 0.0011761540081351995, 0.001172588556073606, 0.001156594487838447, 0.0011299442267045379, 0.001127593219280243, 0.0011258175363764167, 0.0011167488992214203, 0.0011128647020086646, 0.0011113410582765937, 0.0011059856042265892, 0.001105066272430122, 0.0011006768327206373, 0.0010934645542874932, 0.0010917950421571732, 0.0010911941062659025, 0.0010892925783991814, 0.0010831294348463416, 0.0010812627151608467, 0.0010754754766821861, 0.0010741117876023054, 0.0010726540349423885, 0.0010692080250009894, 0.0010667850729078054, 0.0010587995639070868, 0.0010579873342067003, 0.00105767953209579, 0.0010524317622184753, 0.0010513239540159702, 0.001039806753396988, 0.0010381669271737337, 0.001037518261000514, 0.0010373815894126892, 0.0010362789034843445, 0.001034339307807386, 0.0010309964418411255, 0.0010264904703944921, 0.0010194405913352966, 0.0010192515328526497, 0.001017085975036025, 0.0010158134391531348, 0.001014903886243701, 0.0010097710182890296, 0.0010092004667967558, 0.0009997349698096514, 0.0009971149265766144, 0.0009958971058949828, 0.0009955255081877112, 0.000993217690847814, 0.000993196270428598, 0.0009929460939019918, 0.0009904224425554276, 0.000982046127319336, 0.0009798003593459725, 0.0009758942760527134, 0.0009688455611467361, 0.0009662415832281113, 0.0009633737499825656, 0.0009619832853786647, 0.0009519855375401676, 0.0009458474814891815, 0.0009336099028587341, 0.0009289036388508976, 0.000922083854675293, 0.0009207464754581451, 0.0009206384420394897, 0.0009079470182769, 0.0009066542843356729, 0.0009034226532094181, 0.0009027744526974857, 0.0009024410392157733, 0.0008933164062909782, 0.0008906055008992553, 0.0008903585840016603, 0.0008876671781763434, 0.000886362511664629, 0.0008834898471832275, 0.0008830096339806914, 0.0008757133036851883, 0.0008755940943956375, 0.0008740996709093451, 0.0008686287328600883, 0.000868380069732666, 0.0008641568711027503, 0.0008570521022193134, 0.0008507728343829513, 0.0008504875004291534, 0.0008454391499981284, 0.0008343883673660457, 0.000833685218822211, 0.0008311764104291797, 0.0008311571436934173, 0.0008290546829812229, 0.0008278461173176765, 0.0008255988359451294, 0.0008211792446672916, 0.0008109025657176971, 0.0008092783391475677, 0.0008083700085990131, 0.0007985100382938981, 0.0007930429419502616, 0.0007924862438812852, 0.0007902762736193836, 0.0007824985077604651, 0.0007789263036102057, 0.0007746179471723735, 0.0007732618832960725, 0.0007669913466088474, 0.0007627207669429481, 0.0007592166657559574, 0.0007529035210609436, 0.0007440149784088135, 0.0007407417288050056, 0.0007310050423257053, 0.0007266447646543384, 0.0007226284360513091, 0.0007206543232314289, 0.0007185991853475571, 0.0007114897016435862, 0.0007084285607561469, 0.0006991479313001037, 0.0006840887363068759, 0.0006808614125475287, 0.0006756882066838443, 0.0006747333100065589, 0.0006705591222271323, 0.0006689348956570029, 0.0006525072967633605, 0.0006523555493913591, 0.000645030289888382, 0.0006444432656280696, 0.0006434768438339233, 0.0006407536566257477, 0.0006392033537849784, 0.0006297355284914374, 0.000628102570772171, 0.0006220763316377997, 0.0006164952064864337, 0.0006103751948103309, 0.0006040520966053009, 0.0005985039169900119, 0.000595891266129911, 0.0005946165765635669, 0.0005896383663639426, 0.0005878942902199924, 0.0005850879242643714, 0.0005837364587932825, 0.0005820021033287048, 0.0005805372493341565, 0.000569172843825072, 0.0005679306341335177, 0.0005620146985165775, 0.0005583892925642431, 0.000557897612452507, 0.0005532832583412528, 0.0005520149134099483, 0.0005509071052074432, 0.0005494995857588947, 0.0005488644237630069, 0.0005436601932160556, 0.000535331666469574, 0.0005322446813806891, 0.0005302121862769127, 0.0005297847092151642, 0.0005276917363516986, 0.000526486779563129, 0.0005234020645730197, 0.0005207521608099341, 0.0005201517487876117, 0.0005167530616745353, 0.0005115941166877747, 0.0005037753726355731, 0.0004977569333277643, 0.0004963725805282593, 0.0004926262190565467, 0.000490769452881068, 0.0004884458030574024, 0.00048541295109316707, 0.0004830199177376926, 0.00047251791693270206, 0.00046594752348028123, 0.00046435496187768877, 0.00046118046157062054, 0.000458316266303882, 0.00045594945549964905, 0.00045393407344818115, 0.000452650710940361, 0.00045144310570321977, 0.0004510178114287555, 0.0004426426603458822, 0.0004398748278617859, 0.0004351884126663208, 0.00042880576802417636, 0.00042836740612983704, 0.0004247725009918213, 0.0004230508056934923, 0.0004200885887257755, 0.0004192435590084642, 0.0004161400720477104, 0.0004157883522566408, 0.00041556856012903154, 0.0004154158232267946, 0.0004123167018406093, 0.0004098033532500267, 0.00040963044739328325, 0.00040242698742076755, 0.0004022146458737552, 0.00039987158379517496, 0.00039276271127164364, 0.0003887477214448154, 0.0003881466982420534, 0.0003841569123324007, 0.0003802857827395201, 0.00037988898111507297, 0.0003792140632867813, 0.00037710307515226305, 0.00037534753209911287, 0.000375090487068519, 0.00037404545582830906, 0.00037327231257222593, 0.0003724205307662487, 0.0003671674057841301, 0.0003668417630251497, 0.00036584836198017, 0.0003642762894742191, 0.00035793831921182573, 0.00034593488089740276, 0.000342274724971503, 0.00033908835030160844, 0.0003375572559889406, 0.00033739954233169556, 0.000336979835992679, 0.0003350724873598665, 0.0003344242868479341, 0.0003337994567118585, 0.00033295550383627415, 0.0003312875924166292, 0.00032700476003810763, 0.00032699978328309953, 0.00032683712197467685, 0.00032485401607118547, 0.00032206004834733903, 0.0003218180499970913, 0.00031136241159401834, 0.00031053958809934556, 0.00030747056007385254, 0.0003052235988434404, 0.00030465921736322343, 0.00030410662293434143, 0.00030013424111530185, 0.0002989565837197006, 0.0002889741153921932, 0.0002846788556780666, 0.0002762571384664625, 0.00027546536875888705, 0.0002733722794800997, 0.0002639169688336551, 0.00026386789977550507, 0.00026164454175159335, 0.0002610346709843725, 0.00025841471506282687, 0.00025710463523864746, 0.0002570822834968567, 0.00025640492094680667, 0.000255143124377355, 0.0002546105533838272, 0.0002541939611546695, 0.000250181183218956, 0.00024138732987921685, 0.0002403374237474054, 0.00023401761427521706, 0.000231480851653032, 0.0002305302768945694, 0.0002260829060105607, 0.0002254511637147516, 0.00022459565661847591, 0.0002230083046015352, 0.00022268644534051418, 0.0002195859997300431, 0.00021812475461047143, 0.00021692723385058343, 0.00021535344421863556, 0.0002123707381542772, 0.00021114604896865785, 0.00020980618137400597, 0.000209323363378644, 0.0002063227293547243, 0.0002058073878288269, 0.00020449547446332872, 0.00020359535119496286, 0.00020195823162794113, 0.00020158695406280458, 0.00020072772167623043, 0.0001995234633795917, 0.00019681453704833984, 0.00019460669136606157, 0.00019457051530480385, 0.0001939241774380207, 0.00019244074064772576, 0.0001841516641434282, 0.00017979121184907854, 0.0001755108532961458, 0.00017343214130960405, 0.00017041651881299913, 0.00016892142593860626, 0.00016870505351107568, 0.00016855946159921587, 0.00016530719585716724, 0.00016292184591293335, 0.0001600061950739473, 0.00015072152018547058, 0.00014879570517223328, 0.00014412961900234222, 0.00014402717351913452, 0.00014035403728485107, 0.00013928224507253617, 0.00013877576566301286, 0.00013688206672668457, 0.00013486544776242226, 0.0001338507718173787, 0.00013192743062973022, 0.00012194675946375355, 0.00011962155986111611, 0.00011746794916689396, 0.00011617535346886143, 0.00011563363659661263, 0.00011429935693740845, 0.00011242678010603413, 0.00011151393118780106, 0.00011134396481793374, 0.00010737621778389439, 0.00010717951226979494, 0.00010693042713683099, 0.00010672211647033691, 0.00010543565440457314, 0.00010530806321185082, 9.666167170507833e-05, 9.485935879638419e-05, 9.39766614465043e-05, 9.274296462535858e-05, 9.118641901295632e-05, 9.113302076002583e-05, 8.905989670893177e-05, 8.852159226080403e-05, 8.638513827463612e-05, 8.187567436834797e-05, 7.925128738861531e-05, 7.674144580960274e-05, 7.457038009306416e-05, 7.184160494944081e-05, 7.020682096481323e-05, 7.000907498877496e-05, 6.880114960949868e-05, 6.475222471635789e-05, 6.42370869172737e-05, 6.264634430408478e-05, 6.128211680334061e-05, 6.0741713241441175e-05, 5.201933527132496e-05, 5.18440137966536e-05, 5.1585957407951355e-05, 5.147358024260029e-05, 5.135933679412119e-05, 4.922521111438982e-05, 4.8434361815452576e-05, 4.834961146116257e-05, 4.6510249376297e-05, 4.631529373000376e-05, 4.559507215162739e-05, 4.2549025238258764e-05, 4.018827894469723e-05, 3.95247116102837e-05, 3.885974729200825e-05, 3.824939994956367e-05, 3.8170685002114624e-05, 3.766113513847813e-05, 3.644661046564579e-05, 3.6332447052700445e-05, 3.602526703616604e-05, 3.591106360545382e-05, 3.5542354453355074e-05, 3.492025280138478e-05, 3.4265220165252686e-05, 3.2630654459353536e-05, 3.237587952753529e-05, 3.2159266993403435e-05, 3.141661727568135e-05, 3.14079225063324e-05, 3.0896044336259365e-05, 3.0637020245194435e-05, 2.995257636939641e-05, 2.800549191306345e-05, 2.7728403438231908e-05, 2.6984762371284887e-05, 2.673516792128794e-05, 2.662216684257146e-05, 2.5934987206710503e-05, 2.3534852516604587e-05, 2.1603365894407034e-05, 1.895284185593482e-05, 1.8949232980958186e-05, 1.8765711502055638e-05, 1.860000702436082e-05, 1.857026290963404e-05, 1.7774040315998718e-05, 1.7706461221678182e-05, 1.7676502466201782e-05, 1.764481930877082e-05, 1.740087100188248e-05, 1.710737524263095e-05, 1.6069312550825998e-05, 1.5159137547016144e-05, 1.496092136221705e-05, 1.2484614671848249e-05, 1.1459595043561421e-05, 1.0623868547554594e-05, 1.0401476174592972e-05, 9.354682333650999e-06, 9.194895028485917e-06, 9.041296834766399e-06, 8.875575076672249e-06, 8.669611816003453e-06, 8.558061381336302e-06, 8.466951840091497e-06, 8.4441253420664e-06, 8.332352081197314e-06, 8.302238711621612e-06, 8.269989848486148e-06, 8.238424015871715e-06, 8.177921699825674e-06, 8.173294190783054e-06, 7.782444299664348e-06, 7.603327503602486e-06, 7.596099749207497e-06, 7.571560672658961e-06, 7.530984930781415e-06, 7.5275092967785895e-06, 7.5176844802626874e-06, 7.475660822819918e-06, 7.342421213252237e-06, 7.310067303478718e-06, 7.290374014701229e-06, 7.233272299345117e-06, 7.035703220026335e-06, 6.6566572058945894e-06, 6.635367753915489e-06, 6.6287639128859155e-06, 6.545878477481892e-06, 6.457577455876162e-06, 6.435383511416148e-06, 6.287019459705334e-06, 6.258318080654135e-06, 5.981669346510898e-06, 5.740769665862899e-06, 5.713132850360125e-06, 5.653455446008593e-06, 5.6234448493341915e-06, 5.610321295534959e-06, 5.609118488791864e-06, 5.231413524597883e-06, 5.168161351321032e-06, 5.163485184311867e-06, 5.107329343445599e-06, 5.085234988655429e-06, 5.014335329178721e-06, 4.9742229748517275e-06, 4.731858552986523e-06, 4.4831349441665225e-06, 4.3222489694016986e-06, 4.3134132283739746e-06, 4.267084932507714e-06, 3.971780643041711e-06, 3.844810180453351e-06, 3.7458448787219822e-06, 3.613148464864935e-06, 3.533704784786096e-06, 2.918832933573867e-06, 2.918522568506887e-06, 2.7509704523254186e-06, 2.675825726328185e-06, 2.6508885184739484e-06, 2.528709501348203e-06, 2.5081731109821703e-06, 2.4576827399869217e-06, 2.363831299589947e-06, 2.3573279577249195e-06, 1.973162170543219e-06, 1.9365943444427103e-06, 1.864032469711674e-06, 1.7869073190013296e-06, 1.6222815020228154e-06, 1.5983048342604889e-06, 1.5699964706072933e-06, 1.4821756622040994e-06, 1.4003211390445358e-06, 1.363834599032998e-06, 1.3490692936102278e-06, 1.2024150919387466e-06, 8.597562555223703e-07, 7.816221909706655e-07, 7.021978376542393e-07, 5.777013711849577e-07, 5.160885621080524e-07, 4.988202704225841e-07, 4.339478323345247e-07, 3.733730409294367e-07, 2.6729929913926753e-07, 2.0947967982465343e-07, 1.1489222373484154e-07, 1.0920727788743534e-07, 1.0480289347469807e-07, 7.7222168215485e-08, 3.421640570877571e-08]\n"
     ]
    }
   ],
   "source": [
    "print(len(result_trigger))\n",
    "print(min(result_trigger))\n",
    "print(max(result_trigger))\n",
    "print(sorted(result_trigger,reverse=True))\n",
    "print(max(result_clean))\n",
    "print(sorted(result_clean,reverse=True))"
   ]
  },
  {
   "cell_type": "code",
   "execution_count": 50,
   "metadata": {},
   "outputs": [
    {
     "data": {
      "image/png": "[encoded data removed]",
      "text/plain": [
       "<Figure size 1000x500 with 1 Axes>"
      ]
     },
     "metadata": {},
     "output_type": "display_data"
    }
   ],
   "source": [
    "import matplotlib.pyplot as plt\n",
    "\n",
    "# Ensure you have your data loaded in result_clean and result_trigger\n",
    "# Example: result_clean = [1, 2, 3], result_trigger = [3, 2, 1]\n",
    "# result_trigger = [x for x in result_trigger if x < 0.8 and x>0.2]\n",
    "# result_clean = [x for x in result_clean if x < 2 and x>0.2]\n",
    "\n",
    "# plt.figure(figsize=(10, 5))\n",
    "\n",
    "# plt.hist(result_trigger, alpha=0.7, bins=10, label='Trigger Edge',density=True)\n",
    "# # plt.hist(result_trigger, alpha=0.7, bins=10, label='Trigger Data')\n",
    "\n",
    "# plt.hist(result_clean, alpha=0.7, bins=10, label='Clean Edge',density=True)\n",
    "# # plt.hist(result_clean, alpha=0.7, bins=10, label='Clean Data')\n",
    "\n",
    "\n",
    "# # plt.title('Histogram of Clean and Trigger Data')\n",
    "# plt.xlabel('Prediction Variance')\n",
    "# plt.ylabel('Frequency')\n",
    "# plt.legend()\n",
    "# plt.grid(True)\n",
    "\n",
    "# # Save the plot before displaying it\n",
    "# plt.savefig('cora.pdf')\n",
    "\n",
    "# # Display the plot\n",
    "# plt.show()\n",
    "plt.figure(figsize=(10, 5))\n",
    "\n",
    "plt.hist(result_trigger, alpha=0.7, bins=10, label='Trigger Edges', density=True)\n",
    "plt.hist(result_clean, alpha=0.7, bins=10, label='Clean Edges', density=True)\n",
    "\n",
    "plt.xlabel('Prediction Variance',fontsize=16)\n",
    "plt.ylabel('Frequency',fontsize=16)\n",
    "\n",
    "# Adjust x and y ticks\n",
    "plt.xticks(fontsize=16)\n",
    "plt.yticks(fontsize=16)\n",
    "\n",
    "plt.legend(fontsize=16)\n",
    "plt.grid(True)\n",
    "\n",
    "# Add a caption below the figure\n",
    "# plt.figtext(0.5, -0.05, 'Comparison of prediction variance due to trigger edges drop and clean edges drop.', wrap=True, horizontalalignment='center', fontsize=14)\n",
    "\n",
    "# Save the plot before displaying it\n",
    "plt.savefig('cora.pdf')\n",
    "\n",
    "# Display the plot\n",
    "plt.show()"
   ]
  },
  {
   "cell_type": "code",
   "execution_count": null,
   "metadata": {},
   "outputs": [],
   "source": []
  },
  {
   "cell_type": "code",
   "execution_count": 51,
   "metadata": {},
   "outputs": [],
   "source": [
    "# result_clean=[]\n",
    "# for node_id in idx_train[:10000]:\n",
    "#     node_id = node_id.item()\n",
    "#     subset, edge_index, mapping, edge_mask = k_hop_subgraph(node_id, 2, poison_edge_index, relabel_nodes=False)\n",
    "#     loop_edges = edge_index[:, edge_index[0] == node_id]\n",
    "#     non_loop_edges = edge_index[:, edge_index[0] != node_id]\n",
    "\n",
    "#     selected_x = poison_x[subset]\n",
    "    \n",
    "#     for i in range(loop_edges.size(1)):\n",
    "#         # Current loop edge to remove\n",
    "#         current_loop_edge = loop_edges[:, i]\n",
    "\n",
    "#         # Find indices of the current loop edge and its reverse\n",
    "#         forward_edge_mask = (edge_index[0] == current_loop_edge[0]) & (edge_index[1] == current_loop_edge[1])\n",
    "#         reverse_edge_mask = (edge_index[0] == current_loop_edge[1]) & (edge_index[1] == current_loop_edge[0])\n",
    "\n",
    "#         # Combine masks for forward and reverse edges\n",
    "#         combined_mask = forward_edge_mask | reverse_edge_mask\n",
    "\n",
    "#         # Remove both forward and reverse edges from the graph\n",
    "#         modified_edge_index = edge_index[:, ~combined_mask]\n",
    "\n",
    "#         edge_weights = torch.ones(modified_edge_index.size(1), dtype=torch.float, device=device)\n",
    "\n",
    "#         output, x = test_model(poison_x, modified_edge_index, edge_weights)\n",
    "#         output = output[node_id]\n",
    "#         output = torch.exp(output)\n",
    "#         output += epsilon\n",
    "#         deviation = F.kl_div(output.log(), output_clean[node_id], reduce=False)\n",
    "#         result_clean.append(deviation.mean().item())\n",
    "#         print(deviation.mean().item())\n",
    "# print(result_clean)\n"
   ]
  },
  {
   "cell_type": "code",
   "execution_count": 52,
   "metadata": {},
   "outputs": [],
   "source": [
    "# result_trigger = []\n",
    "# for node_id in idx_attach:\n",
    "#     node_id = node_id.item()\n",
    "#     subset, edge_index, mapping, edge_mask = k_hop_subgraph(node_id, 2, poison_edge_index, relabel_nodes=False)\n",
    "#     loop_edges = edge_index[:, edge_index[0] == node_id]\n",
    "#     non_loop_edges = edge_index[:, edge_index[0] != node_id]\n",
    "\n",
    "#     selected_x = poison_x[subset]\n",
    "    \n",
    "#     for i in range(loop_edges.size(1)):\n",
    "#         # Current loop edge to remove\n",
    "#         current_loop_edge = loop_edges[:, i]\n",
    "\n",
    "#         # Find indices of the current loop edge and its reverse\n",
    "#         forward_edge_mask = (edge_index[0] == current_loop_edge[0]) & (edge_index[1] == current_loop_edge[1])\n",
    "#         reverse_edge_mask = (edge_index[0] == current_loop_edge[1]) & (edge_index[1] == current_loop_edge[0])\n",
    "\n",
    "#         # Combine masks for forward and reverse edges\n",
    "#         combined_mask = forward_edge_mask | reverse_edge_mask\n",
    "\n",
    "#         # Remove both forward and reverse edges from the graph\n",
    "#         modified_edge_index = edge_index[:, ~combined_mask]\n",
    "\n",
    "#         edge_weights = torch.ones(modified_edge_index.size(1), dtype=torch.float, device=device)\n",
    "\n",
    "#         output, x = test_model(poison_x, modified_edge_index, edge_weights)\n",
    "#         output = output[node_id]\n",
    "#         output = torch.exp(output)\n",
    "#         output += epsilon\n",
    "#         deviation = F.kl_div(output.log(), output_clean[node_id], reduce=False)\n",
    "        \n",
    "#         if loop_edges[:,i][1]>len(data.x):\n",
    "#             result_trigger.append(deviation.mean().item())\n",
    "#         else:\n",
    "#             print(deviation.mean().item())\n",
    "#             # result_clean.append(deviation.mean().item())\n",
    "\n",
    "#         result_trigger.append(deviation.mean().item())\n",
    "#         print(deviation.mean().item())\n",
    "# print(result_trigger)\n"
   ]
  },
  {
   "cell_type": "code",
   "execution_count": 53,
   "metadata": {},
   "outputs": [],
   "source": [
    "# import matplotlib.pyplot as plt\n",
    "\n",
    "# # Ensure you have your data loaded in result_clean and result_trigger\n",
    "# # Example: result_clean = [1, 2, 3], result_trigger = [3, 2, 1]\n",
    "\n",
    "# plt.figure(figsize=(10, 5))\n",
    "\n",
    "# plt.hist(result_trigger, alpha=0.7, bins=10, label='Trigger Data',density=True)\n",
    "# # plt.hist(result_trigger, alpha=0.7, bins=10, label='Trigger Data')\n",
    "\n",
    "# plt.hist(result_clean, alpha=0.7, bins=10, label='Clean Data',density=True)\n",
    "# # plt.hist(result_clean, alpha=0.7, bins=10, label='Clean Data')\n",
    "\n",
    "\n",
    "# plt.title('Histogram of Clean and Trigger Data')\n",
    "# plt.xlabel('Value')\n",
    "# plt.ylabel('Frequency')\n",
    "# plt.legend()\n",
    "# plt.grid(True)\n",
    "# plt.show()"
   ]
  },
  {
   "cell_type": "code",
   "execution_count": 54,
   "metadata": {},
   "outputs": [],
   "source": [
    "poison_labels[idx_attach] = args.target_class"
   ]
  },
  {
   "cell_type": "code",
   "execution_count": 55,
   "metadata": {},
   "outputs": [
    {
     "data": {
      "text/plain": [
       "97"
      ]
     },
     "execution_count": 55,
     "metadata": {},
     "output_type": "execute_result"
    }
   ],
   "source": [
    "len(idx_attach)"
   ]
  },
  {
   "cell_type": "code",
   "execution_count": 56,
   "metadata": {},
   "outputs": [
    {
     "name": "stdout",
     "output_type": "stream",
     "text": [
      "tensor([2, 2, 2, 2, 2, 2, 2, 2, 2, 2, 2, 2, 2, 2, 2, 2, 2, 2, 2, 2, 2, 2, 2, 2,\n",
      "        2, 2, 2, 2, 2, 2, 2, 2, 2, 2, 2, 2, 2, 2, 2, 2, 2, 2, 2, 2, 2, 2, 2, 2,\n",
      "        2, 2, 2, 2, 2, 2, 2, 2, 2, 2, 2, 2, 2, 2, 2, 2, 2, 2, 2, 2, 2, 2, 2, 2,\n",
      "        2, 2, 2, 2, 2, 2, 2, 2, 2, 2, 2, 2, 2, 2, 2, 2, 2, 2, 2, 2, 2, 2, 2, 2,\n",
      "        2], device='cuda:2')\n"
     ]
    },
    {
     "name": "stdout",
     "output_type": "stream",
     "text": [
      "accuracy on clean test nodes: 0.0000\n"
     ]
    }
   ],
   "source": [
    "## retrain a model on purified graph ##\n",
    "\n",
    "# labels for target poisoned node before purified #\n",
    "print(poison_labels[idx_attach])\n",
    "\n",
    "# purifying #\n",
    "# for idx in index_of_less_robust:\n",
    "#     poison_labels[bkd_tn_nodes[idx]]=data.y[bkd_tn_nodes[idx]]\n",
    "# # poison_labels[idx_attach] = data.y[idx_attach]\n",
    "\n",
    "# # labels for target poisoned node after purified #\n",
    "# print(poison_labels[idx_attach])\n",
    "\n",
    "# retrain a model #s\n",
    "test_model = model_construct(args,args.test_model,data,device).to(device) \n",
    "test_model.fit(poison_x,poison_edge_index, poison_edge_weights, poison_labels, bkd_tn_nodes, idx_val,train_iters=args.epochs,verbose=False, finetune=True, attach=index_of_less_robust)\n",
    "\n",
    "## test model on purified graph (poisoned target node) ##\n",
    "clean_acc = test_model.test(poison_x,poison_edge_index, poison_edge_weights,poison_labels,idx_attach)\n",
    "\n",
    "print(\"accuracy on clean test nodes: {:.4f}\".format(clean_acc))"
   ]
  },
  {
   "cell_type": "code",
   "execution_count": 57,
   "metadata": {},
   "outputs": [
    {
     "name": "stdout",
     "output_type": "stream",
     "text": [
      "ASR: 0.0010\n",
      "Flip ASR: 0.0000/1198 nodes\n",
      "CA: 0.8387\n"
     ]
    }
   ],
   "source": [
    "# add a trigger detector #\n",
    "# assumption: backdoor attack's success is based on trigger pattern #\n",
    "# 1. outlier, trigger different to each other #\n",
    "# 2. in distribution, trigger similar to each other #\n",
    "# # in case, model trained on clean graph learn attack pattern #\n",
    "induct_edge_index = torch.cat([poison_edge_index,mask_edge_index],dim=1)\n",
    "induct_edge_weights = torch.cat([poison_edge_weights,torch.ones([mask_edge_index.shape[1]],dtype=torch.float,device=device)])\n",
    "induct_x, induct_edge_index,induct_edge_weights = model.inject_trigger(idx_atk,poison_x,induct_edge_index,induct_edge_weights,device)\n",
    "# induct_x, induct_edge_index,induct_edge_weights = model.inject_trigger(idx_attach,poison_x,induct_edge_index,induct_edge_weights,device)\n",
    "induct_x, induct_edge_index,induct_edge_weights = induct_x.clone().detach(), induct_edge_index.clone().detach(),induct_edge_weights.clone().detach()\n",
    "\n",
    "output, x = test_model(induct_x,induct_edge_index,induct_edge_weights)\n",
    "train_attach_rate = (output.argmax(dim=1)[idx_atk]==args.target_class).float().mean()\n",
    "# train_attach_rate = (output.argmax(dim=1)[idx_attach]==args.target_class).float().mean()\n",
    "print(\"ASR: {:.4f}\".format(train_attach_rate))\n",
    "asr = train_attach_rate\n",
    "flip_idx_atk = idx_atk[(data.y[idx_atk] != args.target_class).nonzero().flatten()]\n",
    "flip_asr = (output.argmax(dim=1)[flip_idx_atk]==args.target_class).float().mean()\n",
    "print(\"Flip ASR: {:.4f}/{} nodes\".format(flip_asr,flip_idx_atk.shape[0]))\n",
    "ca = test_model.test(induct_x,induct_edge_index,induct_edge_weights,data.y,idx_clean_test)\n",
    "print(\"CA: {:.4f}\".format(ca))"
   ]
  },
  {
   "cell_type": "code",
   "execution_count": 58,
   "metadata": {},
   "outputs": [
    {
     "data": {
      "text/plain": [
       "tensor([0, 0, 0, 0, 0, 0, 0, 0, 0, 0, 0, 0, 0, 0, 0, 0, 0, 0, 0, 0, 0, 0, 0, 0,\n",
       "        0, 0, 0, 0, 0, 0, 0, 0, 0, 0, 0, 0, 0, 0, 0, 0, 0, 0, 0, 0, 0, 0, 0, 0,\n",
       "        0, 0, 0, 0, 0, 0, 0, 0, 0, 0, 0, 0, 0, 0, 0, 0, 0, 0, 0, 0, 0, 0, 0, 0,\n",
       "        0, 0, 0, 0, 0, 0, 0, 0, 0, 0, 0, 0, 0, 0, 0, 0, 0, 0, 0, 0, 0, 0, 0, 0,\n",
       "        0, 0, 0, 0, 0, 0, 0, 0, 0, 0, 0, 0, 0, 0, 0, 0, 0, 0, 0, 0, 0, 0, 0, 0,\n",
       "        0, 0, 0, 0, 0, 0, 0, 0, 0, 0, 0, 0, 0, 0, 0, 0, 0, 0, 0, 0, 0, 0, 0, 0,\n",
       "        0, 0, 0, 0, 0, 0, 0, 0, 0, 0, 0, 0, 0, 0, 0, 0, 0, 0, 0, 0, 0, 0, 0, 0,\n",
       "        0, 0, 0, 0, 0, 0, 0, 0, 0, 0, 0, 0, 0, 0, 0, 0, 0, 0, 0, 0, 0, 0, 0, 0,\n",
       "        0, 0, 0, 0, 0, 0, 0, 0, 0, 0, 0, 0, 0, 0, 0, 0, 0, 0, 0, 0, 0, 0, 0, 0,\n",
       "        0, 0, 0, 0, 0, 0, 0, 0, 0, 0, 0, 0, 0, 0, 0, 0, 0, 0, 0, 0, 0, 0, 0, 0,\n",
       "        0, 0, 0, 0, 0, 0, 0, 0, 0, 0, 0, 0, 0, 0, 0, 0, 0, 0, 0, 0, 0, 0, 0, 0,\n",
       "        0, 0, 0, 0, 0, 0, 0, 0, 0, 0, 0, 0, 0, 0, 0, 0, 0, 0, 0, 0, 0, 0, 0, 0,\n",
       "        0, 0, 0, 0, 0, 0, 0, 0, 0, 0, 0, 0, 0, 0, 0, 0, 0, 0, 0, 0, 0, 0, 0, 0,\n",
       "        0, 0, 0, 0, 0, 0, 0, 0, 0, 0, 0, 0, 0, 0, 0, 0, 0, 0, 0, 0, 0, 0, 0, 0,\n",
       "        0, 0, 0, 0, 0, 0, 0, 0, 0, 0, 0, 0, 0, 0, 0, 0, 0, 0, 0, 0, 0, 0, 0, 0,\n",
       "        0, 0, 0, 0, 0, 0, 0, 0, 0, 0, 0, 0, 0, 0, 0, 0, 0, 0, 0, 0, 0, 0, 0, 0,\n",
       "        0, 0, 0, 0, 0, 0, 0, 0, 0, 0, 0, 0, 0, 0, 0, 0, 0, 0, 0, 0, 0, 0, 0, 0,\n",
       "        0, 0, 0, 0, 0, 0, 0, 0, 0, 0, 0, 0, 0, 0, 0, 0, 0, 0, 0, 0, 0, 0, 0, 0,\n",
       "        0, 0, 0, 0, 0, 0, 0, 0, 0, 0, 0, 0, 0, 1, 0, 0, 0, 0, 0, 0, 0, 0, 0, 0,\n",
       "        0, 0, 0, 0, 0, 0, 0, 0, 0, 0, 0, 0, 0, 0, 0, 0, 0, 0, 0, 0, 0, 0, 0, 0,\n",
       "        0, 0, 0, 0, 0, 0, 0, 0, 0, 0, 0, 0, 0, 0, 0, 0, 0, 0, 0, 0, 0, 0, 0, 0,\n",
       "        0, 0, 0, 0, 0, 0, 0, 0, 0, 0, 0, 0, 0, 0, 0, 0, 0, 0, 0, 0, 0, 0, 0, 0,\n",
       "        0, 0, 0, 0, 0, 0, 0, 0, 0, 0, 0, 0, 0, 0, 0, 0, 0, 0, 0, 0, 0, 0, 0, 0,\n",
       "        0, 0, 0, 0, 0, 0, 0, 0, 0, 0, 0, 0, 0, 0, 0, 0, 0, 0, 0, 0, 0, 0, 0, 0,\n",
       "        0, 0, 0, 0, 0, 0, 0, 0, 0, 0, 0, 0, 0, 0, 0, 0, 0, 0, 0, 0, 0, 0, 0, 0,\n",
       "        0, 0, 0, 0, 0, 0, 0, 0, 0, 0, 0, 0, 0, 0, 0, 0, 0, 0, 0, 0, 0, 0, 0, 0,\n",
       "        0, 0, 0, 0, 0, 0, 0, 0, 0, 0, 0, 0, 0, 0, 0, 0, 0, 0, 0, 0, 0, 0, 0, 0,\n",
       "        0, 0, 0, 0, 0, 0, 0, 0, 0, 0, 0, 0, 0, 0, 0, 0, 0, 0, 0, 0, 0, 0, 0, 0,\n",
       "        0, 0, 0, 0, 0, 0, 0, 0, 0, 0, 0, 0, 0, 0, 0, 0, 0, 0, 0, 0, 0, 0, 0, 0,\n",
       "        0, 0, 0, 0, 0, 0, 0, 0, 0, 0, 0, 0, 0, 0, 0, 0, 0, 0, 0, 0, 0, 0, 0, 0,\n",
       "        0, 0, 0, 0, 0, 0, 0, 0, 0, 0, 0, 0, 0, 0, 0, 0, 0, 0, 0, 0, 0, 0, 0, 0,\n",
       "        0, 0, 0, 0, 0, 0, 0, 0, 0, 0, 0, 0, 0, 0, 0, 0, 0, 0, 0, 0, 0, 0, 0, 0,\n",
       "        0, 0, 0, 0, 0, 0, 0, 0, 0, 0, 0, 0, 0, 0, 0, 0, 0, 0, 0, 0, 0, 0, 0, 0,\n",
       "        0, 0, 0, 0, 0, 0, 0, 0, 0, 0, 0, 0, 0, 0, 0, 0, 0, 0, 0, 0, 0, 0, 0, 0,\n",
       "        0, 0, 0, 0, 0, 0, 0, 0, 0, 0, 0, 0, 0, 0, 0, 0, 0, 0, 0, 0, 0, 0, 0, 0,\n",
       "        0, 0, 0, 0, 0, 0, 0, 0, 0, 0, 0, 0, 0, 0, 2, 0, 0, 0, 0, 0, 0, 0, 0, 0,\n",
       "        0, 0, 0, 0, 0, 0, 0, 0, 0, 0, 0, 0, 0, 0, 0, 2, 0, 0, 0, 0, 0, 0, 0, 0,\n",
       "        0, 0, 0, 0, 0, 0, 0, 0, 0, 0, 0, 0, 0, 0, 0, 0, 0, 0, 0, 0, 0, 0, 0, 0,\n",
       "        0, 0, 0, 0, 0, 0, 0, 0, 0, 0, 0, 0, 0, 0, 0, 0, 0, 0, 0, 0, 0, 0, 0, 0,\n",
       "        0, 0, 0, 0, 0, 0, 0, 0, 0, 0, 0, 0, 0, 0, 0, 0, 0, 0, 0, 0, 0, 0, 0, 0,\n",
       "        0, 0, 0, 0, 0, 0, 0, 0, 0, 0, 0, 0, 0, 0, 0, 0, 0, 0, 0, 0, 0, 0, 0, 0,\n",
       "        0, 0, 0, 0, 0, 0, 0, 0, 0, 0, 0, 0, 0, 0, 0, 0, 0, 0, 0, 0, 0, 0, 0, 0,\n",
       "        0, 0, 0, 0, 0, 0, 0, 0, 0, 0, 0, 0, 0, 0, 0, 0, 0, 0, 0, 0, 0, 0, 0, 0,\n",
       "        0, 0, 0, 0, 0, 0, 0, 0, 0, 0, 0, 0, 0, 0, 0, 0, 0, 0, 0, 0, 0, 0, 0, 0,\n",
       "        0, 0, 0, 0, 0, 0, 0, 0, 0, 0, 0, 0, 0, 0, 0, 0, 0, 0, 0, 0, 0, 0, 0, 0,\n",
       "        0, 0, 0, 0, 0, 0, 0, 0, 0, 0, 0, 0, 0, 0, 0, 0, 0, 0, 0, 0, 0, 0, 0, 0,\n",
       "        0, 0, 0, 0, 0, 0, 0, 0, 0, 0, 0, 0, 0, 0, 0, 0, 0, 0, 0, 0, 0, 0, 0, 0,\n",
       "        0, 0, 0, 0, 0, 0, 0, 0, 0, 0, 0, 0, 0, 0, 0, 0, 0, 0, 0, 0, 0, 0, 0, 0,\n",
       "        0, 0, 0, 0, 0, 0, 0, 0, 0, 0, 0, 0, 0, 0, 0, 0, 0, 0, 0, 0, 0, 0, 0, 0,\n",
       "        0, 0, 0, 0, 0, 0, 0, 0, 0, 0, 0, 0, 0, 0, 0, 0, 0, 0, 0, 0, 0, 0, 0, 0,\n",
       "        0, 0, 0, 0, 0, 0, 0, 0, 0, 0, 0, 0, 0, 0, 0, 0, 0, 0, 0, 0, 0, 0, 0, 0,\n",
       "        0, 0, 0, 0, 0, 0, 0, 0, 0, 0, 0, 0, 0, 0, 0, 0, 0, 0, 0, 0, 0, 0, 0, 0,\n",
       "        0, 0, 0, 0, 0, 0, 0, 0, 0, 0, 0, 0, 0, 0, 0, 0, 0, 0, 0, 0, 0, 0, 0, 0,\n",
       "        0, 0, 0, 0, 0, 0, 0, 0, 0, 0, 0, 0, 0, 0, 0, 0, 0, 0, 0, 0, 0, 0, 0, 0,\n",
       "        0, 0, 0, 0, 0, 0, 0, 0, 0, 0, 0, 0, 0, 0, 0, 0, 0, 0, 0, 0, 0, 0, 0, 0,\n",
       "        0, 0, 0, 0, 0, 0, 0, 0, 0, 0, 0, 0, 0, 0, 0, 0, 0, 0, 0, 0, 0, 0, 0, 0,\n",
       "        0, 0, 0, 0, 0, 0, 0, 0, 0, 0, 0, 0, 0, 0, 0, 0, 0, 0, 0, 0, 0, 0, 0, 0,\n",
       "        0, 0, 0, 0, 0, 0, 0, 0, 0, 0, 0, 0, 0, 0, 0, 0, 0, 0, 0, 0, 0, 0, 0, 0,\n",
       "        0, 0, 0, 0, 0, 0, 0, 0, 0, 0, 0, 0, 0, 0, 0, 0, 0, 0, 0, 0, 0, 0, 0, 0,\n",
       "        0, 0, 0, 0, 0, 0, 0, 0, 0, 0, 0, 0, 0, 0, 0, 0, 0, 0, 0, 0, 0, 0, 0, 0,\n",
       "        0, 0, 0, 0, 0, 0, 0, 0, 0, 0, 0, 0, 0, 0, 0, 0, 0, 0, 0, 0, 0, 0, 0, 0,\n",
       "        0, 0, 0, 0, 0, 0, 0, 0, 0, 0, 0, 0, 0, 0, 0, 0, 0, 0, 0, 0, 0, 0, 0, 0,\n",
       "        0, 0, 0, 0, 0, 0, 0, 0, 0, 0, 0, 0, 0, 0, 0, 0, 0, 0, 0, 0, 0, 0, 0, 0,\n",
       "        0, 0, 0, 0, 0, 0, 0, 0, 0, 0, 0, 0, 0, 0, 0, 0, 0, 0, 0, 0, 0, 0, 0, 0,\n",
       "        0, 0, 0, 0, 0, 0, 0, 0, 0, 0, 0, 0, 0, 0, 0, 0, 0, 0, 0, 0, 0, 0, 0, 0,\n",
       "        0, 0, 0, 0, 0, 0, 0, 0, 0, 0, 0, 0, 0, 0, 0, 0, 0, 0, 0, 0, 0, 0, 0, 0,\n",
       "        0, 0, 0, 0, 0, 0, 0, 0, 0, 0, 0, 0, 0, 0, 0, 0, 0, 0, 0, 0, 0, 0, 0, 0,\n",
       "        0, 0, 0, 0, 0, 0, 0, 0, 0, 0, 0, 0, 0, 0, 0, 0, 0, 0, 0, 0, 0, 0, 0, 0,\n",
       "        0, 0, 0, 0, 0, 0, 0, 0, 0, 0, 0, 0, 0, 0, 0, 0, 0, 0, 0, 0, 0, 0, 0, 0,\n",
       "        0, 0, 0, 0, 0, 0, 0, 0, 0, 0, 0, 0, 0, 0, 0, 0, 0, 0, 0, 0, 0, 0, 0, 0,\n",
       "        0, 0, 0, 0, 0, 0, 0, 0, 0, 0, 0, 0, 0, 0, 0, 0, 0, 0, 0, 0, 0, 0, 0, 0,\n",
       "        0, 0, 0, 0, 0, 0, 0, 0, 0, 0, 0, 0, 0, 0, 0, 0, 0, 0, 0, 0, 0, 0, 0, 0,\n",
       "        0, 0, 0, 0, 0, 0, 0, 0, 0, 0, 0, 0, 0, 0, 0, 0, 0, 0, 0, 0, 0, 0, 0, 0,\n",
       "        0, 0, 0, 0, 0, 0, 0, 0, 0, 0, 0, 0, 0, 0, 0, 0, 0, 0, 0, 0, 0, 0, 0, 0,\n",
       "        0, 0, 0, 0, 0, 0, 0, 0, 0, 0, 0, 0, 0, 0, 0, 0, 0, 0, 0, 0, 0, 0, 0, 0,\n",
       "        0, 0, 0, 0, 0, 0, 0, 0, 0, 0, 0, 0, 0, 0, 0, 0, 0, 0, 0, 0, 0, 0, 0, 0,\n",
       "        0, 0, 0, 0, 0, 0, 0, 0, 0, 0, 0, 0, 0, 0, 0, 0, 0, 0, 0, 0, 0, 0, 0, 0,\n",
       "        0, 0, 0, 0, 0, 0, 0, 0, 0, 0, 0, 0, 0, 0, 0, 0, 0, 0, 0, 0, 0, 0, 0, 0,\n",
       "        0, 0, 0, 0, 0, 0, 0, 0, 0, 0, 0, 0, 0, 0, 0, 0, 0, 0, 0, 0, 0, 0, 0, 0,\n",
       "        0, 0, 0, 0, 0, 0, 0, 0, 0, 0, 0, 0, 0, 0, 0, 0, 0, 0, 0, 0, 0, 0, 0, 0,\n",
       "        0, 0, 0, 0, 0, 0, 0, 0, 0, 0, 0, 0, 0, 0, 0, 0, 0, 0, 0, 0, 0, 0, 0, 0,\n",
       "        0, 0, 0, 0, 0, 0, 0, 0, 0, 0, 0, 0, 0, 0, 0, 0, 0, 0, 0, 0, 0, 0, 0, 0,\n",
       "        0, 0, 0, 0], device='cuda:2')"
      ]
     },
     "execution_count": 58,
     "metadata": {},
     "output_type": "execute_result"
    }
   ],
   "source": [
    "output.argmax(dim=1)[idx_atk]"
   ]
  },
  {
   "cell_type": "code",
   "execution_count": 59,
   "metadata": {},
   "outputs": [
    {
     "data": {
      "text/plain": [
       "tensor([[3.5123e-02, 1.7231e-02, 9.4765e-01],\n",
       "        [2.8908e-01, 2.1842e-01, 4.9249e-01],\n",
       "        [2.5662e-01, 6.6255e-01, 8.0834e-02],\n",
       "        [1.2321e-02, 9.0827e-01, 7.9408e-02],\n",
       "        [1.1209e-01, 2.5841e-02, 8.6207e-01],\n",
       "        [6.6457e-02, 4.9207e-01, 4.4148e-01],\n",
       "        [9.0467e-01, 4.0869e-02, 5.4457e-02],\n",
       "        [2.1579e-02, 1.0204e-01, 8.7638e-01],\n",
       "        [5.3362e-01, 8.7810e-02, 3.7857e-01],\n",
       "        [9.8310e-01, 5.2436e-03, 1.1656e-02],\n",
       "        [7.4625e-02, 7.9932e-01, 1.2605e-01],\n",
       "        [8.4768e-01, 6.9470e-02, 8.2854e-02],\n",
       "        [6.6169e-01, 2.6795e-02, 3.1151e-01],\n",
       "        [5.2977e-03, 7.3199e-03, 9.8738e-01],\n",
       "        [1.2480e-02, 2.6025e-02, 9.6150e-01],\n",
       "        [3.1993e-01, 3.2073e-01, 3.5935e-01],\n",
       "        [8.7365e-01, 4.6700e-02, 7.9652e-02],\n",
       "        [3.2145e-01, 5.4159e-01, 1.3696e-01],\n",
       "        [5.3858e-01, 5.6415e-02, 4.0500e-01],\n",
       "        [4.2634e-02, 1.6012e-01, 7.9724e-01],\n",
       "        [6.0744e-03, 1.3942e-02, 9.7998e-01],\n",
       "        [1.0885e-01, 1.2842e-02, 8.7830e-01],\n",
       "        [4.9193e-02, 5.6642e-01, 3.8439e-01],\n",
       "        [7.6071e-01, 7.5268e-02, 1.6402e-01],\n",
       "        [8.1028e-01, 8.0905e-02, 1.0882e-01],\n",
       "        [2.5686e-02, 3.3025e-01, 6.4407e-01],\n",
       "        [2.5197e-02, 8.9393e-01, 8.0876e-02],\n",
       "        [3.5452e-02, 8.1768e-01, 1.4687e-01],\n",
       "        [9.7415e-01, 9.3217e-03, 1.6525e-02],\n",
       "        [6.3953e-01, 2.9163e-01, 6.8841e-02],\n",
       "        [3.9080e-01, 3.9355e-01, 2.1565e-01],\n",
       "        [3.9101e-01, 2.3165e-01, 3.7734e-01],\n",
       "        [1.3066e-01, 5.0307e-01, 3.6626e-01],\n",
       "        [1.2517e-02, 3.1522e-02, 9.5596e-01],\n",
       "        [2.0677e-01, 2.9741e-01, 4.9582e-01],\n",
       "        [6.5180e-01, 8.0093e-02, 2.6811e-01],\n",
       "        [7.9930e-01, 5.7161e-02, 1.4354e-01],\n",
       "        [1.9434e-01, 5.0867e-02, 7.5480e-01],\n",
       "        [1.0070e-02, 1.1884e-02, 9.7805e-01],\n",
       "        [4.0745e-02, 8.2024e-01, 1.3902e-01],\n",
       "        [7.3768e-01, 7.5930e-02, 1.8639e-01],\n",
       "        [8.5407e-01, 7.8399e-02, 6.7535e-02],\n",
       "        [5.2671e-03, 9.7481e-03, 9.8498e-01],\n",
       "        [1.5904e-02, 4.4876e-01, 5.3534e-01],\n",
       "        [1.7138e-01, 8.2163e-01, 6.9888e-03],\n",
       "        [1.9550e-01, 4.1854e-01, 3.8596e-01],\n",
       "        [8.3834e-01, 1.1079e-01, 5.0873e-02],\n",
       "        [2.8051e-02, 6.5608e-01, 3.1586e-01],\n",
       "        [6.4599e-02, 8.2322e-02, 8.5308e-01],\n",
       "        [9.8217e-01, 1.1997e-02, 5.8326e-03],\n",
       "        [9.7396e-01, 1.4654e-02, 1.1387e-02],\n",
       "        [2.4218e-02, 6.4438e-01, 3.3141e-01],\n",
       "        [6.5916e-01, 4.4136e-02, 2.9671e-01],\n",
       "        [7.8164e-01, 8.1177e-02, 1.3719e-01],\n",
       "        [2.7218e-02, 9.2307e-01, 4.9708e-02],\n",
       "        [6.2929e-02, 5.5486e-02, 8.8158e-01],\n",
       "        [4.1101e-02, 8.4327e-01, 1.1563e-01],\n",
       "        [6.8631e-02, 4.2941e-02, 8.8843e-01],\n",
       "        [8.8728e-01, 3.8710e-02, 7.4006e-02],\n",
       "        [4.5361e-01, 3.6922e-01, 1.7717e-01],\n",
       "        [1.3254e-02, 9.2476e-01, 6.1986e-02],\n",
       "        [1.2776e-02, 9.3044e-01, 5.6780e-02],\n",
       "        [3.2092e-02, 7.8569e-01, 1.8222e-01],\n",
       "        [2.3999e-02, 8.6596e-01, 1.1004e-01],\n",
       "        [4.1988e-02, 6.3669e-01, 3.2132e-01],\n",
       "        [3.5188e-01, 4.3788e-02, 6.0433e-01],\n",
       "        [1.6022e-02, 9.0695e-02, 8.9328e-01],\n",
       "        [4.9302e-03, 1.2360e-01, 8.7147e-01],\n",
       "        [1.7431e-02, 2.8388e-02, 9.5418e-01],\n",
       "        [1.7534e-01, 3.0753e-01, 5.1713e-01],\n",
       "        [9.7511e-01, 2.4848e-02, 3.8164e-05],\n",
       "        [9.9973e-01, 2.1030e-04, 6.1760e-05],\n",
       "        [2.8206e-01, 6.6050e-01, 5.7442e-02],\n",
       "        [5.5441e-02, 6.7164e-01, 2.7292e-01],\n",
       "        [9.9847e-01, 9.4384e-04, 5.8300e-04],\n",
       "        [9.9373e-01, 2.2393e-03, 4.0297e-03],\n",
       "        [7.0738e-02, 1.9160e-01, 7.3766e-01],\n",
       "        [1.5641e-02, 7.4765e-01, 2.3671e-01],\n",
       "        [5.2853e-01, 2.7555e-01, 1.9591e-01],\n",
       "        [2.4014e-01, 3.5844e-01, 4.0142e-01],\n",
       "        [5.7233e-02, 4.4635e-01, 4.9642e-01],\n",
       "        [2.9251e-02, 9.1805e-01, 5.2701e-02],\n",
       "        [6.2605e-03, 9.7955e-01, 1.4193e-02],\n",
       "        [4.7761e-02, 6.9540e-01, 2.5684e-01],\n",
       "        [9.3423e-03, 9.6014e-01, 3.0522e-02],\n",
       "        [6.0871e-01, 1.7607e-01, 2.1522e-01],\n",
       "        [1.8124e-01, 4.8290e-02, 7.7047e-01],\n",
       "        [3.7597e-02, 8.0347e-01, 1.5894e-01],\n",
       "        [2.6899e-02, 8.5827e-01, 1.1483e-01],\n",
       "        [1.3544e-03, 9.9639e-01, 2.2596e-03],\n",
       "        [3.5710e-02, 7.1753e-01, 2.4676e-01],\n",
       "        [2.4657e-02, 7.3427e-01, 2.4107e-01],\n",
       "        [8.9201e-01, 5.2639e-02, 5.5356e-02],\n",
       "        [1.5423e-02, 9.4628e-01, 3.8300e-02],\n",
       "        [3.4547e-01, 6.2187e-01, 3.2661e-02],\n",
       "        [2.7203e-02, 8.5030e-01, 1.2249e-01],\n",
       "        [6.4428e-01, 1.3976e-01, 2.1596e-01]], device='cuda:2',\n",
       "       grad_fn=<SoftmaxBackward0>)"
      ]
     },
     "execution_count": 59,
     "metadata": {},
     "output_type": "execute_result"
    }
   ],
   "source": [
    "probs=F.softmax(output[index_of_less_robust], dim=1)\n",
    "probs"
   ]
  },
  {
   "cell_type": "code",
   "execution_count": 60,
   "metadata": {},
   "outputs": [
    {
     "data": {
      "text/plain": [
       "tensor([0.9476, 0.2891, 0.6625, 0.9083, 0.8621, 0.4921, 0.9047, 0.8764, 0.5336,\n",
       "        0.9831, 0.7993, 0.8477, 0.6617, 0.9874, 0.9615, 0.3199, 0.8736, 0.5416,\n",
       "        0.5386, 0.7972, 0.9800, 0.8783, 0.5664, 0.7607, 0.8103, 0.6441, 0.8939,\n",
       "        0.8177, 0.9742, 0.2916, 0.3936, 0.2317, 0.3663, 0.9560, 0.2974, 0.6518,\n",
       "        0.7993, 0.7548, 0.9780, 0.8202, 0.1864, 0.8541, 0.9850, 0.5353, 0.8216,\n",
       "        0.1955, 0.8383, 0.6561, 0.0646, 0.9822, 0.9740, 0.3314, 0.2967, 0.7816,\n",
       "        0.9231, 0.8816, 0.8433, 0.8884, 0.8873, 0.3692, 0.9248, 0.9304, 0.7857,\n",
       "        0.8660, 0.6367, 0.6043, 0.8933, 0.8715, 0.9542, 0.5171, 0.0248, 0.9997,\n",
       "        0.6605, 0.6716, 0.9985, 0.9937, 0.7377, 0.7477, 0.1959, 0.3584, 0.4964,\n",
       "        0.9180, 0.9795, 0.6954, 0.9601, 0.6087, 0.1812, 0.8035, 0.8583, 0.9964,\n",
       "        0.7175, 0.7343, 0.8920, 0.9463, 0.6219, 0.8503, 0.6443],\n",
       "       device='cuda:2', grad_fn=<IndexBackward0>)"
      ]
     },
     "execution_count": 60,
     "metadata": {},
     "output_type": "execute_result"
    }
   ],
   "source": [
    "probs[range(len(poison_labels[index_of_less_robust])), poison_labels[index_of_less_robust]]"
   ]
  },
  {
   "cell_type": "code",
   "execution_count": 61,
   "metadata": {},
   "outputs": [
    {
     "data": {
      "text/plain": [
       "tensor([2, 0, 1, 1, 2, 1, 0, 2, 0, 0, 1, 0, 0, 2, 2, 0, 0, 1, 0, 2, 2, 2, 1, 0,\n",
       "        0, 2, 1, 1, 0, 1, 1, 1, 2, 2, 1, 0, 0, 2, 2, 1, 2, 0, 2, 2, 1, 0, 0, 1,\n",
       "        0, 0, 0, 2, 2, 0, 1, 2, 1, 2, 0, 1, 1, 1, 1, 1, 1, 2, 2, 2, 2, 2, 1, 0,\n",
       "        1, 1, 0, 0, 2, 1, 2, 1, 2, 1, 1, 1, 1, 0, 0, 1, 1, 1, 1, 1, 0, 1, 1, 1,\n",
       "        0], device='cuda:2')"
      ]
     },
     "execution_count": 61,
     "metadata": {},
     "output_type": "execute_result"
    }
   ],
   "source": [
    "poison_labels[index_of_less_robust]"
   ]
  }
 ],
 "metadata": {
  "kernelspec": {
   "display_name": "spurious",
   "language": "python",
   "name": "python3"
  },
  "language_info": {
   "codemirror_mode": {
    "name": "ipython",
    "version": 3
   },
   "file_extension": ".py",
   "mimetype": "text/x-python",
   "name": "python",
   "nbconvert_exporter": "python",
   "pygments_lexer": "ipython3",
   "version": "3.8.17"
  }
 },
 "nbformat": 4,
 "nbformat_minor": 2
}
